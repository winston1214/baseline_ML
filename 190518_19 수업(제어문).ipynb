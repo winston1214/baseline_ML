{
 "cells": [
  {
   "cell_type": "markdown",
   "metadata": {},
   "source": [
    "### 양수를 입력받고 홀수, 짝수를 판별하는 프로그램을 작성해보세요."
   ]
  },
  {
   "cell_type": "code",
   "execution_count": 1,
   "metadata": {},
   "outputs": [
    {
     "name": "stdout",
     "output_type": "stream",
     "text": [
      "N=8\n",
      "8 은 짝수입니다.\n"
     ]
    }
   ],
   "source": [
    "n=int(input('N='))\n",
    "while n<1:\n",
    "    print('1이상의 자연수를 입력하세요')\n",
    "    n=int(input('N='))\n",
    "if n%2 == 0:\n",
    "    print(n,'은 짝수입니다.')\n",
    "else:\n",
    "    print(n,'은 홀수입니다.')"
   ]
  },
  {
   "cell_type": "code",
   "execution_count": 2,
   "metadata": {},
   "outputs": [],
   "source": [
    "# boolean type\n",
    "# True,False\n",
    "# 숫자: 0이 아닌 모든값(1),0\n",
    "# 자료형: 아이템이 하나라도 있는 자료형, 빈 자료형([])\n",
    "# 문자 : 아이템이 하나라도 있는 문자, 빈 문자(null string '')"
   ]
  },
  {
   "cell_type": "code",
   "execution_count": 3,
   "metadata": {},
   "outputs": [
    {
     "name": "stdout",
     "output_type": "stream",
     "text": [
      "점수는 88\n",
      "취득점수: 88 /최종학점: A\n"
     ]
    }
   ],
   "source": [
    "a=int(input('점수는 '))\n",
    "while a>100 or a<0:\n",
    "    print('똑바로 입력하시오')\n",
    "    a=int(input('점수는 '))\n",
    "if 80<a<=100:\n",
    "    grade='A'\n",
    "elif a>60:\n",
    "    grade='B'\n",
    "elif a>40:\n",
    "    grade='C'\n",
    "else:\n",
    "    grade='Fail'\n",
    "print('취득점수: {} /최종학점: {}'.format(a,grade))"
   ]
  },
  {
   "cell_type": "code",
   "execution_count": 4,
   "metadata": {},
   "outputs": [
    {
     "name": "stdout",
     "output_type": "stream",
     "text": [
      "주민등록번호 - 까지 입력하시오 971214-1184711\n"
     ]
    }
   ],
   "source": [
    "x=input('주민등록번호 - 까지 입력하시오 ')"
   ]
  },
  {
   "cell_type": "code",
   "execution_count": 5,
   "metadata": {},
   "outputs": [
    {
     "data": {
      "text/plain": [
       "6"
      ]
     },
     "execution_count": 5,
     "metadata": {},
     "output_type": "execute_result"
    }
   ],
   "source": [
    "x.find('-')"
   ]
  },
  {
   "cell_type": "code",
   "execution_count": 6,
   "metadata": {},
   "outputs": [
    {
     "name": "stdout",
     "output_type": "stream",
     "text": [
      "남자\n"
     ]
    }
   ],
   "source": [
    "if x[x.index('-')+1]=='1' or x[x.index('-')+1]=='3':\n",
    "    print('남자')\n",
    "elif x[x.index('-')+1] == '2' or x[x.index('-')+1] == '4' :\n",
    "    print('여자')    "
   ]
  },
  {
   "cell_type": "code",
   "execution_count": 21,
   "metadata": {},
   "outputs": [
    {
     "name": "stdout",
     "output_type": "stream",
     "text": [
      "금액과 통화명 사이에는 공백 하나를 입력하세요 87 엔\n"
     ]
    }
   ],
   "source": [
    "m={'달러':1167, '엔':1.096, '유로':1268, '위안':171}\n",
    "t=input('금액과 통화명 사이에는 공백 하나를 입력하세요 ')"
   ]
  },
  {
   "cell_type": "code",
   "execution_count": 22,
   "metadata": {},
   "outputs": [],
   "source": [
    "t=t.split(' ')"
   ]
  },
  {
   "cell_type": "code",
   "execution_count": 23,
   "metadata": {},
   "outputs": [
    {
     "name": "stdout",
     "output_type": "stream",
     "text": [
      "95.35 원\n"
     ]
    }
   ],
   "source": [
    "if t[1]=='달러':\n",
    "    money=int(t[0])*m['달러']\n",
    "elif t[1] == '엔':\n",
    "    money=int(t[0])*m['엔']\n",
    "elif t[1] == '유로':\n",
    "    money=int(t[0])*m['유로']\n",
    "else:\n",
    "    money=int(t[0])*m['위안']\n",
    "print('%0.2f 원' % money)\n",
    "    "
   ]
  },
  {
   "cell_type": "code",
   "execution_count": 24,
   "metadata": {},
   "outputs": [
    {
     "name": "stdout",
     "output_type": "stream",
     "text": [
      "금액과 통화명 사이에는 공백 하나를 입력하세요 89 위안\n"
     ]
    }
   ],
   "source": [
    "#제어문을 활용하지 않을 때\n",
    "m={'달러':1167, '엔':1.096, '유로':1268, '위안':171}\n",
    "t=input('금액과 통화명 사이에는 공백 하나를 입력하세요 ')\n",
    "t=t.split()"
   ]
  },
  {
   "cell_type": "code",
   "execution_count": 26,
   "metadata": {},
   "outputs": [],
   "source": [
    "amt = int(t[0])\n",
    "name = t[1]"
   ]
  },
  {
   "cell_type": "code",
   "execution_count": 27,
   "metadata": {},
   "outputs": [],
   "source": [
    "result = m[name] * amt"
   ]
  },
  {
   "cell_type": "code",
   "execution_count": 28,
   "metadata": {},
   "outputs": [
    {
     "data": {
      "text/plain": [
       "15219"
      ]
     },
     "execution_count": 28,
     "metadata": {},
     "output_type": "execute_result"
    }
   ],
   "source": [
    "result"
   ]
  },
  {
   "cell_type": "code",
   "execution_count": 49,
   "metadata": {},
   "outputs": [
    {
     "name": "stdout",
     "output_type": "stream",
     "text": [
      "1\n",
      "2\n",
      "3\n",
      "4\n",
      "15\n",
      "5개를 다 입력 하셨습니다.\n",
      "꽝\n"
     ]
    }
   ],
   "source": [
    "#중복 제거시 set으로 바꾸고 append를 add로 바꿔라\n",
    "lucky=5\n",
    "a=[]\n",
    "while len(a)<5:\n",
    "    n=int(input())\n",
    "    a.append(n)  \n",
    "\n",
    "print('5개를 다 입력 하셨습니다.')\n",
    "\n",
    "if lucky in a:\n",
    "    print('당첨')\n",
    "else:\n",
    "    print('꽝')"
   ]
  },
  {
   "cell_type": "markdown",
   "metadata": {},
   "source": [
    "### 입력받은 값에 +20을 더한 값을 출력하기\n",
    "\n",
    "- 입력 값의 범위는 0~255로 가정한다\n",
    "- 255를 초과하는 경우 255출력 0보다 작은 값이 되는 경우 0 출력"
   ]
  },
  {
   "cell_type": "code",
   "execution_count": 4,
   "metadata": {},
   "outputs": [
    {
     "name": "stdout",
     "output_type": "stream",
     "text": [
      "0에서255까지 입력하시오79\n",
      "99\n"
     ]
    }
   ],
   "source": [
    "n=int(input('0에서255까지 입력하시오'))\n",
    "if n>255:\n",
    "    n=255\n",
    "elif n<0:\n",
    "    n=0\n",
    "else:\n",
    "    n+=20\n",
    "print(n)"
   ]
  },
  {
   "cell_type": "markdown",
   "metadata": {},
   "source": [
    "### 점수 입력받아 60점 이상 합격 미만일때 불합격"
   ]
  },
  {
   "cell_type": "code",
   "execution_count": 7,
   "metadata": {},
   "outputs": [
    {
     "name": "stdout",
     "output_type": "stream",
     "text": [
      "점수:60\n",
      "합격\n"
     ]
    }
   ],
   "source": [
    "score= int(input('점수:'))\n",
    "while score>100 or score<0:\n",
    "    score=int(input('점수:'))\n",
    "if score>=60:\n",
    "    print('합격')\n",
    "else:\n",
    "    print('불합격')"
   ]
  },
  {
   "cell_type": "code",
   "execution_count": 12,
   "metadata": {
    "scrolled": true
   },
   "outputs": [
    {
     "name": "stdout",
     "output_type": "stream",
     "text": [
      "숫자가 +1 증가하여 1이 되었습니다.\n",
      "숫자가 +1 증가하여 2이 되었습니다.\n",
      "숫자가 +1 증가하여 3이 되었습니다.\n",
      "숫자가 +1 증가하여 4이 되었습니다.\n",
      "숫자가 +1 증가하여 5이 되었습니다.\n",
      "숫자가 +1 증가하여 6이 되었습니다.\n",
      "숫자가 +1 증가하여 7이 되었습니다.\n",
      "숫자가 +1 증가하여 8이 되었습니다.\n",
      "숫자가 +1 증가하여 9이 되었습니다.\n",
      "숫자가 +1 증가하여 10이 되었습니다.\n",
      "숫자가 10이 되었습니다.\n"
     ]
    }
   ],
   "source": [
    "n=0\n",
    "while n<10:\n",
    "    n+=1\n",
    "    print('숫자가 +1 증가하여 {}이 되었습니다.'.format(n))\n",
    "print('숫자가 10이 되었습니다.')"
   ]
  },
  {
   "cell_type": "markdown",
   "metadata": {},
   "source": [
    "### 무한루프를 사용하여 다음 조건을 만족하는 반복문을 작성하세요\n",
    "- 300~500 입력\n",
    "- 과자 사먹는ㄷ 돈이 100씩 감소 과자 사먹습니다 출력 남은돈 얼마입니다 출력 \n",
    "- 돈이 없으면 돈을 다썼습니다 출력"
   ]
  },
  {
   "cell_type": "code",
   "execution_count": 18,
   "metadata": {},
   "outputs": [
    {
     "name": "stdout",
     "output_type": "stream",
     "text": [
      "얼마있니 150\n",
      "과자를 사먹습니다. 남은 돈은 50 입니다.\n",
      "과자를 사먹을 수 없습니다.\n",
      "돈을 다 썼습니다.\n"
     ]
    }
   ],
   "source": [
    "m=int(input('얼마있니 '))\n",
    "while True:\n",
    "    m-=100\n",
    "    print('과자를 사먹습니다. 남은 돈은 %d 입니다.'% m)\n",
    "    if m<100:\n",
    "        print('과자를 사먹을 수 없습니다.')\n",
    "        break\n",
    "print('돈을 다 썼습니다.')"
   ]
  },
  {
   "cell_type": "markdown",
   "metadata": {},
   "source": [
    "### 학생들의 점수를 나타내는 리스트에서 50점 이상의 점수들의 총합을 출력\n",
    "- while 반복문 사용\n",
    "- 리스트의 아이템에 하나씩 접근하는 것은 pop메서드를 이용"
   ]
  },
  {
   "cell_type": "code",
   "execution_count": 30,
   "metadata": {},
   "outputs": [],
   "source": [
    "score_list=[50,80,10,20,65]"
   ]
  },
  {
   "cell_type": "code",
   "execution_count": 32,
   "metadata": {},
   "outputs": [
    {
     "name": "stdout",
     "output_type": "stream",
     "text": [
      "195\n"
     ]
    }
   ],
   "source": [
    "total=0\n",
    "while score_list:\n",
    "    score = score_list.pop()\n",
    "    if score>=50:\n",
    "        total+=score\n",
    "print(total)"
   ]
  },
  {
   "cell_type": "code",
   "execution_count": 46,
   "metadata": {},
   "outputs": [],
   "source": [
    "score_list=[50,80,10,20,65,90,50]\n",
    "grade_list=[]"
   ]
  },
  {
   "cell_type": "code",
   "execution_count": 47,
   "metadata": {},
   "outputs": [
    {
     "name": "stdout",
     "output_type": "stream",
     "text": [
      "{'A': 1, 'B': 12, 'C': 7, 'D': 12}\n"
     ]
    }
   ],
   "source": [
    "for i in range(len(score_list)):\n",
    "    if 80<score_list[i]<=100:\n",
    "        grade.append('A')\n",
    "    elif score_list[i]>60:\n",
    "        grade.append('B')\n",
    "    elif score_list[i]>40:\n",
    "        grade.append('C')\n",
    "    else:\n",
    "        grade.append('D')\n",
    "grade_dic={\"A\":grade.count('A'),\"B\":grade.count('B'),\"C\":grade.count('C'),\"D\":grade.count('D')}\n",
    "print(grade_dic)"
   ]
  },
  {
   "cell_type": "code",
   "execution_count": 56,
   "metadata": {},
   "outputs": [
    {
     "name": "stdout",
     "output_type": "stream",
     "text": [
      "{'A': 1, 'B': 2, 'C': 2, 'Fail': 2}\n"
     ]
    }
   ],
   "source": [
    "score_list=[50,80,10,20,65,90,50]\n",
    "a=[]\n",
    "b=[]\n",
    "c=[]\n",
    "f=[]\n",
    "for i in range(len(score_list)):\n",
    "    if 80<score_list[i]<=100:\n",
    "        a.append(score_list[i])\n",
    "    elif score_list[i]>60:\n",
    "        b.append(score_list[i])\n",
    "    elif score_list[i]>40:\n",
    "        c.append(score_list[i])\n",
    "    else:\n",
    "        f.append(score_list[i])\n",
    "result={'A':len(a),'B':len(b),'C':len(c),'Fail':len(f)}\n",
    "print(result)"
   ]
  },
  {
   "cell_type": "code",
   "execution_count": 62,
   "metadata": {},
   "outputs": [
    {
     "name": "stdout",
     "output_type": "stream",
     "text": [
      "1번 학생은 50점 불합격입니다.\n",
      "2번 학생은 80점 합격입니다.\n",
      "3번 학생은 10점 불합격입니다.\n",
      "4번 학생은 20점 불합격입니다.\n",
      "5번 학생은 65점 합격입니다.\n",
      "6번 학생은 90점 합격입니다.\n",
      "7번 학생은 50점 불합격입니다.\n"
     ]
    }
   ],
   "source": [
    "score_list=[50,80,10,20,65,90,50]\n",
    "no=0\n",
    "for i in score_list:\n",
    "    no+=1\n",
    "    if i>=60:\n",
    "        print('%d번 학생은 %d점 합격입니다.'%(no,i))\n",
    "    else:\n",
    "        print('%d번 학생은 %d점 불합격입니다.'%(no,i))"
   ]
  },
  {
   "cell_type": "code",
   "execution_count": 63,
   "metadata": {},
   "outputs": [
    {
     "name": "stdout",
     "output_type": "stream",
     "text": [
      "(0, 10)\n",
      "(1, 20)\n",
      "(2, 30)\n"
     ]
    }
   ],
   "source": [
    "# enumerate() : 리스트의 아이템을 직접 접근하면서 인덱스 번호를 함께 생성할 수 있는 함수\n",
    "# enumerate(list,start_point)\n",
    "for i in enumerate([10,20,30]):\n",
    "    print(i)"
   ]
  },
  {
   "cell_type": "code",
   "execution_count": 65,
   "metadata": {},
   "outputs": [
    {
     "name": "stdout",
     "output_type": "stream",
     "text": [
      "1 10\n",
      "2 20\n",
      "3 30\n"
     ]
    }
   ],
   "source": [
    "for idx,value in enumerate([10,20,30],1):\n",
    "    print(idx,value)"
   ]
  },
  {
   "cell_type": "code",
   "execution_count": 67,
   "metadata": {},
   "outputs": [
    {
     "name": "stdout",
     "output_type": "stream",
     "text": [
      "1번 학생은 50점 불합격입니다.\n",
      "2번 학생은 80점 합격입니다.\n",
      "3번 학생은 10점 불합격입니다.\n",
      "4번 학생은 20점 불합격입니다.\n",
      "5번 학생은 65점 합격입니다.\n",
      "6번 학생은 90점 합격입니다.\n",
      "7번 학생은 50점 불합격입니다.\n"
     ]
    }
   ],
   "source": [
    "for no,score in enumerate(score_list,1):\n",
    "    if score>=60:\n",
    "         print('%d번 학생은 %d점 합격입니다.'%(no,score))\n",
    "    else:\n",
    "        print('%d번 학생은 %d점 불합격입니다.'%(no,score))"
   ]
  },
  {
   "cell_type": "markdown",
   "metadata": {},
   "source": [
    "### 구구단 작성"
   ]
  },
  {
   "cell_type": "code",
   "execution_count": 79,
   "metadata": {},
   "outputs": [
    {
     "name": "stdout",
     "output_type": "stream",
     "text": [
      "2*1=2  2*2=4  2*3=6  2*4=8  2*5=10  2*6=12  2*7=14  2*8=16  2*9=18  \n",
      "3*1=3  3*2=6  3*3=9  3*4=12  3*5=15  3*6=18  3*7=21  3*8=24  3*9=27  \n",
      "4*1=4  4*2=8  4*3=12  4*4=16  4*5=20  4*6=24  4*7=28  4*8=32  4*9=36  \n",
      "5*1=5  5*2=10  5*3=15  5*4=20  5*5=25  5*6=30  5*7=35  5*8=40  5*9=45  \n",
      "6*1=6  6*2=12  6*3=18  6*4=24  6*5=30  6*6=36  6*7=42  6*8=48  6*9=54  \n",
      "7*1=7  7*2=14  7*3=21  7*4=28  7*5=35  7*6=42  7*7=49  7*8=56  7*9=63  \n",
      "8*1=8  8*2=16  8*3=24  8*4=32  8*5=40  8*6=48  8*7=56  8*8=64  8*9=72  \n",
      "9*1=9  9*2=18  9*3=27  9*4=36  9*5=45  9*6=54  9*7=63  9*8=72  9*9=81  \n"
     ]
    }
   ],
   "source": [
    "for i in range(2,10):\n",
    "    for j in range(1,10):\n",
    "        print('{}*{}={}'.format(i,j,i*j),end='  ')\n",
    "    print()"
   ]
  },
  {
   "cell_type": "code",
   "execution_count": 80,
   "metadata": {},
   "outputs": [],
   "source": [
    "import random"
   ]
  },
  {
   "cell_type": "code",
   "execution_count": 81,
   "metadata": {},
   "outputs": [
    {
     "data": {
      "text/plain": [
       "13"
      ]
     },
     "execution_count": 81,
     "metadata": {},
     "output_type": "execute_result"
    }
   ],
   "source": [
    "random.randrange(1,20)"
   ]
  },
  {
   "cell_type": "code",
   "execution_count": 86,
   "metadata": {},
   "outputs": [
    {
     "name": "stdout",
     "output_type": "stream",
     "text": [
      "짝수는 [12, 18, 18, 18, 4, 18, 12] 홀수는 [9, 15, 5, 3, 1, 5, 3, 7, 3, 5, 1, 1, 7]\n"
     ]
    }
   ],
   "source": [
    "x=[]\n",
    "even_number=[]\n",
    "odd_number=[]\n",
    "while len(x)<20:\n",
    "    x.append(random.randrange(1,20))\n",
    "for i in x:\n",
    "    if x[i]%2==0:\n",
    "        even_number.append(x[i])\n",
    "    else:\n",
    "        odd_number.append(x[i])\n",
    "print('짝수는',even_number,'홀수는',odd_number)"
   ]
  },
  {
   "cell_type": "markdown",
   "metadata": {},
   "source": [
    "### 아래 문자열에서 리스트에 저장된 모음이 있다면 모두 #으로 바꿔보세요\n",
    "A='Life is short,you need python'\n",
    "\n",
    "a=[a,e,i,o,u]"
   ]
  },
  {
   "cell_type": "code",
   "execution_count": 88,
   "metadata": {},
   "outputs": [
    {
     "name": "stdout",
     "output_type": "stream",
     "text": [
      "L#f# #s sh#rt,y## n##d pyth#n\n"
     ]
    }
   ],
   "source": [
    "A='Life is short,you need python'\n",
    "a=['a','e','i','o','u']\n",
    "for i in range(len(A)):\n",
    "    for j in range(len(a)):\n",
    "        if A[i]==a[j]:\n",
    "            A=A.replace(A[i],'#')\n",
    "print(A)\n"
   ]
  },
  {
   "cell_type": "code",
   "execution_count": 90,
   "metadata": {},
   "outputs": [
    {
     "data": {
      "text/plain": [
       "'L%f$ %s sh^rt,y^& n$$d pyth^n'"
      ]
     },
     "execution_count": 90,
     "metadata": {},
     "output_type": "execute_result"
    }
   ],
   "source": [
    "A='Life is short,you need python'\n",
    "a=['a','e','i','o','u']\n",
    "mark=['#','$','%','^','&']\n",
    "for mo,ma in zip(a,mark):\n",
    "    A=A.replace(mo,ma)\n",
    "A"
   ]
  },
  {
   "cell_type": "markdown",
   "metadata": {},
   "source": [
    "### 입력 받은 수의 타입이 정수형이면 문자열'입력 받은 값()는 정수입니다'와 제곱한 값을 반환하고 정수형이 아니면 '입력 받은 값()는 정수가 아닙니다.'를 반환하는 함수를 작성하고 실행해보세요"
   ]
  },
  {
   "cell_type": "code",
   "execution_count": 95,
   "metadata": {},
   "outputs": [],
   "source": [
    "def y_int(x):\n",
    "        return x**2\n",
    "def n_int(x):\n",
    "        return x"
   ]
  },
  {
   "cell_type": "code",
   "execution_count": 98,
   "metadata": {},
   "outputs": [
    {
     "name": "stdout",
     "output_type": "stream",
     "text": [
      "'안녕'\n",
      "입력 받은 값 안녕는 정수가 아닙니다.\n"
     ]
    }
   ],
   "source": [
    "x=eval(input())\n",
    "if type(x)==int:\n",
    "    print('입력 받은 값 {}는 정수입니다.'.format(x),y_int(x))\n",
    "else:\n",
    "    print('입력 받은 값 {}는 정수가 아닙니다.'.format(n_int(x)))\n"
   ]
  },
  {
   "cell_type": "code",
   "execution_count": 101,
   "metadata": {},
   "outputs": [],
   "source": [
    "def inf_func(x):\n",
    "    if type(x) == int:\n",
    "        msg= '{}는 정수입니다.'.format(x)\n",
    "        val=x**2\n",
    "    else:\n",
    "        msg='{}는 정수가 아닙니다.'.format(x)\n",
    "        val=''\n",
    "    return msg,val"
   ]
  },
  {
   "cell_type": "code",
   "execution_count": 104,
   "metadata": {},
   "outputs": [],
   "source": [
    "x_msg,y_val=inf_func(3)"
   ]
  },
  {
   "cell_type": "code",
   "execution_count": 103,
   "metadata": {},
   "outputs": [
    {
     "name": "stdout",
     "output_type": "stream",
     "text": [
      "3.1는 정수가 아닙니다.\n",
      "\n"
     ]
    }
   ],
   "source": [
    "print(x_msg)\n",
    "print(y_val)"
   ]
  },
  {
   "cell_type": "markdown",
   "metadata": {},
   "source": [
    "## 입력 받은 모든 수의 평균값을 계산하는 함수를 작성\n",
    "- 숫자의 개수는 정해져있지앟ㄴ다\n",
    "- 입력 받는 방식은 input이 아닌 함수의 인자로 직접 전달받는 방식이다."
   ]
  },
  {
   "cell_type": "code",
   "execution_count": 106,
   "metadata": {},
   "outputs": [],
   "source": [
    "#파라미터,매개변수 => 정의문에서 함수의 입력값으로 사용되는 값, 변수\n",
    "#아규먼트,인자 => 실행문에서 함수의 입력값으로 사용되는 값, 변수"
   ]
  },
  {
   "cell_type": "code",
   "execution_count": 113,
   "metadata": {},
   "outputs": [],
   "source": [
    "# 가변인자로 값을 받을 수 있는 매개변수\n",
    "# *매개변수명\n",
    "# 튜플타입으로 저장\n",
    "# 보통 *args"
   ]
  },
  {
   "cell_type": "code",
   "execution_count": 114,
   "metadata": {},
   "outputs": [],
   "source": [
    "def cal_avg(*args):\n",
    "    total_sum=0\n",
    "    for num in args:\n",
    "        total_sum +=num\n",
    "    avg=total_sum/len(args)\n",
    "    return avg"
   ]
  },
  {
   "cell_type": "code",
   "execution_count": 115,
   "metadata": {},
   "outputs": [
    {
     "data": {
      "text/plain": [
       "5.5"
      ]
     },
     "execution_count": 115,
     "metadata": {},
     "output_type": "execute_result"
    }
   ],
   "source": [
    "cal_avg(1,2,3,4,5,6,7,8,9,10)"
   ]
  },
  {
   "cell_type": "code",
   "execution_count": null,
   "metadata": {},
   "outputs": [],
   "source": []
  },
  {
   "cell_type": "markdown",
   "metadata": {},
   "source": [
    "### 리스트로 입력 받ㅇ느 수들에 대해 양수만 필터링하여 반환해주는 함수를 작성해보세요\n",
    "- 입력값은 인자값으로 리스트를 전달\n",
    "- 결과값은 양수로만 구성된 새로운 리스트"
   ]
  },
  {
   "cell_type": "code",
   "execution_count": 119,
   "metadata": {},
   "outputs": [],
   "source": [
    "def positive_list(x):\n",
    "    y=[]\n",
    "    for i in x:\n",
    "        if i>0:\n",
    "            y.append(i)\n",
    "    return y"
   ]
  },
  {
   "cell_type": "code",
   "execution_count": 120,
   "metadata": {},
   "outputs": [
    {
     "data": {
      "text/plain": [
       "[20, 30]"
      ]
     },
     "execution_count": 120,
     "metadata": {},
     "output_type": "execute_result"
    }
   ],
   "source": [
    "positive_list([-10,20,30,-5])"
   ]
  },
  {
   "cell_type": "code",
   "execution_count": 118,
   "metadata": {},
   "outputs": [
    {
     "name": "stdout",
     "output_type": "stream",
     "text": [
      "-10\n",
      "20\n",
      "30\n",
      "-5\n"
     ]
    }
   ],
   "source": [
    "x=[-10,20,30,-5]\n",
    "for i in x:\n",
    "    print(i)"
   ]
  },
  {
   "cell_type": "code",
   "execution_count": 121,
   "metadata": {},
   "outputs": [],
   "source": [
    "# 키워드파라미터 \n",
    "# **kwargs\n",
    "# 딕셔너리 타입"
   ]
  },
  {
   "cell_type": "code",
   "execution_count": 122,
   "metadata": {},
   "outputs": [],
   "source": [
    "def test(**kwargs):\n",
    "    return kwargs"
   ]
  },
  {
   "cell_type": "code",
   "execution_count": 123,
   "metadata": {},
   "outputs": [
    {
     "data": {
      "text/plain": [
       "{'name': '홍길동', 'age': 16}"
      ]
     },
     "execution_count": 123,
     "metadata": {},
     "output_type": "execute_result"
    }
   ],
   "source": [
    "test(name='홍길동',age=16)"
   ]
  },
  {
   "cell_type": "code",
   "execution_count": null,
   "metadata": {},
   "outputs": [],
   "source": []
  }
 ],
 "metadata": {
  "kernelspec": {
   "display_name": "Python 3",
   "language": "python",
   "name": "python3"
  },
  "language_info": {
   "codemirror_mode": {
    "name": "ipython",
    "version": 3
   },
   "file_extension": ".py",
   "mimetype": "text/x-python",
   "name": "python",
   "nbconvert_exporter": "python",
   "pygments_lexer": "ipython3",
   "version": "3.7.3"
  }
 },
 "nbformat": 4,
 "nbformat_minor": 2
}
