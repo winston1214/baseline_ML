{
 "cells": [
  {
   "cell_type": "code",
   "execution_count": 1,
   "metadata": {},
   "outputs": [],
   "source": [
    "import numpy as np\n",
    "import pandas as pd"
   ]
  },
  {
   "cell_type": "code",
   "execution_count": null,
   "metadata": {},
   "outputs": [],
   "source": [
    "# 데이터 적재\n",
    "# engine='python'\n",
    "# encoding='utf-8' / 'cp949'"
   ]
  },
  {
   "cell_type": "code",
   "execution_count": 11,
   "metadata": {
    "scrolled": true
   },
   "outputs": [
    {
     "data": {
      "text/html": [
       "<div>\n",
       "<style scoped>\n",
       "    .dataframe tbody tr th:only-of-type {\n",
       "        vertical-align: middle;\n",
       "    }\n",
       "\n",
       "    .dataframe tbody tr th {\n",
       "        vertical-align: top;\n",
       "    }\n",
       "\n",
       "    .dataframe thead th {\n",
       "        text-align: right;\n",
       "    }\n",
       "</style>\n",
       "<table border=\"1\" class=\"dataframe\">\n",
       "  <thead>\n",
       "    <tr style=\"text-align: right;\">\n",
       "      <th></th>\n",
       "      <th>연번</th>\n",
       "      <th>약수터명</th>\n",
       "      <th>동명</th>\n",
       "      <th>총대장균군</th>\n",
       "      <th>일반세균</th>\n",
       "      <th>질산성질소</th>\n",
       "      <th>적합</th>\n",
       "    </tr>\n",
       "  </thead>\n",
       "  <tbody>\n",
       "    <tr>\n",
       "      <th>0</th>\n",
       "      <td>1</td>\n",
       "      <td>백수</td>\n",
       "      <td>모라</td>\n",
       "      <td>양 성</td>\n",
       "      <td>10.0</td>\n",
       "      <td>6.7</td>\n",
       "      <td>부적합</td>\n",
       "    </tr>\n",
       "    <tr>\n",
       "      <th>1</th>\n",
       "      <td>2</td>\n",
       "      <td>이칠</td>\n",
       "      <td>모라</td>\n",
       "      <td>음 성</td>\n",
       "      <td>20.0</td>\n",
       "      <td>0.9</td>\n",
       "      <td>적합</td>\n",
       "    </tr>\n",
       "    <tr>\n",
       "      <th>2</th>\n",
       "      <td>3</td>\n",
       "      <td>운수사</td>\n",
       "      <td>모라</td>\n",
       "      <td>음 성</td>\n",
       "      <td>10.0</td>\n",
       "      <td>1.1</td>\n",
       "      <td>적합</td>\n",
       "    </tr>\n",
       "    <tr>\n",
       "      <th>3</th>\n",
       "      <td>4</td>\n",
       "      <td>서당골</td>\n",
       "      <td>모라</td>\n",
       "      <td>음 성</td>\n",
       "      <td>10.0</td>\n",
       "      <td>NaN</td>\n",
       "      <td>적합</td>\n",
       "    </tr>\n",
       "    <tr>\n",
       "      <th>4</th>\n",
       "      <td>5</td>\n",
       "      <td>청수</td>\n",
       "      <td>괘법</td>\n",
       "      <td>음 성</td>\n",
       "      <td>20.0</td>\n",
       "      <td>2.7</td>\n",
       "      <td>적합</td>\n",
       "    </tr>\n",
       "    <tr>\n",
       "      <th>5</th>\n",
       "      <td>6</td>\n",
       "      <td>사상</td>\n",
       "      <td>괘법</td>\n",
       "      <td>음 성</td>\n",
       "      <td>10.0</td>\n",
       "      <td>2.2</td>\n",
       "      <td>적합</td>\n",
       "    </tr>\n",
       "    <tr>\n",
       "      <th>6</th>\n",
       "      <td>7</td>\n",
       "      <td>탑골</td>\n",
       "      <td>괘법</td>\n",
       "      <td>양 성</td>\n",
       "      <td>10.0</td>\n",
       "      <td>2.6</td>\n",
       "      <td>부적합</td>\n",
       "    </tr>\n",
       "    <tr>\n",
       "      <th>7</th>\n",
       "      <td>8</td>\n",
       "      <td>삼각산</td>\n",
       "      <td>괘법</td>\n",
       "      <td>음 성</td>\n",
       "      <td>10.0</td>\n",
       "      <td>2.7</td>\n",
       "      <td>적합</td>\n",
       "    </tr>\n",
       "    <tr>\n",
       "      <th>8</th>\n",
       "      <td>9</td>\n",
       "      <td>괘내</td>\n",
       "      <td>괘법</td>\n",
       "      <td>음 성</td>\n",
       "      <td>20.0</td>\n",
       "      <td>3.1</td>\n",
       "      <td>적합</td>\n",
       "    </tr>\n",
       "    <tr>\n",
       "      <th>9</th>\n",
       "      <td>10</td>\n",
       "      <td>황씨묘위</td>\n",
       "      <td>감전</td>\n",
       "      <td>음 성</td>\n",
       "      <td>10.0</td>\n",
       "      <td>3.1</td>\n",
       "      <td>적합</td>\n",
       "    </tr>\n",
       "    <tr>\n",
       "      <th>10</th>\n",
       "      <td>11</td>\n",
       "      <td>체육공원</td>\n",
       "      <td>감전</td>\n",
       "      <td>음 성</td>\n",
       "      <td>20.0</td>\n",
       "      <td>4.0</td>\n",
       "      <td>적합</td>\n",
       "    </tr>\n",
       "    <tr>\n",
       "      <th>11</th>\n",
       "      <td>12</td>\n",
       "      <td>건강</td>\n",
       "      <td>주례</td>\n",
       "      <td>음 성</td>\n",
       "      <td>10.0</td>\n",
       "      <td>1.8</td>\n",
       "      <td>적합</td>\n",
       "    </tr>\n",
       "    <tr>\n",
       "      <th>12</th>\n",
       "      <td>13</td>\n",
       "      <td>백양골</td>\n",
       "      <td>주례</td>\n",
       "      <td>양 성</td>\n",
       "      <td>10.0</td>\n",
       "      <td>2.8</td>\n",
       "      <td>부적합</td>\n",
       "    </tr>\n",
       "    <tr>\n",
       "      <th>13</th>\n",
       "      <td>14</td>\n",
       "      <td>백양정</td>\n",
       "      <td>주례</td>\n",
       "      <td>음 성</td>\n",
       "      <td>10.0</td>\n",
       "      <td>7.5</td>\n",
       "      <td>적합</td>\n",
       "    </tr>\n",
       "    <tr>\n",
       "      <th>14</th>\n",
       "      <td>15</td>\n",
       "      <td>승록정</td>\n",
       "      <td>주례</td>\n",
       "      <td>음 성</td>\n",
       "      <td>20.0</td>\n",
       "      <td>2.3</td>\n",
       "      <td>부적합</td>\n",
       "    </tr>\n",
       "    <tr>\n",
       "      <th>15</th>\n",
       "      <td>16</td>\n",
       "      <td>복천</td>\n",
       "      <td>주례</td>\n",
       "      <td>음 성</td>\n",
       "      <td>20.0</td>\n",
       "      <td>2.4</td>\n",
       "      <td>적합</td>\n",
       "    </tr>\n",
       "    <tr>\n",
       "      <th>16</th>\n",
       "      <td>17</td>\n",
       "      <td>밤골</td>\n",
       "      <td>주례</td>\n",
       "      <td>음 성</td>\n",
       "      <td>NaN</td>\n",
       "      <td>NaN</td>\n",
       "      <td>적합</td>\n",
       "    </tr>\n",
       "    <tr>\n",
       "      <th>17</th>\n",
       "      <td>18</td>\n",
       "      <td>삼운정</td>\n",
       "      <td>주례</td>\n",
       "      <td>음 성</td>\n",
       "      <td>20.0</td>\n",
       "      <td>3.8</td>\n",
       "      <td>적합</td>\n",
       "    </tr>\n",
       "    <tr>\n",
       "      <th>18</th>\n",
       "      <td>19</td>\n",
       "      <td>무명</td>\n",
       "      <td>주례</td>\n",
       "      <td>음 성</td>\n",
       "      <td>110.0</td>\n",
       "      <td>0.7</td>\n",
       "      <td>부적합</td>\n",
       "    </tr>\n",
       "    <tr>\n",
       "      <th>19</th>\n",
       "      <td>20</td>\n",
       "      <td>승학</td>\n",
       "      <td>학장</td>\n",
       "      <td>양 성</td>\n",
       "      <td>NaN</td>\n",
       "      <td>0.3</td>\n",
       "      <td>부적합</td>\n",
       "    </tr>\n",
       "    <tr>\n",
       "      <th>20</th>\n",
       "      <td>21</td>\n",
       "      <td>거북</td>\n",
       "      <td>학장</td>\n",
       "      <td>음 성</td>\n",
       "      <td>20.0</td>\n",
       "      <td>1.0</td>\n",
       "      <td>적합</td>\n",
       "    </tr>\n",
       "    <tr>\n",
       "      <th>21</th>\n",
       "      <td>22</td>\n",
       "      <td>백련</td>\n",
       "      <td>엄궁</td>\n",
       "      <td>양 성</td>\n",
       "      <td>40.0</td>\n",
       "      <td>1.9</td>\n",
       "      <td>부적합</td>\n",
       "    </tr>\n",
       "    <tr>\n",
       "      <th>22</th>\n",
       "      <td>23</td>\n",
       "      <td>불심</td>\n",
       "      <td>엄궁</td>\n",
       "      <td>음 성</td>\n",
       "      <td>20.0</td>\n",
       "      <td>1.7</td>\n",
       "      <td>적합</td>\n",
       "    </tr>\n",
       "    <tr>\n",
       "      <th>23</th>\n",
       "      <td>24</td>\n",
       "      <td>승학</td>\n",
       "      <td>엄궁</td>\n",
       "      <td>음 성</td>\n",
       "      <td>20.0</td>\n",
       "      <td>2.6</td>\n",
       "      <td>적합</td>\n",
       "    </tr>\n",
       "  </tbody>\n",
       "</table>\n",
       "</div>"
      ],
      "text/plain": [
       "    연번  약수터명  동명 총대장균군   일반세균  질산성질소   적합\n",
       "0    1    백수  모라   양 성   10.0    6.7  부적합\n",
       "1    2    이칠  모라   음 성   20.0    0.9   적합\n",
       "2    3   운수사  모라   음 성   10.0    1.1   적합\n",
       "3    4   서당골  모라   음 성   10.0    NaN   적합\n",
       "4    5    청수  괘법   음 성   20.0    2.7   적합\n",
       "5    6    사상  괘법   음 성   10.0    2.2   적합\n",
       "6    7    탑골  괘법   양 성   10.0    2.6  부적합\n",
       "7    8   삼각산  괘법   음 성   10.0    2.7   적합\n",
       "8    9    괘내  괘법   음 성   20.0    3.1   적합\n",
       "9   10  황씨묘위  감전   음 성   10.0    3.1   적합\n",
       "10  11  체육공원  감전   음 성   20.0    4.0   적합\n",
       "11  12    건강  주례   음 성   10.0    1.8   적합\n",
       "12  13   백양골  주례   양 성   10.0    2.8  부적합\n",
       "13  14   백양정  주례   음 성   10.0    7.5   적합\n",
       "14  15   승록정  주례   음 성   20.0    2.3  부적합\n",
       "15  16    복천  주례   음 성   20.0    2.4   적합\n",
       "16  17    밤골  주례   음 성    NaN    NaN   적합\n",
       "17  18   삼운정  주례   음 성   20.0    3.8   적합\n",
       "18  19    무명  주례   음 성  110.0    0.7  부적합\n",
       "19  20    승학  학장   양 성    NaN    0.3  부적합\n",
       "20  21    거북  학장   음 성   20.0    1.0   적합\n",
       "21  22    백련  엄궁   양 성   40.0    1.9  부적합\n",
       "22  23    불심  엄궁   음 성   20.0    1.7   적합\n",
       "23  24    승학  엄궁   음 성   20.0    2.6   적합"
      ]
     },
     "execution_count": 11,
     "metadata": {},
     "output_type": "execute_result"
    }
   ],
   "source": [
    "data=pd.read_csv('ch2-1(약수터수질현황).csv',engine='python')\n",
    "data"
   ]
  },
  {
   "cell_type": "code",
   "execution_count": 13,
   "metadata": {},
   "outputs": [
    {
     "data": {
      "text/plain": [
       "(24, 7)"
      ]
     },
     "execution_count": 13,
     "metadata": {},
     "output_type": "execute_result"
    }
   ],
   "source": [
    "data.shape"
   ]
  },
  {
   "cell_type": "code",
   "execution_count": 14,
   "metadata": {},
   "outputs": [
    {
     "data": {
      "text/plain": [
       "연번       0\n",
       "약수터명     0\n",
       "동명       0\n",
       "총대장균군    0\n",
       "일반세균     2\n",
       "질산성질소    2\n",
       "적합       0\n",
       "dtype: int64"
      ]
     },
     "execution_count": 14,
     "metadata": {},
     "output_type": "execute_result"
    }
   ],
   "source": [
    "# 컬럼별 결측치 개수\n",
    "data.isnull().sum()"
   ]
  },
  {
   "cell_type": "code",
   "execution_count": 12,
   "metadata": {},
   "outputs": [
    {
     "data": {
      "text/html": [
       "<div>\n",
       "<style scoped>\n",
       "    .dataframe tbody tr th:only-of-type {\n",
       "        vertical-align: middle;\n",
       "    }\n",
       "\n",
       "    .dataframe tbody tr th {\n",
       "        vertical-align: top;\n",
       "    }\n",
       "\n",
       "    .dataframe thead th {\n",
       "        text-align: right;\n",
       "    }\n",
       "</style>\n",
       "<table border=\"1\" class=\"dataframe\">\n",
       "  <thead>\n",
       "    <tr style=\"text-align: right;\">\n",
       "      <th></th>\n",
       "      <th>연번</th>\n",
       "      <th>약수터명</th>\n",
       "      <th>동명</th>\n",
       "      <th>총대장균군</th>\n",
       "      <th>일반세균</th>\n",
       "      <th>질산성질소</th>\n",
       "      <th>적합</th>\n",
       "    </tr>\n",
       "  </thead>\n",
       "  <tbody>\n",
       "    <tr>\n",
       "      <th>3</th>\n",
       "      <td>4</td>\n",
       "      <td>서당골</td>\n",
       "      <td>모라</td>\n",
       "      <td>음 성</td>\n",
       "      <td>10.0</td>\n",
       "      <td>NaN</td>\n",
       "      <td>적합</td>\n",
       "    </tr>\n",
       "    <tr>\n",
       "      <th>16</th>\n",
       "      <td>17</td>\n",
       "      <td>밤골</td>\n",
       "      <td>주례</td>\n",
       "      <td>음 성</td>\n",
       "      <td>NaN</td>\n",
       "      <td>NaN</td>\n",
       "      <td>적합</td>\n",
       "    </tr>\n",
       "    <tr>\n",
       "      <th>19</th>\n",
       "      <td>20</td>\n",
       "      <td>승학</td>\n",
       "      <td>학장</td>\n",
       "      <td>양 성</td>\n",
       "      <td>NaN</td>\n",
       "      <td>0.3</td>\n",
       "      <td>부적합</td>\n",
       "    </tr>\n",
       "  </tbody>\n",
       "</table>\n",
       "</div>"
      ],
      "text/plain": [
       "    연번 약수터명  동명 총대장균군  일반세균  질산성질소   적합\n",
       "3    4  서당골  모라   음 성  10.0    NaN   적합\n",
       "16  17   밤골  주례   음 성   NaN    NaN   적합\n",
       "19  20   승학  학장   양 성   NaN    0.3  부적합"
      ]
     },
     "execution_count": 12,
     "metadata": {},
     "output_type": "execute_result"
    }
   ],
   "source": [
    "# 결측치 확인\n",
    "data[data.isnull().any(axis=1)]"
   ]
  },
  {
   "cell_type": "markdown",
   "metadata": {},
   "source": [
    "### 결측치가 있는 레코드 삭제\n",
    "- 하나라도 있는 데이터 삭제\n",
    "- 모든 값이 결측인 데이터 삭제"
   ]
  },
  {
   "cell_type": "code",
   "execution_count": 25,
   "metadata": {
    "scrolled": true
   },
   "outputs": [
    {
     "data": {
      "text/plain": [
       "(24, 7)"
      ]
     },
     "execution_count": 25,
     "metadata": {},
     "output_type": "execute_result"
    }
   ],
   "source": [
    "# 모든값\n",
    "data.dropna(how='all').shape"
   ]
  },
  {
   "cell_type": "code",
   "execution_count": null,
   "metadata": {},
   "outputs": [],
   "source": [
    "# df.dropna(how='any') 기본동작"
   ]
  },
  {
   "cell_type": "code",
   "execution_count": 21,
   "metadata": {},
   "outputs": [
    {
     "data": {
      "text/plain": [
       "(24, 7)"
      ]
     },
     "execution_count": 21,
     "metadata": {},
     "output_type": "execute_result"
    }
   ],
   "source": [
    "data.shape"
   ]
  },
  {
   "cell_type": "code",
   "execution_count": 22,
   "metadata": {},
   "outputs": [
    {
     "data": {
      "text/plain": [
       "연번       0\n",
       "약수터명     0\n",
       "동명       0\n",
       "총대장균군    0\n",
       "일반세균     2\n",
       "질산성질소    2\n",
       "적합       0\n",
       "dtype: int64"
      ]
     },
     "execution_count": 22,
     "metadata": {},
     "output_type": "execute_result"
    }
   ],
   "source": [
    "data.isnull().sum()"
   ]
  },
  {
   "cell_type": "code",
   "execution_count": 24,
   "metadata": {
    "scrolled": true
   },
   "outputs": [
    {
     "data": {
      "text/plain": [
       "(21, 7)"
      ]
     },
     "execution_count": 24,
     "metadata": {},
     "output_type": "execute_result"
    }
   ],
   "source": [
    "# 결측치가 하나라도 있으면 삭제\n",
    "data.dropna().shape"
   ]
  },
  {
   "cell_type": "code",
   "execution_count": null,
   "metadata": {},
   "outputs": [],
   "source": [
    "# 7개의 컬럼을 모두 보는것이 아니고\n",
    "# 3개 컬럼(총대장균군,일반세균,질산성질소)\n",
    "# 2개컬럼만 비교(일반세균,질산성질소)\n",
    "# => 둘중하나가 결측\n",
    "# => 둘다 결측인 경우"
   ]
  },
  {
   "cell_type": "code",
   "execution_count": 26,
   "metadata": {},
   "outputs": [
    {
     "data": {
      "text/plain": [
       "일반세균     2\n",
       "질산성질소    2\n",
       "dtype: int64"
      ]
     },
     "execution_count": 26,
     "metadata": {},
     "output_type": "execute_result"
    }
   ],
   "source": [
    "data[['일반세균','질산성질소']].isnull().sum()"
   ]
  },
  {
   "cell_type": "code",
   "execution_count": 47,
   "metadata": {},
   "outputs": [],
   "source": [
    "tmp=data[['일반세균','질산성질소']].copy()"
   ]
  },
  {
   "cell_type": "code",
   "execution_count": 32,
   "metadata": {},
   "outputs": [
    {
     "data": {
      "text/plain": [
       "일반세균     0\n",
       "질산성질소    0\n",
       "dtype: int64"
      ]
     },
     "execution_count": 32,
     "metadata": {},
     "output_type": "execute_result"
    }
   ],
   "source": [
    "# 둘 중 하나에 결측이 있는 튜플 삭제\n",
    "tmp.dropna().isnull().sum()"
   ]
  },
  {
   "cell_type": "code",
   "execution_count": 48,
   "metadata": {},
   "outputs": [],
   "source": [
    "# 둘 중 하나에 결측이 있는 튜플의 인덱스\n",
    "# 원본 데이터에서 해당 인덱스를 삭제\n",
    "case1=tmp[tmp.isnull().any(axis=1)].index.tolist()"
   ]
  },
  {
   "cell_type": "code",
   "execution_count": 49,
   "metadata": {},
   "outputs": [
    {
     "data": {
      "text/plain": [
       "[3, 16, 19]"
      ]
     },
     "execution_count": 49,
     "metadata": {},
     "output_type": "execute_result"
    }
   ],
   "source": [
    "case1"
   ]
  },
  {
   "cell_type": "code",
   "execution_count": 50,
   "metadata": {},
   "outputs": [
    {
     "data": {
      "text/plain": [
       "(21, 7)"
      ]
     },
     "execution_count": 50,
     "metadata": {},
     "output_type": "execute_result"
    }
   ],
   "source": [
    "data.drop(case1).shape"
   ]
  },
  {
   "cell_type": "code",
   "execution_count": 51,
   "metadata": {},
   "outputs": [],
   "source": [
    "# 둘다 결측이 있는 튜플 삭제를 하기 위해 필요한 값\n",
    "case2=tmp[tmp.isnull().all(axis=1)].index.tolist()"
   ]
  },
  {
   "cell_type": "code",
   "execution_count": 52,
   "metadata": {},
   "outputs": [
    {
     "data": {
      "text/plain": [
       "[16]"
      ]
     },
     "execution_count": 52,
     "metadata": {},
     "output_type": "execute_result"
    }
   ],
   "source": [
    "case2"
   ]
  },
  {
   "cell_type": "code",
   "execution_count": 53,
   "metadata": {},
   "outputs": [
    {
     "data": {
      "text/plain": [
       "(23, 7)"
      ]
     },
     "execution_count": 53,
     "metadata": {},
     "output_type": "execute_result"
    }
   ],
   "source": [
    "data.drop(case2).shape"
   ]
  },
  {
   "cell_type": "markdown",
   "metadata": {},
   "source": [
    "## 임의의 값을 사용하여 결측값 대체"
   ]
  },
  {
   "cell_type": "code",
   "execution_count": 55,
   "metadata": {},
   "outputs": [
    {
     "data": {
      "text/plain": [
       "연번       0\n",
       "약수터명     0\n",
       "동명       0\n",
       "총대장균군    0\n",
       "일반세균     0\n",
       "질산성질소    0\n",
       "적합       0\n",
       "dtype: int64"
      ]
     },
     "execution_count": 55,
     "metadata": {},
     "output_type": "execute_result"
    }
   ],
   "source": [
    "# 결측값ㅇ르 전역상수로 대체\n",
    "data.fillna(0).isnull().sum()"
   ]
  },
  {
   "cell_type": "code",
   "execution_count": 61,
   "metadata": {},
   "outputs": [
    {
     "data": {
      "text/html": [
       "<div>\n",
       "<style scoped>\n",
       "    .dataframe tbody tr th:only-of-type {\n",
       "        vertical-align: middle;\n",
       "    }\n",
       "\n",
       "    .dataframe tbody tr th {\n",
       "        vertical-align: top;\n",
       "    }\n",
       "\n",
       "    .dataframe thead th {\n",
       "        text-align: right;\n",
       "    }\n",
       "</style>\n",
       "<table border=\"1\" class=\"dataframe\">\n",
       "  <thead>\n",
       "    <tr style=\"text-align: right;\">\n",
       "      <th></th>\n",
       "      <th>연번</th>\n",
       "      <th>약수터명</th>\n",
       "      <th>동명</th>\n",
       "      <th>총대장균군</th>\n",
       "      <th>일반세균</th>\n",
       "      <th>질산성질소</th>\n",
       "      <th>적합</th>\n",
       "    </tr>\n",
       "  </thead>\n",
       "  <tbody>\n",
       "    <tr>\n",
       "      <th>3</th>\n",
       "      <td>4</td>\n",
       "      <td>서당골</td>\n",
       "      <td>모라</td>\n",
       "      <td>음 성</td>\n",
       "      <td>10</td>\n",
       "      <td>값없음</td>\n",
       "      <td>적합</td>\n",
       "    </tr>\n",
       "    <tr>\n",
       "      <th>16</th>\n",
       "      <td>17</td>\n",
       "      <td>밤골</td>\n",
       "      <td>주례</td>\n",
       "      <td>음 성</td>\n",
       "      <td>값없음</td>\n",
       "      <td>값없음</td>\n",
       "      <td>적합</td>\n",
       "    </tr>\n",
       "    <tr>\n",
       "      <th>19</th>\n",
       "      <td>20</td>\n",
       "      <td>승학</td>\n",
       "      <td>학장</td>\n",
       "      <td>양 성</td>\n",
       "      <td>값없음</td>\n",
       "      <td>0.3</td>\n",
       "      <td>부적합</td>\n",
       "    </tr>\n",
       "  </tbody>\n",
       "</table>\n",
       "</div>"
      ],
      "text/plain": [
       "    연번 약수터명  동명 총대장균군 일반세균 질산성질소   적합\n",
       "3    4  서당골  모라   음 성   10   값없음   적합\n",
       "16  17   밤골  주례   음 성  값없음   값없음   적합\n",
       "19  20   승학  학장   양 성  값없음   0.3  부적합"
      ]
     },
     "execution_count": 61,
     "metadata": {},
     "output_type": "execute_result"
    }
   ],
   "source": [
    "# 결측값이 있던 데이터만 조회하기\n",
    "data.fillna('값없음').loc[case1]"
   ]
  },
  {
   "cell_type": "code",
   "execution_count": 72,
   "metadata": {},
   "outputs": [
    {
     "data": {
      "text/plain": [
       "연번       12.500000\n",
       "일반세균     20.454545\n",
       "질산성질소     2.631818\n",
       "dtype: float64"
      ]
     },
     "execution_count": 72,
     "metadata": {},
     "output_type": "execute_result"
    }
   ],
   "source": [
    "# data의 평균값을 사용하여 결측값 대체\n",
    "# 전체 : 수치형 데이터 => 일반세균, 질산성질소 데이터\n",
    "np.mean(data)"
   ]
  },
  {
   "cell_type": "code",
   "execution_count": 77,
   "metadata": {
    "collapsed": true
   },
   "outputs": [
    {
     "data": {
      "text/html": [
       "<div>\n",
       "<style scoped>\n",
       "    .dataframe tbody tr th:only-of-type {\n",
       "        vertical-align: middle;\n",
       "    }\n",
       "\n",
       "    .dataframe tbody tr th {\n",
       "        vertical-align: top;\n",
       "    }\n",
       "\n",
       "    .dataframe thead th {\n",
       "        text-align: right;\n",
       "    }\n",
       "</style>\n",
       "<table border=\"1\" class=\"dataframe\">\n",
       "  <thead>\n",
       "    <tr style=\"text-align: right;\">\n",
       "      <th></th>\n",
       "      <th>연번</th>\n",
       "      <th>일반세균</th>\n",
       "      <th>질산성질소</th>\n",
       "    </tr>\n",
       "  </thead>\n",
       "  <tbody>\n",
       "    <tr>\n",
       "      <th>0</th>\n",
       "      <td>1</td>\n",
       "      <td>10.0</td>\n",
       "      <td>6.7</td>\n",
       "    </tr>\n",
       "    <tr>\n",
       "      <th>1</th>\n",
       "      <td>2</td>\n",
       "      <td>20.0</td>\n",
       "      <td>0.9</td>\n",
       "    </tr>\n",
       "    <tr>\n",
       "      <th>2</th>\n",
       "      <td>3</td>\n",
       "      <td>10.0</td>\n",
       "      <td>1.1</td>\n",
       "    </tr>\n",
       "    <tr>\n",
       "      <th>3</th>\n",
       "      <td>4</td>\n",
       "      <td>10.0</td>\n",
       "      <td>NaN</td>\n",
       "    </tr>\n",
       "    <tr>\n",
       "      <th>4</th>\n",
       "      <td>5</td>\n",
       "      <td>20.0</td>\n",
       "      <td>2.7</td>\n",
       "    </tr>\n",
       "    <tr>\n",
       "      <th>5</th>\n",
       "      <td>6</td>\n",
       "      <td>10.0</td>\n",
       "      <td>2.2</td>\n",
       "    </tr>\n",
       "    <tr>\n",
       "      <th>6</th>\n",
       "      <td>7</td>\n",
       "      <td>10.0</td>\n",
       "      <td>2.6</td>\n",
       "    </tr>\n",
       "    <tr>\n",
       "      <th>7</th>\n",
       "      <td>8</td>\n",
       "      <td>10.0</td>\n",
       "      <td>2.7</td>\n",
       "    </tr>\n",
       "    <tr>\n",
       "      <th>8</th>\n",
       "      <td>9</td>\n",
       "      <td>20.0</td>\n",
       "      <td>3.1</td>\n",
       "    </tr>\n",
       "    <tr>\n",
       "      <th>9</th>\n",
       "      <td>10</td>\n",
       "      <td>10.0</td>\n",
       "      <td>3.1</td>\n",
       "    </tr>\n",
       "    <tr>\n",
       "      <th>10</th>\n",
       "      <td>11</td>\n",
       "      <td>20.0</td>\n",
       "      <td>4.0</td>\n",
       "    </tr>\n",
       "    <tr>\n",
       "      <th>11</th>\n",
       "      <td>12</td>\n",
       "      <td>10.0</td>\n",
       "      <td>1.8</td>\n",
       "    </tr>\n",
       "    <tr>\n",
       "      <th>12</th>\n",
       "      <td>13</td>\n",
       "      <td>10.0</td>\n",
       "      <td>2.8</td>\n",
       "    </tr>\n",
       "    <tr>\n",
       "      <th>13</th>\n",
       "      <td>14</td>\n",
       "      <td>10.0</td>\n",
       "      <td>7.5</td>\n",
       "    </tr>\n",
       "    <tr>\n",
       "      <th>14</th>\n",
       "      <td>15</td>\n",
       "      <td>20.0</td>\n",
       "      <td>2.3</td>\n",
       "    </tr>\n",
       "    <tr>\n",
       "      <th>15</th>\n",
       "      <td>16</td>\n",
       "      <td>20.0</td>\n",
       "      <td>2.4</td>\n",
       "    </tr>\n",
       "    <tr>\n",
       "      <th>16</th>\n",
       "      <td>17</td>\n",
       "      <td>NaN</td>\n",
       "      <td>NaN</td>\n",
       "    </tr>\n",
       "    <tr>\n",
       "      <th>17</th>\n",
       "      <td>18</td>\n",
       "      <td>20.0</td>\n",
       "      <td>3.8</td>\n",
       "    </tr>\n",
       "    <tr>\n",
       "      <th>18</th>\n",
       "      <td>19</td>\n",
       "      <td>110.0</td>\n",
       "      <td>0.7</td>\n",
       "    </tr>\n",
       "    <tr>\n",
       "      <th>19</th>\n",
       "      <td>20</td>\n",
       "      <td>NaN</td>\n",
       "      <td>0.3</td>\n",
       "    </tr>\n",
       "    <tr>\n",
       "      <th>20</th>\n",
       "      <td>21</td>\n",
       "      <td>20.0</td>\n",
       "      <td>1.0</td>\n",
       "    </tr>\n",
       "    <tr>\n",
       "      <th>21</th>\n",
       "      <td>22</td>\n",
       "      <td>40.0</td>\n",
       "      <td>1.9</td>\n",
       "    </tr>\n",
       "    <tr>\n",
       "      <th>22</th>\n",
       "      <td>23</td>\n",
       "      <td>20.0</td>\n",
       "      <td>1.7</td>\n",
       "    </tr>\n",
       "    <tr>\n",
       "      <th>23</th>\n",
       "      <td>24</td>\n",
       "      <td>20.0</td>\n",
       "      <td>2.6</td>\n",
       "    </tr>\n",
       "  </tbody>\n",
       "</table>\n",
       "</div>"
      ],
      "text/plain": [
       "    연번   일반세균  질산성질소\n",
       "0    1   10.0    6.7\n",
       "1    2   20.0    0.9\n",
       "2    3   10.0    1.1\n",
       "3    4   10.0    NaN\n",
       "4    5   20.0    2.7\n",
       "5    6   10.0    2.2\n",
       "6    7   10.0    2.6\n",
       "7    8   10.0    2.7\n",
       "8    9   20.0    3.1\n",
       "9   10   10.0    3.1\n",
       "10  11   20.0    4.0\n",
       "11  12   10.0    1.8\n",
       "12  13   10.0    2.8\n",
       "13  14   10.0    7.5\n",
       "14  15   20.0    2.3\n",
       "15  16   20.0    2.4\n",
       "16  17    NaN    NaN\n",
       "17  18   20.0    3.8\n",
       "18  19  110.0    0.7\n",
       "19  20    NaN    0.3\n",
       "20  21   20.0    1.0\n",
       "21  22   40.0    1.9\n",
       "22  23   20.0    1.7\n",
       "23  24   20.0    2.6"
      ]
     },
     "execution_count": 77,
     "metadata": {},
     "output_type": "execute_result"
    }
   ],
   "source": [
    "# 수치형 데이터\n",
    "data.select_dtypes(include='float')\n",
    "# data._get_numeric_data()"
   ]
  },
  {
   "cell_type": "code",
   "execution_count": 79,
   "metadata": {},
   "outputs": [],
   "source": [
    "# 결측치를 0으로 대체하여 평균구하기\n",
    "mean1=tmp.fillna(0).values.mean()"
   ]
  },
  {
   "cell_type": "code",
   "execution_count": 80,
   "metadata": {},
   "outputs": [
    {
     "data": {
      "text/html": [
       "<div>\n",
       "<style scoped>\n",
       "    .dataframe tbody tr th:only-of-type {\n",
       "        vertical-align: middle;\n",
       "    }\n",
       "\n",
       "    .dataframe tbody tr th {\n",
       "        vertical-align: top;\n",
       "    }\n",
       "\n",
       "    .dataframe thead th {\n",
       "        text-align: right;\n",
       "    }\n",
       "</style>\n",
       "<table border=\"1\" class=\"dataframe\">\n",
       "  <thead>\n",
       "    <tr style=\"text-align: right;\">\n",
       "      <th></th>\n",
       "      <th>연번</th>\n",
       "      <th>약수터명</th>\n",
       "      <th>동명</th>\n",
       "      <th>총대장균군</th>\n",
       "      <th>일반세균</th>\n",
       "      <th>질산성질소</th>\n",
       "      <th>적합</th>\n",
       "    </tr>\n",
       "  </thead>\n",
       "  <tbody>\n",
       "    <tr>\n",
       "      <th>3</th>\n",
       "      <td>4</td>\n",
       "      <td>서당골</td>\n",
       "      <td>모라</td>\n",
       "      <td>음 성</td>\n",
       "      <td>10.00000</td>\n",
       "      <td>10.58125</td>\n",
       "      <td>적합</td>\n",
       "    </tr>\n",
       "    <tr>\n",
       "      <th>16</th>\n",
       "      <td>17</td>\n",
       "      <td>밤골</td>\n",
       "      <td>주례</td>\n",
       "      <td>음 성</td>\n",
       "      <td>10.58125</td>\n",
       "      <td>10.58125</td>\n",
       "      <td>적합</td>\n",
       "    </tr>\n",
       "    <tr>\n",
       "      <th>19</th>\n",
       "      <td>20</td>\n",
       "      <td>승학</td>\n",
       "      <td>학장</td>\n",
       "      <td>양 성</td>\n",
       "      <td>10.58125</td>\n",
       "      <td>0.30000</td>\n",
       "      <td>부적합</td>\n",
       "    </tr>\n",
       "  </tbody>\n",
       "</table>\n",
       "</div>"
      ],
      "text/plain": [
       "    연번 약수터명  동명 총대장균군      일반세균     질산성질소   적합\n",
       "3    4  서당골  모라   음 성  10.00000  10.58125   적합\n",
       "16  17   밤골  주례   음 성  10.58125  10.58125   적합\n",
       "19  20   승학  학장   양 성  10.58125   0.30000  부적합"
      ]
     },
     "execution_count": 80,
     "metadata": {},
     "output_type": "execute_result"
    }
   ],
   "source": [
    "data.fillna(mean1).loc[case1]"
   ]
  },
  {
   "cell_type": "code",
   "execution_count": 82,
   "metadata": {},
   "outputs": [],
   "source": [
    "# 결측치를 삭제하고 평균 구하기\n",
    "mean2=tmp.dropna().values.mean()"
   ]
  },
  {
   "cell_type": "code",
   "execution_count": 84,
   "metadata": {},
   "outputs": [
    {
     "data": {
      "text/html": [
       "<div>\n",
       "<style scoped>\n",
       "    .dataframe tbody tr th:only-of-type {\n",
       "        vertical-align: middle;\n",
       "    }\n",
       "\n",
       "    .dataframe tbody tr th {\n",
       "        vertical-align: top;\n",
       "    }\n",
       "\n",
       "    .dataframe thead th {\n",
       "        text-align: right;\n",
       "    }\n",
       "</style>\n",
       "<table border=\"1\" class=\"dataframe\">\n",
       "  <thead>\n",
       "    <tr style=\"text-align: right;\">\n",
       "      <th></th>\n",
       "      <th>연번</th>\n",
       "      <th>약수터명</th>\n",
       "      <th>동명</th>\n",
       "      <th>총대장균군</th>\n",
       "      <th>일반세균</th>\n",
       "      <th>질산성질소</th>\n",
       "      <th>적합</th>\n",
       "    </tr>\n",
       "  </thead>\n",
       "  <tbody>\n",
       "    <tr>\n",
       "      <th>16</th>\n",
       "      <td>17</td>\n",
       "      <td>밤골</td>\n",
       "      <td>주례</td>\n",
       "      <td>음 성</td>\n",
       "      <td>11.847619</td>\n",
       "      <td>11.847619</td>\n",
       "      <td>적합</td>\n",
       "    </tr>\n",
       "  </tbody>\n",
       "</table>\n",
       "</div>"
      ],
      "text/plain": [
       "    연번 약수터명  동명 총대장균군       일반세균      질산성질소  적합\n",
       "16  17   밤골  주례   음 성  11.847619  11.847619  적합"
      ]
     },
     "execution_count": 84,
     "metadata": {},
     "output_type": "execute_result"
    }
   ],
   "source": [
    "data.fillna(mean2).loc[case2]"
   ]
  },
  {
   "cell_type": "code",
   "execution_count": 73,
   "metadata": {
    "scrolled": true
   },
   "outputs": [
    {
     "data": {
      "text/html": [
       "<div>\n",
       "<style scoped>\n",
       "    .dataframe tbody tr th:only-of-type {\n",
       "        vertical-align: middle;\n",
       "    }\n",
       "\n",
       "    .dataframe tbody tr th {\n",
       "        vertical-align: top;\n",
       "    }\n",
       "\n",
       "    .dataframe thead th {\n",
       "        text-align: right;\n",
       "    }\n",
       "</style>\n",
       "<table border=\"1\" class=\"dataframe\">\n",
       "  <thead>\n",
       "    <tr style=\"text-align: right;\">\n",
       "      <th></th>\n",
       "      <th>연번</th>\n",
       "      <th>약수터명</th>\n",
       "      <th>동명</th>\n",
       "      <th>총대장균군</th>\n",
       "      <th>일반세균</th>\n",
       "      <th>질산성질소</th>\n",
       "      <th>적합</th>\n",
       "    </tr>\n",
       "  </thead>\n",
       "  <tbody>\n",
       "    <tr>\n",
       "      <th>0</th>\n",
       "      <td>1</td>\n",
       "      <td>백수</td>\n",
       "      <td>모라</td>\n",
       "      <td>양 성</td>\n",
       "      <td>10.000000</td>\n",
       "      <td>6.700000</td>\n",
       "      <td>부적합</td>\n",
       "    </tr>\n",
       "    <tr>\n",
       "      <th>1</th>\n",
       "      <td>2</td>\n",
       "      <td>이칠</td>\n",
       "      <td>모라</td>\n",
       "      <td>음 성</td>\n",
       "      <td>20.000000</td>\n",
       "      <td>0.900000</td>\n",
       "      <td>적합</td>\n",
       "    </tr>\n",
       "    <tr>\n",
       "      <th>2</th>\n",
       "      <td>3</td>\n",
       "      <td>운수사</td>\n",
       "      <td>모라</td>\n",
       "      <td>음 성</td>\n",
       "      <td>10.000000</td>\n",
       "      <td>1.100000</td>\n",
       "      <td>적합</td>\n",
       "    </tr>\n",
       "    <tr>\n",
       "      <th>3</th>\n",
       "      <td>4</td>\n",
       "      <td>서당골</td>\n",
       "      <td>모라</td>\n",
       "      <td>음 성</td>\n",
       "      <td>10.000000</td>\n",
       "      <td>2.631818</td>\n",
       "      <td>적합</td>\n",
       "    </tr>\n",
       "    <tr>\n",
       "      <th>4</th>\n",
       "      <td>5</td>\n",
       "      <td>청수</td>\n",
       "      <td>괘법</td>\n",
       "      <td>음 성</td>\n",
       "      <td>20.000000</td>\n",
       "      <td>2.700000</td>\n",
       "      <td>적합</td>\n",
       "    </tr>\n",
       "    <tr>\n",
       "      <th>5</th>\n",
       "      <td>6</td>\n",
       "      <td>사상</td>\n",
       "      <td>괘법</td>\n",
       "      <td>음 성</td>\n",
       "      <td>10.000000</td>\n",
       "      <td>2.200000</td>\n",
       "      <td>적합</td>\n",
       "    </tr>\n",
       "    <tr>\n",
       "      <th>6</th>\n",
       "      <td>7</td>\n",
       "      <td>탑골</td>\n",
       "      <td>괘법</td>\n",
       "      <td>양 성</td>\n",
       "      <td>10.000000</td>\n",
       "      <td>2.600000</td>\n",
       "      <td>부적합</td>\n",
       "    </tr>\n",
       "    <tr>\n",
       "      <th>7</th>\n",
       "      <td>8</td>\n",
       "      <td>삼각산</td>\n",
       "      <td>괘법</td>\n",
       "      <td>음 성</td>\n",
       "      <td>10.000000</td>\n",
       "      <td>2.700000</td>\n",
       "      <td>적합</td>\n",
       "    </tr>\n",
       "    <tr>\n",
       "      <th>8</th>\n",
       "      <td>9</td>\n",
       "      <td>괘내</td>\n",
       "      <td>괘법</td>\n",
       "      <td>음 성</td>\n",
       "      <td>20.000000</td>\n",
       "      <td>3.100000</td>\n",
       "      <td>적합</td>\n",
       "    </tr>\n",
       "    <tr>\n",
       "      <th>9</th>\n",
       "      <td>10</td>\n",
       "      <td>황씨묘위</td>\n",
       "      <td>감전</td>\n",
       "      <td>음 성</td>\n",
       "      <td>10.000000</td>\n",
       "      <td>3.100000</td>\n",
       "      <td>적합</td>\n",
       "    </tr>\n",
       "    <tr>\n",
       "      <th>10</th>\n",
       "      <td>11</td>\n",
       "      <td>체육공원</td>\n",
       "      <td>감전</td>\n",
       "      <td>음 성</td>\n",
       "      <td>20.000000</td>\n",
       "      <td>4.000000</td>\n",
       "      <td>적합</td>\n",
       "    </tr>\n",
       "    <tr>\n",
       "      <th>11</th>\n",
       "      <td>12</td>\n",
       "      <td>건강</td>\n",
       "      <td>주례</td>\n",
       "      <td>음 성</td>\n",
       "      <td>10.000000</td>\n",
       "      <td>1.800000</td>\n",
       "      <td>적합</td>\n",
       "    </tr>\n",
       "    <tr>\n",
       "      <th>12</th>\n",
       "      <td>13</td>\n",
       "      <td>백양골</td>\n",
       "      <td>주례</td>\n",
       "      <td>양 성</td>\n",
       "      <td>10.000000</td>\n",
       "      <td>2.800000</td>\n",
       "      <td>부적합</td>\n",
       "    </tr>\n",
       "    <tr>\n",
       "      <th>13</th>\n",
       "      <td>14</td>\n",
       "      <td>백양정</td>\n",
       "      <td>주례</td>\n",
       "      <td>음 성</td>\n",
       "      <td>10.000000</td>\n",
       "      <td>7.500000</td>\n",
       "      <td>적합</td>\n",
       "    </tr>\n",
       "    <tr>\n",
       "      <th>14</th>\n",
       "      <td>15</td>\n",
       "      <td>승록정</td>\n",
       "      <td>주례</td>\n",
       "      <td>음 성</td>\n",
       "      <td>20.000000</td>\n",
       "      <td>2.300000</td>\n",
       "      <td>부적합</td>\n",
       "    </tr>\n",
       "    <tr>\n",
       "      <th>15</th>\n",
       "      <td>16</td>\n",
       "      <td>복천</td>\n",
       "      <td>주례</td>\n",
       "      <td>음 성</td>\n",
       "      <td>20.000000</td>\n",
       "      <td>2.400000</td>\n",
       "      <td>적합</td>\n",
       "    </tr>\n",
       "    <tr>\n",
       "      <th>16</th>\n",
       "      <td>17</td>\n",
       "      <td>밤골</td>\n",
       "      <td>주례</td>\n",
       "      <td>음 성</td>\n",
       "      <td>20.454545</td>\n",
       "      <td>2.631818</td>\n",
       "      <td>적합</td>\n",
       "    </tr>\n",
       "    <tr>\n",
       "      <th>17</th>\n",
       "      <td>18</td>\n",
       "      <td>삼운정</td>\n",
       "      <td>주례</td>\n",
       "      <td>음 성</td>\n",
       "      <td>20.000000</td>\n",
       "      <td>3.800000</td>\n",
       "      <td>적합</td>\n",
       "    </tr>\n",
       "    <tr>\n",
       "      <th>18</th>\n",
       "      <td>19</td>\n",
       "      <td>무명</td>\n",
       "      <td>주례</td>\n",
       "      <td>음 성</td>\n",
       "      <td>110.000000</td>\n",
       "      <td>0.700000</td>\n",
       "      <td>부적합</td>\n",
       "    </tr>\n",
       "    <tr>\n",
       "      <th>19</th>\n",
       "      <td>20</td>\n",
       "      <td>승학</td>\n",
       "      <td>학장</td>\n",
       "      <td>양 성</td>\n",
       "      <td>20.454545</td>\n",
       "      <td>0.300000</td>\n",
       "      <td>부적합</td>\n",
       "    </tr>\n",
       "    <tr>\n",
       "      <th>20</th>\n",
       "      <td>21</td>\n",
       "      <td>거북</td>\n",
       "      <td>학장</td>\n",
       "      <td>음 성</td>\n",
       "      <td>20.000000</td>\n",
       "      <td>1.000000</td>\n",
       "      <td>적합</td>\n",
       "    </tr>\n",
       "    <tr>\n",
       "      <th>21</th>\n",
       "      <td>22</td>\n",
       "      <td>백련</td>\n",
       "      <td>엄궁</td>\n",
       "      <td>양 성</td>\n",
       "      <td>40.000000</td>\n",
       "      <td>1.900000</td>\n",
       "      <td>부적합</td>\n",
       "    </tr>\n",
       "    <tr>\n",
       "      <th>22</th>\n",
       "      <td>23</td>\n",
       "      <td>불심</td>\n",
       "      <td>엄궁</td>\n",
       "      <td>음 성</td>\n",
       "      <td>20.000000</td>\n",
       "      <td>1.700000</td>\n",
       "      <td>적합</td>\n",
       "    </tr>\n",
       "    <tr>\n",
       "      <th>23</th>\n",
       "      <td>24</td>\n",
       "      <td>승학</td>\n",
       "      <td>엄궁</td>\n",
       "      <td>음 성</td>\n",
       "      <td>20.000000</td>\n",
       "      <td>2.600000</td>\n",
       "      <td>적합</td>\n",
       "    </tr>\n",
       "  </tbody>\n",
       "</table>\n",
       "</div>"
      ],
      "text/plain": [
       "    연번  약수터명  동명 총대장균군        일반세균     질산성질소   적합\n",
       "0    1    백수  모라   양 성   10.000000  6.700000  부적합\n",
       "1    2    이칠  모라   음 성   20.000000  0.900000   적합\n",
       "2    3   운수사  모라   음 성   10.000000  1.100000   적합\n",
       "3    4   서당골  모라   음 성   10.000000  2.631818   적합\n",
       "4    5    청수  괘법   음 성   20.000000  2.700000   적합\n",
       "5    6    사상  괘법   음 성   10.000000  2.200000   적합\n",
       "6    7    탑골  괘법   양 성   10.000000  2.600000  부적합\n",
       "7    8   삼각산  괘법   음 성   10.000000  2.700000   적합\n",
       "8    9    괘내  괘법   음 성   20.000000  3.100000   적합\n",
       "9   10  황씨묘위  감전   음 성   10.000000  3.100000   적합\n",
       "10  11  체육공원  감전   음 성   20.000000  4.000000   적합\n",
       "11  12    건강  주례   음 성   10.000000  1.800000   적합\n",
       "12  13   백양골  주례   양 성   10.000000  2.800000  부적합\n",
       "13  14   백양정  주례   음 성   10.000000  7.500000   적합\n",
       "14  15   승록정  주례   음 성   20.000000  2.300000  부적합\n",
       "15  16    복천  주례   음 성   20.000000  2.400000   적합\n",
       "16  17    밤골  주례   음 성   20.454545  2.631818   적합\n",
       "17  18   삼운정  주례   음 성   20.000000  3.800000   적합\n",
       "18  19    무명  주례   음 성  110.000000  0.700000  부적합\n",
       "19  20    승학  학장   양 성   20.454545  0.300000  부적합\n",
       "20  21    거북  학장   음 성   20.000000  1.000000   적합\n",
       "21  22    백련  엄궁   양 성   40.000000  1.900000  부적합\n",
       "22  23    불심  엄궁   음 성   20.000000  1.700000   적합\n",
       "23  24    승학  엄궁   음 성   20.000000  2.600000   적합"
      ]
     },
     "execution_count": 73,
     "metadata": {},
     "output_type": "execute_result"
    }
   ],
   "source": [
    "# 결측치가 속한 클래스의 속성 평균값을 사용하여 결측값 대체\n",
    "data.fillna(np.mean(data))"
   ]
  },
  {
   "cell_type": "code",
   "execution_count": 85,
   "metadata": {},
   "outputs": [
    {
     "data": {
      "text/plain": [
       "20.454545454545453"
      ]
     },
     "execution_count": 85,
     "metadata": {},
     "output_type": "execute_result"
    }
   ],
   "source": [
    "# 일반세균\n",
    "x1=data['일반세균'].mean()"
   ]
  },
  {
   "cell_type": "code",
   "execution_count": 87,
   "metadata": {},
   "outputs": [
    {
     "data": {
      "text/plain": [
       "2.631818181818182"
      ]
     },
     "execution_count": 87,
     "metadata": {},
     "output_type": "execute_result"
    }
   ],
   "source": [
    "x2=data['질산성질소'].mean()\n",
    "x2"
   ]
  },
  {
   "cell_type": "code",
   "execution_count": null,
   "metadata": {},
   "outputs": [],
   "source": [
    "data['일반세균']=data.fillna('x1')"
   ]
  },
  {
   "cell_type": "code",
   "execution_count": 91,
   "metadata": {},
   "outputs": [],
   "source": [
    "# 일반세균/질산성질소 => 적합/ 부적합 별로 속성의 평균\n",
    "# 적합/부적합 별로 결측치를 대체\n",
    "tmp2=data[['일반세균','적합']].copy()\n",
    "tmp3=data[['질산성질소','적합']].copy()"
   ]
  },
  {
   "cell_type": "code",
   "execution_count": 89,
   "metadata": {
    "scrolled": true
   },
   "outputs": [
    {
     "data": {
      "text/html": [
       "<div>\n",
       "<style scoped>\n",
       "    .dataframe tbody tr th:only-of-type {\n",
       "        vertical-align: middle;\n",
       "    }\n",
       "\n",
       "    .dataframe tbody tr th {\n",
       "        vertical-align: top;\n",
       "    }\n",
       "\n",
       "    .dataframe thead th {\n",
       "        text-align: right;\n",
       "    }\n",
       "</style>\n",
       "<table border=\"1\" class=\"dataframe\">\n",
       "  <thead>\n",
       "    <tr style=\"text-align: right;\">\n",
       "      <th></th>\n",
       "      <th>일반세균</th>\n",
       "      <th>적합</th>\n",
       "    </tr>\n",
       "  </thead>\n",
       "  <tbody>\n",
       "    <tr>\n",
       "      <th>0</th>\n",
       "      <td>10.0</td>\n",
       "      <td>부적합</td>\n",
       "    </tr>\n",
       "    <tr>\n",
       "      <th>1</th>\n",
       "      <td>20.0</td>\n",
       "      <td>적합</td>\n",
       "    </tr>\n",
       "    <tr>\n",
       "      <th>2</th>\n",
       "      <td>10.0</td>\n",
       "      <td>적합</td>\n",
       "    </tr>\n",
       "    <tr>\n",
       "      <th>3</th>\n",
       "      <td>10.0</td>\n",
       "      <td>적합</td>\n",
       "    </tr>\n",
       "    <tr>\n",
       "      <th>4</th>\n",
       "      <td>20.0</td>\n",
       "      <td>적합</td>\n",
       "    </tr>\n",
       "    <tr>\n",
       "      <th>5</th>\n",
       "      <td>10.0</td>\n",
       "      <td>적합</td>\n",
       "    </tr>\n",
       "    <tr>\n",
       "      <th>6</th>\n",
       "      <td>10.0</td>\n",
       "      <td>부적합</td>\n",
       "    </tr>\n",
       "    <tr>\n",
       "      <th>7</th>\n",
       "      <td>10.0</td>\n",
       "      <td>적합</td>\n",
       "    </tr>\n",
       "    <tr>\n",
       "      <th>8</th>\n",
       "      <td>20.0</td>\n",
       "      <td>적합</td>\n",
       "    </tr>\n",
       "    <tr>\n",
       "      <th>9</th>\n",
       "      <td>10.0</td>\n",
       "      <td>적합</td>\n",
       "    </tr>\n",
       "    <tr>\n",
       "      <th>10</th>\n",
       "      <td>20.0</td>\n",
       "      <td>적합</td>\n",
       "    </tr>\n",
       "    <tr>\n",
       "      <th>11</th>\n",
       "      <td>10.0</td>\n",
       "      <td>적합</td>\n",
       "    </tr>\n",
       "    <tr>\n",
       "      <th>12</th>\n",
       "      <td>10.0</td>\n",
       "      <td>부적합</td>\n",
       "    </tr>\n",
       "    <tr>\n",
       "      <th>13</th>\n",
       "      <td>10.0</td>\n",
       "      <td>적합</td>\n",
       "    </tr>\n",
       "    <tr>\n",
       "      <th>14</th>\n",
       "      <td>20.0</td>\n",
       "      <td>부적합</td>\n",
       "    </tr>\n",
       "    <tr>\n",
       "      <th>15</th>\n",
       "      <td>20.0</td>\n",
       "      <td>적합</td>\n",
       "    </tr>\n",
       "    <tr>\n",
       "      <th>16</th>\n",
       "      <td>NaN</td>\n",
       "      <td>적합</td>\n",
       "    </tr>\n",
       "    <tr>\n",
       "      <th>17</th>\n",
       "      <td>20.0</td>\n",
       "      <td>적합</td>\n",
       "    </tr>\n",
       "    <tr>\n",
       "      <th>18</th>\n",
       "      <td>110.0</td>\n",
       "      <td>부적합</td>\n",
       "    </tr>\n",
       "    <tr>\n",
       "      <th>19</th>\n",
       "      <td>NaN</td>\n",
       "      <td>부적합</td>\n",
       "    </tr>\n",
       "    <tr>\n",
       "      <th>20</th>\n",
       "      <td>20.0</td>\n",
       "      <td>적합</td>\n",
       "    </tr>\n",
       "    <tr>\n",
       "      <th>21</th>\n",
       "      <td>40.0</td>\n",
       "      <td>부적합</td>\n",
       "    </tr>\n",
       "    <tr>\n",
       "      <th>22</th>\n",
       "      <td>20.0</td>\n",
       "      <td>적합</td>\n",
       "    </tr>\n",
       "    <tr>\n",
       "      <th>23</th>\n",
       "      <td>20.0</td>\n",
       "      <td>적합</td>\n",
       "    </tr>\n",
       "  </tbody>\n",
       "</table>\n",
       "</div>"
      ],
      "text/plain": [
       "     일반세균   적합\n",
       "0    10.0  부적합\n",
       "1    20.0   적합\n",
       "2    10.0   적합\n",
       "3    10.0   적합\n",
       "4    20.0   적합\n",
       "5    10.0   적합\n",
       "6    10.0  부적합\n",
       "7    10.0   적합\n",
       "8    20.0   적합\n",
       "9    10.0   적합\n",
       "10   20.0   적합\n",
       "11   10.0   적합\n",
       "12   10.0  부적합\n",
       "13   10.0   적합\n",
       "14   20.0  부적합\n",
       "15   20.0   적합\n",
       "16    NaN   적합\n",
       "17   20.0   적합\n",
       "18  110.0  부적합\n",
       "19    NaN  부적합\n",
       "20   20.0   적합\n",
       "21   40.0  부적합\n",
       "22   20.0   적합\n",
       "23   20.0   적합"
      ]
     },
     "execution_count": 89,
     "metadata": {},
     "output_type": "execute_result"
    }
   ],
   "source": [
    "# 일반세균\n",
    "# 적합/부적합\n",
    "tmp2[['일반세균','적합']]"
   ]
  },
  {
   "cell_type": "code",
   "execution_count": 94,
   "metadata": {},
   "outputs": [],
   "source": [
    "# 일반세균 중에 부적합인 경우의 평균값\n",
    "mean3=tmp2[tmp2['적합']=='부적합']['일반세균'].mean()"
   ]
  },
  {
   "cell_type": "code",
   "execution_count": 95,
   "metadata": {},
   "outputs": [],
   "source": [
    "mean4=tmp2[tmp2['적합']=='적합']['일반세균'].mean()"
   ]
  },
  {
   "cell_type": "code",
   "execution_count": 102,
   "metadata": {},
   "outputs": [],
   "source": [
    "tmp3=data[['일반세균','질산성질소','적합']].copy()"
   ]
  },
  {
   "cell_type": "code",
   "execution_count": 109,
   "metadata": {},
   "outputs": [
    {
     "name": "stdout",
     "output_type": "stream",
     "text": [
      "부적합 일반세균 33.333333333333336\n",
      "0\n",
      "부적합 질산성질소 2.4714285714285715\n",
      "0\n",
      "적합 일반세균 15.625\n",
      "0\n",
      "적합 질산성질소 2.7066666666666666\n",
      "0\n"
     ]
    }
   ],
   "source": [
    "# 반복 대상 : 적합 , 부적합 , 일반세균, 질산성질소\n",
    "# 반복 규칙: 적합 -> 일반세균,질산성질소, 부적합->일반세균,질산성질소\n",
    "for i in tmp3['적합'].unique():\n",
    "    for j in tmp3.columns[:-1]:\n",
    "        x=tmp3[tmp3['적합']==i][j].mean()\n",
    "        print(i,j,x)\n",
    "        print(tmp3[tmp3['적합']==i][j].fillna(x).isnull().sum())"
   ]
  },
  {
   "cell_type": "code",
   "execution_count": null,
   "metadata": {},
   "outputs": [],
   "source": []
  }
 ],
 "metadata": {
  "kernelspec": {
   "display_name": "Python 3",
   "language": "python",
   "name": "python3"
  },
  "language_info": {
   "codemirror_mode": {
    "name": "ipython",
    "version": 3
   },
   "file_extension": ".py",
   "mimetype": "text/x-python",
   "name": "python",
   "nbconvert_exporter": "python",
   "pygments_lexer": "ipython3",
   "version": "3.7.1"
  }
 },
 "nbformat": 4,
 "nbformat_minor": 2
}
