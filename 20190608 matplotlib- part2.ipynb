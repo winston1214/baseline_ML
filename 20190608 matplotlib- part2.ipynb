{
 "cells": [
  {
   "cell_type": "code",
   "execution_count": 1,
   "metadata": {},
   "outputs": [],
   "source": [
    "# 라이브러리\n",
    "# 데이터 처리 및 가공을 위한 라이브러리 => pandas\n",
    "# 수학 연산 및 배열 객체 가공을 위한 라이브러리 => ㅜㅕㅡㅔㅛ\n",
    "# 시각화 라이브러리 => \n",
    "import pandas as pd\n",
    "import matplotlib.pyplot as plt\n",
    "import numpy as np"
   ]
  },
  {
   "cell_type": "markdown",
   "metadata": {},
   "source": [
    "### df.plot()\n",
    "\n",
    "- Pandas 데이터타입의 plot 메서드는 matplotlib를 내부에서 임포트하여 사용\n",
    "- plot 메서드 차트 종류 : kind 파라미터 값으로 전달\n",
    "    - line(기본)\n",
    "    - bar\n",
    "    - pie\n",
    "    - hist\n",
    "    - box\n",
    "    - scatter"
   ]
  },
  {
   "cell_type": "code",
   "execution_count": 2,
   "metadata": {},
   "outputs": [
    {
     "data": {
      "text/plain": [
       "(100, 3)"
      ]
     },
     "execution_count": 2,
     "metadata": {},
     "output_type": "execute_result"
    }
   ],
   "source": [
    "# 주가 데이터와 유사한 흐름을 보이는 샘플 생성\n",
    "# value : 표준 정규분포에서 100*3 구조 샘플\n",
    "data=np.random.randn(100,3)\n",
    "data.shape"
   ]
  },
  {
   "cell_type": "code",
   "execution_count": 3,
   "metadata": {
    "scrolled": true
   },
   "outputs": [
    {
     "data": {
      "text/html": [
       "<div>\n",
       "<style scoped>\n",
       "    .dataframe tbody tr th:only-of-type {\n",
       "        vertical-align: middle;\n",
       "    }\n",
       "\n",
       "    .dataframe tbody tr th {\n",
       "        vertical-align: top;\n",
       "    }\n",
       "\n",
       "    .dataframe thead th {\n",
       "        text-align: right;\n",
       "    }\n",
       "</style>\n",
       "<table border=\"1\" class=\"dataframe\">\n",
       "  <thead>\n",
       "    <tr style=\"text-align: right;\">\n",
       "      <th></th>\n",
       "      <th>A</th>\n",
       "      <th>B</th>\n",
       "      <th>C</th>\n",
       "    </tr>\n",
       "  </thead>\n",
       "  <tbody>\n",
       "    <tr>\n",
       "      <th>2018-01-01</th>\n",
       "      <td>-1.847103</td>\n",
       "      <td>0.074835</td>\n",
       "      <td>1.226189</td>\n",
       "    </tr>\n",
       "    <tr>\n",
       "      <th>2018-01-02</th>\n",
       "      <td>-1.853791</td>\n",
       "      <td>0.300231</td>\n",
       "      <td>0.647039</td>\n",
       "    </tr>\n",
       "    <tr>\n",
       "      <th>2018-01-03</th>\n",
       "      <td>-3.027645</td>\n",
       "      <td>-0.138004</td>\n",
       "      <td>-0.342927</td>\n",
       "    </tr>\n",
       "    <tr>\n",
       "      <th>2018-01-04</th>\n",
       "      <td>-1.782021</td>\n",
       "      <td>0.304672</td>\n",
       "      <td>1.374854</td>\n",
       "    </tr>\n",
       "    <tr>\n",
       "      <th>2018-01-05</th>\n",
       "      <td>-3.311890</td>\n",
       "      <td>-0.252617</td>\n",
       "      <td>3.398422</td>\n",
       "    </tr>\n",
       "    <tr>\n",
       "      <th>2018-01-06</th>\n",
       "      <td>-4.279340</td>\n",
       "      <td>-1.444514</td>\n",
       "      <td>3.894866</td>\n",
       "    </tr>\n",
       "    <tr>\n",
       "      <th>2018-01-07</th>\n",
       "      <td>-4.322299</td>\n",
       "      <td>-0.852155</td>\n",
       "      <td>3.692509</td>\n",
       "    </tr>\n",
       "    <tr>\n",
       "      <th>2018-01-08</th>\n",
       "      <td>-5.980597</td>\n",
       "      <td>-0.811347</td>\n",
       "      <td>3.666345</td>\n",
       "    </tr>\n",
       "    <tr>\n",
       "      <th>2018-01-09</th>\n",
       "      <td>-6.669646</td>\n",
       "      <td>-3.135933</td>\n",
       "      <td>4.831493</td>\n",
       "    </tr>\n",
       "    <tr>\n",
       "      <th>2018-01-10</th>\n",
       "      <td>-6.392032</td>\n",
       "      <td>-3.585589</td>\n",
       "      <td>5.500401</td>\n",
       "    </tr>\n",
       "    <tr>\n",
       "      <th>2018-01-11</th>\n",
       "      <td>-7.387027</td>\n",
       "      <td>-1.355687</td>\n",
       "      <td>4.140082</td>\n",
       "    </tr>\n",
       "    <tr>\n",
       "      <th>2018-01-12</th>\n",
       "      <td>-7.637597</td>\n",
       "      <td>-1.235273</td>\n",
       "      <td>6.038016</td>\n",
       "    </tr>\n",
       "    <tr>\n",
       "      <th>2018-01-13</th>\n",
       "      <td>-7.272547</td>\n",
       "      <td>-1.860017</td>\n",
       "      <td>6.513037</td>\n",
       "    </tr>\n",
       "    <tr>\n",
       "      <th>2018-01-14</th>\n",
       "      <td>-6.019914</td>\n",
       "      <td>-0.677345</td>\n",
       "      <td>5.608598</td>\n",
       "    </tr>\n",
       "    <tr>\n",
       "      <th>2018-01-15</th>\n",
       "      <td>-5.697941</td>\n",
       "      <td>-0.936038</td>\n",
       "      <td>4.838760</td>\n",
       "    </tr>\n",
       "    <tr>\n",
       "      <th>2018-01-16</th>\n",
       "      <td>-6.002212</td>\n",
       "      <td>0.967294</td>\n",
       "      <td>5.701330</td>\n",
       "    </tr>\n",
       "    <tr>\n",
       "      <th>2018-01-17</th>\n",
       "      <td>-4.109625</td>\n",
       "      <td>0.439228</td>\n",
       "      <td>4.022214</td>\n",
       "    </tr>\n",
       "    <tr>\n",
       "      <th>2018-01-18</th>\n",
       "      <td>-2.579758</td>\n",
       "      <td>1.925081</td>\n",
       "      <td>2.111651</td>\n",
       "    </tr>\n",
       "    <tr>\n",
       "      <th>2018-01-19</th>\n",
       "      <td>-3.626371</td>\n",
       "      <td>3.716118</td>\n",
       "      <td>0.074118</td>\n",
       "    </tr>\n",
       "    <tr>\n",
       "      <th>2018-01-20</th>\n",
       "      <td>-3.499156</td>\n",
       "      <td>3.208663</td>\n",
       "      <td>0.266141</td>\n",
       "    </tr>\n",
       "    <tr>\n",
       "      <th>2018-01-21</th>\n",
       "      <td>-4.792496</td>\n",
       "      <td>2.011910</td>\n",
       "      <td>0.090332</td>\n",
       "    </tr>\n",
       "    <tr>\n",
       "      <th>2018-01-22</th>\n",
       "      <td>-5.237488</td>\n",
       "      <td>1.348458</td>\n",
       "      <td>0.302419</td>\n",
       "    </tr>\n",
       "    <tr>\n",
       "      <th>2018-01-23</th>\n",
       "      <td>-4.969280</td>\n",
       "      <td>0.684652</td>\n",
       "      <td>0.530769</td>\n",
       "    </tr>\n",
       "    <tr>\n",
       "      <th>2018-01-24</th>\n",
       "      <td>-3.384113</td>\n",
       "      <td>0.642025</td>\n",
       "      <td>0.735299</td>\n",
       "    </tr>\n",
       "    <tr>\n",
       "      <th>2018-01-25</th>\n",
       "      <td>-3.680110</td>\n",
       "      <td>3.809064</td>\n",
       "      <td>0.371538</td>\n",
       "    </tr>\n",
       "    <tr>\n",
       "      <th>2018-01-26</th>\n",
       "      <td>-2.938479</td>\n",
       "      <td>4.371600</td>\n",
       "      <td>-1.062774</td>\n",
       "    </tr>\n",
       "    <tr>\n",
       "      <th>2018-01-27</th>\n",
       "      <td>-2.466779</td>\n",
       "      <td>4.736159</td>\n",
       "      <td>0.373482</td>\n",
       "    </tr>\n",
       "    <tr>\n",
       "      <th>2018-01-28</th>\n",
       "      <td>-2.468965</td>\n",
       "      <td>6.009823</td>\n",
       "      <td>-0.531721</td>\n",
       "    </tr>\n",
       "    <tr>\n",
       "      <th>2018-01-29</th>\n",
       "      <td>-2.076690</td>\n",
       "      <td>5.245050</td>\n",
       "      <td>1.290254</td>\n",
       "    </tr>\n",
       "    <tr>\n",
       "      <th>2018-01-30</th>\n",
       "      <td>-2.822348</td>\n",
       "      <td>5.104731</td>\n",
       "      <td>1.314513</td>\n",
       "    </tr>\n",
       "    <tr>\n",
       "      <th>...</th>\n",
       "      <td>...</td>\n",
       "      <td>...</td>\n",
       "      <td>...</td>\n",
       "    </tr>\n",
       "    <tr>\n",
       "      <th>2018-03-12</th>\n",
       "      <td>-9.190776</td>\n",
       "      <td>0.071844</td>\n",
       "      <td>2.473309</td>\n",
       "    </tr>\n",
       "    <tr>\n",
       "      <th>2018-03-13</th>\n",
       "      <td>-9.726809</td>\n",
       "      <td>-0.069210</td>\n",
       "      <td>3.785058</td>\n",
       "    </tr>\n",
       "    <tr>\n",
       "      <th>2018-03-14</th>\n",
       "      <td>-8.654720</td>\n",
       "      <td>0.627997</td>\n",
       "      <td>3.956667</td>\n",
       "    </tr>\n",
       "    <tr>\n",
       "      <th>2018-03-15</th>\n",
       "      <td>-8.225816</td>\n",
       "      <td>1.261432</td>\n",
       "      <td>4.713500</td>\n",
       "    </tr>\n",
       "    <tr>\n",
       "      <th>2018-03-16</th>\n",
       "      <td>-8.553472</td>\n",
       "      <td>2.921068</td>\n",
       "      <td>3.799640</td>\n",
       "    </tr>\n",
       "    <tr>\n",
       "      <th>2018-03-17</th>\n",
       "      <td>-9.530914</td>\n",
       "      <td>1.434213</td>\n",
       "      <td>6.452594</td>\n",
       "    </tr>\n",
       "    <tr>\n",
       "      <th>2018-03-18</th>\n",
       "      <td>-9.189184</td>\n",
       "      <td>0.657643</td>\n",
       "      <td>7.020365</td>\n",
       "    </tr>\n",
       "    <tr>\n",
       "      <th>2018-03-19</th>\n",
       "      <td>-10.159429</td>\n",
       "      <td>1.248561</td>\n",
       "      <td>6.199357</td>\n",
       "    </tr>\n",
       "    <tr>\n",
       "      <th>2018-03-20</th>\n",
       "      <td>-9.805066</td>\n",
       "      <td>2.298049</td>\n",
       "      <td>6.590849</td>\n",
       "    </tr>\n",
       "    <tr>\n",
       "      <th>2018-03-21</th>\n",
       "      <td>-10.311726</td>\n",
       "      <td>3.673347</td>\n",
       "      <td>8.298517</td>\n",
       "    </tr>\n",
       "    <tr>\n",
       "      <th>2018-03-22</th>\n",
       "      <td>-10.052988</td>\n",
       "      <td>5.474833</td>\n",
       "      <td>9.846158</td>\n",
       "    </tr>\n",
       "    <tr>\n",
       "      <th>2018-03-23</th>\n",
       "      <td>-11.310095</td>\n",
       "      <td>3.430017</td>\n",
       "      <td>8.450901</td>\n",
       "    </tr>\n",
       "    <tr>\n",
       "      <th>2018-03-24</th>\n",
       "      <td>-11.639244</td>\n",
       "      <td>2.672157</td>\n",
       "      <td>7.473906</td>\n",
       "    </tr>\n",
       "    <tr>\n",
       "      <th>2018-03-25</th>\n",
       "      <td>-11.985030</td>\n",
       "      <td>3.135814</td>\n",
       "      <td>8.386080</td>\n",
       "    </tr>\n",
       "    <tr>\n",
       "      <th>2018-03-26</th>\n",
       "      <td>-10.849914</td>\n",
       "      <td>3.022030</td>\n",
       "      <td>7.261550</td>\n",
       "    </tr>\n",
       "    <tr>\n",
       "      <th>2018-03-27</th>\n",
       "      <td>-11.385087</td>\n",
       "      <td>2.548490</td>\n",
       "      <td>7.195243</td>\n",
       "    </tr>\n",
       "    <tr>\n",
       "      <th>2018-03-28</th>\n",
       "      <td>-10.302511</td>\n",
       "      <td>3.640375</td>\n",
       "      <td>7.428163</td>\n",
       "    </tr>\n",
       "    <tr>\n",
       "      <th>2018-03-29</th>\n",
       "      <td>-9.314777</td>\n",
       "      <td>3.465529</td>\n",
       "      <td>5.848459</td>\n",
       "    </tr>\n",
       "    <tr>\n",
       "      <th>2018-03-30</th>\n",
       "      <td>-8.279361</td>\n",
       "      <td>4.429185</td>\n",
       "      <td>5.038310</td>\n",
       "    </tr>\n",
       "    <tr>\n",
       "      <th>2018-03-31</th>\n",
       "      <td>-7.536725</td>\n",
       "      <td>5.825967</td>\n",
       "      <td>5.043813</td>\n",
       "    </tr>\n",
       "    <tr>\n",
       "      <th>2018-04-01</th>\n",
       "      <td>-7.147345</td>\n",
       "      <td>6.919639</td>\n",
       "      <td>3.014565</td>\n",
       "    </tr>\n",
       "    <tr>\n",
       "      <th>2018-04-02</th>\n",
       "      <td>-6.337055</td>\n",
       "      <td>6.001200</td>\n",
       "      <td>4.793961</td>\n",
       "    </tr>\n",
       "    <tr>\n",
       "      <th>2018-04-03</th>\n",
       "      <td>-5.727950</td>\n",
       "      <td>6.065323</td>\n",
       "      <td>5.156887</td>\n",
       "    </tr>\n",
       "    <tr>\n",
       "      <th>2018-04-04</th>\n",
       "      <td>-6.043912</td>\n",
       "      <td>3.713894</td>\n",
       "      <td>6.574028</td>\n",
       "    </tr>\n",
       "    <tr>\n",
       "      <th>2018-04-05</th>\n",
       "      <td>-7.663744</td>\n",
       "      <td>2.614468</td>\n",
       "      <td>6.269093</td>\n",
       "    </tr>\n",
       "    <tr>\n",
       "      <th>2018-04-06</th>\n",
       "      <td>-7.500368</td>\n",
       "      <td>3.398648</td>\n",
       "      <td>7.309337</td>\n",
       "    </tr>\n",
       "    <tr>\n",
       "      <th>2018-04-07</th>\n",
       "      <td>-6.954013</td>\n",
       "      <td>3.729571</td>\n",
       "      <td>6.118487</td>\n",
       "    </tr>\n",
       "    <tr>\n",
       "      <th>2018-04-08</th>\n",
       "      <td>-5.720138</td>\n",
       "      <td>4.078014</td>\n",
       "      <td>9.422092</td>\n",
       "    </tr>\n",
       "    <tr>\n",
       "      <th>2018-04-09</th>\n",
       "      <td>-6.334721</td>\n",
       "      <td>3.478058</td>\n",
       "      <td>10.224796</td>\n",
       "    </tr>\n",
       "    <tr>\n",
       "      <th>2018-04-10</th>\n",
       "      <td>-6.089988</td>\n",
       "      <td>3.118479</td>\n",
       "      <td>11.442215</td>\n",
       "    </tr>\n",
       "  </tbody>\n",
       "</table>\n",
       "<p>100 rows × 3 columns</p>\n",
       "</div>"
      ],
      "text/plain": [
       "                    A         B          C\n",
       "2018-01-01  -1.847103  0.074835   1.226189\n",
       "2018-01-02  -1.853791  0.300231   0.647039\n",
       "2018-01-03  -3.027645 -0.138004  -0.342927\n",
       "2018-01-04  -1.782021  0.304672   1.374854\n",
       "2018-01-05  -3.311890 -0.252617   3.398422\n",
       "2018-01-06  -4.279340 -1.444514   3.894866\n",
       "2018-01-07  -4.322299 -0.852155   3.692509\n",
       "2018-01-08  -5.980597 -0.811347   3.666345\n",
       "2018-01-09  -6.669646 -3.135933   4.831493\n",
       "2018-01-10  -6.392032 -3.585589   5.500401\n",
       "2018-01-11  -7.387027 -1.355687   4.140082\n",
       "2018-01-12  -7.637597 -1.235273   6.038016\n",
       "2018-01-13  -7.272547 -1.860017   6.513037\n",
       "2018-01-14  -6.019914 -0.677345   5.608598\n",
       "2018-01-15  -5.697941 -0.936038   4.838760\n",
       "2018-01-16  -6.002212  0.967294   5.701330\n",
       "2018-01-17  -4.109625  0.439228   4.022214\n",
       "2018-01-18  -2.579758  1.925081   2.111651\n",
       "2018-01-19  -3.626371  3.716118   0.074118\n",
       "2018-01-20  -3.499156  3.208663   0.266141\n",
       "2018-01-21  -4.792496  2.011910   0.090332\n",
       "2018-01-22  -5.237488  1.348458   0.302419\n",
       "2018-01-23  -4.969280  0.684652   0.530769\n",
       "2018-01-24  -3.384113  0.642025   0.735299\n",
       "2018-01-25  -3.680110  3.809064   0.371538\n",
       "2018-01-26  -2.938479  4.371600  -1.062774\n",
       "2018-01-27  -2.466779  4.736159   0.373482\n",
       "2018-01-28  -2.468965  6.009823  -0.531721\n",
       "2018-01-29  -2.076690  5.245050   1.290254\n",
       "2018-01-30  -2.822348  5.104731   1.314513\n",
       "...               ...       ...        ...\n",
       "2018-03-12  -9.190776  0.071844   2.473309\n",
       "2018-03-13  -9.726809 -0.069210   3.785058\n",
       "2018-03-14  -8.654720  0.627997   3.956667\n",
       "2018-03-15  -8.225816  1.261432   4.713500\n",
       "2018-03-16  -8.553472  2.921068   3.799640\n",
       "2018-03-17  -9.530914  1.434213   6.452594\n",
       "2018-03-18  -9.189184  0.657643   7.020365\n",
       "2018-03-19 -10.159429  1.248561   6.199357\n",
       "2018-03-20  -9.805066  2.298049   6.590849\n",
       "2018-03-21 -10.311726  3.673347   8.298517\n",
       "2018-03-22 -10.052988  5.474833   9.846158\n",
       "2018-03-23 -11.310095  3.430017   8.450901\n",
       "2018-03-24 -11.639244  2.672157   7.473906\n",
       "2018-03-25 -11.985030  3.135814   8.386080\n",
       "2018-03-26 -10.849914  3.022030   7.261550\n",
       "2018-03-27 -11.385087  2.548490   7.195243\n",
       "2018-03-28 -10.302511  3.640375   7.428163\n",
       "2018-03-29  -9.314777  3.465529   5.848459\n",
       "2018-03-30  -8.279361  4.429185   5.038310\n",
       "2018-03-31  -7.536725  5.825967   5.043813\n",
       "2018-04-01  -7.147345  6.919639   3.014565\n",
       "2018-04-02  -6.337055  6.001200   4.793961\n",
       "2018-04-03  -5.727950  6.065323   5.156887\n",
       "2018-04-04  -6.043912  3.713894   6.574028\n",
       "2018-04-05  -7.663744  2.614468   6.269093\n",
       "2018-04-06  -7.500368  3.398648   7.309337\n",
       "2018-04-07  -6.954013  3.729571   6.118487\n",
       "2018-04-08  -5.720138  4.078014   9.422092\n",
       "2018-04-09  -6.334721  3.478058  10.224796\n",
       "2018-04-10  -6.089988  3.118479  11.442215\n",
       "\n",
       "[100 rows x 3 columns]"
      ]
     },
     "execution_count": 3,
     "metadata": {},
     "output_type": "execute_result"
    }
   ],
   "source": [
    "df=pd.DataFrame(data,columns=list('ABC'),index=pd.date_range('1/1/2018',periods=100)).cumsum()\n",
    "df"
   ]
  },
  {
   "cell_type": "code",
   "execution_count": 4,
   "metadata": {},
   "outputs": [
    {
     "data": {
      "text/plain": [
       "<matplotlib.axes._subplots.AxesSubplot at 0x209217136d8>"
      ]
     },
     "execution_count": 4,
     "metadata": {},
     "output_type": "execute_result"
    },
    {
     "data": {
      "image/png": "[encoded data removed]",
      "text/plain": [
       "<Figure size 432x288 with 1 Axes>"
      ]
     },
     "metadata": {
      "needs_background": "light"
     },
     "output_type": "display_data"
    }
   ],
   "source": [
    "# 결과해석: 기본은 라인플롯,컬럼별로 그래프생성\n",
    "df.plot()"
   ]
  },
  {
   "cell_type": "code",
   "execution_count": 1,
   "metadata": {},
   "outputs": [],
   "source": [
    "# 라이브러리에서 제공하는 기본 데이터 가져오기\n",
    "import seaborn as sns"
   ]
  },
  {
   "cell_type": "code",
   "execution_count": 2,
   "metadata": {},
   "outputs": [
    {
     "data": {
      "text/html": [
       "<div>\n",
       "<style scoped>\n",
       "    .dataframe tbody tr th:only-of-type {\n",
       "        vertical-align: middle;\n",
       "    }\n",
       "\n",
       "    .dataframe tbody tr th {\n",
       "        vertical-align: top;\n",
       "    }\n",
       "\n",
       "    .dataframe thead th {\n",
       "        text-align: right;\n",
       "    }\n",
       "</style>\n",
       "<table border=\"1\" class=\"dataframe\">\n",
       "  <thead>\n",
       "    <tr style=\"text-align: right;\">\n",
       "      <th></th>\n",
       "      <th>sepal_length</th>\n",
       "      <th>sepal_width</th>\n",
       "      <th>petal_length</th>\n",
       "      <th>petal_width</th>\n",
       "      <th>species</th>\n",
       "    </tr>\n",
       "  </thead>\n",
       "  <tbody>\n",
       "    <tr>\n",
       "      <th>0</th>\n",
       "      <td>5.1</td>\n",
       "      <td>3.5</td>\n",
       "      <td>1.4</td>\n",
       "      <td>0.2</td>\n",
       "      <td>setosa</td>\n",
       "    </tr>\n",
       "    <tr>\n",
       "      <th>1</th>\n",
       "      <td>4.9</td>\n",
       "      <td>3.0</td>\n",
       "      <td>1.4</td>\n",
       "      <td>0.2</td>\n",
       "      <td>setosa</td>\n",
       "    </tr>\n",
       "    <tr>\n",
       "      <th>2</th>\n",
       "      <td>4.7</td>\n",
       "      <td>3.2</td>\n",
       "      <td>1.3</td>\n",
       "      <td>0.2</td>\n",
       "      <td>setosa</td>\n",
       "    </tr>\n",
       "    <tr>\n",
       "      <th>3</th>\n",
       "      <td>4.6</td>\n",
       "      <td>3.1</td>\n",
       "      <td>1.5</td>\n",
       "      <td>0.2</td>\n",
       "      <td>setosa</td>\n",
       "    </tr>\n",
       "    <tr>\n",
       "      <th>4</th>\n",
       "      <td>5.0</td>\n",
       "      <td>3.6</td>\n",
       "      <td>1.4</td>\n",
       "      <td>0.2</td>\n",
       "      <td>setosa</td>\n",
       "    </tr>\n",
       "  </tbody>\n",
       "</table>\n",
       "</div>"
      ],
      "text/plain": [
       "   sepal_length  sepal_width  petal_length  petal_width species\n",
       "0           5.1          3.5           1.4          0.2  setosa\n",
       "1           4.9          3.0           1.4          0.2  setosa\n",
       "2           4.7          3.2           1.3          0.2  setosa\n",
       "3           4.6          3.1           1.5          0.2  setosa\n",
       "4           5.0          3.6           1.4          0.2  setosa"
      ]
     },
     "execution_count": 2,
     "metadata": {},
     "output_type": "execute_result"
    }
   ],
   "source": [
    "# 붓꽃 데이터 저장\n",
    "iris=sns.load_dataset('iris')\n",
    "iris.head()"
   ]
  },
  {
   "cell_type": "code",
   "execution_count": 3,
   "metadata": {},
   "outputs": [
    {
     "data": {
      "text/html": [
       "<div>\n",
       "<style scoped>\n",
       "    .dataframe tbody tr th:only-of-type {\n",
       "        vertical-align: middle;\n",
       "    }\n",
       "\n",
       "    .dataframe tbody tr th {\n",
       "        vertical-align: top;\n",
       "    }\n",
       "\n",
       "    .dataframe thead th {\n",
       "        text-align: right;\n",
       "    }\n",
       "</style>\n",
       "<table border=\"1\" class=\"dataframe\">\n",
       "  <thead>\n",
       "    <tr style=\"text-align: right;\">\n",
       "      <th></th>\n",
       "      <th>sepal_length</th>\n",
       "      <th>sepal_width</th>\n",
       "      <th>petal_length</th>\n",
       "      <th>petal_width</th>\n",
       "      <th>species</th>\n",
       "    </tr>\n",
       "  </thead>\n",
       "  <tbody>\n",
       "    <tr>\n",
       "      <th>0</th>\n",
       "      <td>5.1</td>\n",
       "      <td>3.5</td>\n",
       "      <td>1.4</td>\n",
       "      <td>0.2</td>\n",
       "      <td>setosa</td>\n",
       "    </tr>\n",
       "    <tr>\n",
       "      <th>1</th>\n",
       "      <td>4.9</td>\n",
       "      <td>3.0</td>\n",
       "      <td>1.4</td>\n",
       "      <td>0.2</td>\n",
       "      <td>setosa</td>\n",
       "    </tr>\n",
       "    <tr>\n",
       "      <th>2</th>\n",
       "      <td>4.7</td>\n",
       "      <td>3.2</td>\n",
       "      <td>1.3</td>\n",
       "      <td>0.2</td>\n",
       "      <td>setosa</td>\n",
       "    </tr>\n",
       "    <tr>\n",
       "      <th>3</th>\n",
       "      <td>4.6</td>\n",
       "      <td>3.1</td>\n",
       "      <td>1.5</td>\n",
       "      <td>0.2</td>\n",
       "      <td>setosa</td>\n",
       "    </tr>\n",
       "    <tr>\n",
       "      <th>4</th>\n",
       "      <td>5.0</td>\n",
       "      <td>3.6</td>\n",
       "      <td>1.4</td>\n",
       "      <td>0.2</td>\n",
       "      <td>setosa</td>\n",
       "    </tr>\n",
       "  </tbody>\n",
       "</table>\n",
       "</div>"
      ],
      "text/plain": [
       "   sepal_length  sepal_width  petal_length  petal_width species\n",
       "0           5.1          3.5           1.4          0.2  setosa\n",
       "1           4.9          3.0           1.4          0.2  setosa\n",
       "2           4.7          3.2           1.3          0.2  setosa\n",
       "3           4.6          3.1           1.5          0.2  setosa\n",
       "4           5.0          3.6           1.4          0.2  setosa"
      ]
     },
     "execution_count": 3,
     "metadata": {},
     "output_type": "execute_result"
    }
   ],
   "source": []
  },
  {
   "cell_type": "code",
   "execution_count": 17,
   "metadata": {},
   "outputs": [
    {
     "data": {
      "text/plain": [
       "(150, 5)"
      ]
     },
     "execution_count": 17,
     "metadata": {},
     "output_type": "execute_result"
    }
   ],
   "source": [
    "iris.shape"
   ]
  },
  {
   "cell_type": "markdown",
   "metadata": {},
   "source": [
    "# IRIS dataset\n",
    "- 데이터 분석 실습에서 가장 많이 활용되는 붓꽃 데이터셋\n",
    "- 총 3개의 붓꽃 종에 대한 꽃잎과 꽃밭침의 길이 및 너비 측정 데이터가 각 종마다 50개씩 총 150개 저장"
   ]
  },
  {
   "cell_type": "code",
   "execution_count": 11,
   "metadata": {},
   "outputs": [
    {
     "data": {
      "text/plain": [
       "Text(0, 0.5, 'length')"
      ]
     },
     "execution_count": 11,
     "metadata": {},
     "output_type": "execute_result"
    },
    {
     "data": {
      "image/png": "[encoded data removed]",
      "text/plain": [
       "<Figure size 432x288 with 1 Axes>"
      ]
     },
     "metadata": {
      "needs_background": "light"
     },
     "output_type": "display_data"
    }
   ],
   "source": [
    "# sepal_length의 20개 샘플에 대하여 bar graph 시각화\n",
    "# 결과 해석:\n",
    "iris['sepal_length'][:20].plot(kind='bar',rot=0)\n",
    "plt.title('sepal_length')\n",
    "plt.xlabel('sample number')\n",
    "plt.ylabel('length')"
   ]
  },
  {
   "cell_type": "code",
   "execution_count": 12,
   "metadata": {},
   "outputs": [
    {
     "data": {
      "text/plain": [
       "(0, 8)"
      ]
     },
     "execution_count": 12,
     "metadata": {},
     "output_type": "execute_result"
    },
    {
     "data": {
      "image/png": "[encoded data removed]",
      "text/plain": [
       "<Figure size 432x288 with 1 Axes>"
      ]
     },
     "metadata": {
      "needs_background": "light"
     },
     "output_type": "display_data"
    }
   ],
   "source": [
    "# 샘플 데이터의 각 속성값에 대해서 bar graph 생성\n",
    "# 결과 해석\n",
    "iris[:5].plot(kind='bar')\n",
    "plt.ylim(0,8)"
   ]
  },
  {
   "cell_type": "code",
   "execution_count": 30,
   "metadata": {},
   "outputs": [],
   "source": [
    "# 각 종목별로 4개 속성값의 평균\n",
    "# groupby : 종\n",
    "# 집계함수 : 평균\n",
    "df1=iris.groupby(iris['species']).mean()"
   ]
  },
  {
   "cell_type": "code",
   "execution_count": 33,
   "metadata": {},
   "outputs": [
    {
     "data": {
      "text/plain": [
       "(0, 8)"
      ]
     },
     "execution_count": 33,
     "metadata": {},
     "output_type": "execute_result"
    },
    {
     "data": {
      "image/png": "[encoded data removed]",
      "text/plain": [
       "<Figure size 432x288 with 1 Axes>"
      ]
     },
     "metadata": {
      "needs_background": "light"
     },
     "output_type": "display_data"
    }
   ],
   "source": [
    "# bar graph로 시각화\n",
    "# 결과 해석\n",
    "df1.plot(kind='bar')\n",
    "plt.ylim(0,8)"
   ]
  },
  {
   "cell_type": "code",
   "execution_count": 34,
   "metadata": {},
   "outputs": [
    {
     "data": {
      "text/plain": [
       "(0, 8)"
      ]
     },
     "execution_count": 34,
     "metadata": {},
     "output_type": "execute_result"
    },
    {
     "data": {
      "image/png": "[encoded data removed]",
      "text/plain": [
       "<Figure size 432x288 with 1 Axes>"
      ]
     },
     "metadata": {
      "needs_background": "light"
     },
     "output_type": "display_data"
    }
   ],
   "source": [
    "df1.T.plot(kind='bar')\n",
    "plt.ylim(0,8)"
   ]
  },
  {
   "cell_type": "code",
   "execution_count": 35,
   "metadata": {},
   "outputs": [
    {
     "data": {
      "text/plain": [
       "<matplotlib.axes._subplots.AxesSubplot at 0x275020cfa90>"
      ]
     },
     "execution_count": 35,
     "metadata": {},
     "output_type": "execute_result"
    },
    {
     "data": {
      "image/png": "[encoded data removed]",
      "text/plain": [
       "<Figure size 432x288 with 1 Axes>"
      ]
     },
     "metadata": {
      "needs_background": "light"
     },
     "output_type": "display_data"
    }
   ],
   "source": [
    "# 각 속성별로 데이터 값에 대한 기술통계값 및 이상치 확인\n",
    "# 결과 해석: 컬럼별로,연속형데이터에 대해서 각각의 박스플롯을 하나의 이미지에 출력\n",
    "iris.plot(kind='box')"
   ]
  },
  {
   "cell_type": "code",
   "execution_count": 38,
   "metadata": {},
   "outputs": [
    {
     "data": {
      "text/plain": [
       "<matplotlib.axes._subplots.AxesSubplot at 0x275029186d8>"
      ]
     },
     "execution_count": 38,
     "metadata": {},
     "output_type": "execute_result"
    },
    {
     "data": {
      "image/png": "[encoded data removed]",
      "text/plain": [
       "<Figure size 432x288 with 1 Axes>"
      ]
     },
     "metadata": {
      "needs_background": "light"
     },
     "output_type": "display_data"
    }
   ],
   "source": [
    "# 종별로 속성별 box-plot\n",
    "iris[iris['species']=='setosa'].plot(kind='box')"
   ]
  },
  {
   "cell_type": "code",
   "execution_count": 40,
   "metadata": {},
   "outputs": [
    {
     "data": {
      "text/plain": [
       "array(['setosa', 'versicolor', 'virginica'], dtype=object)"
      ]
     },
     "execution_count": 40,
     "metadata": {},
     "output_type": "execute_result"
    }
   ],
   "source": [
    "iris['species'].unique()"
   ]
  },
  {
   "cell_type": "code",
   "execution_count": 41,
   "metadata": {
    "collapsed": true
   },
   "outputs": [
    {
     "data": {
      "text/plain": [
       "<matplotlib.axes._subplots.AxesSubplot at 0x27502a190b8>"
      ]
     },
     "execution_count": 41,
     "metadata": {},
     "output_type": "execute_result"
    },
    {
     "data": {
      "image/png": "[encoded data removed]",
      "text/plain": [
       "<Figure size 432x288 with 1 Axes>"
      ]
     },
     "metadata": {
      "needs_background": "light"
     },
     "output_type": "display_data"
    }
   ],
   "source": [
    "iris[iris['species']=='versicolor'].plot(kind='box')"
   ]
  },
  {
   "cell_type": "code",
   "execution_count": 42,
   "metadata": {
    "collapsed": true
   },
   "outputs": [
    {
     "data": {
      "text/plain": [
       "<matplotlib.axes._subplots.AxesSubplot at 0x27502ab97b8>"
      ]
     },
     "execution_count": 42,
     "metadata": {},
     "output_type": "execute_result"
    },
    {
     "data": {
      "image/png": "[encoded data removed]",
      "text/plain": [
       "<Figure size 432x288 with 1 Axes>"
      ]
     },
     "metadata": {
      "needs_background": "light"
     },
     "output_type": "display_data"
    }
   ],
   "source": [
    "iris[iris['species']=='virginica'].plot(kind='box')"
   ]
  },
  {
   "cell_type": "code",
   "execution_count": 47,
   "metadata": {},
   "outputs": [
    {
     "data": {
      "image/png": "[encoded data removed]",
      "text/plain": [
       "<Figure size 432x288 with 4 Axes>"
      ]
     },
     "metadata": {
      "needs_background": "light"
     },
     "output_type": "display_data"
    }
   ],
   "source": [
    "# 속성별로 품종에 대한 boxplot 생성\n",
    "iris.boxplot(by='species')\n",
    "plt.tight_layout(pad=3)     # 여백조정\n",
    "plt.show()"
   ]
  },
  {
   "cell_type": "code",
   "execution_count": null,
   "metadata": {},
   "outputs": [],
   "source": []
  }
 ],
 "metadata": {
  "kernelspec": {
   "display_name": "Python 3",
   "language": "python",
   "name": "python3"
  },
  "language_info": {
   "codemirror_mode": {
    "name": "ipython",
    "version": 3
   },
   "file_extension": ".py",
   "mimetype": "text/x-python",
   "name": "python",
   "nbconvert_exporter": "python",
   "pygments_lexer": "ipython3",
   "version": "3.7.1"
  }
 },
 "nbformat": 4,
 "nbformat_minor": 2
}
