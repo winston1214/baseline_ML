{
 "cells": [
  {
   "cell_type": "code",
   "execution_count": 1,
   "metadata": {},
   "outputs": [],
   "source": [
    "# 라이브러리\n",
    "# 데이터 처리 및 가공을 위한 라이브러리 => pandas\n",
    "# 수학 연산 및 배열 객체 가공을 위한 라이브러리 => ㅜㅕㅡㅔㅛ\n",
    "# 시각화 라이브러리 => \n",
    "import pandas as pd\n",
    "import matplotlib.pyplot as plt\n",
    "import numpy as np"
   ]
  },
  {
   "cell_type": "markdown",
   "metadata": {},
   "source": [
    "### df.plot()\n",
    "\n",
    "- Pandas 데이터타입의 plot 메서드는 matplotlib를 내부에서 임포트하여 사용\n",
    "- plot 메서드 차트 종류 : kind 파라미터 값으로 전달\n",
    "    - line(기본)\n",
    "    - bar\n",
    "    - pie\n",
    "    - hist\n",
    "    - box\n",
    "    - scatter"
   ]
  },
  {
   "cell_type": "code",
   "execution_count": 5,
   "metadata": {},
   "outputs": [
    {
     "data": {
      "text/plain": [
       "(100, 3)"
      ]
     },
     "execution_count": 5,
     "metadata": {},
     "output_type": "execute_result"
    }
   ],
   "source": [
    "# 주가 데이터와 유사한 흐름을 보이는 샘플 생성\n",
    "# value : 표준 정규분포에서 100*3 구조 샘플\n",
    "data=np.random.randn(100,3)\n",
    "data.shape"
   ]
  },
  {
   "cell_type": "code",
   "execution_count": 13,
   "metadata": {
    "scrolled": true
   },
   "outputs": [
    {
     "data": {
      "text/html": [
       "<div>\n",
       "<style scoped>\n",
       "    .dataframe tbody tr th:only-of-type {\n",
       "        vertical-align: middle;\n",
       "    }\n",
       "\n",
       "    .dataframe tbody tr th {\n",
       "        vertical-align: top;\n",
       "    }\n",
       "\n",
       "    .dataframe thead th {\n",
       "        text-align: right;\n",
       "    }\n",
       "</style>\n",
       "<table border=\"1\" class=\"dataframe\">\n",
       "  <thead>\n",
       "    <tr style=\"text-align: right;\">\n",
       "      <th></th>\n",
       "      <th>A</th>\n",
       "      <th>B</th>\n",
       "      <th>C</th>\n",
       "    </tr>\n",
       "  </thead>\n",
       "  <tbody>\n",
       "    <tr>\n",
       "      <th>2018-01-01</th>\n",
       "      <td>-0.303147</td>\n",
       "      <td>1.376131</td>\n",
       "      <td>0.200737</td>\n",
       "    </tr>\n",
       "    <tr>\n",
       "      <th>2018-01-02</th>\n",
       "      <td>-0.425519</td>\n",
       "      <td>1.463108</td>\n",
       "      <td>-0.023687</td>\n",
       "    </tr>\n",
       "    <tr>\n",
       "      <th>2018-01-03</th>\n",
       "      <td>-0.550576</td>\n",
       "      <td>1.213975</td>\n",
       "      <td>-0.470977</td>\n",
       "    </tr>\n",
       "    <tr>\n",
       "      <th>2018-01-04</th>\n",
       "      <td>1.263538</td>\n",
       "      <td>0.378008</td>\n",
       "      <td>-0.381482</td>\n",
       "    </tr>\n",
       "    <tr>\n",
       "      <th>2018-01-05</th>\n",
       "      <td>-0.413712</td>\n",
       "      <td>0.417195</td>\n",
       "      <td>0.585335</td>\n",
       "    </tr>\n",
       "    <tr>\n",
       "      <th>2018-01-06</th>\n",
       "      <td>-0.244598</td>\n",
       "      <td>-0.638431</td>\n",
       "      <td>1.338427</td>\n",
       "    </tr>\n",
       "    <tr>\n",
       "      <th>2018-01-07</th>\n",
       "      <td>-0.848208</td>\n",
       "      <td>0.787439</td>\n",
       "      <td>3.407147</td>\n",
       "    </tr>\n",
       "    <tr>\n",
       "      <th>2018-01-08</th>\n",
       "      <td>-0.626806</td>\n",
       "      <td>-0.756986</td>\n",
       "      <td>3.550335</td>\n",
       "    </tr>\n",
       "    <tr>\n",
       "      <th>2018-01-09</th>\n",
       "      <td>-1.405832</td>\n",
       "      <td>-1.042320</td>\n",
       "      <td>3.909113</td>\n",
       "    </tr>\n",
       "    <tr>\n",
       "      <th>2018-01-10</th>\n",
       "      <td>-1.621050</td>\n",
       "      <td>0.196000</td>\n",
       "      <td>2.670785</td>\n",
       "    </tr>\n",
       "    <tr>\n",
       "      <th>2018-01-11</th>\n",
       "      <td>-1.268448</td>\n",
       "      <td>0.967774</td>\n",
       "      <td>2.576587</td>\n",
       "    </tr>\n",
       "    <tr>\n",
       "      <th>2018-01-12</th>\n",
       "      <td>-0.268008</td>\n",
       "      <td>1.512600</td>\n",
       "      <td>2.257985</td>\n",
       "    </tr>\n",
       "    <tr>\n",
       "      <th>2018-01-13</th>\n",
       "      <td>-0.791539</td>\n",
       "      <td>1.816003</td>\n",
       "      <td>2.664354</td>\n",
       "    </tr>\n",
       "    <tr>\n",
       "      <th>2018-01-14</th>\n",
       "      <td>-1.038438</td>\n",
       "      <td>1.729966</td>\n",
       "      <td>3.250848</td>\n",
       "    </tr>\n",
       "    <tr>\n",
       "      <th>2018-01-15</th>\n",
       "      <td>-2.384269</td>\n",
       "      <td>0.524869</td>\n",
       "      <td>2.491215</td>\n",
       "    </tr>\n",
       "    <tr>\n",
       "      <th>2018-01-16</th>\n",
       "      <td>-3.481099</td>\n",
       "      <td>1.816704</td>\n",
       "      <td>2.208669</td>\n",
       "    </tr>\n",
       "    <tr>\n",
       "      <th>2018-01-17</th>\n",
       "      <td>-5.186891</td>\n",
       "      <td>2.657979</td>\n",
       "      <td>1.109036</td>\n",
       "    </tr>\n",
       "    <tr>\n",
       "      <th>2018-01-18</th>\n",
       "      <td>-4.001836</td>\n",
       "      <td>3.789298</td>\n",
       "      <td>-0.391269</td>\n",
       "    </tr>\n",
       "    <tr>\n",
       "      <th>2018-01-19</th>\n",
       "      <td>-3.503164</td>\n",
       "      <td>3.228314</td>\n",
       "      <td>-1.236950</td>\n",
       "    </tr>\n",
       "    <tr>\n",
       "      <th>2018-01-20</th>\n",
       "      <td>-4.435680</td>\n",
       "      <td>2.403124</td>\n",
       "      <td>-1.562349</td>\n",
       "    </tr>\n",
       "    <tr>\n",
       "      <th>2018-01-21</th>\n",
       "      <td>-5.767396</td>\n",
       "      <td>3.476976</td>\n",
       "      <td>-0.483266</td>\n",
       "    </tr>\n",
       "    <tr>\n",
       "      <th>2018-01-22</th>\n",
       "      <td>-4.412898</td>\n",
       "      <td>3.978297</td>\n",
       "      <td>-1.580237</td>\n",
       "    </tr>\n",
       "    <tr>\n",
       "      <th>2018-01-23</th>\n",
       "      <td>-3.518653</td>\n",
       "      <td>3.473600</td>\n",
       "      <td>-0.038256</td>\n",
       "    </tr>\n",
       "    <tr>\n",
       "      <th>2018-01-24</th>\n",
       "      <td>-4.435661</td>\n",
       "      <td>3.293322</td>\n",
       "      <td>-0.196171</td>\n",
       "    </tr>\n",
       "    <tr>\n",
       "      <th>2018-01-25</th>\n",
       "      <td>-4.755235</td>\n",
       "      <td>4.228464</td>\n",
       "      <td>0.270301</td>\n",
       "    </tr>\n",
       "    <tr>\n",
       "      <th>2018-01-26</th>\n",
       "      <td>-4.209779</td>\n",
       "      <td>2.750364</td>\n",
       "      <td>0.707899</td>\n",
       "    </tr>\n",
       "    <tr>\n",
       "      <th>2018-01-27</th>\n",
       "      <td>-3.072625</td>\n",
       "      <td>2.518969</td>\n",
       "      <td>1.671648</td>\n",
       "    </tr>\n",
       "    <tr>\n",
       "      <th>2018-01-28</th>\n",
       "      <td>-3.964418</td>\n",
       "      <td>0.795082</td>\n",
       "      <td>1.218588</td>\n",
       "    </tr>\n",
       "    <tr>\n",
       "      <th>2018-01-29</th>\n",
       "      <td>-3.630087</td>\n",
       "      <td>1.403619</td>\n",
       "      <td>1.476620</td>\n",
       "    </tr>\n",
       "    <tr>\n",
       "      <th>2018-01-30</th>\n",
       "      <td>-4.656897</td>\n",
       "      <td>2.298190</td>\n",
       "      <td>0.868063</td>\n",
       "    </tr>\n",
       "    <tr>\n",
       "      <th>...</th>\n",
       "      <td>...</td>\n",
       "      <td>...</td>\n",
       "      <td>...</td>\n",
       "    </tr>\n",
       "    <tr>\n",
       "      <th>2018-03-12</th>\n",
       "      <td>-10.432889</td>\n",
       "      <td>-5.315217</td>\n",
       "      <td>-3.969423</td>\n",
       "    </tr>\n",
       "    <tr>\n",
       "      <th>2018-03-13</th>\n",
       "      <td>-11.059693</td>\n",
       "      <td>-4.909630</td>\n",
       "      <td>-3.295805</td>\n",
       "    </tr>\n",
       "    <tr>\n",
       "      <th>2018-03-14</th>\n",
       "      <td>-11.517375</td>\n",
       "      <td>-3.702537</td>\n",
       "      <td>-2.381760</td>\n",
       "    </tr>\n",
       "    <tr>\n",
       "      <th>2018-03-15</th>\n",
       "      <td>-12.000766</td>\n",
       "      <td>-2.402140</td>\n",
       "      <td>0.926787</td>\n",
       "    </tr>\n",
       "    <tr>\n",
       "      <th>2018-03-16</th>\n",
       "      <td>-11.816791</td>\n",
       "      <td>-2.528037</td>\n",
       "      <td>-0.056534</td>\n",
       "    </tr>\n",
       "    <tr>\n",
       "      <th>2018-03-17</th>\n",
       "      <td>-12.367451</td>\n",
       "      <td>-0.735780</td>\n",
       "      <td>0.152146</td>\n",
       "    </tr>\n",
       "    <tr>\n",
       "      <th>2018-03-18</th>\n",
       "      <td>-12.154235</td>\n",
       "      <td>0.066149</td>\n",
       "      <td>0.595719</td>\n",
       "    </tr>\n",
       "    <tr>\n",
       "      <th>2018-03-19</th>\n",
       "      <td>-12.710182</td>\n",
       "      <td>0.885438</td>\n",
       "      <td>0.128394</td>\n",
       "    </tr>\n",
       "    <tr>\n",
       "      <th>2018-03-20</th>\n",
       "      <td>-12.403791</td>\n",
       "      <td>1.105178</td>\n",
       "      <td>-1.055635</td>\n",
       "    </tr>\n",
       "    <tr>\n",
       "      <th>2018-03-21</th>\n",
       "      <td>-13.558468</td>\n",
       "      <td>0.886059</td>\n",
       "      <td>0.604973</td>\n",
       "    </tr>\n",
       "    <tr>\n",
       "      <th>2018-03-22</th>\n",
       "      <td>-13.189862</td>\n",
       "      <td>-0.217390</td>\n",
       "      <td>0.304362</td>\n",
       "    </tr>\n",
       "    <tr>\n",
       "      <th>2018-03-23</th>\n",
       "      <td>-12.888327</td>\n",
       "      <td>-0.863810</td>\n",
       "      <td>1.192021</td>\n",
       "    </tr>\n",
       "    <tr>\n",
       "      <th>2018-03-24</th>\n",
       "      <td>-11.973255</td>\n",
       "      <td>0.191561</td>\n",
       "      <td>0.494828</td>\n",
       "    </tr>\n",
       "    <tr>\n",
       "      <th>2018-03-25</th>\n",
       "      <td>-11.614898</td>\n",
       "      <td>0.935238</td>\n",
       "      <td>0.216208</td>\n",
       "    </tr>\n",
       "    <tr>\n",
       "      <th>2018-03-26</th>\n",
       "      <td>-11.881873</td>\n",
       "      <td>1.280825</td>\n",
       "      <td>1.259502</td>\n",
       "    </tr>\n",
       "    <tr>\n",
       "      <th>2018-03-27</th>\n",
       "      <td>-12.887886</td>\n",
       "      <td>1.358842</td>\n",
       "      <td>0.346721</td>\n",
       "    </tr>\n",
       "    <tr>\n",
       "      <th>2018-03-28</th>\n",
       "      <td>-12.132628</td>\n",
       "      <td>1.164047</td>\n",
       "      <td>0.830024</td>\n",
       "    </tr>\n",
       "    <tr>\n",
       "      <th>2018-03-29</th>\n",
       "      <td>-10.857055</td>\n",
       "      <td>1.889531</td>\n",
       "      <td>2.311131</td>\n",
       "    </tr>\n",
       "    <tr>\n",
       "      <th>2018-03-30</th>\n",
       "      <td>-12.374662</td>\n",
       "      <td>4.774746</td>\n",
       "      <td>2.437254</td>\n",
       "    </tr>\n",
       "    <tr>\n",
       "      <th>2018-03-31</th>\n",
       "      <td>-12.685257</td>\n",
       "      <td>4.357184</td>\n",
       "      <td>2.672583</td>\n",
       "    </tr>\n",
       "    <tr>\n",
       "      <th>2018-04-01</th>\n",
       "      <td>-13.244533</td>\n",
       "      <td>4.071686</td>\n",
       "      <td>2.452877</td>\n",
       "    </tr>\n",
       "    <tr>\n",
       "      <th>2018-04-02</th>\n",
       "      <td>-11.749425</td>\n",
       "      <td>6.474358</td>\n",
       "      <td>3.768248</td>\n",
       "    </tr>\n",
       "    <tr>\n",
       "      <th>2018-04-03</th>\n",
       "      <td>-10.994049</td>\n",
       "      <td>7.590862</td>\n",
       "      <td>5.303972</td>\n",
       "    </tr>\n",
       "    <tr>\n",
       "      <th>2018-04-04</th>\n",
       "      <td>-10.818093</td>\n",
       "      <td>8.334463</td>\n",
       "      <td>6.067432</td>\n",
       "    </tr>\n",
       "    <tr>\n",
       "      <th>2018-04-05</th>\n",
       "      <td>-10.033407</td>\n",
       "      <td>7.673010</td>\n",
       "      <td>6.396761</td>\n",
       "    </tr>\n",
       "    <tr>\n",
       "      <th>2018-04-06</th>\n",
       "      <td>-10.040812</td>\n",
       "      <td>7.470297</td>\n",
       "      <td>5.549885</td>\n",
       "    </tr>\n",
       "    <tr>\n",
       "      <th>2018-04-07</th>\n",
       "      <td>-11.650003</td>\n",
       "      <td>8.853267</td>\n",
       "      <td>5.263129</td>\n",
       "    </tr>\n",
       "    <tr>\n",
       "      <th>2018-04-08</th>\n",
       "      <td>-11.501183</td>\n",
       "      <td>9.178583</td>\n",
       "      <td>5.884311</td>\n",
       "    </tr>\n",
       "    <tr>\n",
       "      <th>2018-04-09</th>\n",
       "      <td>-13.821503</td>\n",
       "      <td>8.969198</td>\n",
       "      <td>5.264317</td>\n",
       "    </tr>\n",
       "    <tr>\n",
       "      <th>2018-04-10</th>\n",
       "      <td>-15.815944</td>\n",
       "      <td>11.104279</td>\n",
       "      <td>6.556461</td>\n",
       "    </tr>\n",
       "  </tbody>\n",
       "</table>\n",
       "<p>100 rows × 3 columns</p>\n",
       "</div>"
      ],
      "text/plain": [
       "                    A          B         C\n",
       "2018-01-01  -0.303147   1.376131  0.200737\n",
       "2018-01-02  -0.425519   1.463108 -0.023687\n",
       "2018-01-03  -0.550576   1.213975 -0.470977\n",
       "2018-01-04   1.263538   0.378008 -0.381482\n",
       "2018-01-05  -0.413712   0.417195  0.585335\n",
       "2018-01-06  -0.244598  -0.638431  1.338427\n",
       "2018-01-07  -0.848208   0.787439  3.407147\n",
       "2018-01-08  -0.626806  -0.756986  3.550335\n",
       "2018-01-09  -1.405832  -1.042320  3.909113\n",
       "2018-01-10  -1.621050   0.196000  2.670785\n",
       "2018-01-11  -1.268448   0.967774  2.576587\n",
       "2018-01-12  -0.268008   1.512600  2.257985\n",
       "2018-01-13  -0.791539   1.816003  2.664354\n",
       "2018-01-14  -1.038438   1.729966  3.250848\n",
       "2018-01-15  -2.384269   0.524869  2.491215\n",
       "2018-01-16  -3.481099   1.816704  2.208669\n",
       "2018-01-17  -5.186891   2.657979  1.109036\n",
       "2018-01-18  -4.001836   3.789298 -0.391269\n",
       "2018-01-19  -3.503164   3.228314 -1.236950\n",
       "2018-01-20  -4.435680   2.403124 -1.562349\n",
       "2018-01-21  -5.767396   3.476976 -0.483266\n",
       "2018-01-22  -4.412898   3.978297 -1.580237\n",
       "2018-01-23  -3.518653   3.473600 -0.038256\n",
       "2018-01-24  -4.435661   3.293322 -0.196171\n",
       "2018-01-25  -4.755235   4.228464  0.270301\n",
       "2018-01-26  -4.209779   2.750364  0.707899\n",
       "2018-01-27  -3.072625   2.518969  1.671648\n",
       "2018-01-28  -3.964418   0.795082  1.218588\n",
       "2018-01-29  -3.630087   1.403619  1.476620\n",
       "2018-01-30  -4.656897   2.298190  0.868063\n",
       "...               ...        ...       ...\n",
       "2018-03-12 -10.432889  -5.315217 -3.969423\n",
       "2018-03-13 -11.059693  -4.909630 -3.295805\n",
       "2018-03-14 -11.517375  -3.702537 -2.381760\n",
       "2018-03-15 -12.000766  -2.402140  0.926787\n",
       "2018-03-16 -11.816791  -2.528037 -0.056534\n",
       "2018-03-17 -12.367451  -0.735780  0.152146\n",
       "2018-03-18 -12.154235   0.066149  0.595719\n",
       "2018-03-19 -12.710182   0.885438  0.128394\n",
       "2018-03-20 -12.403791   1.105178 -1.055635\n",
       "2018-03-21 -13.558468   0.886059  0.604973\n",
       "2018-03-22 -13.189862  -0.217390  0.304362\n",
       "2018-03-23 -12.888327  -0.863810  1.192021\n",
       "2018-03-24 -11.973255   0.191561  0.494828\n",
       "2018-03-25 -11.614898   0.935238  0.216208\n",
       "2018-03-26 -11.881873   1.280825  1.259502\n",
       "2018-03-27 -12.887886   1.358842  0.346721\n",
       "2018-03-28 -12.132628   1.164047  0.830024\n",
       "2018-03-29 -10.857055   1.889531  2.311131\n",
       "2018-03-30 -12.374662   4.774746  2.437254\n",
       "2018-03-31 -12.685257   4.357184  2.672583\n",
       "2018-04-01 -13.244533   4.071686  2.452877\n",
       "2018-04-02 -11.749425   6.474358  3.768248\n",
       "2018-04-03 -10.994049   7.590862  5.303972\n",
       "2018-04-04 -10.818093   8.334463  6.067432\n",
       "2018-04-05 -10.033407   7.673010  6.396761\n",
       "2018-04-06 -10.040812   7.470297  5.549885\n",
       "2018-04-07 -11.650003   8.853267  5.263129\n",
       "2018-04-08 -11.501183   9.178583  5.884311\n",
       "2018-04-09 -13.821503   8.969198  5.264317\n",
       "2018-04-10 -15.815944  11.104279  6.556461\n",
       "\n",
       "[100 rows x 3 columns]"
      ]
     },
     "execution_count": 13,
     "metadata": {},
     "output_type": "execute_result"
    }
   ],
   "source": [
    "df=pd.DataFrame(data,columns=list('ABC'),index=pd.date_range('1/1/2018',periods=100)).cumsum()\n",
    "df"
   ]
  },
  {
   "cell_type": "code",
   "execution_count": 14,
   "metadata": {},
   "outputs": [
    {
     "data": {
      "text/plain": [
       "<matplotlib.axes._subplots.AxesSubplot at 0x27500207128>"
      ]
     },
     "execution_count": 14,
     "metadata": {},
     "output_type": "execute_result"
    },
    {
     "data": {
      "image/png": "[encoded data removed]",
      "text/plain": [
       "<Figure size 432x288 with 1 Axes>"
      ]
     },
     "metadata": {
      "needs_background": "light"
     },
     "output_type": "display_data"
    }
   ],
   "source": [
    "# 결과해석: 기본은 라인플롯,컬럼별로 그래프생성\n",
    "df.plot()"
   ]
  },
  {
   "cell_type": "code",
   "execution_count": 15,
   "metadata": {},
   "outputs": [],
   "source": [
    "# 라이브러리에서 제공하는 기본 데이터 가져오기\n",
    "import seaborn as sns"
   ]
  },
  {
   "cell_type": "code",
   "execution_count": 16,
   "metadata": {},
   "outputs": [
    {
     "data": {
      "text/html": [
       "<div>\n",
       "<style scoped>\n",
       "    .dataframe tbody tr th:only-of-type {\n",
       "        vertical-align: middle;\n",
       "    }\n",
       "\n",
       "    .dataframe tbody tr th {\n",
       "        vertical-align: top;\n",
       "    }\n",
       "\n",
       "    .dataframe thead th {\n",
       "        text-align: right;\n",
       "    }\n",
       "</style>\n",
       "<table border=\"1\" class=\"dataframe\">\n",
       "  <thead>\n",
       "    <tr style=\"text-align: right;\">\n",
       "      <th></th>\n",
       "      <th>sepal_length</th>\n",
       "      <th>sepal_width</th>\n",
       "      <th>petal_length</th>\n",
       "      <th>petal_width</th>\n",
       "      <th>species</th>\n",
       "    </tr>\n",
       "  </thead>\n",
       "  <tbody>\n",
       "    <tr>\n",
       "      <th>0</th>\n",
       "      <td>5.1</td>\n",
       "      <td>3.5</td>\n",
       "      <td>1.4</td>\n",
       "      <td>0.2</td>\n",
       "      <td>setosa</td>\n",
       "    </tr>\n",
       "    <tr>\n",
       "      <th>1</th>\n",
       "      <td>4.9</td>\n",
       "      <td>3.0</td>\n",
       "      <td>1.4</td>\n",
       "      <td>0.2</td>\n",
       "      <td>setosa</td>\n",
       "    </tr>\n",
       "    <tr>\n",
       "      <th>2</th>\n",
       "      <td>4.7</td>\n",
       "      <td>3.2</td>\n",
       "      <td>1.3</td>\n",
       "      <td>0.2</td>\n",
       "      <td>setosa</td>\n",
       "    </tr>\n",
       "    <tr>\n",
       "      <th>3</th>\n",
       "      <td>4.6</td>\n",
       "      <td>3.1</td>\n",
       "      <td>1.5</td>\n",
       "      <td>0.2</td>\n",
       "      <td>setosa</td>\n",
       "    </tr>\n",
       "    <tr>\n",
       "      <th>4</th>\n",
       "      <td>5.0</td>\n",
       "      <td>3.6</td>\n",
       "      <td>1.4</td>\n",
       "      <td>0.2</td>\n",
       "      <td>setosa</td>\n",
       "    </tr>\n",
       "  </tbody>\n",
       "</table>\n",
       "</div>"
      ],
      "text/plain": [
       "   sepal_length  sepal_width  petal_length  petal_width species\n",
       "0           5.1          3.5           1.4          0.2  setosa\n",
       "1           4.9          3.0           1.4          0.2  setosa\n",
       "2           4.7          3.2           1.3          0.2  setosa\n",
       "3           4.6          3.1           1.5          0.2  setosa\n",
       "4           5.0          3.6           1.4          0.2  setosa"
      ]
     },
     "execution_count": 16,
     "metadata": {},
     "output_type": "execute_result"
    }
   ],
   "source": [
    "# 붓꽃 데이터 저장\n",
    "iris=sns.load_dataset('iris')\n",
    "iris.head()"
   ]
  },
  {
   "cell_type": "code",
   "execution_count": 17,
   "metadata": {},
   "outputs": [
    {
     "data": {
      "text/plain": [
       "(150, 5)"
      ]
     },
     "execution_count": 17,
     "metadata": {},
     "output_type": "execute_result"
    }
   ],
   "source": [
    "iris.shape"
   ]
  },
  {
   "cell_type": "markdown",
   "metadata": {},
   "source": [
    "# IRIS dataset\n",
    "- 데이터 분석 실습에서 가장 많이 활용되는 붓꽃 데이터셋\n",
    "- 총 3개의 붓꽃 종에 대한 꽃잎과 꽃밭침의 길이 및 너비 측정 데이터가 각 종마다 50개씩 총 150개 저장"
   ]
  },
  {
   "cell_type": "code",
   "execution_count": 24,
   "metadata": {},
   "outputs": [
    {
     "data": {
      "text/plain": [
       "Text(0, 0.5, 'length')"
      ]
     },
     "execution_count": 24,
     "metadata": {},
     "output_type": "execute_result"
    },
    {
     "data": {
      "image/png": "[encoded data removed]",
      "text/plain": [
       "<Figure size 432x288 with 1 Axes>"
      ]
     },
     "metadata": {
      "needs_background": "light"
     },
     "output_type": "display_data"
    }
   ],
   "source": [
    "# sepal_length의 20개 샘플에 대하여 bar graph 시각화\n",
    "# 결과 해석:\n",
    "iris['sepal_length'][:20].plot(kind='bar',rot=0)\n",
    "plt.title('sepal_length')\n",
    "plt.xlabel('sample number')\n",
    "plt.ylabel('length')"
   ]
  },
  {
   "cell_type": "code",
   "execution_count": 27,
   "metadata": {},
   "outputs": [
    {
     "data": {
      "text/plain": [
       "(0, 8)"
      ]
     },
     "execution_count": 27,
     "metadata": {},
     "output_type": "execute_result"
    },
    {
     "data": {
      "image/png": "[encoded data removed]",
      "text/plain": [
       "<Figure size 432x288 with 1 Axes>"
      ]
     },
     "metadata": {
      "needs_background": "light"
     },
     "output_type": "display_data"
    }
   ],
   "source": [
    "# 샘플 데이터의 각 속성값에 대해서 bar graph 생성\n",
    "# 결과 해석\n",
    "iris[:5].plot(kind='bar')\n",
    "plt.ylim(0,8)"
   ]
  },
  {
   "cell_type": "code",
   "execution_count": 30,
   "metadata": {},
   "outputs": [],
   "source": [
    "# 각 종목별로 4개 속성값의 평균\n",
    "# groupby : 종\n",
    "# 집계함수 : 평균\n",
    "df1=iris.groupby(iris['species']).mean()"
   ]
  },
  {
   "cell_type": "code",
   "execution_count": 33,
   "metadata": {},
   "outputs": [
    {
     "data": {
      "text/plain": [
       "(0, 8)"
      ]
     },
     "execution_count": 33,
     "metadata": {},
     "output_type": "execute_result"
    },
    {
     "data": {
      "image/png": "[encoded data removed]",
      "text/plain": [
       "<Figure size 432x288 with 1 Axes>"
      ]
     },
     "metadata": {
      "needs_background": "light"
     },
     "output_type": "display_data"
    }
   ],
   "source": [
    "# bar graph로 시각화\n",
    "# 결과 해석\n",
    "df1.plot(kind='bar')\n",
    "plt.ylim(0,8)"
   ]
  },
  {
   "cell_type": "code",
   "execution_count": 34,
   "metadata": {},
   "outputs": [
    {
     "data": {
      "text/plain": [
       "(0, 8)"
      ]
     },
     "execution_count": 34,
     "metadata": {},
     "output_type": "execute_result"
    },
    {
     "data": {
      "image/png": "[encoded data removed]",
      "text/plain": [
       "<Figure size 432x288 with 1 Axes>"
      ]
     },
     "metadata": {
      "needs_background": "light"
     },
     "output_type": "display_data"
    }
   ],
   "source": [
    "df1.T.plot(kind='bar')\n",
    "plt.ylim(0,8)"
   ]
  },
  {
   "cell_type": "code",
   "execution_count": 35,
   "metadata": {},
   "outputs": [
    {
     "data": {
      "text/plain": [
       "<matplotlib.axes._subplots.AxesSubplot at 0x275020cfa90>"
      ]
     },
     "execution_count": 35,
     "metadata": {},
     "output_type": "execute_result"
    },
    {
     "data": {
      "image/png": "[encoded data removed]",
      "text/plain": [
       "<Figure size 432x288 with 1 Axes>"
      ]
     },
     "metadata": {
      "needs_background": "light"
     },
     "output_type": "display_data"
    }
   ],
   "source": [
    "# 각 속성별로 데이터 값에 대한 기술통계값 및 이상치 확인\n",
    "# 결과 해석: 컬럼별로,연속형데이터에 대해서 각각의 박스플롯을 하나의 이미지에 출력\n",
    "iris.plot(kind='box')"
   ]
  },
  {
   "cell_type": "code",
   "execution_count": 38,
   "metadata": {},
   "outputs": [
    {
     "data": {
      "text/plain": [
       "<matplotlib.axes._subplots.AxesSubplot at 0x275029186d8>"
      ]
     },
     "execution_count": 38,
     "metadata": {},
     "output_type": "execute_result"
    },
    {
     "data": {
      "image/png": "[encoded data removed]",
      "text/plain": [
       "<Figure size 432x288 with 1 Axes>"
      ]
     },
     "metadata": {
      "needs_background": "light"
     },
     "output_type": "display_data"
    }
   ],
   "source": [
    "# 종별로 속성별 box-plot\n",
    "iris[iris['species']=='setosa'].plot(kind='box')"
   ]
  },
  {
   "cell_type": "code",
   "execution_count": 40,
   "metadata": {},
   "outputs": [
    {
     "data": {
      "text/plain": [
       "array(['setosa', 'versicolor', 'virginica'], dtype=object)"
      ]
     },
     "execution_count": 40,
     "metadata": {},
     "output_type": "execute_result"
    }
   ],
   "source": [
    "iris['species'].unique()"
   ]
  },
  {
   "cell_type": "code",
   "execution_count": 41,
   "metadata": {
    "collapsed": true
   },
   "outputs": [
    {
     "data": {
      "text/plain": [
       "<matplotlib.axes._subplots.AxesSubplot at 0x27502a190b8>"
      ]
     },
     "execution_count": 41,
     "metadata": {},
     "output_type": "execute_result"
    },
    {
     "data": {
      "image/png": "[encoded data removed]",
      "text/plain": [
       "<Figure size 432x288 with 1 Axes>"
      ]
     },
     "metadata": {
      "needs_background": "light"
     },
     "output_type": "display_data"
    }
   ],
   "source": [
    "iris[iris['species']=='versicolor'].plot(kind='box')"
   ]
  },
  {
   "cell_type": "code",
   "execution_count": 42,
   "metadata": {
    "collapsed": true
   },
   "outputs": [
    {
     "data": {
      "text/plain": [
       "<matplotlib.axes._subplots.AxesSubplot at 0x27502ab97b8>"
      ]
     },
     "execution_count": 42,
     "metadata": {},
     "output_type": "execute_result"
    },
    {
     "data": {
      "image/png": "[encoded data removed]",
      "text/plain": [
       "<Figure size 432x288 with 1 Axes>"
      ]
     },
     "metadata": {
      "needs_background": "light"
     },
     "output_type": "display_data"
    }
   ],
   "source": [
    "iris[iris['species']=='virginica'].plot(kind='box')"
   ]
  },
  {
   "cell_type": "code",
   "execution_count": 47,
   "metadata": {},
   "outputs": [
    {
     "data": {
      "image/png": "[encoded data removed]",
      "text/plain": [
       "<Figure size 432x288 with 4 Axes>"
      ]
     },
     "metadata": {
      "needs_background": "light"
     },
     "output_type": "display_data"
    }
   ],
   "source": [
    "# 속성별로 품종에 대한 boxplot 생성\n",
    "iris.boxplot(by='species')\n",
    "plt.tight_layout(pad=3)     # 여백조정\n",
    "plt.show()"
   ]
  },
  {
   "cell_type": "code",
   "execution_count": null,
   "metadata": {},
   "outputs": [],
   "source": []
  }
 ],
 "metadata": {
  "kernelspec": {
   "display_name": "Python 3",
   "language": "python",
   "name": "python3"
  },
  "language_info": {
   "codemirror_mode": {
    "name": "ipython",
    "version": 3
   },
   "file_extension": ".py",
   "mimetype": "text/x-python",
   "name": "python",
   "nbconvert_exporter": "python",
   "pygments_lexer": "ipython3",
   "version": "3.7.1"
  }
 },
 "nbformat": 4,
 "nbformat_minor": 2
}
