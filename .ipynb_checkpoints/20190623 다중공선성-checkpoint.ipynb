{
 "cells": [
  {
   "cell_type": "code",
   "execution_count": 1,
   "metadata": {},
   "outputs": [],
   "source": [
    "import pandas as pd\n",
    "import numpy as np\n",
    "import matplotlib.pyplot as plt"
   ]
  },
  {
   "cell_type": "markdown",
   "metadata": {},
   "source": [
    "# 다중공선성(Multicolinearity)\n",
    "- 변수의 일부가 다른 독ㄹ비 변수의 조합으로 표현 될 수 있는 경우\n",
    "- 변수들이 서로 독립이 아니라 높은 선형관계가 존재할 때 발생\n",
    "- 상관분석 결과에 대해 상관계수 크기가 1에 가까운 경우 발생\n",
    "- 서로 종속적인 변수로 모델을 학습시키면 과적합이 발생하여 모델 성능 저하\n",
    "- 해결방법\n",
    "    - VIF 기반 변수 선택법으로 의존적인 변수 삭제\n",
    "    - PCA(주성분분석) 방법으로 의존적인 성분 삭제"
   ]
  },
  {
   "cell_type": "markdown",
   "metadata": {},
   "source": [
    "## 1. VIF(분산팽창요인)\n",
    "- 계산공식: 1/(1-R^2)\n",
    "- 하나의 변수를 종속변수로 나머지 변수를 독립변수로 적용한 다항회귀분석 수행\n",
    "    - 회귀계수(결정계수)를 이용하여 VIF값 도출\n",
    "    - 종속변수로 사용도니 변수가 다른 변수들에게 종속적일 수록 VIF 값이 증가\n",
    "    - VIF 값이 5~10 사이 일 때 다중공선성 존재\n",
    "- 함수\n",
    "    - statsmodels.stats.outliers_influence > variance_inflation_factor"
   ]
  },
  {
   "cell_type": "code",
   "execution_count": 2,
   "metadata": {},
   "outputs": [],
   "source": [
    "df=pd.read_csv('boston_vif.csv')"
   ]
  },
  {
   "cell_type": "code",
   "execution_count": 6,
   "metadata": {},
   "outputs": [
    {
     "data": {
      "text/html": [
       "<div>\n",
       "<style scoped>\n",
       "    .dataframe tbody tr th:only-of-type {\n",
       "        vertical-align: middle;\n",
       "    }\n",
       "\n",
       "    .dataframe tbody tr th {\n",
       "        vertical-align: top;\n",
       "    }\n",
       "\n",
       "    .dataframe thead th {\n",
       "        text-align: right;\n",
       "    }\n",
       "</style>\n",
       "<table border=\"1\" class=\"dataframe\">\n",
       "  <thead>\n",
       "    <tr style=\"text-align: right;\">\n",
       "      <th></th>\n",
       "      <th>Intercept</th>\n",
       "      <th>scale(CRIM)</th>\n",
       "      <th>scale(I(CRIM ** 2))</th>\n",
       "      <th>scale(ZN)</th>\n",
       "      <th>scale(I(ZN ** 2))</th>\n",
       "      <th>scale(INDUS)</th>\n",
       "      <th>scale(NOX)</th>\n",
       "      <th>scale(RM)</th>\n",
       "      <th>scale(AGE)</th>\n",
       "      <th>scale(np.log(DIS))</th>\n",
       "      <th>scale(RAD)</th>\n",
       "      <th>scale(TAX)</th>\n",
       "      <th>scale(np.log(PTRATIO))</th>\n",
       "      <th>scale(B)</th>\n",
       "      <th>scale(np.log(LSTAT))</th>\n",
       "      <th>CHAS</th>\n",
       "      <th>MEDV</th>\n",
       "    </tr>\n",
       "  </thead>\n",
       "  <tbody>\n",
       "    <tr>\n",
       "      <th>0</th>\n",
       "      <td>1.0</td>\n",
       "      <td>-0.419782</td>\n",
       "      <td>-0.169474</td>\n",
       "      <td>0.284830</td>\n",
       "      <td>-0.191030</td>\n",
       "      <td>-1.287909</td>\n",
       "      <td>-0.144217</td>\n",
       "      <td>0.413672</td>\n",
       "      <td>-0.120013</td>\n",
       "      <td>0.409104</td>\n",
       "      <td>-0.982843</td>\n",
       "      <td>-0.666608</td>\n",
       "      <td>-1.443977</td>\n",
       "      <td>0.441052</td>\n",
       "      <td>-1.275260</td>\n",
       "      <td>0.0</td>\n",
       "      <td>24.0</td>\n",
       "    </tr>\n",
       "    <tr>\n",
       "      <th>1</th>\n",
       "      <td>1.0</td>\n",
       "      <td>-0.417339</td>\n",
       "      <td>-0.169473</td>\n",
       "      <td>-0.487722</td>\n",
       "      <td>-0.368889</td>\n",
       "      <td>-0.593381</td>\n",
       "      <td>-0.740262</td>\n",
       "      <td>0.194274</td>\n",
       "      <td>0.367166</td>\n",
       "      <td>0.769562</td>\n",
       "      <td>-0.867883</td>\n",
       "      <td>-0.987329</td>\n",
       "      <td>-0.230278</td>\n",
       "      <td>0.441052</td>\n",
       "      <td>-0.263711</td>\n",
       "      <td>0.0</td>\n",
       "      <td>21.6</td>\n",
       "    </tr>\n",
       "    <tr>\n",
       "      <th>2</th>\n",
       "      <td>1.0</td>\n",
       "      <td>-0.417342</td>\n",
       "      <td>-0.169473</td>\n",
       "      <td>-0.487722</td>\n",
       "      <td>-0.368889</td>\n",
       "      <td>-0.593381</td>\n",
       "      <td>-0.740262</td>\n",
       "      <td>1.282714</td>\n",
       "      <td>-0.265812</td>\n",
       "      <td>0.769562</td>\n",
       "      <td>-0.867883</td>\n",
       "      <td>-0.987329</td>\n",
       "      <td>-0.230278</td>\n",
       "      <td>0.396427</td>\n",
       "      <td>-1.627858</td>\n",
       "      <td>0.0</td>\n",
       "      <td>34.7</td>\n",
       "    </tr>\n",
       "    <tr>\n",
       "      <th>3</th>\n",
       "      <td>1.0</td>\n",
       "      <td>-0.416750</td>\n",
       "      <td>-0.169472</td>\n",
       "      <td>-0.487722</td>\n",
       "      <td>-0.368889</td>\n",
       "      <td>-1.306878</td>\n",
       "      <td>-0.835284</td>\n",
       "      <td>1.016303</td>\n",
       "      <td>-0.809889</td>\n",
       "      <td>1.139194</td>\n",
       "      <td>-0.752922</td>\n",
       "      <td>-1.106115</td>\n",
       "      <td>0.165279</td>\n",
       "      <td>0.416163</td>\n",
       "      <td>-2.153192</td>\n",
       "      <td>0.0</td>\n",
       "      <td>33.4</td>\n",
       "    </tr>\n",
       "    <tr>\n",
       "      <th>4</th>\n",
       "      <td>1.0</td>\n",
       "      <td>-0.412482</td>\n",
       "      <td>-0.169465</td>\n",
       "      <td>-0.487722</td>\n",
       "      <td>-0.368889</td>\n",
       "      <td>-1.306878</td>\n",
       "      <td>-0.835284</td>\n",
       "      <td>1.228577</td>\n",
       "      <td>-0.511180</td>\n",
       "      <td>1.139194</td>\n",
       "      <td>-0.752922</td>\n",
       "      <td>-1.106115</td>\n",
       "      <td>0.165279</td>\n",
       "      <td>0.441052</td>\n",
       "      <td>-1.162114</td>\n",
       "      <td>0.0</td>\n",
       "      <td>36.2</td>\n",
       "    </tr>\n",
       "  </tbody>\n",
       "</table>\n",
       "</div>"
      ],
      "text/plain": [
       "   Intercept  scale(CRIM)  scale(I(CRIM ** 2))  scale(ZN)  scale(I(ZN ** 2))  \\\n",
       "0        1.0    -0.419782            -0.169474   0.284830          -0.191030   \n",
       "1        1.0    -0.417339            -0.169473  -0.487722          -0.368889   \n",
       "2        1.0    -0.417342            -0.169473  -0.487722          -0.368889   \n",
       "3        1.0    -0.416750            -0.169472  -0.487722          -0.368889   \n",
       "4        1.0    -0.412482            -0.169465  -0.487722          -0.368889   \n",
       "\n",
       "   scale(INDUS)  scale(NOX)  scale(RM)  scale(AGE)  scale(np.log(DIS))  \\\n",
       "0     -1.287909   -0.144217   0.413672   -0.120013            0.409104   \n",
       "1     -0.593381   -0.740262   0.194274    0.367166            0.769562   \n",
       "2     -0.593381   -0.740262   1.282714   -0.265812            0.769562   \n",
       "3     -1.306878   -0.835284   1.016303   -0.809889            1.139194   \n",
       "4     -1.306878   -0.835284   1.228577   -0.511180            1.139194   \n",
       "\n",
       "   scale(RAD)  scale(TAX)  scale(np.log(PTRATIO))  scale(B)  \\\n",
       "0   -0.982843   -0.666608               -1.443977  0.441052   \n",
       "1   -0.867883   -0.987329               -0.230278  0.441052   \n",
       "2   -0.867883   -0.987329               -0.230278  0.396427   \n",
       "3   -0.752922   -1.106115                0.165279  0.416163   \n",
       "4   -0.752922   -1.106115                0.165279  0.441052   \n",
       "\n",
       "   scale(np.log(LSTAT))  CHAS  MEDV  \n",
       "0             -1.275260   0.0  24.0  \n",
       "1             -0.263711   0.0  21.6  \n",
       "2             -1.627858   0.0  34.7  \n",
       "3             -2.153192   0.0  33.4  \n",
       "4             -1.162114   0.0  36.2  "
      ]
     },
     "execution_count": 6,
     "metadata": {},
     "output_type": "execute_result"
    }
   ],
   "source": [
    "df.head()"
   ]
  },
  {
   "cell_type": "code",
   "execution_count": 7,
   "metadata": {},
   "outputs": [],
   "source": [
    "# X= df.drop('MEDV',axis=1)\n",
    "X=df.loc[:,df.columns != 'MEDV'].copy()"
   ]
  },
  {
   "cell_type": "code",
   "execution_count": 9,
   "metadata": {},
   "outputs": [],
   "source": [
    "# 라이브러리 불러오기\n",
    "from statsmodels.stats.outliers_influence import variance_inflation_factor"
   ]
  },
  {
   "cell_type": "code",
   "execution_count": 25,
   "metadata": {},
   "outputs": [],
   "source": [
    "# VIF 결과 저장을 위한 데이터프레임\n",
    "vif=pd.DataFrame()"
   ]
  },
  {
   "cell_type": "code",
   "execution_count": 13,
   "metadata": {},
   "outputs": [
    {
     "data": {
      "text/plain": [
       "1.0616239649518593"
      ]
     },
     "execution_count": 13,
     "metadata": {},
     "output_type": "execute_result"
    }
   ],
   "source": [
    "variance_inflation_factor(X.values,15)   # 각 컬럼에 대한 vif 값"
   ]
  },
  {
   "cell_type": "code",
   "execution_count": 12,
   "metadata": {},
   "outputs": [
    {
     "data": {
      "text/plain": [
       "(456, 16)"
      ]
     },
     "execution_count": 12,
     "metadata": {},
     "output_type": "execute_result"
    }
   ],
   "source": [
    "X.shape"
   ]
  },
  {
   "cell_type": "code",
   "execution_count": 46,
   "metadata": {},
   "outputs": [],
   "source": [
    "# 데이터프레임에 컬럼명 추가\n",
    "vif['features']=X.columns"
   ]
  },
  {
   "cell_type": "code",
   "execution_count": 52,
   "metadata": {},
   "outputs": [],
   "source": [
    "tmp=[]\n",
    "for i in range(X.shape[1]):\n",
    "    tmp.append(variance_inflation_factor(X.values,i))\n",
    "vif['vif']=tmp"
   ]
  },
  {
   "cell_type": "code",
   "execution_count": 53,
   "metadata": {},
   "outputs": [],
   "source": [
    "# 한줄짜리 반복문\n",
    "vif['vif']=[variance_inflation_factor(X.values,i) for i in range(X.shape[1])]"
   ]
  },
  {
   "cell_type": "code",
   "execution_count": 55,
   "metadata": {
    "scrolled": true
   },
   "outputs": [
    {
     "data": {
      "text/html": [
       "<div>\n",
       "<style scoped>\n",
       "    .dataframe tbody tr th:only-of-type {\n",
       "        vertical-align: middle;\n",
       "    }\n",
       "\n",
       "    .dataframe tbody tr th {\n",
       "        vertical-align: top;\n",
       "    }\n",
       "\n",
       "    .dataframe thead th {\n",
       "        text-align: right;\n",
       "    }\n",
       "</style>\n",
       "<table border=\"1\" class=\"dataframe\">\n",
       "  <thead>\n",
       "    <tr style=\"text-align: right;\">\n",
       "      <th></th>\n",
       "      <th>features</th>\n",
       "      <th>vif</th>\n",
       "    </tr>\n",
       "  </thead>\n",
       "  <tbody>\n",
       "    <tr>\n",
       "      <th>15</th>\n",
       "      <td>CHAS</td>\n",
       "      <td>1.061624</td>\n",
       "    </tr>\n",
       "    <tr>\n",
       "      <th>13</th>\n",
       "      <td>scale(B)</td>\n",
       "      <td>1.338325</td>\n",
       "    </tr>\n",
       "    <tr>\n",
       "      <th>0</th>\n",
       "      <td>Intercept</td>\n",
       "      <td>1.478553</td>\n",
       "    </tr>\n",
       "    <tr>\n",
       "      <th>12</th>\n",
       "      <td>scale(np.log(PTRATIO))</td>\n",
       "      <td>1.780320</td>\n",
       "    </tr>\n",
       "    <tr>\n",
       "      <th>7</th>\n",
       "      <td>scale(RM)</td>\n",
       "      <td>2.596496</td>\n",
       "    </tr>\n",
       "    <tr>\n",
       "      <th>8</th>\n",
       "      <td>scale(AGE)</td>\n",
       "      <td>3.748931</td>\n",
       "    </tr>\n",
       "    <tr>\n",
       "      <th>5</th>\n",
       "      <td>scale(INDUS)</td>\n",
       "      <td>3.807459</td>\n",
       "    </tr>\n",
       "    <tr>\n",
       "      <th>14</th>\n",
       "      <td>scale(np.log(LSTAT))</td>\n",
       "      <td>4.682812</td>\n",
       "    </tr>\n",
       "    <tr>\n",
       "      <th>6</th>\n",
       "      <td>scale(NOX)</td>\n",
       "      <td>5.071802</td>\n",
       "    </tr>\n",
       "    <tr>\n",
       "      <th>9</th>\n",
       "      <td>scale(np.log(DIS))</td>\n",
       "      <td>5.215025</td>\n",
       "    </tr>\n",
       "    <tr>\n",
       "      <th>11</th>\n",
       "      <td>scale(TAX)</td>\n",
       "      <td>9.107858</td>\n",
       "    </tr>\n",
       "    <tr>\n",
       "      <th>2</th>\n",
       "      <td>scale(I(CRIM ** 2))</td>\n",
       "      <td>10.218588</td>\n",
       "    </tr>\n",
       "    <tr>\n",
       "      <th>10</th>\n",
       "      <td>scale(RAD)</td>\n",
       "      <td>11.254736</td>\n",
       "    </tr>\n",
       "    <tr>\n",
       "      <th>4</th>\n",
       "      <td>scale(I(ZN ** 2))</td>\n",
       "      <td>11.751869</td>\n",
       "    </tr>\n",
       "    <tr>\n",
       "      <th>3</th>\n",
       "      <td>scale(ZN)</td>\n",
       "      <td>14.646056</td>\n",
       "    </tr>\n",
       "    <tr>\n",
       "      <th>1</th>\n",
       "      <td>scale(CRIM)</td>\n",
       "      <td>21.260182</td>\n",
       "    </tr>\n",
       "  </tbody>\n",
       "</table>\n",
       "</div>"
      ],
      "text/plain": [
       "                  features        vif\n",
       "15                    CHAS   1.061624\n",
       "13                scale(B)   1.338325\n",
       "0                Intercept   1.478553\n",
       "12  scale(np.log(PTRATIO))   1.780320\n",
       "7                scale(RM)   2.596496\n",
       "8               scale(AGE)   3.748931\n",
       "5             scale(INDUS)   3.807459\n",
       "14    scale(np.log(LSTAT))   4.682812\n",
       "6               scale(NOX)   5.071802\n",
       "9       scale(np.log(DIS))   5.215025\n",
       "11              scale(TAX)   9.107858\n",
       "2      scale(I(CRIM ** 2))  10.218588\n",
       "10              scale(RAD)  11.254736\n",
       "4        scale(I(ZN ** 2))  11.751869\n",
       "3                scale(ZN)  14.646056\n",
       "1              scale(CRIM)  21.260182"
      ]
     },
     "execution_count": 55,
     "metadata": {},
     "output_type": "execute_result"
    }
   ],
   "source": [
    "# 오름차순 정렬\n",
    "vif.sort_values('vif')"
   ]
  },
  {
   "cell_type": "code",
   "execution_count": 61,
   "metadata": {},
   "outputs": [],
   "source": [
    "# VIF 값이 5 미만인 변수 선택\n",
    "cols=vif[vif['vif']<5]['features'].values"
   ]
  },
  {
   "cell_type": "code",
   "execution_count": 63,
   "metadata": {},
   "outputs": [],
   "source": [
    "final_X=X[cols].copy()"
   ]
  },
  {
   "cell_type": "code",
   "execution_count": 64,
   "metadata": {},
   "outputs": [
    {
     "data": {
      "text/html": [
       "<div>\n",
       "<style scoped>\n",
       "    .dataframe tbody tr th:only-of-type {\n",
       "        vertical-align: middle;\n",
       "    }\n",
       "\n",
       "    .dataframe tbody tr th {\n",
       "        vertical-align: top;\n",
       "    }\n",
       "\n",
       "    .dataframe thead th {\n",
       "        text-align: right;\n",
       "    }\n",
       "</style>\n",
       "<table border=\"1\" class=\"dataframe\">\n",
       "  <thead>\n",
       "    <tr style=\"text-align: right;\">\n",
       "      <th></th>\n",
       "      <th>Intercept</th>\n",
       "      <th>scale(INDUS)</th>\n",
       "      <th>scale(RM)</th>\n",
       "      <th>scale(AGE)</th>\n",
       "      <th>scale(np.log(PTRATIO))</th>\n",
       "      <th>scale(B)</th>\n",
       "      <th>scale(np.log(LSTAT))</th>\n",
       "      <th>CHAS</th>\n",
       "    </tr>\n",
       "  </thead>\n",
       "  <tbody>\n",
       "    <tr>\n",
       "      <th>0</th>\n",
       "      <td>1.0</td>\n",
       "      <td>-1.287909</td>\n",
       "      <td>0.413672</td>\n",
       "      <td>-0.120013</td>\n",
       "      <td>-1.443977</td>\n",
       "      <td>0.441052</td>\n",
       "      <td>-1.275260</td>\n",
       "      <td>0.0</td>\n",
       "    </tr>\n",
       "    <tr>\n",
       "      <th>1</th>\n",
       "      <td>1.0</td>\n",
       "      <td>-0.593381</td>\n",
       "      <td>0.194274</td>\n",
       "      <td>0.367166</td>\n",
       "      <td>-0.230278</td>\n",
       "      <td>0.441052</td>\n",
       "      <td>-0.263711</td>\n",
       "      <td>0.0</td>\n",
       "    </tr>\n",
       "    <tr>\n",
       "      <th>2</th>\n",
       "      <td>1.0</td>\n",
       "      <td>-0.593381</td>\n",
       "      <td>1.282714</td>\n",
       "      <td>-0.265812</td>\n",
       "      <td>-0.230278</td>\n",
       "      <td>0.396427</td>\n",
       "      <td>-1.627858</td>\n",
       "      <td>0.0</td>\n",
       "    </tr>\n",
       "    <tr>\n",
       "      <th>3</th>\n",
       "      <td>1.0</td>\n",
       "      <td>-1.306878</td>\n",
       "      <td>1.016303</td>\n",
       "      <td>-0.809889</td>\n",
       "      <td>0.165279</td>\n",
       "      <td>0.416163</td>\n",
       "      <td>-2.153192</td>\n",
       "      <td>0.0</td>\n",
       "    </tr>\n",
       "    <tr>\n",
       "      <th>4</th>\n",
       "      <td>1.0</td>\n",
       "      <td>-1.306878</td>\n",
       "      <td>1.228577</td>\n",
       "      <td>-0.511180</td>\n",
       "      <td>0.165279</td>\n",
       "      <td>0.441052</td>\n",
       "      <td>-1.162114</td>\n",
       "      <td>0.0</td>\n",
       "    </tr>\n",
       "  </tbody>\n",
       "</table>\n",
       "</div>"
      ],
      "text/plain": [
       "   Intercept  scale(INDUS)  scale(RM)  scale(AGE)  scale(np.log(PTRATIO))  \\\n",
       "0        1.0     -1.287909   0.413672   -0.120013               -1.443977   \n",
       "1        1.0     -0.593381   0.194274    0.367166               -0.230278   \n",
       "2        1.0     -0.593381   1.282714   -0.265812               -0.230278   \n",
       "3        1.0     -1.306878   1.016303   -0.809889                0.165279   \n",
       "4        1.0     -1.306878   1.228577   -0.511180                0.165279   \n",
       "\n",
       "   scale(B)  scale(np.log(LSTAT))  CHAS  \n",
       "0  0.441052             -1.275260   0.0  \n",
       "1  0.441052             -0.263711   0.0  \n",
       "2  0.396427             -1.627858   0.0  \n",
       "3  0.416163             -2.153192   0.0  \n",
       "4  0.441052             -1.162114   0.0  "
      ]
     },
     "execution_count": 64,
     "metadata": {},
     "output_type": "execute_result"
    }
   ],
   "source": [
    "final_X.head()"
   ]
  },
  {
   "cell_type": "markdown",
   "metadata": {},
   "source": [
    "## 2. PCA(주성분분석)\n",
    "- 고차원의 데이터 집합이 주어졌을 때 원래의 고차원 데이터와 가장 비슷하면서 더 낮은 차원의 데이터를 찾아내는 방법\n",
    "- 새롭게 생성된 축 사이에는 유사도가 적은 변수 및 비율로 구성\n",
    "- 단위의 크기에 따라 분산 비율이 높게 계산 되기 때문에 정규화된 결과에 대해 PCA를 적용해야함\n",
    "- 연속형 데이터에 대해서만 적용이 가능하므로 범주형 데이터를 제외하거나 인코딩을 통한 변환 필요\n",
    "- 개념\n",
    "    - 주성분 벡터\n",
    "        - 전체 데이터의 분산에 대해 설명할 수 있는 새로운 축\n",
    "        - 하나의 축에 대해 각 변수가 가지고 있는 가중치 값으로 기여도를 파악할 수 있음\n",
    "        - 값에 대한 해석 : 0 (아무관련없음), 양수/음수 (벡터에서의 방향) , 값의크기(기여도)\n",
    "    - 설명 분산\n",
    "- 함수\n",
    "    - sklearn.decomposition > PCA\n",
    "        - PCA(n_comonents=n) : 주성분 개수\n",
    "        - fit(): 주성분 계수 추정\n",
    "        - transform(): 주성분 변환 값 반환\n",
    "        - fit_transform(): 주성분 계수 추정 및 변환 값 반환"
   ]
  },
  {
   "cell_type": "code",
   "execution_count": 65,
   "metadata": {},
   "outputs": [],
   "source": [
    "# PCA는 분산의 패턴을 찾는것\n",
    "from sklearn.decomposition import PCA"
   ]
  },
  {
   "cell_type": "code",
   "execution_count": 67,
   "metadata": {},
   "outputs": [
    {
     "data": {
      "text/html": [
       "<div>\n",
       "<style scoped>\n",
       "    .dataframe tbody tr th:only-of-type {\n",
       "        vertical-align: middle;\n",
       "    }\n",
       "\n",
       "    .dataframe tbody tr th {\n",
       "        vertical-align: top;\n",
       "    }\n",
       "\n",
       "    .dataframe thead th {\n",
       "        text-align: right;\n",
       "    }\n",
       "</style>\n",
       "<table border=\"1\" class=\"dataframe\">\n",
       "  <thead>\n",
       "    <tr style=\"text-align: right;\">\n",
       "      <th></th>\n",
       "      <th>sepal_length</th>\n",
       "      <th>sepal_width</th>\n",
       "      <th>petal_length</th>\n",
       "      <th>petal_width</th>\n",
       "      <th>species</th>\n",
       "    </tr>\n",
       "  </thead>\n",
       "  <tbody>\n",
       "    <tr>\n",
       "      <th>0</th>\n",
       "      <td>5.1</td>\n",
       "      <td>3.5</td>\n",
       "      <td>1.4</td>\n",
       "      <td>0.2</td>\n",
       "      <td>setosa</td>\n",
       "    </tr>\n",
       "    <tr>\n",
       "      <th>1</th>\n",
       "      <td>4.9</td>\n",
       "      <td>3.0</td>\n",
       "      <td>1.4</td>\n",
       "      <td>0.2</td>\n",
       "      <td>setosa</td>\n",
       "    </tr>\n",
       "    <tr>\n",
       "      <th>2</th>\n",
       "      <td>4.7</td>\n",
       "      <td>3.2</td>\n",
       "      <td>1.3</td>\n",
       "      <td>0.2</td>\n",
       "      <td>setosa</td>\n",
       "    </tr>\n",
       "    <tr>\n",
       "      <th>3</th>\n",
       "      <td>4.6</td>\n",
       "      <td>3.1</td>\n",
       "      <td>1.5</td>\n",
       "      <td>0.2</td>\n",
       "      <td>setosa</td>\n",
       "    </tr>\n",
       "    <tr>\n",
       "      <th>4</th>\n",
       "      <td>5.0</td>\n",
       "      <td>3.6</td>\n",
       "      <td>1.4</td>\n",
       "      <td>0.2</td>\n",
       "      <td>setosa</td>\n",
       "    </tr>\n",
       "  </tbody>\n",
       "</table>\n",
       "</div>"
      ],
      "text/plain": [
       "   sepal_length  sepal_width  petal_length  petal_width species\n",
       "0           5.1          3.5           1.4          0.2  setosa\n",
       "1           4.9          3.0           1.4          0.2  setosa\n",
       "2           4.7          3.2           1.3          0.2  setosa\n",
       "3           4.6          3.1           1.5          0.2  setosa\n",
       "4           5.0          3.6           1.4          0.2  setosa"
      ]
     },
     "execution_count": 67,
     "metadata": {},
     "output_type": "execute_result"
    }
   ],
   "source": [
    "import seaborn as sns\n",
    "iris = sns.load_dataset('iris')\n",
    "iris.head()"
   ]
  },
  {
   "cell_type": "code",
   "execution_count": 68,
   "metadata": {},
   "outputs": [
    {
     "data": {
      "text/plain": [
       "(150, 4)"
      ]
     },
     "execution_count": 68,
     "metadata": {},
     "output_type": "execute_result"
    }
   ],
   "source": [
    "# X,y 분리\n",
    "X=iris.drop('species',axis=1)\n",
    "X.shape"
   ]
  },
  {
   "cell_type": "code",
   "execution_count": 69,
   "metadata": {},
   "outputs": [
    {
     "data": {
      "text/plain": [
       "PCA(copy=True, iterated_power='auto', n_components=1, random_state=None,\n",
       "  svd_solver='auto', tol=0.0, whiten=False)"
      ]
     },
     "execution_count": 69,
     "metadata": {},
     "output_type": "execute_result"
    }
   ],
   "source": [
    "# 주성분 개수를 1개로 지정하여 적용\n",
    "# 입력변수의 차원을 4개에서 1개로 축소\n",
    "# 사용순서:  PCA 객체 생성(개수지정) => fit/transform\n",
    "pca1=PCA(n_components=1)\n",
    "pca1.fit(X)"
   ]
  },
  {
   "cell_type": "code",
   "execution_count": 71,
   "metadata": {},
   "outputs": [
    {
     "data": {
      "text/plain": [
       "array([[ 0.36138659, -0.08452251,  0.85667061,  0.3582892 ]])"
      ]
     },
     "execution_count": 71,
     "metadata": {},
     "output_type": "execute_result"
    }
   ],
   "source": [
    "# fitted_pca_obj.components_ => 주성분 계수\n",
    "# 주성분 1개 => 하나의 축만 생성\n",
    "# 행(축/차인/새로운주성분) / 열(입력변수)\n",
    "# 입력변수 4개가 새로운 축(차원)에서 가지고 있는 분산에 기여하는 정도/ 방향\n",
    "pca1.components_"
   ]
  },
  {
   "cell_type": "code",
   "execution_count": 73,
   "metadata": {},
   "outputs": [
    {
     "data": {
      "text/plain": [
       "array([4.22824171])"
      ]
     },
     "execution_count": 73,
     "metadata": {},
     "output_type": "execute_result"
    }
   ],
   "source": [
    "# fitted_pca_obj.explained_variance_ => 새로운 축이 전체 분산에서 차지하는 값\n",
    "pca1.explained_variance_"
   ]
  },
  {
   "cell_type": "code",
   "execution_count": 74,
   "metadata": {},
   "outputs": [
    {
     "data": {
      "text/plain": [
       "array([0.92461872])"
      ]
     },
     "execution_count": 74,
     "metadata": {},
     "output_type": "execute_result"
    }
   ],
   "source": [
    "# fitted_pca_obj.explained_variance_ratio_\n",
    "pca1.explained_variance_ratio_"
   ]
  },
  {
   "cell_type": "code",
   "execution_count": 77,
   "metadata": {},
   "outputs": [],
   "source": [
    "pca1_X=pca1.transform(X)"
   ]
  },
  {
   "cell_type": "code",
   "execution_count": 79,
   "metadata": {},
   "outputs": [
    {
     "data": {
      "text/plain": [
       "(150, 4)"
      ]
     },
     "execution_count": 79,
     "metadata": {},
     "output_type": "execute_result"
    }
   ],
   "source": [
    "X.shape"
   ]
  },
  {
   "cell_type": "code",
   "execution_count": 78,
   "metadata": {},
   "outputs": [
    {
     "data": {
      "text/plain": [
       "(150, 1)"
      ]
     },
     "execution_count": 78,
     "metadata": {},
     "output_type": "execute_result"
    }
   ],
   "source": [
    "pca1_X.shape"
   ]
  },
  {
   "cell_type": "code",
   "execution_count": 81,
   "metadata": {},
   "outputs": [
    {
     "data": {
      "text/html": [
       "<div>\n",
       "<style scoped>\n",
       "    .dataframe tbody tr th:only-of-type {\n",
       "        vertical-align: middle;\n",
       "    }\n",
       "\n",
       "    .dataframe tbody tr th {\n",
       "        vertical-align: top;\n",
       "    }\n",
       "\n",
       "    .dataframe thead th {\n",
       "        text-align: right;\n",
       "    }\n",
       "</style>\n",
       "<table border=\"1\" class=\"dataframe\">\n",
       "  <thead>\n",
       "    <tr style=\"text-align: right;\">\n",
       "      <th></th>\n",
       "      <th>sepal_length</th>\n",
       "      <th>sepal_width</th>\n",
       "      <th>petal_length</th>\n",
       "      <th>petal_width</th>\n",
       "    </tr>\n",
       "  </thead>\n",
       "  <tbody>\n",
       "    <tr>\n",
       "      <th>0</th>\n",
       "      <td>5.1</td>\n",
       "      <td>3.5</td>\n",
       "      <td>1.4</td>\n",
       "      <td>0.2</td>\n",
       "    </tr>\n",
       "    <tr>\n",
       "      <th>1</th>\n",
       "      <td>4.9</td>\n",
       "      <td>3.0</td>\n",
       "      <td>1.4</td>\n",
       "      <td>0.2</td>\n",
       "    </tr>\n",
       "    <tr>\n",
       "      <th>2</th>\n",
       "      <td>4.7</td>\n",
       "      <td>3.2</td>\n",
       "      <td>1.3</td>\n",
       "      <td>0.2</td>\n",
       "    </tr>\n",
       "    <tr>\n",
       "      <th>3</th>\n",
       "      <td>4.6</td>\n",
       "      <td>3.1</td>\n",
       "      <td>1.5</td>\n",
       "      <td>0.2</td>\n",
       "    </tr>\n",
       "    <tr>\n",
       "      <th>4</th>\n",
       "      <td>5.0</td>\n",
       "      <td>3.6</td>\n",
       "      <td>1.4</td>\n",
       "      <td>0.2</td>\n",
       "    </tr>\n",
       "  </tbody>\n",
       "</table>\n",
       "</div>"
      ],
      "text/plain": [
       "   sepal_length  sepal_width  petal_length  petal_width\n",
       "0           5.1          3.5           1.4          0.2\n",
       "1           4.9          3.0           1.4          0.2\n",
       "2           4.7          3.2           1.3          0.2\n",
       "3           4.6          3.1           1.5          0.2\n",
       "4           5.0          3.6           1.4          0.2"
      ]
     },
     "execution_count": 81,
     "metadata": {},
     "output_type": "execute_result"
    }
   ],
   "source": [
    "X.head()"
   ]
  },
  {
   "cell_type": "code",
   "execution_count": 82,
   "metadata": {},
   "outputs": [
    {
     "data": {
      "text/plain": [
       "array([[-2.68412563],\n",
       "       [-2.71414169],\n",
       "       [-2.88899057],\n",
       "       [-2.74534286],\n",
       "       [-2.72871654],\n",
       "       [-2.28085963],\n",
       "       [-2.82053775],\n",
       "       [-2.62614497],\n",
       "       [-2.88638273],\n",
       "       [-2.6727558 ],\n",
       "       [-2.50694709],\n",
       "       [-2.61275523],\n",
       "       [-2.78610927],\n",
       "       [-3.22380374],\n",
       "       [-2.64475039],\n",
       "       [-2.38603903],\n",
       "       [-2.62352788],\n",
       "       [-2.64829671],\n",
       "       [-2.19982032],\n",
       "       [-2.5879864 ],\n",
       "       [-2.31025622],\n",
       "       [-2.54370523],\n",
       "       [-3.21593942],\n",
       "       [-2.30273318],\n",
       "       [-2.35575405],\n",
       "       [-2.50666891],\n",
       "       [-2.46882007],\n",
       "       [-2.56231991],\n",
       "       [-2.63953472],\n",
       "       [-2.63198939],\n",
       "       [-2.58739848],\n",
       "       [-2.4099325 ],\n",
       "       [-2.64886233],\n",
       "       [-2.59873675],\n",
       "       [-2.63692688],\n",
       "       [-2.86624165],\n",
       "       [-2.62523805],\n",
       "       [-2.80068412],\n",
       "       [-2.98050204],\n",
       "       [-2.59000631],\n",
       "       [-2.77010243],\n",
       "       [-2.84936871],\n",
       "       [-2.99740655],\n",
       "       [-2.40561449],\n",
       "       [-2.20948924],\n",
       "       [-2.71445143],\n",
       "       [-2.53814826],\n",
       "       [-2.83946217],\n",
       "       [-2.54308575],\n",
       "       [-2.70335978],\n",
       "       [ 1.28482569],\n",
       "       [ 0.93248853],\n",
       "       [ 1.46430232],\n",
       "       [ 0.18331772],\n",
       "       [ 1.08810326],\n",
       "       [ 0.64166908],\n",
       "       [ 1.09506066],\n",
       "       [-0.74912267],\n",
       "       [ 1.04413183],\n",
       "       [-0.0087454 ],\n",
       "       [-0.50784088],\n",
       "       [ 0.51169856],\n",
       "       [ 0.26497651],\n",
       "       [ 0.98493451],\n",
       "       [-0.17392537],\n",
       "       [ 0.92786078],\n",
       "       [ 0.66028376],\n",
       "       [ 0.23610499],\n",
       "       [ 0.94473373],\n",
       "       [ 0.04522698],\n",
       "       [ 1.11628318],\n",
       "       [ 0.35788842],\n",
       "       [ 1.29818388],\n",
       "       [ 0.92172892],\n",
       "       [ 0.71485333],\n",
       "       [ 0.90017437],\n",
       "       [ 1.33202444],\n",
       "       [ 1.55780216],\n",
       "       [ 0.81329065],\n",
       "       [-0.30558378],\n",
       "       [-0.06812649],\n",
       "       [-0.18962247],\n",
       "       [ 0.13642871],\n",
       "       [ 1.38002644],\n",
       "       [ 0.58800644],\n",
       "       [ 0.80685831],\n",
       "       [ 1.22069088],\n",
       "       [ 0.81509524],\n",
       "       [ 0.24595768],\n",
       "       [ 0.16641322],\n",
       "       [ 0.46480029],\n",
       "       [ 0.8908152 ],\n",
       "       [ 0.23054802],\n",
       "       [-0.70453176],\n",
       "       [ 0.35698149],\n",
       "       [ 0.33193448],\n",
       "       [ 0.37621565],\n",
       "       [ 0.64257601],\n",
       "       [-0.90646986],\n",
       "       [ 0.29900084],\n",
       "       [ 2.53119273],\n",
       "       [ 1.41523588],\n",
       "       [ 2.61667602],\n",
       "       [ 1.97153105],\n",
       "       [ 2.35000592],\n",
       "       [ 3.39703874],\n",
       "       [ 0.52123224],\n",
       "       [ 2.93258707],\n",
       "       [ 2.32122882],\n",
       "       [ 2.91675097],\n",
       "       [ 1.66177415],\n",
       "       [ 1.80340195],\n",
       "       [ 2.1655918 ],\n",
       "       [ 1.34616358],\n",
       "       [ 1.58592822],\n",
       "       [ 1.90445637],\n",
       "       [ 1.94968906],\n",
       "       [ 3.48705536],\n",
       "       [ 3.79564542],\n",
       "       [ 1.30079171],\n",
       "       [ 2.42781791],\n",
       "       [ 1.19900111],\n",
       "       [ 3.49992004],\n",
       "       [ 1.38876613],\n",
       "       [ 2.2754305 ],\n",
       "       [ 2.61409047],\n",
       "       [ 1.25850816],\n",
       "       [ 1.29113206],\n",
       "       [ 2.12360872],\n",
       "       [ 2.38800302],\n",
       "       [ 2.84167278],\n",
       "       [ 3.23067366],\n",
       "       [ 2.15943764],\n",
       "       [ 1.44416124],\n",
       "       [ 1.78129481],\n",
       "       [ 3.07649993],\n",
       "       [ 2.14424331],\n",
       "       [ 1.90509815],\n",
       "       [ 1.16932634],\n",
       "       [ 2.10761114],\n",
       "       [ 2.31415471],\n",
       "       [ 1.9222678 ],\n",
       "       [ 1.41523588],\n",
       "       [ 2.56301338],\n",
       "       [ 2.41874618],\n",
       "       [ 1.94410979],\n",
       "       [ 1.52716661],\n",
       "       [ 1.76434572],\n",
       "       [ 1.90094161],\n",
       "       [ 1.39018886]])"
      ]
     },
     "execution_count": 82,
     "metadata": {},
     "output_type": "execute_result"
    }
   ],
   "source": [
    "pca1_X"
   ]
  },
  {
   "cell_type": "code",
   "execution_count": 84,
   "metadata": {},
   "outputs": [],
   "source": [
    "# 주성분개수 2개로 적용\n",
    "pca2=PCA(n_components=2)"
   ]
  },
  {
   "cell_type": "code",
   "execution_count": 85,
   "metadata": {},
   "outputs": [
    {
     "data": {
      "text/plain": [
       "PCA(copy=True, iterated_power='auto', n_components=2, random_state=None,\n",
       "  svd_solver='auto', tol=0.0, whiten=False)"
      ]
     },
     "execution_count": 85,
     "metadata": {},
     "output_type": "execute_result"
    }
   ],
   "source": [
    "pca2.fit(X)"
   ]
  },
  {
   "cell_type": "code",
   "execution_count": 86,
   "metadata": {},
   "outputs": [
    {
     "data": {
      "text/plain": [
       "array([[ 0.36138659, -0.08452251,  0.85667061,  0.3582892 ],\n",
       "       [ 0.65658877,  0.73016143, -0.17337266, -0.07548102]])"
      ]
     },
     "execution_count": 86,
     "metadata": {},
     "output_type": "execute_result"
    }
   ],
   "source": [
    "# 주성분 벡터\n",
    "# 행(주성분,축), 열(입력변수)\n",
    "pca2.components_"
   ]
  },
  {
   "cell_type": "code",
   "execution_count": 88,
   "metadata": {},
   "outputs": [
    {
     "data": {
      "text/plain": [
       "array([4.22824171, 0.24267075])"
      ]
     },
     "execution_count": 88,
     "metadata": {},
     "output_type": "execute_result"
    }
   ],
   "source": [
    "# 설명분산 확인\n",
    "pca2.explained_variance_"
   ]
  },
  {
   "cell_type": "code",
   "execution_count": 89,
   "metadata": {},
   "outputs": [
    {
     "data": {
      "text/plain": [
       "array([0.92461872, 0.05306648])"
      ]
     },
     "execution_count": 89,
     "metadata": {},
     "output_type": "execute_result"
    }
   ],
   "source": [
    "pca2.explained_variance_ratio_"
   ]
  },
  {
   "cell_type": "code",
   "execution_count": 90,
   "metadata": {},
   "outputs": [],
   "source": [
    "# transform 결과 확인\n",
    "pca2_X= pca2.transform(X)"
   ]
  },
  {
   "cell_type": "code",
   "execution_count": 91,
   "metadata": {},
   "outputs": [
    {
     "data": {
      "text/plain": [
       "array([[-2.68412563,  0.31939725],\n",
       "       [-2.71414169, -0.17700123],\n",
       "       [-2.88899057, -0.14494943],\n",
       "       [-2.74534286, -0.31829898],\n",
       "       [-2.72871654,  0.32675451],\n",
       "       [-2.28085963,  0.74133045],\n",
       "       [-2.82053775, -0.08946138],\n",
       "       [-2.62614497,  0.16338496],\n",
       "       [-2.88638273, -0.57831175],\n",
       "       [-2.6727558 , -0.11377425],\n",
       "       [-2.50694709,  0.6450689 ],\n",
       "       [-2.61275523,  0.01472994],\n",
       "       [-2.78610927, -0.235112  ],\n",
       "       [-3.22380374, -0.51139459],\n",
       "       [-2.64475039,  1.17876464],\n",
       "       [-2.38603903,  1.33806233],\n",
       "       [-2.62352788,  0.81067951],\n",
       "       [-2.64829671,  0.31184914],\n",
       "       [-2.19982032,  0.87283904],\n",
       "       [-2.5879864 ,  0.51356031],\n",
       "       [-2.31025622,  0.39134594],\n",
       "       [-2.54370523,  0.43299606],\n",
       "       [-3.21593942,  0.13346807],\n",
       "       [-2.30273318,  0.09870885],\n",
       "       [-2.35575405, -0.03728186],\n",
       "       [-2.50666891, -0.14601688],\n",
       "       [-2.46882007,  0.13095149],\n",
       "       [-2.56231991,  0.36771886],\n",
       "       [-2.63953472,  0.31203998],\n",
       "       [-2.63198939, -0.19696122],\n",
       "       [-2.58739848, -0.20431849],\n",
       "       [-2.4099325 ,  0.41092426],\n",
       "       [-2.64886233,  0.81336382],\n",
       "       [-2.59873675,  1.09314576],\n",
       "       [-2.63692688, -0.12132235],\n",
       "       [-2.86624165,  0.06936447],\n",
       "       [-2.62523805,  0.59937002],\n",
       "       [-2.80068412,  0.26864374],\n",
       "       [-2.98050204, -0.48795834],\n",
       "       [-2.59000631,  0.22904384],\n",
       "       [-2.77010243,  0.26352753],\n",
       "       [-2.84936871, -0.94096057],\n",
       "       [-2.99740655, -0.34192606],\n",
       "       [-2.40561449,  0.18887143],\n",
       "       [-2.20948924,  0.43666314],\n",
       "       [-2.71445143, -0.2502082 ],\n",
       "       [-2.53814826,  0.50377114],\n",
       "       [-2.83946217, -0.22794557],\n",
       "       [-2.54308575,  0.57941002],\n",
       "       [-2.70335978,  0.10770608],\n",
       "       [ 1.28482569,  0.68516047],\n",
       "       [ 0.93248853,  0.31833364],\n",
       "       [ 1.46430232,  0.50426282],\n",
       "       [ 0.18331772, -0.82795901],\n",
       "       [ 1.08810326,  0.07459068],\n",
       "       [ 0.64166908, -0.41824687],\n",
       "       [ 1.09506066,  0.28346827],\n",
       "       [-0.74912267, -1.00489096],\n",
       "       [ 1.04413183,  0.2283619 ],\n",
       "       [-0.0087454 , -0.72308191],\n",
       "       [-0.50784088, -1.26597119],\n",
       "       [ 0.51169856, -0.10398124],\n",
       "       [ 0.26497651, -0.55003646],\n",
       "       [ 0.98493451, -0.12481785],\n",
       "       [-0.17392537, -0.25485421],\n",
       "       [ 0.92786078,  0.46717949],\n",
       "       [ 0.66028376, -0.35296967],\n",
       "       [ 0.23610499, -0.33361077],\n",
       "       [ 0.94473373, -0.54314555],\n",
       "       [ 0.04522698, -0.58383438],\n",
       "       [ 1.11628318, -0.08461685],\n",
       "       [ 0.35788842, -0.06892503],\n",
       "       [ 1.29818388, -0.32778731],\n",
       "       [ 0.92172892, -0.18273779],\n",
       "       [ 0.71485333,  0.14905594],\n",
       "       [ 0.90017437,  0.32850447],\n",
       "       [ 1.33202444,  0.24444088],\n",
       "       [ 1.55780216,  0.26749545],\n",
       "       [ 0.81329065, -0.1633503 ],\n",
       "       [-0.30558378, -0.36826219],\n",
       "       [-0.06812649, -0.70517213],\n",
       "       [-0.18962247, -0.68028676],\n",
       "       [ 0.13642871, -0.31403244],\n",
       "       [ 1.38002644, -0.42095429],\n",
       "       [ 0.58800644, -0.48428742],\n",
       "       [ 0.80685831,  0.19418231],\n",
       "       [ 1.22069088,  0.40761959],\n",
       "       [ 0.81509524, -0.37203706],\n",
       "       [ 0.24595768, -0.2685244 ],\n",
       "       [ 0.16641322, -0.68192672],\n",
       "       [ 0.46480029, -0.67071154],\n",
       "       [ 0.8908152 , -0.03446444],\n",
       "       [ 0.23054802, -0.40438585],\n",
       "       [-0.70453176, -1.01224823],\n",
       "       [ 0.35698149, -0.50491009],\n",
       "       [ 0.33193448, -0.21265468],\n",
       "       [ 0.37621565, -0.29321893],\n",
       "       [ 0.64257601,  0.01773819],\n",
       "       [-0.90646986, -0.75609337],\n",
       "       [ 0.29900084, -0.34889781],\n",
       "       [ 2.53119273, -0.00984911],\n",
       "       [ 1.41523588, -0.57491635],\n",
       "       [ 2.61667602,  0.34390315],\n",
       "       [ 1.97153105, -0.1797279 ],\n",
       "       [ 2.35000592, -0.04026095],\n",
       "       [ 3.39703874,  0.55083667],\n",
       "       [ 0.52123224, -1.19275873],\n",
       "       [ 2.93258707,  0.3555    ],\n",
       "       [ 2.32122882, -0.2438315 ],\n",
       "       [ 2.91675097,  0.78279195],\n",
       "       [ 1.66177415,  0.24222841],\n",
       "       [ 1.80340195, -0.21563762],\n",
       "       [ 2.1655918 ,  0.21627559],\n",
       "       [ 1.34616358, -0.77681835],\n",
       "       [ 1.58592822, -0.53964071],\n",
       "       [ 1.90445637,  0.11925069],\n",
       "       [ 1.94968906,  0.04194326],\n",
       "       [ 3.48705536,  1.17573933],\n",
       "       [ 3.79564542,  0.25732297],\n",
       "       [ 1.30079171, -0.76114964],\n",
       "       [ 2.42781791,  0.37819601],\n",
       "       [ 1.19900111, -0.60609153],\n",
       "       [ 3.49992004,  0.4606741 ],\n",
       "       [ 1.38876613, -0.20439933],\n",
       "       [ 2.2754305 ,  0.33499061],\n",
       "       [ 2.61409047,  0.56090136],\n",
       "       [ 1.25850816, -0.17970479],\n",
       "       [ 1.29113206, -0.11666865],\n",
       "       [ 2.12360872, -0.20972948],\n",
       "       [ 2.38800302,  0.4646398 ],\n",
       "       [ 2.84167278,  0.37526917],\n",
       "       [ 3.23067366,  1.37416509],\n",
       "       [ 2.15943764, -0.21727758],\n",
       "       [ 1.44416124, -0.14341341],\n",
       "       [ 1.78129481, -0.49990168],\n",
       "       [ 3.07649993,  0.68808568],\n",
       "       [ 2.14424331,  0.1400642 ],\n",
       "       [ 1.90509815,  0.04930053],\n",
       "       [ 1.16932634, -0.16499026],\n",
       "       [ 2.10761114,  0.37228787],\n",
       "       [ 2.31415471,  0.18365128],\n",
       "       [ 1.9222678 ,  0.40920347],\n",
       "       [ 1.41523588, -0.57491635],\n",
       "       [ 2.56301338,  0.2778626 ],\n",
       "       [ 2.41874618,  0.3047982 ],\n",
       "       [ 1.94410979,  0.1875323 ],\n",
       "       [ 1.52716661, -0.37531698],\n",
       "       [ 1.76434572,  0.07885885],\n",
       "       [ 1.90094161,  0.11662796],\n",
       "       [ 1.39018886, -0.28266094]])"
      ]
     },
     "execution_count": 91,
     "metadata": {},
     "output_type": "execute_result"
    }
   ],
   "source": [
    "pca2_X"
   ]
  },
  {
   "cell_type": "code",
   "execution_count": 92,
   "metadata": {},
   "outputs": [],
   "source": [
    "# 주성분 개수를 지정하지 않고 적용\n",
    "# PCA(n_components=None(defalut))\n",
    "pca3=PCA()"
   ]
  },
  {
   "cell_type": "code",
   "execution_count": 97,
   "metadata": {},
   "outputs": [
    {
     "data": {
      "text/plain": [
       "PCA(copy=True, iterated_power='auto', n_components=None, random_state=None,\n",
       "  svd_solver='auto', tol=0.0, whiten=False)"
      ]
     },
     "execution_count": 97,
     "metadata": {},
     "output_type": "execute_result"
    }
   ],
   "source": [
    "pca3.fit(X)"
   ]
  },
  {
   "cell_type": "code",
   "execution_count": 98,
   "metadata": {},
   "outputs": [
    {
     "data": {
      "text/plain": [
       "array([[ 0.36138659, -0.08452251,  0.85667061,  0.3582892 ],\n",
       "       [ 0.65658877,  0.73016143, -0.17337266, -0.07548102],\n",
       "       [-0.58202985,  0.59791083,  0.07623608,  0.54583143],\n",
       "       [-0.31548719,  0.3197231 ,  0.47983899, -0.75365743]])"
      ]
     },
     "execution_count": 98,
     "metadata": {},
     "output_type": "execute_result"
    }
   ],
   "source": [
    "pca3.components_"
   ]
  },
  {
   "cell_type": "code",
   "execution_count": 103,
   "metadata": {},
   "outputs": [],
   "source": [
    "pca3_X=pca3.transform(X)"
   ]
  },
  {
   "cell_type": "code",
   "execution_count": 104,
   "metadata": {},
   "outputs": [
    {
     "data": {
      "text/plain": [
       "array([[-2.68412563e+00,  3.19397247e-01, -2.79148276e-02,\n",
       "        -2.26243707e-03],\n",
       "       [-2.71414169e+00, -1.77001225e-01, -2.10464272e-01,\n",
       "        -9.90265503e-02],\n",
       "       [-2.88899057e+00, -1.44949426e-01,  1.79002563e-02,\n",
       "        -1.99683897e-02],\n",
       "       [-2.74534286e+00, -3.18298979e-01,  3.15593736e-02,\n",
       "         7.55758166e-02],\n",
       "       [-2.72871654e+00,  3.26754513e-01,  9.00792406e-02,\n",
       "         6.12585926e-02],\n",
       "       [-2.28085963e+00,  7.41330449e-01,  1.68677658e-01,\n",
       "         2.42008576e-02],\n",
       "       [-2.82053775e+00, -8.94613845e-02,  2.57892158e-01,\n",
       "         4.81431065e-02],\n",
       "       [-2.62614497e+00,  1.63384960e-01, -2.18793179e-02,\n",
       "         4.52978706e-02],\n",
       "       [-2.88638273e+00, -5.78311754e-01,  2.07595703e-02,\n",
       "         2.67447358e-02],\n",
       "       [-2.67275580e+00, -1.13774246e-01, -1.97632725e-01,\n",
       "         5.62954013e-02],\n",
       "       [-2.50694709e+00,  6.45068899e-01, -7.53180094e-02,\n",
       "         1.50199245e-02],\n",
       "       [-2.61275523e+00,  1.47299392e-02,  1.02150260e-01,\n",
       "         1.56379208e-01],\n",
       "       [-2.78610927e+00, -2.35112000e-01, -2.06844430e-01,\n",
       "         7.88791149e-03],\n",
       "       [-3.22380374e+00, -5.11394587e-01,  6.12996725e-02,\n",
       "         2.16798118e-02],\n",
       "       [-2.64475039e+00,  1.17876464e+00, -1.51627524e-01,\n",
       "        -1.59209718e-01],\n",
       "       [-2.38603903e+00,  1.33806233e+00,  2.77776903e-01,\n",
       "        -6.55154587e-03],\n",
       "       [-2.62352788e+00,  8.10679514e-01,  1.38183228e-01,\n",
       "        -1.67734737e-01],\n",
       "       [-2.64829671e+00,  3.11849145e-01,  2.66683156e-02,\n",
       "        -7.76281796e-02],\n",
       "       [-2.19982032e+00,  8.72839039e-01, -1.20305523e-01,\n",
       "        -2.70518681e-02],\n",
       "       [-2.58798640e+00,  5.13560309e-01,  2.13665172e-01,\n",
       "         6.62726502e-02],\n",
       "       [-2.31025622e+00,  3.91345936e-01, -2.39444043e-01,\n",
       "         1.50707908e-02],\n",
       "       [-2.54370523e+00,  4.32996063e-01,  2.08457232e-01,\n",
       "        -4.10654027e-02],\n",
       "       [-3.21593942e+00,  1.33468070e-01,  2.92396751e-01,\n",
       "        -4.48212505e-03],\n",
       "       [-2.30273318e+00,  9.87088548e-02,  3.91232587e-02,\n",
       "        -1.48352589e-01],\n",
       "       [-2.35575405e+00, -3.72818597e-02,  1.25021083e-01,\n",
       "         3.00330904e-01],\n",
       "       [-2.50666891e+00, -1.46016880e-01, -2.53420042e-01,\n",
       "        -3.46074722e-02],\n",
       "       [-2.46882007e+00,  1.30951489e-01,  9.49105761e-02,\n",
       "        -5.74497158e-02],\n",
       "       [-2.56231991e+00,  3.67718857e-01, -7.84942051e-02,\n",
       "         1.41727423e-02],\n",
       "       [-2.63953472e+00,  3.12039980e-01, -1.45908896e-01,\n",
       "        -6.57834667e-02],\n",
       "       [-2.63198939e+00, -1.96961225e-01,  4.07710791e-02,\n",
       "         1.23983306e-01],\n",
       "       [-2.58739848e+00, -2.04318491e-01, -7.72229891e-02,\n",
       "         6.04622767e-02],\n",
       "       [-2.40993250e+00,  4.10924264e-01, -1.45524972e-01,\n",
       "        -2.31628492e-01],\n",
       "       [-2.64886233e+00,  8.13363820e-01,  2.25669150e-01,\n",
       "         2.81372347e-01],\n",
       "       [-2.59873675e+00,  1.09314576e+00,  1.57810813e-01,\n",
       "         9.53488583e-02],\n",
       "       [-2.63692688e+00, -1.21322348e-01, -1.43049582e-01,\n",
       "        -1.90703413e-02],\n",
       "       [-2.86624165e+00,  6.93644716e-02, -1.64332307e-01,\n",
       "        -1.62598446e-01],\n",
       "       [-2.62523805e+00,  5.99370021e-01, -2.68350376e-01,\n",
       "        -1.76441213e-01],\n",
       "       [-2.80068412e+00,  2.68643738e-01,  9.36990825e-02,\n",
       "         1.68173054e-01],\n",
       "       [-2.98050204e+00, -4.87958344e-01,  7.29270457e-02,\n",
       "         1.07331474e-02],\n",
       "       [-2.59000631e+00,  2.29043837e-01, -8.00823030e-02,\n",
       "         1.37491513e-02],\n",
       "       [-2.77010243e+00,  2.63527534e-01,  7.72476932e-02,\n",
       "        -9.40633590e-02],\n",
       "       [-2.84936871e+00, -9.40960574e-01, -3.49230377e-01,\n",
       "        -3.19987487e-01],\n",
       "       [-2.99740655e+00, -3.41926057e-01,  1.92509212e-01,\n",
       "         7.46777682e-02],\n",
       "       [-2.40561449e+00,  1.88871429e-01,  2.63867946e-01,\n",
       "        -1.76208890e-01],\n",
       "       [-2.20948924e+00,  4.36663142e-01,  2.98742746e-01,\n",
       "         1.82842502e-01],\n",
       "       [-2.71445143e+00, -2.50208204e-01, -9.76781440e-02,\n",
       "        -1.42843574e-01],\n",
       "       [-2.53814826e+00,  5.03771144e-01,  1.66705637e-01,\n",
       "         1.89622291e-01],\n",
       "       [-2.83946217e+00, -2.27945569e-01,  8.37268490e-02,\n",
       "         5.95642283e-02],\n",
       "       [-2.54308575e+00,  5.79410022e-01, -1.71150242e-02,\n",
       "         4.65686438e-02],\n",
       "       [-2.70335978e+00,  1.07706082e-01, -8.92940085e-02,\n",
       "        -3.46583385e-02],\n",
       "       [ 1.28482569e+00,  6.85160470e-01, -4.06568025e-01,\n",
       "        -1.85252879e-02],\n",
       "       [ 9.32488532e-01,  3.18333638e-01, -1.80141866e-02,\n",
       "        -5.66512106e-04],\n",
       "       [ 1.46430232e+00,  5.04262815e-01, -3.38325765e-01,\n",
       "         1.65317587e-03],\n",
       "       [ 1.83317720e-01, -8.27959012e-01, -1.79591392e-01,\n",
       "        -9.35668402e-02],\n",
       "       [ 1.08810326e+00,  7.45906752e-02, -3.07757896e-01,\n",
       "        -1.12020574e-01],\n",
       "       [ 6.41669084e-01, -4.18246872e-01,  4.10760908e-02,\n",
       "         2.43116767e-01],\n",
       "       [ 1.09506066e+00,  2.83468270e-01,  1.69810240e-01,\n",
       "         8.35565724e-02],\n",
       "       [-7.49122670e-01, -1.00489096e+00,  1.23029192e-02,\n",
       "         1.79077226e-02],\n",
       "       [ 1.04413183e+00,  2.28361900e-01, -4.15336085e-01,\n",
       "         3.91345020e-02],\n",
       "       [-8.74540408e-03, -7.23081905e-01,  2.81141431e-01,\n",
       "         5.61891788e-03],\n",
       "       [-5.07840884e-01, -1.26597119e+00, -2.69817183e-01,\n",
       "        -4.55624408e-02],\n",
       "       [ 5.11698557e-01, -1.03981235e-01,  1.30547750e-01,\n",
       "        -5.07192325e-02],\n",
       "       [ 2.64976508e-01, -5.50036464e-01, -6.94146830e-01,\n",
       "        -5.71855195e-02],\n",
       "       [ 9.84934510e-01, -1.24817854e-01, -6.21144083e-02,\n",
       "         1.69496255e-01],\n",
       "       [-1.73925372e-01, -2.54854209e-01,  9.04576907e-02,\n",
       "        -1.25217292e-01],\n",
       "       [ 9.27860781e-01,  4.67179494e-01, -3.14620976e-01,\n",
       "        -9.98031365e-02],\n",
       "       [ 6.60283762e-01, -3.52969666e-01,  3.28027528e-01,\n",
       "         1.87878621e-01],\n",
       "       [ 2.36104993e-01, -3.33610767e-01, -2.71161837e-01,\n",
       "         2.13757370e-01],\n",
       "       [ 9.44733728e-01, -5.43145551e-01, -4.99519046e-01,\n",
       "        -2.57192177e-01],\n",
       "       [ 4.52269763e-02, -5.83834377e-01, -2.35002105e-01,\n",
       "         4.15766476e-02],\n",
       "       [ 1.11628318e+00, -8.46168522e-02,  4.59620991e-01,\n",
       "         7.50315529e-02],\n",
       "       [ 3.57888418e-01, -6.89250317e-02, -2.29853888e-01,\n",
       "        -1.22997604e-01],\n",
       "       [ 1.29818388e+00, -3.27787308e-01, -3.47854352e-01,\n",
       "        -8.88370584e-04],\n",
       "       [ 9.21728922e-01, -1.82737794e-01, -2.31071778e-01,\n",
       "         2.88255429e-01],\n",
       "       [ 7.14853326e-01,  1.49055944e-01, -3.21800937e-01,\n",
       "        -4.17197556e-02],\n",
       "       [ 9.00174373e-01,  3.28504474e-01, -3.16209074e-01,\n",
       "        -1.00226728e-01],\n",
       "       [ 1.33202444e+00,  2.44440876e-01, -5.21702780e-01,\n",
       "        -3.53331921e-02],\n",
       "       [ 1.55780216e+00,  2.67495447e-01, -1.64920984e-01,\n",
       "        -6.99692823e-02],\n",
       "       [ 8.13290650e-01, -1.63350301e-01,  3.54245048e-02,\n",
       "         2.97114340e-02],\n",
       "       [-3.05583778e-01, -3.68262190e-01, -3.18491581e-01,\n",
       "        -7.45696136e-02],\n",
       "       [-6.81264921e-02, -7.05172132e-01, -2.44213810e-01,\n",
       "        -6.83084222e-03],\n",
       "       [-1.89622472e-01, -6.80286764e-01, -3.06420561e-01,\n",
       "         2.05510016e-02],\n",
       "       [ 1.36428712e-01, -3.14032438e-01, -1.77242766e-01,\n",
       "        -3.29419128e-02],\n",
       "       [ 1.38002644e+00, -4.20954287e-01,  1.61671275e-02,\n",
       "         1.78304463e-01],\n",
       "       [ 5.88006443e-01, -4.84287420e-01,  4.44433499e-01,\n",
       "         2.50976060e-01],\n",
       "       [ 8.06858313e-01,  1.94182315e-01,  3.88963063e-01,\n",
       "         1.14207243e-01],\n",
       "       [ 1.22069088e+00,  4.07619594e-01, -2.37167010e-01,\n",
       "        -3.12171829e-02],\n",
       "       [ 8.15095236e-01, -3.72037060e-01, -6.14720843e-01,\n",
       "        -1.54021000e-01],\n",
       "       [ 2.45957680e-01, -2.68524397e-01,  1.88366812e-01,\n",
       "         1.46674512e-01],\n",
       "       [ 1.66413217e-01, -6.81926725e-01, -6.00092259e-02,\n",
       "        -2.96222195e-02],\n",
       "       [ 4.64800288e-01, -6.70711545e-01, -2.43068557e-02,\n",
       "         2.69651428e-01],\n",
       "       [ 8.90815198e-01, -3.44644444e-02, -9.94693289e-03,\n",
       "         1.53484666e-01],\n",
       "       [ 2.30548024e-01, -4.04385848e-01, -2.29410241e-01,\n",
       "        -1.69303245e-02],\n",
       "       [-7.04531759e-01, -1.01224823e+00, -1.05691149e-01,\n",
       "        -4.56133071e-02],\n",
       "       [ 3.56981495e-01, -5.04910093e-01,  1.66171702e-02,\n",
       "         9.87414793e-02],\n",
       "       [ 3.31934480e-01, -2.12654684e-01,  8.32042909e-02,\n",
       "         2.38475434e-01],\n",
       "       [ 3.76215651e-01, -2.93218929e-01,  7.79963511e-02,\n",
       "         1.31137381e-01],\n",
       "       [ 6.42576008e-01,  1.77381901e-02, -2.05394967e-01,\n",
       "         2.13776830e-02],\n",
       "       [-9.06469865e-01, -7.56093367e-01, -1.25996476e-02,\n",
       "        -2.32534844e-01],\n",
       "       [ 2.99000842e-01, -3.48897806e-01,  1.05816605e-02,\n",
       "         5.11811717e-02],\n",
       "       [ 2.53119273e+00, -9.84910950e-03,  7.60165427e-01,\n",
       "         2.90555728e-02],\n",
       "       [ 1.41523588e+00, -5.74916348e-01,  2.96322527e-01,\n",
       "         1.53046739e-02],\n",
       "       [ 2.61667602e+00,  3.43903151e-01, -1.10787883e-01,\n",
       "        -6.57720412e-02],\n",
       "       [ 1.97153105e+00, -1.79727904e-01,  1.08424662e-01,\n",
       "         2.36790934e-01],\n",
       "       [ 2.35000592e+00, -4.02609471e-02,  2.85389563e-01,\n",
       "         1.70633278e-04],\n",
       "       [ 3.39703874e+00,  5.50836673e-01, -3.48437556e-01,\n",
       "         1.12371653e-01],\n",
       "       [ 5.21232244e-01, -1.19275873e+00,  5.45659296e-01,\n",
       "         9.81266196e-02],\n",
       "       [ 2.93258707e+00,  3.55500003e-01, -4.20239936e-01,\n",
       "         2.57191032e-01],\n",
       "       [ 2.32122882e+00, -2.43831502e-01, -3.48304395e-01,\n",
       "         7.86746130e-02],\n",
       "       [ 2.91675097e+00,  7.82791949e-01,  4.23335418e-01,\n",
       "        -1.10982071e-01],\n",
       "       [ 1.66177415e+00,  2.42228408e-01,  2.42440190e-01,\n",
       "        -1.21040552e-01],\n",
       "       [ 1.80340195e+00, -2.15637617e-01, -3.76481682e-02,\n",
       "        -7.80198444e-02],\n",
       "       [ 2.16559180e+00,  2.16275585e-01,  3.33266418e-02,\n",
       "        -1.63061478e-01],\n",
       "       [ 1.34616358e+00, -7.76818347e-01,  2.81902882e-01,\n",
       "        -1.40440869e-01],\n",
       "       [ 1.58592822e+00, -5.39640714e-01,  6.29029326e-01,\n",
       "        -3.29551728e-01],\n",
       "       [ 1.90445637e+00,  1.19250692e-01,  4.79639820e-01,\n",
       "        -2.19621263e-01],\n",
       "       [ 1.94968906e+00,  4.19432597e-02,  4.41861676e-02,\n",
       "         1.57681907e-01],\n",
       "       [ 3.48705536e+00,  1.17573933e+00,  1.33894874e-01,\n",
       "         3.09219573e-01],\n",
       "       [ 3.79564542e+00,  2.57322973e-01, -5.13767764e-01,\n",
       "        -5.38460965e-02],\n",
       "       [ 1.30079171e+00, -7.61149636e-01, -3.44995038e-01,\n",
       "         4.58247549e-02],\n",
       "       [ 2.42781791e+00,  3.78196013e-01,  2.19119324e-01,\n",
       "        -1.85429264e-01],\n",
       "       [ 1.19900111e+00, -6.06091528e-01,  5.11855509e-01,\n",
       "        -6.09591171e-02],\n",
       "       [ 3.49992004e+00,  4.60674099e-01, -5.73182243e-01,\n",
       "         1.40227954e-01],\n",
       "       [ 1.38876613e+00, -2.04399327e-01, -6.45227566e-02,\n",
       "        -1.63040977e-01],\n",
       "       [ 2.27543050e+00,  3.34990606e-01,  2.86150091e-01,\n",
       "         6.03719696e-02],\n",
       "       [ 2.61409047e+00,  5.60901355e-01, -2.05534524e-01,\n",
       "         2.40704986e-01],\n",
       "       [ 1.25850816e+00, -1.79704795e-01,  4.58477039e-02,\n",
       "        -1.47503846e-01],\n",
       "       [ 1.29113206e+00, -1.16668651e-01,  2.31256463e-01,\n",
       "        -4.02660775e-03],\n",
       "       [ 2.12360872e+00, -2.09729477e-01,  1.54180024e-01,\n",
       "        -5.28273230e-02],\n",
       "       [ 2.38800302e+00,  4.64639805e-01, -4.49530192e-01,\n",
       "         2.31524053e-01],\n",
       "       [ 2.84167278e+00,  3.75269167e-01, -4.98898076e-01,\n",
       "         2.23364626e-02],\n",
       "       [ 3.23067366e+00,  1.37416509e+00, -1.14548205e-01,\n",
       "         2.52901923e-01],\n",
       "       [ 2.15943764e+00, -2.17277579e-01,  2.08763167e-01,\n",
       "        -1.28193066e-01],\n",
       "       [ 1.44416124e+00, -1.43413410e-01, -1.53233888e-01,\n",
       "         1.90996358e-01],\n",
       "       [ 1.78129481e+00, -4.99901681e-01, -1.72875189e-01,\n",
       "         5.05434412e-01],\n",
       "       [ 3.07649993e+00,  6.88085678e-01, -3.35592292e-01,\n",
       "        -3.09828045e-01],\n",
       "       [ 2.14424331e+00,  1.40064201e-01,  7.34878937e-01,\n",
       "        -5.55419691e-02],\n",
       "       [ 1.90509815e+00,  4.93005260e-02,  1.62180236e-01,\n",
       "         2.21202937e-01],\n",
       "       [ 1.16932634e+00, -1.64990262e-01,  2.81835840e-01,\n",
       "        -2.04617872e-02],\n",
       "       [ 2.10761114e+00,  3.72287872e-01,  2.72911321e-02,\n",
       "        -2.10621786e-01],\n",
       "       [ 2.31415471e+00,  1.83651279e-01,  3.22693747e-01,\n",
       "        -2.77653777e-01],\n",
       "       [ 1.92226780e+00,  4.09203467e-01,  1.13586596e-01,\n",
       "        -5.05304967e-01],\n",
       "       [ 1.41523588e+00, -5.74916348e-01,  2.96322527e-01,\n",
       "         1.53046739e-02],\n",
       "       [ 2.56301338e+00,  2.77862603e-01,  2.92569525e-01,\n",
       "        -5.79127477e-02],\n",
       "       [ 2.41874618e+00,  3.04798198e-01,  5.04482664e-01,\n",
       "        -2.41091000e-01],\n",
       "       [ 1.94410979e+00,  1.87532303e-01,  1.77825091e-01,\n",
       "        -4.26195940e-01],\n",
       "       [ 1.52716661e+00, -3.75316983e-01, -1.21898172e-01,\n",
       "        -2.54367442e-01],\n",
       "       [ 1.76434572e+00,  7.88588545e-02,  1.30481631e-01,\n",
       "        -1.37001274e-01],\n",
       "       [ 1.90094161e+00,  1.16627959e-01,  7.23251563e-01,\n",
       "        -4.45953047e-02],\n",
       "       [ 1.39018886e+00, -2.82660938e-01,  3.62909648e-01,\n",
       "         1.55038628e-01]])"
      ]
     },
     "execution_count": 104,
     "metadata": {},
     "output_type": "execute_result"
    }
   ],
   "source": [
    "pca3_X"
   ]
  },
  {
   "cell_type": "code",
   "execution_count": 127,
   "metadata": {},
   "outputs": [],
   "source": [
    "# 누적기여율 연산\n",
    "# np.cumsum()\n",
    "pca3_cumsum=pd.Series(pca3.explained_variance_ratio_.cumsum())"
   ]
  },
  {
   "cell_type": "code",
   "execution_count": 133,
   "metadata": {},
   "outputs": [],
   "source": [
    "pca3_cumsum.index=['PC1','PC2','PC3','PC4']"
   ]
  },
  {
   "cell_type": "code",
   "execution_count": 134,
   "metadata": {},
   "outputs": [
    {
     "data": {
      "text/plain": [
       "[<matplotlib.lines.Line2D at 0x1e015f68be0>]"
      ]
     },
     "execution_count": 134,
     "metadata": {},
     "output_type": "execute_result"
    },
    {
     "data": {
      "image/png": "[encoded data removed]",
      "text/plain": [
       "<Figure size 432x288 with 1 Axes>"
      ]
     },
     "metadata": {
      "needs_background": "light"
     },
     "output_type": "display_data"
    }
   ],
   "source": [
    "# 누적기여율 시각화\n",
    "plt.plot(pca3_cumsum,'rs--')"
   ]
  },
  {
   "cell_type": "code",
   "execution_count": 135,
   "metadata": {},
   "outputs": [
    {
     "data": {
      "text/plain": [
       "PC2    0.977685\n",
       "PC3    0.994788\n",
       "PC4    1.000000\n",
       "dtype: float64"
      ]
     },
     "execution_count": 135,
     "metadata": {},
     "output_type": "execute_result"
    }
   ],
   "source": [
    "# 누적기여율이 97% 이상이 되는 차원 개수\n",
    "pca3_cumsum[pca3_cumsum>=0.97]"
   ]
  },
  {
   "cell_type": "code",
   "execution_count": 138,
   "metadata": {},
   "outputs": [],
   "source": [
    "result=PCA(n_components=2).fit_transform(X)"
   ]
  },
  {
   "cell_type": "code",
   "execution_count": 139,
   "metadata": {},
   "outputs": [
    {
     "data": {
      "text/plain": [
       "array([[-2.68412563,  0.31939725],\n",
       "       [-2.71414169, -0.17700123],\n",
       "       [-2.88899057, -0.14494943],\n",
       "       [-2.74534286, -0.31829898],\n",
       "       [-2.72871654,  0.32675451],\n",
       "       [-2.28085963,  0.74133045],\n",
       "       [-2.82053775, -0.08946138],\n",
       "       [-2.62614497,  0.16338496],\n",
       "       [-2.88638273, -0.57831175],\n",
       "       [-2.6727558 , -0.11377425],\n",
       "       [-2.50694709,  0.6450689 ],\n",
       "       [-2.61275523,  0.01472994],\n",
       "       [-2.78610927, -0.235112  ],\n",
       "       [-3.22380374, -0.51139459],\n",
       "       [-2.64475039,  1.17876464],\n",
       "       [-2.38603903,  1.33806233],\n",
       "       [-2.62352788,  0.81067951],\n",
       "       [-2.64829671,  0.31184914],\n",
       "       [-2.19982032,  0.87283904],\n",
       "       [-2.5879864 ,  0.51356031],\n",
       "       [-2.31025622,  0.39134594],\n",
       "       [-2.54370523,  0.43299606],\n",
       "       [-3.21593942,  0.13346807],\n",
       "       [-2.30273318,  0.09870885],\n",
       "       [-2.35575405, -0.03728186],\n",
       "       [-2.50666891, -0.14601688],\n",
       "       [-2.46882007,  0.13095149],\n",
       "       [-2.56231991,  0.36771886],\n",
       "       [-2.63953472,  0.31203998],\n",
       "       [-2.63198939, -0.19696122],\n",
       "       [-2.58739848, -0.20431849],\n",
       "       [-2.4099325 ,  0.41092426],\n",
       "       [-2.64886233,  0.81336382],\n",
       "       [-2.59873675,  1.09314576],\n",
       "       [-2.63692688, -0.12132235],\n",
       "       [-2.86624165,  0.06936447],\n",
       "       [-2.62523805,  0.59937002],\n",
       "       [-2.80068412,  0.26864374],\n",
       "       [-2.98050204, -0.48795834],\n",
       "       [-2.59000631,  0.22904384],\n",
       "       [-2.77010243,  0.26352753],\n",
       "       [-2.84936871, -0.94096057],\n",
       "       [-2.99740655, -0.34192606],\n",
       "       [-2.40561449,  0.18887143],\n",
       "       [-2.20948924,  0.43666314],\n",
       "       [-2.71445143, -0.2502082 ],\n",
       "       [-2.53814826,  0.50377114],\n",
       "       [-2.83946217, -0.22794557],\n",
       "       [-2.54308575,  0.57941002],\n",
       "       [-2.70335978,  0.10770608],\n",
       "       [ 1.28482569,  0.68516047],\n",
       "       [ 0.93248853,  0.31833364],\n",
       "       [ 1.46430232,  0.50426282],\n",
       "       [ 0.18331772, -0.82795901],\n",
       "       [ 1.08810326,  0.07459068],\n",
       "       [ 0.64166908, -0.41824687],\n",
       "       [ 1.09506066,  0.28346827],\n",
       "       [-0.74912267, -1.00489096],\n",
       "       [ 1.04413183,  0.2283619 ],\n",
       "       [-0.0087454 , -0.72308191],\n",
       "       [-0.50784088, -1.26597119],\n",
       "       [ 0.51169856, -0.10398124],\n",
       "       [ 0.26497651, -0.55003646],\n",
       "       [ 0.98493451, -0.12481785],\n",
       "       [-0.17392537, -0.25485421],\n",
       "       [ 0.92786078,  0.46717949],\n",
       "       [ 0.66028376, -0.35296967],\n",
       "       [ 0.23610499, -0.33361077],\n",
       "       [ 0.94473373, -0.54314555],\n",
       "       [ 0.04522698, -0.58383438],\n",
       "       [ 1.11628318, -0.08461685],\n",
       "       [ 0.35788842, -0.06892503],\n",
       "       [ 1.29818388, -0.32778731],\n",
       "       [ 0.92172892, -0.18273779],\n",
       "       [ 0.71485333,  0.14905594],\n",
       "       [ 0.90017437,  0.32850447],\n",
       "       [ 1.33202444,  0.24444088],\n",
       "       [ 1.55780216,  0.26749545],\n",
       "       [ 0.81329065, -0.1633503 ],\n",
       "       [-0.30558378, -0.36826219],\n",
       "       [-0.06812649, -0.70517213],\n",
       "       [-0.18962247, -0.68028676],\n",
       "       [ 0.13642871, -0.31403244],\n",
       "       [ 1.38002644, -0.42095429],\n",
       "       [ 0.58800644, -0.48428742],\n",
       "       [ 0.80685831,  0.19418231],\n",
       "       [ 1.22069088,  0.40761959],\n",
       "       [ 0.81509524, -0.37203706],\n",
       "       [ 0.24595768, -0.2685244 ],\n",
       "       [ 0.16641322, -0.68192672],\n",
       "       [ 0.46480029, -0.67071154],\n",
       "       [ 0.8908152 , -0.03446444],\n",
       "       [ 0.23054802, -0.40438585],\n",
       "       [-0.70453176, -1.01224823],\n",
       "       [ 0.35698149, -0.50491009],\n",
       "       [ 0.33193448, -0.21265468],\n",
       "       [ 0.37621565, -0.29321893],\n",
       "       [ 0.64257601,  0.01773819],\n",
       "       [-0.90646986, -0.75609337],\n",
       "       [ 0.29900084, -0.34889781],\n",
       "       [ 2.53119273, -0.00984911],\n",
       "       [ 1.41523588, -0.57491635],\n",
       "       [ 2.61667602,  0.34390315],\n",
       "       [ 1.97153105, -0.1797279 ],\n",
       "       [ 2.35000592, -0.04026095],\n",
       "       [ 3.39703874,  0.55083667],\n",
       "       [ 0.52123224, -1.19275873],\n",
       "       [ 2.93258707,  0.3555    ],\n",
       "       [ 2.32122882, -0.2438315 ],\n",
       "       [ 2.91675097,  0.78279195],\n",
       "       [ 1.66177415,  0.24222841],\n",
       "       [ 1.80340195, -0.21563762],\n",
       "       [ 2.1655918 ,  0.21627559],\n",
       "       [ 1.34616358, -0.77681835],\n",
       "       [ 1.58592822, -0.53964071],\n",
       "       [ 1.90445637,  0.11925069],\n",
       "       [ 1.94968906,  0.04194326],\n",
       "       [ 3.48705536,  1.17573933],\n",
       "       [ 3.79564542,  0.25732297],\n",
       "       [ 1.30079171, -0.76114964],\n",
       "       [ 2.42781791,  0.37819601],\n",
       "       [ 1.19900111, -0.60609153],\n",
       "       [ 3.49992004,  0.4606741 ],\n",
       "       [ 1.38876613, -0.20439933],\n",
       "       [ 2.2754305 ,  0.33499061],\n",
       "       [ 2.61409047,  0.56090136],\n",
       "       [ 1.25850816, -0.17970479],\n",
       "       [ 1.29113206, -0.11666865],\n",
       "       [ 2.12360872, -0.20972948],\n",
       "       [ 2.38800302,  0.4646398 ],\n",
       "       [ 2.84167278,  0.37526917],\n",
       "       [ 3.23067366,  1.37416509],\n",
       "       [ 2.15943764, -0.21727758],\n",
       "       [ 1.44416124, -0.14341341],\n",
       "       [ 1.78129481, -0.49990168],\n",
       "       [ 3.07649993,  0.68808568],\n",
       "       [ 2.14424331,  0.1400642 ],\n",
       "       [ 1.90509815,  0.04930053],\n",
       "       [ 1.16932634, -0.16499026],\n",
       "       [ 2.10761114,  0.37228787],\n",
       "       [ 2.31415471,  0.18365128],\n",
       "       [ 1.9222678 ,  0.40920347],\n",
       "       [ 1.41523588, -0.57491635],\n",
       "       [ 2.56301338,  0.2778626 ],\n",
       "       [ 2.41874618,  0.3047982 ],\n",
       "       [ 1.94410979,  0.1875323 ],\n",
       "       [ 1.52716661, -0.37531698],\n",
       "       [ 1.76434572,  0.07885885],\n",
       "       [ 1.90094161,  0.11662796],\n",
       "       [ 1.39018886, -0.28266094]])"
      ]
     },
     "execution_count": 139,
     "metadata": {},
     "output_type": "execute_result"
    }
   ],
   "source": [
    "result"
   ]
  },
  {
   "cell_type": "markdown",
   "metadata": {},
   "source": [
    "### X 데이터에 대해 스케일링 적용한 버전"
   ]
  },
  {
   "cell_type": "code",
   "execution_count": 154,
   "metadata": {},
   "outputs": [],
   "source": [
    "# StandardScaler 객체 생성 => scale()\n",
    "from sklearn.preprocessing import StandardScaler"
   ]
  },
  {
   "cell_type": "code",
   "execution_count": 155,
   "metadata": {},
   "outputs": [],
   "source": [
    "scaler=StandardScaler()"
   ]
  },
  {
   "cell_type": "code",
   "execution_count": 157,
   "metadata": {},
   "outputs": [],
   "source": [
    "scaled_X=scaler.fit_transform(X)"
   ]
  },
  {
   "cell_type": "code",
   "execution_count": 158,
   "metadata": {},
   "outputs": [
    {
     "data": {
      "text/plain": [
       "array([[-9.00681170e-01,  1.01900435e+00, -1.34022653e+00,\n",
       "        -1.31544430e+00],\n",
       "       [-1.14301691e+00, -1.31979479e-01, -1.34022653e+00,\n",
       "        -1.31544430e+00],\n",
       "       [-1.38535265e+00,  3.28414053e-01, -1.39706395e+00,\n",
       "        -1.31544430e+00],\n",
       "       [-1.50652052e+00,  9.82172869e-02, -1.28338910e+00,\n",
       "        -1.31544430e+00],\n",
       "       [-1.02184904e+00,  1.24920112e+00, -1.34022653e+00,\n",
       "        -1.31544430e+00],\n",
       "       [-5.37177559e-01,  1.93979142e+00, -1.16971425e+00,\n",
       "        -1.05217993e+00],\n",
       "       [-1.50652052e+00,  7.88807586e-01, -1.34022653e+00,\n",
       "        -1.18381211e+00],\n",
       "       [-1.02184904e+00,  7.88807586e-01, -1.28338910e+00,\n",
       "        -1.31544430e+00],\n",
       "       [-1.74885626e+00, -3.62176246e-01, -1.34022653e+00,\n",
       "        -1.31544430e+00],\n",
       "       [-1.14301691e+00,  9.82172869e-02, -1.28338910e+00,\n",
       "        -1.44707648e+00],\n",
       "       [-5.37177559e-01,  1.47939788e+00, -1.28338910e+00,\n",
       "        -1.31544430e+00],\n",
       "       [-1.26418478e+00,  7.88807586e-01, -1.22655167e+00,\n",
       "        -1.31544430e+00],\n",
       "       [-1.26418478e+00, -1.31979479e-01, -1.34022653e+00,\n",
       "        -1.44707648e+00],\n",
       "       [-1.87002413e+00, -1.31979479e-01, -1.51073881e+00,\n",
       "        -1.44707648e+00],\n",
       "       [-5.25060772e-02,  2.16998818e+00, -1.45390138e+00,\n",
       "        -1.31544430e+00],\n",
       "       [-1.73673948e-01,  3.09077525e+00, -1.28338910e+00,\n",
       "        -1.05217993e+00],\n",
       "       [-5.37177559e-01,  1.93979142e+00, -1.39706395e+00,\n",
       "        -1.05217993e+00],\n",
       "       [-9.00681170e-01,  1.01900435e+00, -1.34022653e+00,\n",
       "        -1.18381211e+00],\n",
       "       [-1.73673948e-01,  1.70959465e+00, -1.16971425e+00,\n",
       "        -1.18381211e+00],\n",
       "       [-9.00681170e-01,  1.70959465e+00, -1.28338910e+00,\n",
       "        -1.18381211e+00],\n",
       "       [-5.37177559e-01,  7.88807586e-01, -1.16971425e+00,\n",
       "        -1.31544430e+00],\n",
       "       [-9.00681170e-01,  1.47939788e+00, -1.28338910e+00,\n",
       "        -1.05217993e+00],\n",
       "       [-1.50652052e+00,  1.24920112e+00, -1.56757623e+00,\n",
       "        -1.31544430e+00],\n",
       "       [-9.00681170e-01,  5.58610819e-01, -1.16971425e+00,\n",
       "        -9.20547742e-01],\n",
       "       [-1.26418478e+00,  7.88807586e-01, -1.05603939e+00,\n",
       "        -1.31544430e+00],\n",
       "       [-1.02184904e+00, -1.31979479e-01, -1.22655167e+00,\n",
       "        -1.31544430e+00],\n",
       "       [-1.02184904e+00,  7.88807586e-01, -1.22655167e+00,\n",
       "        -1.05217993e+00],\n",
       "       [-7.79513300e-01,  1.01900435e+00, -1.28338910e+00,\n",
       "        -1.31544430e+00],\n",
       "       [-7.79513300e-01,  7.88807586e-01, -1.34022653e+00,\n",
       "        -1.31544430e+00],\n",
       "       [-1.38535265e+00,  3.28414053e-01, -1.22655167e+00,\n",
       "        -1.31544430e+00],\n",
       "       [-1.26418478e+00,  9.82172869e-02, -1.22655167e+00,\n",
       "        -1.31544430e+00],\n",
       "       [-5.37177559e-01,  7.88807586e-01, -1.28338910e+00,\n",
       "        -1.05217993e+00],\n",
       "       [-7.79513300e-01,  2.40018495e+00, -1.28338910e+00,\n",
       "        -1.44707648e+00],\n",
       "       [-4.16009689e-01,  2.63038172e+00, -1.34022653e+00,\n",
       "        -1.31544430e+00],\n",
       "       [-1.14301691e+00,  9.82172869e-02, -1.28338910e+00,\n",
       "        -1.31544430e+00],\n",
       "       [-1.02184904e+00,  3.28414053e-01, -1.45390138e+00,\n",
       "        -1.31544430e+00],\n",
       "       [-4.16009689e-01,  1.01900435e+00, -1.39706395e+00,\n",
       "        -1.31544430e+00],\n",
       "       [-1.14301691e+00,  1.24920112e+00, -1.34022653e+00,\n",
       "        -1.44707648e+00],\n",
       "       [-1.74885626e+00, -1.31979479e-01, -1.39706395e+00,\n",
       "        -1.31544430e+00],\n",
       "       [-9.00681170e-01,  7.88807586e-01, -1.28338910e+00,\n",
       "        -1.31544430e+00],\n",
       "       [-1.02184904e+00,  1.01900435e+00, -1.39706395e+00,\n",
       "        -1.18381211e+00],\n",
       "       [-1.62768839e+00, -1.74335684e+00, -1.39706395e+00,\n",
       "        -1.18381211e+00],\n",
       "       [-1.74885626e+00,  3.28414053e-01, -1.39706395e+00,\n",
       "        -1.31544430e+00],\n",
       "       [-1.02184904e+00,  1.01900435e+00, -1.22655167e+00,\n",
       "        -7.88915558e-01],\n",
       "       [-9.00681170e-01,  1.70959465e+00, -1.05603939e+00,\n",
       "        -1.05217993e+00],\n",
       "       [-1.26418478e+00, -1.31979479e-01, -1.34022653e+00,\n",
       "        -1.18381211e+00],\n",
       "       [-9.00681170e-01,  1.70959465e+00, -1.22655167e+00,\n",
       "        -1.31544430e+00],\n",
       "       [-1.50652052e+00,  3.28414053e-01, -1.34022653e+00,\n",
       "        -1.31544430e+00],\n",
       "       [-6.58345429e-01,  1.47939788e+00, -1.28338910e+00,\n",
       "        -1.31544430e+00],\n",
       "       [-1.02184904e+00,  5.58610819e-01, -1.34022653e+00,\n",
       "        -1.31544430e+00],\n",
       "       [ 1.40150837e+00,  3.28414053e-01,  5.35408562e-01,\n",
       "         2.64141916e-01],\n",
       "       [ 6.74501145e-01,  3.28414053e-01,  4.21733708e-01,\n",
       "         3.95774101e-01],\n",
       "       [ 1.28034050e+00,  9.82172869e-02,  6.49083415e-01,\n",
       "         3.95774101e-01],\n",
       "       [-4.16009689e-01, -1.74335684e+00,  1.37546573e-01,\n",
       "         1.32509732e-01],\n",
       "       [ 7.95669016e-01, -5.92373012e-01,  4.78571135e-01,\n",
       "         3.95774101e-01],\n",
       "       [-1.73673948e-01, -5.92373012e-01,  4.21733708e-01,\n",
       "         1.32509732e-01],\n",
       "       [ 5.53333275e-01,  5.58610819e-01,  5.35408562e-01,\n",
       "         5.27406285e-01],\n",
       "       [-1.14301691e+00, -1.51316008e+00, -2.60315415e-01,\n",
       "        -2.62386821e-01],\n",
       "       [ 9.16836886e-01, -3.62176246e-01,  4.78571135e-01,\n",
       "         1.32509732e-01],\n",
       "       [-7.79513300e-01, -8.22569778e-01,  8.07091462e-02,\n",
       "         2.64141916e-01],\n",
       "       [-1.02184904e+00, -2.43394714e+00, -1.46640561e-01,\n",
       "        -2.62386821e-01],\n",
       "       [ 6.86617933e-02, -1.31979479e-01,  2.51221427e-01,\n",
       "         3.95774101e-01],\n",
       "       [ 1.89829664e-01, -1.97355361e+00,  1.37546573e-01,\n",
       "        -2.62386821e-01],\n",
       "       [ 3.10997534e-01, -3.62176246e-01,  5.35408562e-01,\n",
       "         2.64141916e-01],\n",
       "       [-2.94841818e-01, -3.62176246e-01, -8.98031345e-02,\n",
       "         1.32509732e-01],\n",
       "       [ 1.03800476e+00,  9.82172869e-02,  3.64896281e-01,\n",
       "         2.64141916e-01],\n",
       "       [-2.94841818e-01, -1.31979479e-01,  4.21733708e-01,\n",
       "         3.95774101e-01],\n",
       "       [-5.25060772e-02, -8.22569778e-01,  1.94384000e-01,\n",
       "        -2.62386821e-01],\n",
       "       [ 4.32165405e-01, -1.97355361e+00,  4.21733708e-01,\n",
       "         3.95774101e-01],\n",
       "       [-2.94841818e-01, -1.28296331e+00,  8.07091462e-02,\n",
       "        -1.30754636e-01],\n",
       "       [ 6.86617933e-02,  3.28414053e-01,  5.92245988e-01,\n",
       "         7.90670654e-01],\n",
       "       [ 3.10997534e-01, -5.92373012e-01,  1.37546573e-01,\n",
       "         1.32509732e-01],\n",
       "       [ 5.53333275e-01, -1.28296331e+00,  6.49083415e-01,\n",
       "         3.95774101e-01],\n",
       "       [ 3.10997534e-01, -5.92373012e-01,  5.35408562e-01,\n",
       "         8.77547895e-04],\n",
       "       [ 6.74501145e-01, -3.62176246e-01,  3.08058854e-01,\n",
       "         1.32509732e-01],\n",
       "       [ 9.16836886e-01, -1.31979479e-01,  3.64896281e-01,\n",
       "         2.64141916e-01],\n",
       "       [ 1.15917263e+00, -5.92373012e-01,  5.92245988e-01,\n",
       "         2.64141916e-01],\n",
       "       [ 1.03800476e+00, -1.31979479e-01,  7.05920842e-01,\n",
       "         6.59038469e-01],\n",
       "       [ 1.89829664e-01, -3.62176246e-01,  4.21733708e-01,\n",
       "         3.95774101e-01],\n",
       "       [-1.73673948e-01, -1.05276654e+00, -1.46640561e-01,\n",
       "        -2.62386821e-01],\n",
       "       [-4.16009689e-01, -1.51316008e+00,  2.38717193e-02,\n",
       "        -1.30754636e-01],\n",
       "       [-4.16009689e-01, -1.51316008e+00, -3.29657076e-02,\n",
       "        -2.62386821e-01],\n",
       "       [-5.25060772e-02, -8.22569778e-01,  8.07091462e-02,\n",
       "         8.77547895e-04],\n",
       "       [ 1.89829664e-01, -8.22569778e-01,  7.62758269e-01,\n",
       "         5.27406285e-01],\n",
       "       [-5.37177559e-01, -1.31979479e-01,  4.21733708e-01,\n",
       "         3.95774101e-01],\n",
       "       [ 1.89829664e-01,  7.88807586e-01,  4.21733708e-01,\n",
       "         5.27406285e-01],\n",
       "       [ 1.03800476e+00,  9.82172869e-02,  5.35408562e-01,\n",
       "         3.95774101e-01],\n",
       "       [ 5.53333275e-01, -1.74335684e+00,  3.64896281e-01,\n",
       "         1.32509732e-01],\n",
       "       [-2.94841818e-01, -1.31979479e-01,  1.94384000e-01,\n",
       "         1.32509732e-01],\n",
       "       [-4.16009689e-01, -1.28296331e+00,  1.37546573e-01,\n",
       "         1.32509732e-01],\n",
       "       [-4.16009689e-01, -1.05276654e+00,  3.64896281e-01,\n",
       "         8.77547895e-04],\n",
       "       [ 3.10997534e-01, -1.31979479e-01,  4.78571135e-01,\n",
       "         2.64141916e-01],\n",
       "       [-5.25060772e-02, -1.05276654e+00,  1.37546573e-01,\n",
       "         8.77547895e-04],\n",
       "       [-1.02184904e+00, -1.74335684e+00, -2.60315415e-01,\n",
       "        -2.62386821e-01],\n",
       "       [-2.94841818e-01, -8.22569778e-01,  2.51221427e-01,\n",
       "         1.32509732e-01],\n",
       "       [-1.73673948e-01, -1.31979479e-01,  2.51221427e-01,\n",
       "         8.77547895e-04],\n",
       "       [-1.73673948e-01, -3.62176246e-01,  2.51221427e-01,\n",
       "         1.32509732e-01],\n",
       "       [ 4.32165405e-01, -3.62176246e-01,  3.08058854e-01,\n",
       "         1.32509732e-01],\n",
       "       [-9.00681170e-01, -1.28296331e+00, -4.30827696e-01,\n",
       "        -1.30754636e-01],\n",
       "       [-1.73673948e-01, -5.92373012e-01,  1.94384000e-01,\n",
       "         1.32509732e-01],\n",
       "       [ 5.53333275e-01,  5.58610819e-01,  1.27429511e+00,\n",
       "         1.71209594e+00],\n",
       "       [-5.25060772e-02, -8.22569778e-01,  7.62758269e-01,\n",
       "         9.22302838e-01],\n",
       "       [ 1.52267624e+00, -1.31979479e-01,  1.21745768e+00,\n",
       "         1.18556721e+00],\n",
       "       [ 5.53333275e-01, -3.62176246e-01,  1.04694540e+00,\n",
       "         7.90670654e-01],\n",
       "       [ 7.95669016e-01, -1.31979479e-01,  1.16062026e+00,\n",
       "         1.31719939e+00],\n",
       "       [ 2.12851559e+00, -1.31979479e-01,  1.61531967e+00,\n",
       "         1.18556721e+00],\n",
       "       [-1.14301691e+00, -1.28296331e+00,  4.21733708e-01,\n",
       "         6.59038469e-01],\n",
       "       [ 1.76501198e+00, -3.62176246e-01,  1.44480739e+00,\n",
       "         7.90670654e-01],\n",
       "       [ 1.03800476e+00, -1.28296331e+00,  1.16062026e+00,\n",
       "         7.90670654e-01],\n",
       "       [ 1.64384411e+00,  1.24920112e+00,  1.33113254e+00,\n",
       "         1.71209594e+00],\n",
       "       [ 7.95669016e-01,  3.28414053e-01,  7.62758269e-01,\n",
       "         1.05393502e+00],\n",
       "       [ 6.74501145e-01, -8.22569778e-01,  8.76433123e-01,\n",
       "         9.22302838e-01],\n",
       "       [ 1.15917263e+00, -1.31979479e-01,  9.90107977e-01,\n",
       "         1.18556721e+00],\n",
       "       [-1.73673948e-01, -1.28296331e+00,  7.05920842e-01,\n",
       "         1.05393502e+00],\n",
       "       [-5.25060772e-02, -5.92373012e-01,  7.62758269e-01,\n",
       "         1.58046376e+00],\n",
       "       [ 6.74501145e-01,  3.28414053e-01,  8.76433123e-01,\n",
       "         1.44883158e+00],\n",
       "       [ 7.95669016e-01, -1.31979479e-01,  9.90107977e-01,\n",
       "         7.90670654e-01],\n",
       "       [ 2.24968346e+00,  1.70959465e+00,  1.67215710e+00,\n",
       "         1.31719939e+00],\n",
       "       [ 2.24968346e+00, -1.05276654e+00,  1.78583195e+00,\n",
       "         1.44883158e+00],\n",
       "       [ 1.89829664e-01, -1.97355361e+00,  7.05920842e-01,\n",
       "         3.95774101e-01],\n",
       "       [ 1.28034050e+00,  3.28414053e-01,  1.10378283e+00,\n",
       "         1.44883158e+00],\n",
       "       [-2.94841818e-01, -5.92373012e-01,  6.49083415e-01,\n",
       "         1.05393502e+00],\n",
       "       [ 2.24968346e+00, -5.92373012e-01,  1.67215710e+00,\n",
       "         1.05393502e+00],\n",
       "       [ 5.53333275e-01, -8.22569778e-01,  6.49083415e-01,\n",
       "         7.90670654e-01],\n",
       "       [ 1.03800476e+00,  5.58610819e-01,  1.10378283e+00,\n",
       "         1.18556721e+00],\n",
       "       [ 1.64384411e+00,  3.28414053e-01,  1.27429511e+00,\n",
       "         7.90670654e-01],\n",
       "       [ 4.32165405e-01, -5.92373012e-01,  5.92245988e-01,\n",
       "         7.90670654e-01],\n",
       "       [ 3.10997534e-01, -1.31979479e-01,  6.49083415e-01,\n",
       "         7.90670654e-01],\n",
       "       [ 6.74501145e-01, -5.92373012e-01,  1.04694540e+00,\n",
       "         1.18556721e+00],\n",
       "       [ 1.64384411e+00, -1.31979479e-01,  1.16062026e+00,\n",
       "         5.27406285e-01],\n",
       "       [ 1.88617985e+00, -5.92373012e-01,  1.33113254e+00,\n",
       "         9.22302838e-01],\n",
       "       [ 2.49201920e+00,  1.70959465e+00,  1.50164482e+00,\n",
       "         1.05393502e+00],\n",
       "       [ 6.74501145e-01, -5.92373012e-01,  1.04694540e+00,\n",
       "         1.31719939e+00],\n",
       "       [ 5.53333275e-01, -5.92373012e-01,  7.62758269e-01,\n",
       "         3.95774101e-01],\n",
       "       [ 3.10997534e-01, -1.05276654e+00,  1.04694540e+00,\n",
       "         2.64141916e-01],\n",
       "       [ 2.24968346e+00, -1.31979479e-01,  1.33113254e+00,\n",
       "         1.44883158e+00],\n",
       "       [ 5.53333275e-01,  7.88807586e-01,  1.04694540e+00,\n",
       "         1.58046376e+00],\n",
       "       [ 6.74501145e-01,  9.82172869e-02,  9.90107977e-01,\n",
       "         7.90670654e-01],\n",
       "       [ 1.89829664e-01, -1.31979479e-01,  5.92245988e-01,\n",
       "         7.90670654e-01],\n",
       "       [ 1.28034050e+00,  9.82172869e-02,  9.33270550e-01,\n",
       "         1.18556721e+00],\n",
       "       [ 1.03800476e+00,  9.82172869e-02,  1.04694540e+00,\n",
       "         1.58046376e+00],\n",
       "       [ 1.28034050e+00,  9.82172869e-02,  7.62758269e-01,\n",
       "         1.44883158e+00],\n",
       "       [-5.25060772e-02, -8.22569778e-01,  7.62758269e-01,\n",
       "         9.22302838e-01],\n",
       "       [ 1.15917263e+00,  3.28414053e-01,  1.21745768e+00,\n",
       "         1.44883158e+00],\n",
       "       [ 1.03800476e+00,  5.58610819e-01,  1.10378283e+00,\n",
       "         1.71209594e+00],\n",
       "       [ 1.03800476e+00, -1.31979479e-01,  8.19595696e-01,\n",
       "         1.44883158e+00],\n",
       "       [ 5.53333275e-01, -1.28296331e+00,  7.05920842e-01,\n",
       "         9.22302838e-01],\n",
       "       [ 7.95669016e-01, -1.31979479e-01,  8.19595696e-01,\n",
       "         1.05393502e+00],\n",
       "       [ 4.32165405e-01,  7.88807586e-01,  9.33270550e-01,\n",
       "         1.44883158e+00],\n",
       "       [ 6.86617933e-02, -1.31979479e-01,  7.62758269e-01,\n",
       "         7.90670654e-01]])"
      ]
     },
     "execution_count": 158,
     "metadata": {},
     "output_type": "execute_result"
    }
   ],
   "source": [
    "scaled_X"
   ]
  },
  {
   "cell_type": "code",
   "execution_count": 159,
   "metadata": {},
   "outputs": [
    {
     "data": {
      "text/plain": [
       "PCA(copy=True, iterated_power='auto', n_components=None, random_state=None,\n",
       "  svd_solver='auto', tol=0.0, whiten=False)"
      ]
     },
     "execution_count": 159,
     "metadata": {},
     "output_type": "execute_result"
    }
   ],
   "source": [
    "# 주성분 개수를 지정하지않고 적용\n",
    "pca=PCA()\n",
    "pca.fit(scaled_X)"
   ]
  },
  {
   "cell_type": "code",
   "execution_count": 160,
   "metadata": {},
   "outputs": [
    {
     "data": {
      "text/plain": [
       "array([[ 0.52106591, -0.26934744,  0.5804131 ,  0.56485654],\n",
       "       [ 0.37741762,  0.92329566,  0.02449161,  0.06694199],\n",
       "       [-0.71956635,  0.24438178,  0.14212637,  0.63427274],\n",
       "       [-0.26128628,  0.12350962,  0.80144925, -0.52359713]])"
      ]
     },
     "execution_count": 160,
     "metadata": {},
     "output_type": "execute_result"
    }
   ],
   "source": [
    "pca.components_"
   ]
  },
  {
   "cell_type": "code",
   "execution_count": 161,
   "metadata": {},
   "outputs": [
    {
     "data": {
      "text/plain": [
       "array([0.72962445, 0.95813207, 0.99482129, 1.        ])"
      ]
     },
     "execution_count": 161,
     "metadata": {},
     "output_type": "execute_result"
    }
   ],
   "source": [
    "# 누적 기여율 계산 및 시각화\n",
    "pca.explained_variance_ratio_.cumsum()"
   ]
  },
  {
   "cell_type": "code",
   "execution_count": 165,
   "metadata": {},
   "outputs": [
    {
     "data": {
      "text/plain": [
       "[<matplotlib.lines.Line2D at 0x1e0163e7240>]"
      ]
     },
     "execution_count": 165,
     "metadata": {},
     "output_type": "execute_result"
    },
    {
     "data": {
      "image/png": "[encoded data removed]",
      "text/plain": [
       "<Figure size 432x288 with 1 Axes>"
      ]
     },
     "metadata": {
      "needs_background": "light"
     },
     "output_type": "display_data"
    }
   ],
   "source": [
    "plt.plot(pca.explained_variance_ratio_.cumsum(),'rs:')"
   ]
  },
  {
   "cell_type": "code",
   "execution_count": 166,
   "metadata": {},
   "outputs": [],
   "source": [
    "# 해석\n",
    "# 누적기여율은 달라지지 않는다"
   ]
  },
  {
   "cell_type": "code",
   "execution_count": null,
   "metadata": {},
   "outputs": [],
   "source": []
  }
 ],
 "metadata": {
  "kernelspec": {
   "display_name": "Python 3",
   "language": "python",
   "name": "python3"
  },
  "language_info": {
   "codemirror_mode": {
    "name": "ipython",
    "version": 3
   },
   "file_extension": ".py",
   "mimetype": "text/x-python",
   "name": "python",
   "nbconvert_exporter": "python",
   "pygments_lexer": "ipython3",
   "version": "3.7.1"
  }
 },
 "nbformat": 4,
 "nbformat_minor": 2
}
