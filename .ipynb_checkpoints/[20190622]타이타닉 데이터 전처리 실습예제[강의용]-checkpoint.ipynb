{
 "cells": [
  {
   "cell_type": "code",
   "execution_count": 2,
   "metadata": {},
   "outputs": [],
   "source": [
    "# pandas, numpy, pyplot 라이브러리 가져오기\n",
    "import pandas as pd\n",
    "import numpy as np\n",
    "import matplotlib.pyplot as plt"
   ]
  },
  {
   "cell_type": "markdown",
   "metadata": {},
   "source": [
    "#### < 데이터셋 개요>\n",
    "- Survived: 생존 여부 \n",
    "    - 0 = No\n",
    "    - 1 = Yes\n",
    "- pclass: 티켓 등급 \n",
    "    - 1 = 1st\n",
    "    - 2 = 2nd\n",
    "    - 3 = 3rd\n",
    "- Sex: 성별\n",
    "- Age: 나이\n",
    "- Sibsp: 함께 탑승한 형제자매, 배우자의 수\n",
    "- Parch: 함께 탑승한 부모, 자식의 수\n",
    "- Ticket: 티켓 번호\n",
    "- Name : 이름, 사회적등급\n",
    "- Fare: 운임\n",
    "- Cabin: 객실 번호\n",
    "- Embarked: 탑승 항구 \n",
    "    - C = Cherbourg\n",
    "    - Q = Queenstown\n",
    "    - S = Southampton"
   ]
  },
  {
   "cell_type": "markdown",
   "metadata": {},
   "source": [
    "#### 데이터 적재"
   ]
  },
  {
   "cell_type": "code",
   "execution_count": 4,
   "metadata": {},
   "outputs": [
    {
     "data": {
      "text/html": [
       "<div>\n",
       "<style scoped>\n",
       "    .dataframe tbody tr th:only-of-type {\n",
       "        vertical-align: middle;\n",
       "    }\n",
       "\n",
       "    .dataframe tbody tr th {\n",
       "        vertical-align: top;\n",
       "    }\n",
       "\n",
       "    .dataframe thead th {\n",
       "        text-align: right;\n",
       "    }\n",
       "</style>\n",
       "<table border=\"1\" class=\"dataframe\">\n",
       "  <thead>\n",
       "    <tr style=\"text-align: right;\">\n",
       "      <th></th>\n",
       "      <th>PassengerId</th>\n",
       "      <th>Survived</th>\n",
       "      <th>Pclass</th>\n",
       "      <th>Name</th>\n",
       "      <th>Sex</th>\n",
       "      <th>Age</th>\n",
       "      <th>SibSp</th>\n",
       "      <th>Parch</th>\n",
       "      <th>Ticket</th>\n",
       "      <th>Fare</th>\n",
       "      <th>Cabin</th>\n",
       "      <th>Embarked</th>\n",
       "    </tr>\n",
       "  </thead>\n",
       "  <tbody>\n",
       "    <tr>\n",
       "      <th>0</th>\n",
       "      <td>1</td>\n",
       "      <td>0</td>\n",
       "      <td>3</td>\n",
       "      <td>Braund, Mr. Owen Harris</td>\n",
       "      <td>male</td>\n",
       "      <td>22.0</td>\n",
       "      <td>1</td>\n",
       "      <td>0</td>\n",
       "      <td>A/5 21171</td>\n",
       "      <td>7.2500</td>\n",
       "      <td>NaN</td>\n",
       "      <td>S</td>\n",
       "    </tr>\n",
       "    <tr>\n",
       "      <th>1</th>\n",
       "      <td>2</td>\n",
       "      <td>1</td>\n",
       "      <td>1</td>\n",
       "      <td>Cumings, Mrs. John Bradley (Florence Briggs Th...</td>\n",
       "      <td>female</td>\n",
       "      <td>38.0</td>\n",
       "      <td>1</td>\n",
       "      <td>0</td>\n",
       "      <td>PC 17599</td>\n",
       "      <td>71.2833</td>\n",
       "      <td>C85</td>\n",
       "      <td>C</td>\n",
       "    </tr>\n",
       "  </tbody>\n",
       "</table>\n",
       "</div>"
      ],
      "text/plain": [
       "   PassengerId  Survived  Pclass  \\\n",
       "0            1         0       3   \n",
       "1            2         1       1   \n",
       "\n",
       "                                                Name     Sex   Age  SibSp  \\\n",
       "0                            Braund, Mr. Owen Harris    male  22.0      1   \n",
       "1  Cumings, Mrs. John Bradley (Florence Briggs Th...  female  38.0      1   \n",
       "\n",
       "   Parch     Ticket     Fare Cabin Embarked  \n",
       "0      0  A/5 21171   7.2500   NaN        S  \n",
       "1      0   PC 17599  71.2833   C85        C  "
      ]
     },
     "execution_count": 4,
     "metadata": {},
     "output_type": "execute_result"
    }
   ],
   "source": [
    "data = pd.read_csv('train.csv')\n",
    "data.head(2)"
   ]
  },
  {
   "cell_type": "code",
   "execution_count": 8,
   "metadata": {},
   "outputs": [],
   "source": [
    "# 컬럼 이름 변경 : 모두 소문자로 변경 (옵션)\n",
    "data.columns = data.columns.str.lower()"
   ]
  },
  {
   "cell_type": "code",
   "execution_count": 9,
   "metadata": {},
   "outputs": [
    {
     "data": {
      "text/plain": [
       "Index(['passengerid', 'survived', 'pclass', 'name', 'sex', 'age', 'sibsp',\n",
       "       'parch', 'ticket', 'fare', 'cabin', 'embarked'],\n",
       "      dtype='object')"
      ]
     },
     "execution_count": 9,
     "metadata": {},
     "output_type": "execute_result"
    }
   ],
   "source": [
    "data.columns"
   ]
  },
  {
   "cell_type": "code",
   "execution_count": 10,
   "metadata": {},
   "outputs": [
    {
     "data": {
      "text/plain": [
       "(891, 12)"
      ]
     },
     "execution_count": 10,
     "metadata": {},
     "output_type": "execute_result"
    }
   ],
   "source": [
    "data.shape"
   ]
  },
  {
   "cell_type": "markdown",
   "metadata": {},
   "source": [
    "#### 결측치 확인\n",
    "\n",
    "- 컬럼별 개수\n",
    "- 데이터셋의 크기가 작은 경우는 결측치가 있는 레코드를 삭제하지 않는다.\n",
    "    - 대체하는 방식으로 전처리"
   ]
  },
  {
   "cell_type": "code",
   "execution_count": 11,
   "metadata": {},
   "outputs": [
    {
     "data": {
      "text/plain": [
       "passengerid      0\n",
       "survived         0\n",
       "pclass           0\n",
       "name             0\n",
       "sex              0\n",
       "age            177\n",
       "sibsp            0\n",
       "parch            0\n",
       "ticket           0\n",
       "fare             0\n",
       "cabin          687\n",
       "embarked         2\n",
       "dtype: int64"
      ]
     },
     "execution_count": 11,
     "metadata": {},
     "output_type": "execute_result"
    }
   ],
   "source": [
    "# 컬럼별 결측치 확인\n",
    "data.isnull().sum()"
   ]
  },
  {
   "cell_type": "code",
   "execution_count": 12,
   "metadata": {},
   "outputs": [
    {
     "data": {
      "text/plain": [
       "passengerid    0.000000\n",
       "survived       0.000000\n",
       "pclass         0.000000\n",
       "name           0.000000\n",
       "sex            0.000000\n",
       "age            0.198653\n",
       "sibsp          0.000000\n",
       "parch          0.000000\n",
       "ticket         0.000000\n",
       "fare           0.000000\n",
       "cabin          0.771044\n",
       "embarked       0.002245\n",
       "dtype: float64"
      ]
     },
     "execution_count": 12,
     "metadata": {},
     "output_type": "execute_result"
    }
   ],
   "source": [
    "# 결측치 비율 확인\n",
    "# series 간의 연산\n",
    "data.isnull().sum() / data.shape[0]"
   ]
  },
  {
   "cell_type": "code",
   "execution_count": null,
   "metadata": {},
   "outputs": [],
   "source": [
    "# cabin 컬럼 결측치 => 대체하는 방법으로 전처리\n",
    "# 77%는 매우 높은 비율 => cabin 컬럼 자체를 삭제하는 것이 좋다."
   ]
  },
  {
   "cell_type": "markdown",
   "metadata": {},
   "source": [
    "#### 불필요한 변수 제거\n",
    "\n",
    "- 본인이 생각했을 때 제거해도 될 것 같은 컬럼명 :\n",
    "- 제거해도 될 것 같은 이유 : "
   ]
  },
  {
   "cell_type": "code",
   "execution_count": null,
   "metadata": {},
   "outputs": [],
   "source": [
    "# 삭제해도 될 것 같은 컬럼명 : 승선지(Embarked)\n",
    "# 사유 : 승선지는 사망과의 인과관계가 부족하기 때문에 전반적 데이터 처리에 영향을 주지 않을 것"
   ]
  },
  {
   "cell_type": "code",
   "execution_count": null,
   "metadata": {},
   "outputs": [],
   "source": [
    "# 제 생각엔 Survived를 삭제하는게 좋을 것 같습니다.\n",
    "# (탑승자가 살아있어야 탑승자로서의 의미가 있기 때문에)"
   ]
  },
  {
   "cell_type": "code",
   "execution_count": null,
   "metadata": {},
   "outputs": [],
   "source": [
    "# - 본인이 생각했을 때 제거해도 될것 같은 컬럼명: Ticket, Name\n",
    "# - 제거해도 될것 같은 이유: \n",
    "# Ticket : passengerid 와 다를게 없고, Pclass 와 Fare 만으로도 Ticket 컬럼의 데이터이상을 가져올수있음\n",
    "# Name: 중복되는 이름의 유무는 가치가없고 passengerid 로 대체될수 있음"
   ]
  },
  {
   "cell_type": "code",
   "execution_count": null,
   "metadata": {},
   "outputs": [],
   "source": [
    "# 삭제해도 될 것 같은 컬럼명: Ticket\n",
    "# 이유 : 탑승자의 고유 값은 이름과 passengerid로도 충분하기 때문"
   ]
  },
  {
   "cell_type": "code",
   "execution_count": null,
   "metadata": {},
   "outputs": [],
   "source": [
    "# 삭제해도 될것 같은 컬럼명 : 티켓 번호..\n",
    "# 이유 : 각 개인마다 달라서 그룹화되는 것이 없어 보여서.."
   ]
  },
  {
   "cell_type": "code",
   "execution_count": null,
   "metadata": {},
   "outputs": [],
   "source": [
    "###### 현 단계에서 컬럼 삭제 가능 여부 ######\n",
    "# 1. 종속변수와의 관계 자체는 볼 수 없다.\n",
    "# 2. 활용가능성(EDA 단계)에서 판단할 수 있다."
   ]
  },
  {
   "cell_type": "markdown",
   "metadata": {},
   "source": [
    "#### Cabin 데이터를 활용하여 유도변수 생성\n",
    "\n",
    "- 본인이 생각한 유도 변수 :\n",
    "- 해당 유도 변수를 사용해야하는 이유 : "
   ]
  },
  {
   "cell_type": "code",
   "execution_count": null,
   "metadata": {},
   "outputs": [],
   "source": [
    "# age 를 0~9 , 10대 , 20대 , 30대 , .... 로 만든다.  \n",
    "# 이유 : 나이 한살 한살 따지는 것은 불필요 하기 때문에"
   ]
  },
  {
   "cell_type": "code",
   "execution_count": null,
   "metadata": {},
   "outputs": [],
   "source": [
    "# 버전 추가해보기 cabin_?? => EDA 확인 후 최종 결정\n",
    "# Cabin 컬럼 내의 NaN 값을 기준으로 bool type 유도변수로 생성 (예시 | 값 있음 : 1, NaN : 0)\n",
    "# 사유 : 객실 번호만으로는 결측치가 많고 공통성을 찾기 힘들지만, 객실이 확인된 것의 유무를 통해 생존 여부를 유추할 수 있을 것"
   ]
  },
  {
   "cell_type": "code",
   "execution_count": null,
   "metadata": {},
   "outputs": [],
   "source": [
    "# 본인이 생각한 유도 변수: Nan 아닌것 vs Nan\n",
    "#/방번호의 첫알파벳/방번호의 숫자 1~30, 30~60, 60~90...\n",
    "# 해당 유도 변수를 사용해야하는 이유: \n",
    "# 요금을 결제 한 사람이 누구인지 알 수 있다(직위,책임자)/\n",
    "# 알파벳이나 숫자로 방의 위치를 알수있다\n",
    "# 버전 추가해보기 : 숫자(정확한 방번호)"
   ]
  },
  {
   "cell_type": "code",
   "execution_count": null,
   "metadata": {},
   "outputs": [],
   "source": [
    "# 본인이 생각한 유도 변수:  1) 생존자의 cabin 번호 2) 티켓 등급별 cabin번호 \n",
    "#/ 이유 : 1)생존자가 많은 cabin이 어디인지 알 수 있음 \n",
    "# 2) 티겟등급 별로 cabin 번호가 다를 것 같음. 티켓 등급과 남아있는 cabin 데이터로 유추."
   ]
  },
  {
   "cell_type": "code",
   "execution_count": null,
   "metadata": {},
   "outputs": [],
   "source": [
    "# cabin의 첫 알파벳을 유도변수로 사용\n",
    "# pclass - Fare와 양(음)의 상관관계가 있는지 여부를 판별할 수 있기 때문"
   ]
  },
  {
   "cell_type": "markdown",
   "metadata": {},
   "source": [
    "- 개별 객실 번호는 의미가 없음(123, 456 ..)\n",
    "- cabin 데이터의 첫글자가 deck(구역)을 의미\n",
    "- 유도변수 : deck 컬럼 추가\n",
    "- deck 종류 : A, B, C, D, E, F, G, T, unknown\n",
    "- cabin 컬럼의 각 값에 적용한 처리\n",
    "    - 1)\n",
    "        - 값의 첫번째 문자가 deck list에 있으면 해당 deck을 반환\n",
    "        - 없으면(NaN) deck list의 unknown 반환\n",
    "    - 2) \n",
    "        - 첫번째 문자 반환\n",
    "        - 없으면 다른 것 반환"
   ]
  },
  {
   "cell_type": "code",
   "execution_count": null,
   "metadata": {},
   "outputs": [],
   "source": [
    "# 값의 첫번째 문자가 deck list에 있으면 해당 deck을 반환\n",
    "# deck_list => cabin 컬럼이 가지고 있는 고유한 deck 코드 \n",
    "# 없으면(NaN) deck list의 unknown 반환"
   ]
  },
  {
   "cell_type": "code",
   "execution_count": 41,
   "metadata": {},
   "outputs": [],
   "source": [
    "# 첫번째 알파벳만 추려서 고유값 구하\n",
    "tmp = set()\n",
    "for i in data['cabin'].unique()[1:]:\n",
    "    tmp.add(i[0])"
   ]
  },
  {
   "cell_type": "code",
   "execution_count": 43,
   "metadata": {},
   "outputs": [],
   "source": [
    "tmp.add('unknown')"
   ]
  },
  {
   "cell_type": "code",
   "execution_count": 47,
   "metadata": {},
   "outputs": [],
   "source": [
    "tmp = list(tmp)"
   ]
  },
  {
   "cell_type": "code",
   "execution_count": 50,
   "metadata": {},
   "outputs": [
    {
     "data": {
      "text/plain": [
       "'unknown'"
      ]
     },
     "execution_count": 50,
     "metadata": {},
     "output_type": "execute_result"
    }
   ],
   "source": [
    "tmp[-2]"
   ]
  },
  {
   "cell_type": "code",
   "execution_count": 49,
   "metadata": {},
   "outputs": [
    {
     "data": {
      "text/plain": [
       "['E', 'C', 'B', 'A', 'G', 'F', 'T', 'unknown', 'D']"
      ]
     },
     "execution_count": 49,
     "metadata": {},
     "output_type": "execute_result"
    }
   ],
   "source": [
    "tmp"
   ]
  },
  {
   "cell_type": "code",
   "execution_count": 59,
   "metadata": {},
   "outputs": [],
   "source": [
    "def cabin_deck3(x, tmp):\n",
    "    if str(x)[0] in tmp:\n",
    "        return str(x)[0]\n",
    "    else:\n",
    "        return tmp[-2]"
   ]
  },
  {
   "cell_type": "code",
   "execution_count": 60,
   "metadata": {
    "collapsed": true
   },
   "outputs": [
    {
     "data": {
      "text/plain": [
       "0      unknown\n",
       "1            C\n",
       "2      unknown\n",
       "3            C\n",
       "4      unknown\n",
       "5      unknown\n",
       "6            E\n",
       "7      unknown\n",
       "8      unknown\n",
       "9      unknown\n",
       "10           G\n",
       "11           C\n",
       "12     unknown\n",
       "13     unknown\n",
       "14     unknown\n",
       "15     unknown\n",
       "16     unknown\n",
       "17     unknown\n",
       "18     unknown\n",
       "19     unknown\n",
       "20     unknown\n",
       "21           D\n",
       "22     unknown\n",
       "23           A\n",
       "24     unknown\n",
       "25     unknown\n",
       "26     unknown\n",
       "27           C\n",
       "28     unknown\n",
       "29     unknown\n",
       "        ...   \n",
       "861    unknown\n",
       "862          D\n",
       "863    unknown\n",
       "864    unknown\n",
       "865    unknown\n",
       "866    unknown\n",
       "867          A\n",
       "868    unknown\n",
       "869    unknown\n",
       "870    unknown\n",
       "871          D\n",
       "872          B\n",
       "873    unknown\n",
       "874    unknown\n",
       "875    unknown\n",
       "876    unknown\n",
       "877    unknown\n",
       "878    unknown\n",
       "879          C\n",
       "880    unknown\n",
       "881    unknown\n",
       "882    unknown\n",
       "883    unknown\n",
       "884    unknown\n",
       "885    unknown\n",
       "886    unknown\n",
       "887          B\n",
       "888    unknown\n",
       "889          C\n",
       "890    unknown\n",
       "Name: cabin, Length: 891, dtype: object"
      ]
     },
     "execution_count": 60,
     "metadata": {},
     "output_type": "execute_result"
    }
   ],
   "source": [
    "data['cabin'].apply(cabin_deck3, tmp=tmp)"
   ]
  },
  {
   "cell_type": "code",
   "execution_count": null,
   "metadata": {},
   "outputs": [],
   "source": []
  },
  {
   "cell_type": "code",
   "execution_count": null,
   "metadata": {},
   "outputs": [],
   "source": []
  },
  {
   "cell_type": "code",
   "execution_count": 27,
   "metadata": {},
   "outputs": [
    {
     "data": {
      "text/plain": [
       "float"
      ]
     },
     "execution_count": 27,
     "metadata": {},
     "output_type": "execute_result"
    }
   ],
   "source": [
    "# 1. nan 유지한 상태로 처리\n",
    "# nan 유지 \n",
    "# 반복문 => 타입으로 확인 후 처리\n",
    "type(np.nan)"
   ]
  },
  {
   "cell_type": "code",
   "execution_count": 29,
   "metadata": {},
   "outputs": [],
   "source": [
    "def cabin_deck(x):\n",
    "    # x.isnull(), NaN\n",
    "    if type(x) == float:\n",
    "        return 'unknown'\n",
    "    else:\n",
    "        return x[0]"
   ]
  },
  {
   "cell_type": "code",
   "execution_count": 32,
   "metadata": {},
   "outputs": [
    {
     "data": {
      "text/plain": [
       "False"
      ]
     },
     "execution_count": 32,
     "metadata": {},
     "output_type": "execute_result"
    }
   ],
   "source": [
    "np.nan is None"
   ]
  },
  {
   "cell_type": "code",
   "execution_count": 30,
   "metadata": {
    "collapsed": true
   },
   "outputs": [
    {
     "data": {
      "text/plain": [
       "0      unknown\n",
       "1            C\n",
       "2      unknown\n",
       "3            C\n",
       "4      unknown\n",
       "5      unknown\n",
       "6            E\n",
       "7      unknown\n",
       "8      unknown\n",
       "9      unknown\n",
       "10           G\n",
       "11           C\n",
       "12     unknown\n",
       "13     unknown\n",
       "14     unknown\n",
       "15     unknown\n",
       "16     unknown\n",
       "17     unknown\n",
       "18     unknown\n",
       "19     unknown\n",
       "20     unknown\n",
       "21           D\n",
       "22     unknown\n",
       "23           A\n",
       "24     unknown\n",
       "25     unknown\n",
       "26     unknown\n",
       "27           C\n",
       "28     unknown\n",
       "29     unknown\n",
       "        ...   \n",
       "861    unknown\n",
       "862          D\n",
       "863    unknown\n",
       "864    unknown\n",
       "865    unknown\n",
       "866    unknown\n",
       "867          A\n",
       "868    unknown\n",
       "869    unknown\n",
       "870    unknown\n",
       "871          D\n",
       "872          B\n",
       "873    unknown\n",
       "874    unknown\n",
       "875    unknown\n",
       "876    unknown\n",
       "877    unknown\n",
       "878    unknown\n",
       "879          C\n",
       "880    unknown\n",
       "881    unknown\n",
       "882    unknown\n",
       "883    unknown\n",
       "884    unknown\n",
       "885    unknown\n",
       "886    unknown\n",
       "887          B\n",
       "888    unknown\n",
       "889          C\n",
       "890    unknown\n",
       "Name: cabin, Length: 891, dtype: object"
      ]
     },
     "execution_count": 30,
     "metadata": {},
     "output_type": "execute_result"
    }
   ],
   "source": [
    "data['cabin'].apply(cabin_deck)"
   ]
  },
  {
   "cell_type": "code",
   "execution_count": null,
   "metadata": {},
   "outputs": [],
   "source": [
    "# nan 변형\n",
    "# 반복문 => str 변형 후 처리"
   ]
  },
  {
   "cell_type": "code",
   "execution_count": 34,
   "metadata": {},
   "outputs": [
    {
     "data": {
      "text/plain": [
       "'nan'"
      ]
     },
     "execution_count": 34,
     "metadata": {},
     "output_type": "execute_result"
    }
   ],
   "source": [
    "str(data['cabin'][0])"
   ]
  },
  {
   "cell_type": "code",
   "execution_count": 35,
   "metadata": {},
   "outputs": [
    {
     "data": {
      "text/plain": [
       "'C85'"
      ]
     },
     "execution_count": 35,
     "metadata": {},
     "output_type": "execute_result"
    }
   ],
   "source": [
    "str(data['cabin'][1])"
   ]
  },
  {
   "cell_type": "code",
   "execution_count": 37,
   "metadata": {},
   "outputs": [],
   "source": [
    "def cabin_deck2(x):\n",
    "    if x[0].islower():\n",
    "        return 'unknown'\n",
    "    else: \n",
    "        return x[0]"
   ]
  },
  {
   "cell_type": "code",
   "execution_count": 38,
   "metadata": {
    "scrolled": true
   },
   "outputs": [
    {
     "data": {
      "text/plain": [
       "0      unknown\n",
       "1            C\n",
       "2      unknown\n",
       "3            C\n",
       "4      unknown\n",
       "5      unknown\n",
       "6            E\n",
       "7      unknown\n",
       "8      unknown\n",
       "9      unknown\n",
       "10           G\n",
       "11           C\n",
       "12     unknown\n",
       "13     unknown\n",
       "14     unknown\n",
       "15     unknown\n",
       "16     unknown\n",
       "17     unknown\n",
       "18     unknown\n",
       "19     unknown\n",
       "20     unknown\n",
       "21           D\n",
       "22     unknown\n",
       "23           A\n",
       "24     unknown\n",
       "25     unknown\n",
       "26     unknown\n",
       "27           C\n",
       "28     unknown\n",
       "29     unknown\n",
       "        ...   \n",
       "861    unknown\n",
       "862          D\n",
       "863    unknown\n",
       "864    unknown\n",
       "865    unknown\n",
       "866    unknown\n",
       "867          A\n",
       "868    unknown\n",
       "869    unknown\n",
       "870    unknown\n",
       "871          D\n",
       "872          B\n",
       "873    unknown\n",
       "874    unknown\n",
       "875    unknown\n",
       "876    unknown\n",
       "877    unknown\n",
       "878    unknown\n",
       "879          C\n",
       "880    unknown\n",
       "881    unknown\n",
       "882    unknown\n",
       "883    unknown\n",
       "884    unknown\n",
       "885    unknown\n",
       "886    unknown\n",
       "887          B\n",
       "888    unknown\n",
       "889          C\n",
       "890    unknown\n",
       "Name: cabin, Length: 891, dtype: object"
      ]
     },
     "execution_count": 38,
     "metadata": {},
     "output_type": "execute_result"
    }
   ],
   "source": [
    "data['cabin'].apply(lambda x : cabin_deck2(str(x)))"
   ]
  },
  {
   "cell_type": "code",
   "execution_count": 28,
   "metadata": {},
   "outputs": [
    {
     "data": {
      "text/plain": [
       "'nan'"
      ]
     },
     "execution_count": 28,
     "metadata": {},
     "output_type": "execute_result"
    }
   ],
   "source": [
    "str(np.nan)"
   ]
  },
  {
   "cell_type": "code",
   "execution_count": null,
   "metadata": {},
   "outputs": [],
   "source": [
    "# 2. nan 제거 후 처리\n",
    "# nan -> 0\n",
    "# 반복문 : 0 => unknown / 0이 아니면 첫번째 글자 인덱싱\n",
    "# 결과 리스트를 새로운 컬럼으로 추가"
   ]
  },
  {
   "cell_type": "code",
   "execution_count": 13,
   "metadata": {
    "collapsed": true
   },
   "outputs": [
    {
     "data": {
      "text/plain": [
       "passengerid      0\n",
       "survived         0\n",
       "pclass           0\n",
       "name             0\n",
       "sex              0\n",
       "age            177\n",
       "sibsp            0\n",
       "parch            0\n",
       "ticket           0\n",
       "fare             0\n",
       "cabin          687\n",
       "embarked         2\n",
       "dtype: int64"
      ]
     },
     "execution_count": 13,
     "metadata": {},
     "output_type": "execute_result"
    }
   ],
   "source": [
    "data.isnull().sum()"
   ]
  },
  {
   "cell_type": "code",
   "execution_count": 14,
   "metadata": {},
   "outputs": [],
   "source": [
    "data2 = data.copy()"
   ]
  },
  {
   "cell_type": "code",
   "execution_count": 15,
   "metadata": {},
   "outputs": [
    {
     "data": {
      "text/plain": [
       "687"
      ]
     },
     "execution_count": 15,
     "metadata": {},
     "output_type": "execute_result"
    }
   ],
   "source": [
    "data2['cabin'].isnull().sum()"
   ]
  },
  {
   "cell_type": "code",
   "execution_count": 16,
   "metadata": {},
   "outputs": [],
   "source": [
    "data2['cabin'].fillna(0, inplace=True)"
   ]
  },
  {
   "cell_type": "code",
   "execution_count": 17,
   "metadata": {},
   "outputs": [
    {
     "data": {
      "text/plain": [
       "0"
      ]
     },
     "execution_count": 17,
     "metadata": {},
     "output_type": "execute_result"
    }
   ],
   "source": [
    "data2['cabin'].isnull().sum()"
   ]
  },
  {
   "cell_type": "code",
   "execution_count": 24,
   "metadata": {},
   "outputs": [],
   "source": [
    "deck_list = []\n",
    "for i in data2['cabin']:\n",
    "    if i == 0:\n",
    "        deck_list.append('unknown')\n",
    "    else:\n",
    "        deck_list.append(i[0])"
   ]
  },
  {
   "cell_type": "code",
   "execution_count": 22,
   "metadata": {},
   "outputs": [
    {
     "data": {
      "text/plain": [
       "['unknown', 'C', 'unknown', 'C', 'unknown']"
      ]
     },
     "execution_count": 22,
     "metadata": {},
     "output_type": "execute_result"
    }
   ],
   "source": [
    "deck_list"
   ]
  },
  {
   "cell_type": "code",
   "execution_count": 23,
   "metadata": {},
   "outputs": [
    {
     "data": {
      "text/plain": [
       "0       0\n",
       "1     C85\n",
       "2       0\n",
       "3    C123\n",
       "4       0\n",
       "Name: cabin, dtype: object"
      ]
     },
     "execution_count": 23,
     "metadata": {},
     "output_type": "execute_result"
    }
   ],
   "source": [
    "data2['cabin'].head()"
   ]
  },
  {
   "cell_type": "code",
   "execution_count": 25,
   "metadata": {},
   "outputs": [
    {
     "data": {
      "text/html": [
       "<div>\n",
       "<style scoped>\n",
       "    .dataframe tbody tr th:only-of-type {\n",
       "        vertical-align: middle;\n",
       "    }\n",
       "\n",
       "    .dataframe tbody tr th {\n",
       "        vertical-align: top;\n",
       "    }\n",
       "\n",
       "    .dataframe thead th {\n",
       "        text-align: right;\n",
       "    }\n",
       "</style>\n",
       "<table border=\"1\" class=\"dataframe\">\n",
       "  <thead>\n",
       "    <tr style=\"text-align: right;\">\n",
       "      <th></th>\n",
       "      <th>cabin</th>\n",
       "      <th>deck</th>\n",
       "    </tr>\n",
       "  </thead>\n",
       "  <tbody>\n",
       "    <tr>\n",
       "      <th>0</th>\n",
       "      <td>0</td>\n",
       "      <td>unknown</td>\n",
       "    </tr>\n",
       "    <tr>\n",
       "      <th>1</th>\n",
       "      <td>C85</td>\n",
       "      <td>C</td>\n",
       "    </tr>\n",
       "    <tr>\n",
       "      <th>2</th>\n",
       "      <td>0</td>\n",
       "      <td>unknown</td>\n",
       "    </tr>\n",
       "    <tr>\n",
       "      <th>3</th>\n",
       "      <td>C123</td>\n",
       "      <td>C</td>\n",
       "    </tr>\n",
       "    <tr>\n",
       "      <th>4</th>\n",
       "      <td>0</td>\n",
       "      <td>unknown</td>\n",
       "    </tr>\n",
       "    <tr>\n",
       "      <th>5</th>\n",
       "      <td>0</td>\n",
       "      <td>unknown</td>\n",
       "    </tr>\n",
       "    <tr>\n",
       "      <th>6</th>\n",
       "      <td>E46</td>\n",
       "      <td>E</td>\n",
       "    </tr>\n",
       "    <tr>\n",
       "      <th>7</th>\n",
       "      <td>0</td>\n",
       "      <td>unknown</td>\n",
       "    </tr>\n",
       "    <tr>\n",
       "      <th>8</th>\n",
       "      <td>0</td>\n",
       "      <td>unknown</td>\n",
       "    </tr>\n",
       "    <tr>\n",
       "      <th>9</th>\n",
       "      <td>0</td>\n",
       "      <td>unknown</td>\n",
       "    </tr>\n",
       "  </tbody>\n",
       "</table>\n",
       "</div>"
      ],
      "text/plain": [
       "  cabin     deck\n",
       "0     0  unknown\n",
       "1   C85        C\n",
       "2     0  unknown\n",
       "3  C123        C\n",
       "4     0  unknown\n",
       "5     0  unknown\n",
       "6   E46        E\n",
       "7     0  unknown\n",
       "8     0  unknown\n",
       "9     0  unknown"
      ]
     },
     "execution_count": 25,
     "metadata": {},
     "output_type": "execute_result"
    }
   ],
   "source": [
    "data2['deck'] = deck_list\n",
    "data2[['cabin', 'deck']].head(10)"
   ]
  },
  {
   "cell_type": "code",
   "execution_count": 62,
   "metadata": {},
   "outputs": [],
   "source": [
    "# 시리즈에서 str 속성값 사용 => str 아닌 속성에는 적용되지 않고 넘어간다.\n",
    "data['deck'] = data['cabin'].str[0]"
   ]
  },
  {
   "cell_type": "code",
   "execution_count": 64,
   "metadata": {},
   "outputs": [
    {
     "data": {
      "text/plain": [
       "687"
      ]
     },
     "execution_count": 64,
     "metadata": {},
     "output_type": "execute_result"
    }
   ],
   "source": [
    "data['deck'].isnull().sum()"
   ]
  },
  {
   "cell_type": "code",
   "execution_count": 65,
   "metadata": {},
   "outputs": [],
   "source": [
    "data['deck'].fillna('unknown', inplace=True)"
   ]
  },
  {
   "cell_type": "code",
   "execution_count": 66,
   "metadata": {},
   "outputs": [
    {
     "data": {
      "text/plain": [
       "0"
      ]
     },
     "execution_count": 66,
     "metadata": {},
     "output_type": "execute_result"
    }
   ],
   "source": [
    "data['deck'].isnull().sum()"
   ]
  },
  {
   "cell_type": "code",
   "execution_count": 67,
   "metadata": {},
   "outputs": [
    {
     "data": {
      "text/plain": [
       "0    unknown\n",
       "1          C\n",
       "2    unknown\n",
       "3          C\n",
       "4    unknown\n",
       "Name: deck, dtype: object"
      ]
     },
     "execution_count": 67,
     "metadata": {},
     "output_type": "execute_result"
    }
   ],
   "source": [
    "data['deck'].head()"
   ]
  },
  {
   "cell_type": "code",
   "execution_count": 68,
   "metadata": {},
   "outputs": [],
   "source": [
    "# data -> cabin 컬럼 삭제\n",
    "data.drop('cabin', axis=1, inplace=True)"
   ]
  },
  {
   "cell_type": "code",
   "execution_count": 69,
   "metadata": {},
   "outputs": [
    {
     "data": {
      "text/plain": [
       "Index(['passengerid', 'survived', 'pclass', 'name', 'sex', 'age', 'sibsp',\n",
       "       'parch', 'ticket', 'fare', 'embarked', 'deck'],\n",
       "      dtype='object')"
      ]
     },
     "execution_count": 69,
     "metadata": {},
     "output_type": "execute_result"
    }
   ],
   "source": [
    "data.columns"
   ]
  },
  {
   "cell_type": "markdown",
   "metadata": {},
   "source": [
    "#### Name 데이터를 활용하여 유도변수 생성\n",
    "\n",
    "- 개별 이름은 모델 예측에 유의미한 변수가 아니다.\n",
    "- 대표 특성을 찾을 수 있는 범주 데이터를 추출할 수 있다.\n",
    "- Mr, Ms, Miss, Master ...\n",
    "- 추출 하여 title 컬럼으로 추가\n",
    "- 첫번째 방법. split() 두번 사용하여 처리\n",
    "- 두번째 방법. 정규식을 사용하여 처리\n",
    "    - ver1\n",
    "        - 정규식 패턴 생성에 사용할 문자열 : Sir, Mr, Don, Major, Capt, Jonkheer, Rev, Col, Dr, Mrs, Countess, Dona, Mme, Ms, Miss, Mlle, Master\n",
    "    - ver2\n",
    "        - 정규식 패턴 "
   ]
  },
  {
   "cell_type": "code",
   "execution_count": 70,
   "metadata": {},
   "outputs": [
    {
     "data": {
      "text/plain": [
       "0                              Braund, Mr. Owen Harris\n",
       "1    Cumings, Mrs. John Bradley (Florence Briggs Th...\n",
       "2                               Heikkinen, Miss. Laina\n",
       "3         Futrelle, Mrs. Jacques Heath (Lily May Peel)\n",
       "4                             Allen, Mr. William Henry\n",
       "Name: name, dtype: object"
      ]
     },
     "execution_count": 70,
     "metadata": {},
     "output_type": "execute_result"
    }
   ],
   "source": [
    "# 첫번째 방법\n",
    "data['name'].head()"
   ]
  },
  {
   "cell_type": "code",
   "execution_count": 72,
   "metadata": {
    "collapsed": true
   },
   "outputs": [
    {
     "data": {
      "text/plain": [
       "0           Mr\n",
       "1          Mrs\n",
       "2         Miss\n",
       "3          Mrs\n",
       "4           Mr\n",
       "5           Mr\n",
       "6           Mr\n",
       "7       Master\n",
       "8          Mrs\n",
       "9          Mrs\n",
       "10        Miss\n",
       "11        Miss\n",
       "12          Mr\n",
       "13          Mr\n",
       "14        Miss\n",
       "15         Mrs\n",
       "16      Master\n",
       "17          Mr\n",
       "18         Mrs\n",
       "19         Mrs\n",
       "20          Mr\n",
       "21          Mr\n",
       "22        Miss\n",
       "23          Mr\n",
       "24        Miss\n",
       "25         Mrs\n",
       "26          Mr\n",
       "27          Mr\n",
       "28        Miss\n",
       "29          Mr\n",
       "        ...   \n",
       "861         Mr\n",
       "862        Mrs\n",
       "863       Miss\n",
       "864         Mr\n",
       "865        Mrs\n",
       "866       Miss\n",
       "867         Mr\n",
       "868         Mr\n",
       "869     Master\n",
       "870         Mr\n",
       "871        Mrs\n",
       "872         Mr\n",
       "873         Mr\n",
       "874        Mrs\n",
       "875       Miss\n",
       "876         Mr\n",
       "877         Mr\n",
       "878         Mr\n",
       "879        Mrs\n",
       "880        Mrs\n",
       "881         Mr\n",
       "882       Miss\n",
       "883         Mr\n",
       "884         Mr\n",
       "885        Mrs\n",
       "886        Rev\n",
       "887       Miss\n",
       "888       Miss\n",
       "889         Mr\n",
       "890         Mr\n",
       "Name: name, Length: 891, dtype: object"
      ]
     },
     "execution_count": 72,
     "metadata": {},
     "output_type": "execute_result"
    }
   ],
   "source": [
    "# 첫번째 방법 1\n",
    "data['name'].apply(lambda x : x.split(',')[1].split('.')[0])"
   ]
  },
  {
   "cell_type": "code",
   "execution_count": 75,
   "metadata": {},
   "outputs": [
    {
     "data": {
      "text/plain": [
       "0             Mr\n",
       "1            Mrs\n",
       "2           Miss\n",
       "3            Mrs\n",
       "4             Mr\n",
       "5             Mr\n",
       "6             Mr\n",
       "7         Master\n",
       "8            Mrs\n",
       "9            Mrs\n",
       "10          Miss\n",
       "11          Miss\n",
       "12            Mr\n",
       "13            Mr\n",
       "14          Miss\n",
       "15           Mrs\n",
       "16        Master\n",
       "17            Mr\n",
       "18        Planke\n",
       "19           Mrs\n",
       "20            Mr\n",
       "21            Mr\n",
       "22          Miss\n",
       "23            Mr\n",
       "24          Miss\n",
       "25           Mrs\n",
       "26            Mr\n",
       "27            Mr\n",
       "28          Miss\n",
       "29            Mr\n",
       "         ...    \n",
       "861           Mr\n",
       "862          Mrs\n",
       "863         Miss\n",
       "864           Mr\n",
       "865          Mrs\n",
       "866             \n",
       "867           Mr\n",
       "868    Melkebeke\n",
       "869       Master\n",
       "870           Mr\n",
       "871          Mrs\n",
       "872           Mr\n",
       "873     Cruyssen\n",
       "874          Mrs\n",
       "875         Miss\n",
       "876           Mr\n",
       "877           Mr\n",
       "878           Mr\n",
       "879          Mrs\n",
       "880          Mrs\n",
       "881           Mr\n",
       "882         Miss\n",
       "883           Mr\n",
       "884           Mr\n",
       "885          Mrs\n",
       "886          Rev\n",
       "887         Miss\n",
       "888         Miss\n",
       "889           Mr\n",
       "890           Mr\n",
       "Name: name, Length: 891, dtype: object"
      ]
     },
     "execution_count": 75,
     "metadata": {},
     "output_type": "execute_result"
    }
   ],
   "source": [
    "# 첫번째 방법 2\n",
    "data['name'].apply(lambda x : x.split(' ')[1][:-1])"
   ]
  },
  {
   "cell_type": "code",
   "execution_count": 81,
   "metadata": {},
   "outputs": [],
   "source": [
    "# 두번째 방법 \n",
    "import re"
   ]
  },
  {
   "cell_type": "code",
   "execution_count": 83,
   "metadata": {},
   "outputs": [],
   "source": [
    "p = re.compile('apple|mango')\n",
    "result = p.search('apple orange')"
   ]
  },
  {
   "cell_type": "code",
   "execution_count": 84,
   "metadata": {},
   "outputs": [
    {
     "data": {
      "text/plain": [
       "'apple'"
      ]
     },
     "execution_count": 84,
     "metadata": {},
     "output_type": "execute_result"
    }
   ],
   "source": [
    "result.group()"
   ]
  },
  {
   "cell_type": "code",
   "execution_count": 85,
   "metadata": {},
   "outputs": [],
   "source": [
    "# 2-1.단어 키워드로 정규식 패턴 적용\n",
    "# Sir, Mr, Don, Major, Capt, Jonkheer, Rev, Col, Dr, Mrs, Countess, Dona, Mme, Ms, Miss, Mlle, Master\n",
    "def get_title(x):\n",
    "    pattern = re.compile('Sir|Mr|Don|Major|Capt|Jonkheer|Rev|Col|Dr|Mrs|Countess|Dona|Mme|Ms|Miss|Mlle|Master',\n",
    "                        re.I)\n",
    "    result = pattern.search(x)\n",
    "    if result:\n",
    "        return result.group()\n",
    "    else:\n",
    "        return str(np.nan)"
   ]
  },
  {
   "cell_type": "code",
   "execution_count": 86,
   "metadata": {
    "collapsed": true
   },
   "outputs": [
    {
     "data": {
      "text/plain": [
       "0          Mr\n",
       "1          Mr\n",
       "2        Miss\n",
       "3          Mr\n",
       "4          Mr\n",
       "5          Mr\n",
       "6          Mr\n",
       "7      Master\n",
       "8          Mr\n",
       "9          Mr\n",
       "10       Miss\n",
       "11       Miss\n",
       "12         Mr\n",
       "13         Mr\n",
       "14       Miss\n",
       "15         Mr\n",
       "16     Master\n",
       "17         ms\n",
       "18         Mr\n",
       "19         Mr\n",
       "20         Mr\n",
       "21         Mr\n",
       "22       Miss\n",
       "23         Mr\n",
       "24       Miss\n",
       "25         Mr\n",
       "26         Mr\n",
       "27         Mr\n",
       "28       Miss\n",
       "29         Mr\n",
       "        ...  \n",
       "861        Mr\n",
       "862        Mr\n",
       "863      Miss\n",
       "864        Mr\n",
       "865        Mr\n",
       "866      Miss\n",
       "867        Mr\n",
       "868        Mr\n",
       "869    Master\n",
       "870        Mr\n",
       "871        Mr\n",
       "872        Mr\n",
       "873        Mr\n",
       "874        Mr\n",
       "875      Miss\n",
       "876        Mr\n",
       "877        Mr\n",
       "878        Mr\n",
       "879        Mr\n",
       "880        Mr\n",
       "881        Mr\n",
       "882      Miss\n",
       "883        Mr\n",
       "884        Mr\n",
       "885        Mr\n",
       "886       Rev\n",
       "887      Miss\n",
       "888      Miss\n",
       "889        Mr\n",
       "890        Mr\n",
       "Name: name, Length: 891, dtype: object"
      ]
     },
     "execution_count": 86,
     "metadata": {},
     "output_type": "execute_result"
    }
   ],
   "source": [
    "data['name'].apply(get_title)"
   ]
  },
  {
   "cell_type": "code",
   "execution_count": 87,
   "metadata": {},
   "outputs": [
    {
     "data": {
      "text/plain": [
       "0                              Braund, Mr. Owen Harris\n",
       "1    Cumings, Mrs. John Bradley (Florence Briggs Th...\n",
       "2                               Heikkinen, Miss. Laina\n",
       "Name: name, dtype: object"
      ]
     },
     "execution_count": 87,
     "metadata": {},
     "output_type": "execute_result"
    }
   ],
   "source": [
    "# 2-2.정규식 패턴을 작성하여 적용\n",
    "data['name'].head(3)"
   ]
  },
  {
   "cell_type": "code",
   "execution_count": 92,
   "metadata": {},
   "outputs": [],
   "source": [
    "# . => \\.\n",
    "# ([a-zA-Z]+)\n",
    "# ([a-zA-Z]+)\\.\n",
    "data['title'] = data['name'].str.extract('([a-zA-Z]+)\\.', expand=False).str.lower()"
   ]
  },
  {
   "cell_type": "code",
   "execution_count": 93,
   "metadata": {},
   "outputs": [
    {
     "data": {
      "text/plain": [
       "0"
      ]
     },
     "execution_count": 93,
     "metadata": {},
     "output_type": "execute_result"
    }
   ],
   "source": [
    "data['title'].isnull().sum()"
   ]
  },
  {
   "cell_type": "code",
   "execution_count": 94,
   "metadata": {
    "collapsed": true
   },
   "outputs": [
    {
     "data": {
      "text/plain": [
       "Romaine, Mr. Charles Hallace (\"Mr C Rolmane\")                        1\n",
       "Ford, Mrs. Edward (Margaret Ann Watson)                              1\n",
       "Kent, Mr. Edward Austin                                              1\n",
       "Andersson, Miss. Ingeborg Constanzia                                 1\n",
       "Lievens, Mr. Rene Aime                                               1\n",
       "Goodwin, Master. William Frederick                                   1\n",
       "Douglas, Mr. Walter Donald                                           1\n",
       "Bowen, Mr. David John \"Dai\"                                          1\n",
       "Watson, Mr. Ennis Hastings                                           1\n",
       "de Messemaeker, Mrs. Guillaume Joseph (Emma)                         1\n",
       "Longley, Miss. Gretchen Fiske                                        1\n",
       "Harris, Mr. Walter                                                   1\n",
       "Hewlett, Mrs. (Mary D Kingcome)                                      1\n",
       "Gustafsson, Mr. Johan Birger                                         1\n",
       "Eklund, Mr. Hans Linus                                               1\n",
       "Angle, Mrs. William A (Florence \"Mary\" Agnes Hughes)                 1\n",
       "Behr, Mr. Karl Howell                                                1\n",
       "Abelson, Mrs. Samuel (Hannah Wizosky)                                1\n",
       "Duff Gordon, Lady. (Lucille Christiana Sutherland) (\"Mrs Morgan\")    1\n",
       "Hickman, Mr. Stanley George                                          1\n",
       "Rice, Master. Arthur                                                 1\n",
       "Gee, Mr. Arthur H                                                    1\n",
       "Frolicher-Stehli, Mr. Maxmillian                                     1\n",
       "Hirvonen, Miss. Hildur E                                             1\n",
       "Johnston, Miss. Catherine Helen \"Carrie\"                             1\n",
       "Fry, Mr. Richard                                                     1\n",
       "Doharr, Mr. Tannous                                                  1\n",
       "Giles, Mr. Frederick Edward                                          1\n",
       "Mernagh, Mr. Robert                                                  1\n",
       "Williams-Lambert, Mr. Fletcher Fellows                               1\n",
       "                                                                    ..\n",
       "Hedman, Mr. Oskar Arvid                                              1\n",
       "Dick, Mr. Albert Adrian                                              1\n",
       "Albimona, Mr. Nassef Cassem                                          1\n",
       "Coleff, Mr. Peju                                                     1\n",
       "Berriman, Mr. William John                                           1\n",
       "Vande Walle, Mr. Nestor Cyriel                                       1\n",
       "Nakid, Miss. Maria (\"Mary\")                                          1\n",
       "Attalah, Mr. Sleiman                                                 1\n",
       "Mitchell, Mr. Henry Michael                                          1\n",
       "Pekoniemi, Mr. Edvard                                                1\n",
       "Goodwin, Miss. Lillian Amy                                           1\n",
       "Trout, Mrs. William H (Jessie L)                                     1\n",
       "Sobey, Mr. Samuel James Hayden                                       1\n",
       "Carter, Rev. Ernest Courtenay                                        1\n",
       "Coleridge, Mr. Reginald Charles                                      1\n",
       "Johnson, Mrs. Oscar W (Elisabeth Vilhelmina Berg)                    1\n",
       "White, Mr. Richard Frasar                                            1\n",
       "Rogers, Mr. William John                                             1\n",
       "Rice, Master. George Hugh                                            1\n",
       "Taussig, Mrs. Emil (Tillie Mandelbaum)                               1\n",
       "Braund, Mr. Lewis Richard                                            1\n",
       "McCoy, Miss. Agnes                                                   1\n",
       "Walker, Mr. William Anderson                                         1\n",
       "Eitemiller, Mr. George Floyd                                         1\n",
       "Yousif, Mr. Wazli                                                    1\n",
       "Stanley, Mr. Edward Roland                                           1\n",
       "Silvey, Mr. William Baird                                            1\n",
       "Wheadon, Mr. Edward H                                                1\n",
       "Webber, Miss. Susan                                                  1\n",
       "Paulner, Mr. Uscher                                                  1\n",
       "Name: name, Length: 891, dtype: int64"
      ]
     },
     "execution_count": 94,
     "metadata": {},
     "output_type": "execute_result"
    }
   ],
   "source": [
    "data['name'].value_counts()"
   ]
  },
  {
   "cell_type": "code",
   "execution_count": 97,
   "metadata": {},
   "outputs": [
    {
     "data": {
      "text/plain": [
       "mr          517\n",
       "miss        182\n",
       "mrs         125\n",
       "master       40\n",
       "dr            7\n",
       "rev           6\n",
       "major         2\n",
       "mlle          2\n",
       "col           2\n",
       "capt          1\n",
       "sir           1\n",
       "ms            1\n",
       "lady          1\n",
       "mme           1\n",
       "don           1\n",
       "countess      1\n",
       "jonkheer      1\n",
       "Name: title, dtype: int64"
      ]
     },
     "execution_count": 97,
     "metadata": {},
     "output_type": "execute_result"
    }
   ],
   "source": [
    "data['title'].value_counts()"
   ]
  },
  {
   "cell_type": "markdown",
   "metadata": {},
   "source": [
    "#### Name 데이터를 활용하여 생성한 유도변수 처리"
   ]
  },
  {
   "cell_type": "markdown",
   "metadata": {},
   "source": [
    "* 범주 재설정\n",
    "\n",
    "    officer : capt, col, major, dr, rev,sir\n",
    "    \n",
    "    royalty : jonkheer, countess, dona, lady, don\n",
    "    \n",
    "    mr : mr\n",
    "    \n",
    "    mrs : mme, ms, mrs\n",
    "    \n",
    "    miss : miss, mlle\n",
    "    \n",
    "    master : master"
   ]
  },
  {
   "cell_type": "code",
   "execution_count": 98,
   "metadata": {},
   "outputs": [],
   "source": [
    "# 범주 매핑\n",
    "# key : old, value : new\n",
    "title_map = {\n",
    "    'capt' : 'officer', \n",
    "    'col' :  'officer',\n",
    "    'major' : 'officer',\n",
    "    'dr' : 'officer',\n",
    "    'rev' : 'officer',\n",
    "    'sir' : 'officer',\n",
    "    'jonkheer' : 'royalty',\n",
    "    'countess' : 'royalty', \n",
    "    'dona' : 'royalty',\n",
    "    'lady' : 'royalty',\n",
    "    'don' : 'royalty',\n",
    "    'mr' : 'mr',\n",
    "    'mme' : 'mrs', \n",
    "    'ms' : 'mrs',\n",
    "    'mrs' : 'mrs',\n",
    "    'miss' : 'miss',\n",
    "    'mlle' : 'miss',\n",
    "    'master' : 'master'    \n",
    "}"
   ]
  },
  {
   "cell_type": "code",
   "execution_count": 103,
   "metadata": {},
   "outputs": [],
   "source": [
    "data['title2'] = data['title'].map(title_map)"
   ]
  },
  {
   "cell_type": "code",
   "execution_count": null,
   "metadata": {},
   "outputs": [],
   "source": []
  },
  {
   "cell_type": "markdown",
   "metadata": {},
   "source": [
    "#### 결측치 처리 - Age\n",
    "\n",
    "- 결측치를 대체할 값을 어떻게 구할지?\n",
    "- 미성년자 : Master, Miss"
   ]
  },
  {
   "cell_type": "code",
   "execution_count": 106,
   "metadata": {},
   "outputs": [
    {
     "data": {
      "text/plain": [
       "29.69911764705882"
      ]
     },
     "execution_count": 106,
     "metadata": {},
     "output_type": "execute_result"
    }
   ],
   "source": [
    "# 전체 나이의 평균\n",
    "# data['age'].mean()\n",
    "# data['age'].transform(mean)"
   ]
  },
  {
   "cell_type": "code",
   "execution_count": null,
   "metadata": {},
   "outputs": [],
   "source": [
    "# 같은 title 범주의 age 평균값으로 결측치 대체"
   ]
  },
  {
   "cell_type": "code",
   "execution_count": null,
   "metadata": {},
   "outputs": [],
   "source": [
    "# 대체할 값 : 성별, 연령대별 평균나이  \n",
    "# => 연령대 컬럼 자체는 age 에서 나와야한다.\n",
    "# 순서가 뒤로 가야하는 단계"
   ]
  },
  {
   "cell_type": "code",
   "execution_count": null,
   "metadata": {},
   "outputs": [],
   "source": [
    "# 상자그림을 그렸을때 이상치가 나이 많은 사람 쪽에 있으므로 중앙값으로 결측치 대체"
   ]
  },
  {
   "cell_type": "code",
   "execution_count": null,
   "metadata": {},
   "outputs": [],
   "source": [
    "# 버전 가지치기 : 연령 결측치 대체하지 말고 그대로 사용\n",
    "# 연령대 => 나이 없는 그룹을 별도로 유지\n",
    "# 결측치 데이터를 임의의 특정 값으로 통일해서 결측치 그룹을 만든다."
   ]
  },
  {
   "cell_type": "code",
   "execution_count": 108,
   "metadata": {
    "collapsed": true
   },
   "outputs": [
    {
     "data": {
      "text/plain": [
       "title\n",
       "capt        70.000000\n",
       "col         58.000000\n",
       "countess    33.000000\n",
       "don         40.000000\n",
       "dr          42.000000\n",
       "jonkheer    38.000000\n",
       "lady        48.000000\n",
       "major       48.500000\n",
       "master       4.574167\n",
       "miss        21.773973\n",
       "mlle        24.000000\n",
       "mme         24.000000\n",
       "mr          32.368090\n",
       "mrs         35.898148\n",
       "ms          28.000000\n",
       "rev         43.166667\n",
       "sir         49.000000\n",
       "Name: age, dtype: float64"
      ]
     },
     "execution_count": 108,
     "metadata": {},
     "output_type": "execute_result"
    }
   ],
   "source": [
    "# title 별 age의 평균값 => 결측치가 없는 age의 평균값\n",
    "data.groupby('title')['age'].mean()"
   ]
  },
  {
   "cell_type": "code",
   "execution_count": 112,
   "metadata": {
    "collapsed": true
   },
   "outputs": [
    {
     "data": {
      "text/html": [
       "<div>\n",
       "<style scoped>\n",
       "    .dataframe tbody tr th:only-of-type {\n",
       "        vertical-align: middle;\n",
       "    }\n",
       "\n",
       "    .dataframe tbody tr th {\n",
       "        vertical-align: top;\n",
       "    }\n",
       "\n",
       "    .dataframe thead th {\n",
       "        text-align: right;\n",
       "    }\n",
       "</style>\n",
       "<table border=\"1\" class=\"dataframe\">\n",
       "  <thead>\n",
       "    <tr style=\"text-align: right;\">\n",
       "      <th></th>\n",
       "      <th>title</th>\n",
       "      <th>age</th>\n",
       "    </tr>\n",
       "  </thead>\n",
       "  <tbody>\n",
       "    <tr>\n",
       "      <th>0</th>\n",
       "      <td>mr</td>\n",
       "      <td>22.0</td>\n",
       "    </tr>\n",
       "    <tr>\n",
       "      <th>1</th>\n",
       "      <td>mrs</td>\n",
       "      <td>38.0</td>\n",
       "    </tr>\n",
       "    <tr>\n",
       "      <th>2</th>\n",
       "      <td>miss</td>\n",
       "      <td>26.0</td>\n",
       "    </tr>\n",
       "    <tr>\n",
       "      <th>3</th>\n",
       "      <td>mrs</td>\n",
       "      <td>35.0</td>\n",
       "    </tr>\n",
       "    <tr>\n",
       "      <th>4</th>\n",
       "      <td>mr</td>\n",
       "      <td>35.0</td>\n",
       "    </tr>\n",
       "    <tr>\n",
       "      <th>5</th>\n",
       "      <td>mr</td>\n",
       "      <td>NaN</td>\n",
       "    </tr>\n",
       "    <tr>\n",
       "      <th>6</th>\n",
       "      <td>mr</td>\n",
       "      <td>54.0</td>\n",
       "    </tr>\n",
       "    <tr>\n",
       "      <th>7</th>\n",
       "      <td>master</td>\n",
       "      <td>2.0</td>\n",
       "    </tr>\n",
       "    <tr>\n",
       "      <th>8</th>\n",
       "      <td>mrs</td>\n",
       "      <td>27.0</td>\n",
       "    </tr>\n",
       "    <tr>\n",
       "      <th>9</th>\n",
       "      <td>mrs</td>\n",
       "      <td>14.0</td>\n",
       "    </tr>\n",
       "    <tr>\n",
       "      <th>10</th>\n",
       "      <td>miss</td>\n",
       "      <td>4.0</td>\n",
       "    </tr>\n",
       "    <tr>\n",
       "      <th>11</th>\n",
       "      <td>miss</td>\n",
       "      <td>58.0</td>\n",
       "    </tr>\n",
       "    <tr>\n",
       "      <th>12</th>\n",
       "      <td>mr</td>\n",
       "      <td>20.0</td>\n",
       "    </tr>\n",
       "    <tr>\n",
       "      <th>13</th>\n",
       "      <td>mr</td>\n",
       "      <td>39.0</td>\n",
       "    </tr>\n",
       "    <tr>\n",
       "      <th>14</th>\n",
       "      <td>miss</td>\n",
       "      <td>14.0</td>\n",
       "    </tr>\n",
       "    <tr>\n",
       "      <th>15</th>\n",
       "      <td>mrs</td>\n",
       "      <td>55.0</td>\n",
       "    </tr>\n",
       "    <tr>\n",
       "      <th>16</th>\n",
       "      <td>master</td>\n",
       "      <td>2.0</td>\n",
       "    </tr>\n",
       "    <tr>\n",
       "      <th>17</th>\n",
       "      <td>mr</td>\n",
       "      <td>NaN</td>\n",
       "    </tr>\n",
       "    <tr>\n",
       "      <th>18</th>\n",
       "      <td>mrs</td>\n",
       "      <td>31.0</td>\n",
       "    </tr>\n",
       "    <tr>\n",
       "      <th>19</th>\n",
       "      <td>mrs</td>\n",
       "      <td>NaN</td>\n",
       "    </tr>\n",
       "    <tr>\n",
       "      <th>20</th>\n",
       "      <td>mr</td>\n",
       "      <td>35.0</td>\n",
       "    </tr>\n",
       "    <tr>\n",
       "      <th>21</th>\n",
       "      <td>mr</td>\n",
       "      <td>34.0</td>\n",
       "    </tr>\n",
       "    <tr>\n",
       "      <th>22</th>\n",
       "      <td>miss</td>\n",
       "      <td>15.0</td>\n",
       "    </tr>\n",
       "    <tr>\n",
       "      <th>23</th>\n",
       "      <td>mr</td>\n",
       "      <td>28.0</td>\n",
       "    </tr>\n",
       "    <tr>\n",
       "      <th>24</th>\n",
       "      <td>miss</td>\n",
       "      <td>8.0</td>\n",
       "    </tr>\n",
       "    <tr>\n",
       "      <th>25</th>\n",
       "      <td>mrs</td>\n",
       "      <td>38.0</td>\n",
       "    </tr>\n",
       "    <tr>\n",
       "      <th>26</th>\n",
       "      <td>mr</td>\n",
       "      <td>NaN</td>\n",
       "    </tr>\n",
       "    <tr>\n",
       "      <th>27</th>\n",
       "      <td>mr</td>\n",
       "      <td>19.0</td>\n",
       "    </tr>\n",
       "    <tr>\n",
       "      <th>28</th>\n",
       "      <td>miss</td>\n",
       "      <td>NaN</td>\n",
       "    </tr>\n",
       "    <tr>\n",
       "      <th>29</th>\n",
       "      <td>mr</td>\n",
       "      <td>NaN</td>\n",
       "    </tr>\n",
       "    <tr>\n",
       "      <th>...</th>\n",
       "      <td>...</td>\n",
       "      <td>...</td>\n",
       "    </tr>\n",
       "    <tr>\n",
       "      <th>861</th>\n",
       "      <td>mr</td>\n",
       "      <td>21.0</td>\n",
       "    </tr>\n",
       "    <tr>\n",
       "      <th>862</th>\n",
       "      <td>mrs</td>\n",
       "      <td>48.0</td>\n",
       "    </tr>\n",
       "    <tr>\n",
       "      <th>863</th>\n",
       "      <td>miss</td>\n",
       "      <td>NaN</td>\n",
       "    </tr>\n",
       "    <tr>\n",
       "      <th>864</th>\n",
       "      <td>mr</td>\n",
       "      <td>24.0</td>\n",
       "    </tr>\n",
       "    <tr>\n",
       "      <th>865</th>\n",
       "      <td>mrs</td>\n",
       "      <td>42.0</td>\n",
       "    </tr>\n",
       "    <tr>\n",
       "      <th>866</th>\n",
       "      <td>miss</td>\n",
       "      <td>27.0</td>\n",
       "    </tr>\n",
       "    <tr>\n",
       "      <th>867</th>\n",
       "      <td>mr</td>\n",
       "      <td>31.0</td>\n",
       "    </tr>\n",
       "    <tr>\n",
       "      <th>868</th>\n",
       "      <td>mr</td>\n",
       "      <td>NaN</td>\n",
       "    </tr>\n",
       "    <tr>\n",
       "      <th>869</th>\n",
       "      <td>master</td>\n",
       "      <td>4.0</td>\n",
       "    </tr>\n",
       "    <tr>\n",
       "      <th>870</th>\n",
       "      <td>mr</td>\n",
       "      <td>26.0</td>\n",
       "    </tr>\n",
       "    <tr>\n",
       "      <th>871</th>\n",
       "      <td>mrs</td>\n",
       "      <td>47.0</td>\n",
       "    </tr>\n",
       "    <tr>\n",
       "      <th>872</th>\n",
       "      <td>mr</td>\n",
       "      <td>33.0</td>\n",
       "    </tr>\n",
       "    <tr>\n",
       "      <th>873</th>\n",
       "      <td>mr</td>\n",
       "      <td>47.0</td>\n",
       "    </tr>\n",
       "    <tr>\n",
       "      <th>874</th>\n",
       "      <td>mrs</td>\n",
       "      <td>28.0</td>\n",
       "    </tr>\n",
       "    <tr>\n",
       "      <th>875</th>\n",
       "      <td>miss</td>\n",
       "      <td>15.0</td>\n",
       "    </tr>\n",
       "    <tr>\n",
       "      <th>876</th>\n",
       "      <td>mr</td>\n",
       "      <td>20.0</td>\n",
       "    </tr>\n",
       "    <tr>\n",
       "      <th>877</th>\n",
       "      <td>mr</td>\n",
       "      <td>19.0</td>\n",
       "    </tr>\n",
       "    <tr>\n",
       "      <th>878</th>\n",
       "      <td>mr</td>\n",
       "      <td>NaN</td>\n",
       "    </tr>\n",
       "    <tr>\n",
       "      <th>879</th>\n",
       "      <td>mrs</td>\n",
       "      <td>56.0</td>\n",
       "    </tr>\n",
       "    <tr>\n",
       "      <th>880</th>\n",
       "      <td>mrs</td>\n",
       "      <td>25.0</td>\n",
       "    </tr>\n",
       "    <tr>\n",
       "      <th>881</th>\n",
       "      <td>mr</td>\n",
       "      <td>33.0</td>\n",
       "    </tr>\n",
       "    <tr>\n",
       "      <th>882</th>\n",
       "      <td>miss</td>\n",
       "      <td>22.0</td>\n",
       "    </tr>\n",
       "    <tr>\n",
       "      <th>883</th>\n",
       "      <td>mr</td>\n",
       "      <td>28.0</td>\n",
       "    </tr>\n",
       "    <tr>\n",
       "      <th>884</th>\n",
       "      <td>mr</td>\n",
       "      <td>25.0</td>\n",
       "    </tr>\n",
       "    <tr>\n",
       "      <th>885</th>\n",
       "      <td>mrs</td>\n",
       "      <td>39.0</td>\n",
       "    </tr>\n",
       "    <tr>\n",
       "      <th>886</th>\n",
       "      <td>rev</td>\n",
       "      <td>27.0</td>\n",
       "    </tr>\n",
       "    <tr>\n",
       "      <th>887</th>\n",
       "      <td>miss</td>\n",
       "      <td>19.0</td>\n",
       "    </tr>\n",
       "    <tr>\n",
       "      <th>888</th>\n",
       "      <td>miss</td>\n",
       "      <td>NaN</td>\n",
       "    </tr>\n",
       "    <tr>\n",
       "      <th>889</th>\n",
       "      <td>mr</td>\n",
       "      <td>26.0</td>\n",
       "    </tr>\n",
       "    <tr>\n",
       "      <th>890</th>\n",
       "      <td>mr</td>\n",
       "      <td>32.0</td>\n",
       "    </tr>\n",
       "  </tbody>\n",
       "</table>\n",
       "<p>891 rows × 2 columns</p>\n",
       "</div>"
      ],
      "text/plain": [
       "      title   age\n",
       "0        mr  22.0\n",
       "1       mrs  38.0\n",
       "2      miss  26.0\n",
       "3       mrs  35.0\n",
       "4        mr  35.0\n",
       "5        mr   NaN\n",
       "6        mr  54.0\n",
       "7    master   2.0\n",
       "8       mrs  27.0\n",
       "9       mrs  14.0\n",
       "10     miss   4.0\n",
       "11     miss  58.0\n",
       "12       mr  20.0\n",
       "13       mr  39.0\n",
       "14     miss  14.0\n",
       "15      mrs  55.0\n",
       "16   master   2.0\n",
       "17       mr   NaN\n",
       "18      mrs  31.0\n",
       "19      mrs   NaN\n",
       "20       mr  35.0\n",
       "21       mr  34.0\n",
       "22     miss  15.0\n",
       "23       mr  28.0\n",
       "24     miss   8.0\n",
       "25      mrs  38.0\n",
       "26       mr   NaN\n",
       "27       mr  19.0\n",
       "28     miss   NaN\n",
       "29       mr   NaN\n",
       "..      ...   ...\n",
       "861      mr  21.0\n",
       "862     mrs  48.0\n",
       "863    miss   NaN\n",
       "864      mr  24.0\n",
       "865     mrs  42.0\n",
       "866    miss  27.0\n",
       "867      mr  31.0\n",
       "868      mr   NaN\n",
       "869  master   4.0\n",
       "870      mr  26.0\n",
       "871     mrs  47.0\n",
       "872      mr  33.0\n",
       "873      mr  47.0\n",
       "874     mrs  28.0\n",
       "875    miss  15.0\n",
       "876      mr  20.0\n",
       "877      mr  19.0\n",
       "878      mr   NaN\n",
       "879     mrs  56.0\n",
       "880     mrs  25.0\n",
       "881      mr  33.0\n",
       "882    miss  22.0\n",
       "883      mr  28.0\n",
       "884      mr  25.0\n",
       "885     mrs  39.0\n",
       "886     rev  27.0\n",
       "887    miss  19.0\n",
       "888    miss   NaN\n",
       "889      mr  26.0\n",
       "890      mr  32.0\n",
       "\n",
       "[891 rows x 2 columns]"
      ]
     },
     "execution_count": 112,
     "metadata": {},
     "output_type": "execute_result"
    }
   ],
   "source": [
    "data[['title','age']]"
   ]
  },
  {
   "cell_type": "code",
   "execution_count": 113,
   "metadata": {},
   "outputs": [
    {
     "data": {
      "text/plain": [
       "177"
      ]
     },
     "execution_count": 113,
     "metadata": {},
     "output_type": "execute_result"
    }
   ],
   "source": [
    "data['age'].isnull().sum()"
   ]
  },
  {
   "cell_type": "code",
   "execution_count": null,
   "metadata": {},
   "outputs": [],
   "source": [
    "# title별 age 평균을 title별 age 결측치에 넣기"
   ]
  },
  {
   "cell_type": "code",
   "execution_count": 121,
   "metadata": {},
   "outputs": [
    {
     "data": {
      "text/html": [
       "<div>\n",
       "<style scoped>\n",
       "    .dataframe tbody tr th:only-of-type {\n",
       "        vertical-align: middle;\n",
       "    }\n",
       "\n",
       "    .dataframe tbody tr th {\n",
       "        vertical-align: top;\n",
       "    }\n",
       "\n",
       "    .dataframe thead th {\n",
       "        text-align: right;\n",
       "    }\n",
       "</style>\n",
       "<table border=\"1\" class=\"dataframe\">\n",
       "  <thead>\n",
       "    <tr style=\"text-align: right;\">\n",
       "      <th></th>\n",
       "      <th>title</th>\n",
       "      <th>age</th>\n",
       "    </tr>\n",
       "  </thead>\n",
       "  <tbody>\n",
       "    <tr>\n",
       "      <th>0</th>\n",
       "      <td>mr</td>\n",
       "      <td>22.0</td>\n",
       "    </tr>\n",
       "    <tr>\n",
       "      <th>1</th>\n",
       "      <td>mrs</td>\n",
       "      <td>38.0</td>\n",
       "    </tr>\n",
       "    <tr>\n",
       "      <th>2</th>\n",
       "      <td>miss</td>\n",
       "      <td>26.0</td>\n",
       "    </tr>\n",
       "    <tr>\n",
       "      <th>3</th>\n",
       "      <td>mrs</td>\n",
       "      <td>35.0</td>\n",
       "    </tr>\n",
       "    <tr>\n",
       "      <th>4</th>\n",
       "      <td>mr</td>\n",
       "      <td>35.0</td>\n",
       "    </tr>\n",
       "    <tr>\n",
       "      <th>5</th>\n",
       "      <td>mr</td>\n",
       "      <td>NaN</td>\n",
       "    </tr>\n",
       "    <tr>\n",
       "      <th>6</th>\n",
       "      <td>mr</td>\n",
       "      <td>54.0</td>\n",
       "    </tr>\n",
       "    <tr>\n",
       "      <th>7</th>\n",
       "      <td>master</td>\n",
       "      <td>2.0</td>\n",
       "    </tr>\n",
       "    <tr>\n",
       "      <th>8</th>\n",
       "      <td>mrs</td>\n",
       "      <td>27.0</td>\n",
       "    </tr>\n",
       "    <tr>\n",
       "      <th>9</th>\n",
       "      <td>mrs</td>\n",
       "      <td>14.0</td>\n",
       "    </tr>\n",
       "  </tbody>\n",
       "</table>\n",
       "</div>"
      ],
      "text/plain": [
       "    title   age\n",
       "0      mr  22.0\n",
       "1     mrs  38.0\n",
       "2    miss  26.0\n",
       "3     mrs  35.0\n",
       "4      mr  35.0\n",
       "5      mr   NaN\n",
       "6      mr  54.0\n",
       "7  master   2.0\n",
       "8     mrs  27.0\n",
       "9     mrs  14.0"
      ]
     },
     "execution_count": 121,
     "metadata": {},
     "output_type": "execute_result"
    }
   ],
   "source": [
    "data[['title','age']].head(10)"
   ]
  },
  {
   "cell_type": "code",
   "execution_count": 122,
   "metadata": {},
   "outputs": [
    {
     "data": {
      "text/plain": [
       "title\n",
       "capt        70.000000\n",
       "col         58.000000\n",
       "countess    33.000000\n",
       "don         40.000000\n",
       "dr          42.000000\n",
       "jonkheer    38.000000\n",
       "lady        48.000000\n",
       "major       48.500000\n",
       "master       4.574167\n",
       "miss        21.773973\n",
       "mlle        24.000000\n",
       "mme         24.000000\n",
       "mr          32.368090\n",
       "mrs         35.898148\n",
       "ms          28.000000\n",
       "rev         43.166667\n",
       "sir         49.000000\n",
       "Name: age, dtype: float64"
      ]
     },
     "execution_count": 122,
     "metadata": {},
     "output_type": "execute_result"
    }
   ],
   "source": [
    "data.groupby('title')['age'].mean()"
   ]
  },
  {
   "cell_type": "code",
   "execution_count": 123,
   "metadata": {},
   "outputs": [],
   "source": [
    "data['age2'] = data['age'].fillna(data.groupby('title')['age'].transform('mean'))"
   ]
  },
  {
   "cell_type": "code",
   "execution_count": 117,
   "metadata": {
    "collapsed": true
   },
   "outputs": [
    {
     "data": {
      "text/plain": [
       "0      32.368090\n",
       "1      35.898148\n",
       "2      21.773973\n",
       "3      35.898148\n",
       "4      32.368090\n",
       "5      32.368090\n",
       "6      32.368090\n",
       "7       4.574167\n",
       "8      35.898148\n",
       "9      35.898148\n",
       "10     21.773973\n",
       "11     21.773973\n",
       "12     32.368090\n",
       "13     32.368090\n",
       "14     21.773973\n",
       "15     35.898148\n",
       "16      4.574167\n",
       "17     32.368090\n",
       "18     35.898148\n",
       "19     35.898148\n",
       "20     32.368090\n",
       "21     32.368090\n",
       "22     21.773973\n",
       "23     32.368090\n",
       "24     21.773973\n",
       "25     35.898148\n",
       "26     32.368090\n",
       "27     32.368090\n",
       "28     21.773973\n",
       "29     32.368090\n",
       "         ...    \n",
       "861    32.368090\n",
       "862    35.898148\n",
       "863    21.773973\n",
       "864    32.368090\n",
       "865    35.898148\n",
       "866    21.773973\n",
       "867    32.368090\n",
       "868    32.368090\n",
       "869     4.574167\n",
       "870    32.368090\n",
       "871    35.898148\n",
       "872    32.368090\n",
       "873    32.368090\n",
       "874    35.898148\n",
       "875    21.773973\n",
       "876    32.368090\n",
       "877    32.368090\n",
       "878    32.368090\n",
       "879    35.898148\n",
       "880    35.898148\n",
       "881    32.368090\n",
       "882    21.773973\n",
       "883    32.368090\n",
       "884    32.368090\n",
       "885    35.898148\n",
       "886    43.166667\n",
       "887    21.773973\n",
       "888    21.773973\n",
       "889    32.368090\n",
       "890    32.368090\n",
       "Name: age, Length: 891, dtype: float64"
      ]
     },
     "execution_count": 117,
     "metadata": {},
     "output_type": "execute_result"
    }
   ],
   "source": [
    "data.groupby('title')['age'].transform('mean')"
   ]
  },
  {
   "cell_type": "code",
   "execution_count": 116,
   "metadata": {
    "collapsed": true
   },
   "outputs": [
    {
     "data": {
      "text/plain": [
       "0      22.0\n",
       "1      38.0\n",
       "2      26.0\n",
       "3      35.0\n",
       "4      35.0\n",
       "5       NaN\n",
       "6      54.0\n",
       "7       2.0\n",
       "8      27.0\n",
       "9      14.0\n",
       "10      4.0\n",
       "11     58.0\n",
       "12     20.0\n",
       "13     39.0\n",
       "14     14.0\n",
       "15     55.0\n",
       "16      2.0\n",
       "17      NaN\n",
       "18     31.0\n",
       "19      NaN\n",
       "20     35.0\n",
       "21     34.0\n",
       "22     15.0\n",
       "23     28.0\n",
       "24      8.0\n",
       "25     38.0\n",
       "26      NaN\n",
       "27     19.0\n",
       "28      NaN\n",
       "29      NaN\n",
       "       ... \n",
       "861    21.0\n",
       "862    48.0\n",
       "863     NaN\n",
       "864    24.0\n",
       "865    42.0\n",
       "866    27.0\n",
       "867    31.0\n",
       "868     NaN\n",
       "869     4.0\n",
       "870    26.0\n",
       "871    47.0\n",
       "872    33.0\n",
       "873    47.0\n",
       "874    28.0\n",
       "875    15.0\n",
       "876    20.0\n",
       "877    19.0\n",
       "878     NaN\n",
       "879    56.0\n",
       "880    25.0\n",
       "881    33.0\n",
       "882    22.0\n",
       "883    28.0\n",
       "884    25.0\n",
       "885    39.0\n",
       "886    27.0\n",
       "887    19.0\n",
       "888     NaN\n",
       "889    26.0\n",
       "890    32.0\n",
       "Name: age, Length: 891, dtype: float64"
      ]
     },
     "execution_count": 116,
     "metadata": {},
     "output_type": "execute_result"
    }
   ],
   "source": [
    "data['age']"
   ]
  },
  {
   "cell_type": "code",
   "execution_count": 125,
   "metadata": {},
   "outputs": [
    {
     "data": {
      "text/plain": [
       "0"
      ]
     },
     "execution_count": 125,
     "metadata": {},
     "output_type": "execute_result"
    }
   ],
   "source": [
    "data['age2'].isnull().sum()"
   ]
  },
  {
   "cell_type": "markdown",
   "metadata": {},
   "source": [
    "#### Age 데이터를 범주형 데이터로 변경\n",
    "\n",
    "- 구간\n",
    "    - 0 ~ 20 \n",
    "    - 20 ~ 40 \n",
    "    - 40 ~ 60 \n",
    "    - 60 ~\n",
    "- pd.cut, np.digitize\n",
    "- 사용자정의함수"
   ]
  },
  {
   "cell_type": "code",
   "execution_count": 169,
   "metadata": {},
   "outputs": [
    {
     "data": {
      "text/html": [
       "<div>\n",
       "<style scoped>\n",
       "    .dataframe tbody tr th:only-of-type {\n",
       "        vertical-align: middle;\n",
       "    }\n",
       "\n",
       "    .dataframe tbody tr th {\n",
       "        vertical-align: top;\n",
       "    }\n",
       "\n",
       "    .dataframe thead th {\n",
       "        text-align: right;\n",
       "    }\n",
       "</style>\n",
       "<table border=\"1\" class=\"dataframe\">\n",
       "  <thead>\n",
       "    <tr style=\"text-align: right;\">\n",
       "      <th></th>\n",
       "      <th>age</th>\n",
       "      <th>age_range</th>\n",
       "    </tr>\n",
       "  </thead>\n",
       "  <tbody>\n",
       "    <tr>\n",
       "      <th>12</th>\n",
       "      <td>20.0</td>\n",
       "      <td>under40</td>\n",
       "    </tr>\n",
       "    <tr>\n",
       "      <th>91</th>\n",
       "      <td>20.0</td>\n",
       "      <td>under40</td>\n",
       "    </tr>\n",
       "    <tr>\n",
       "      <th>113</th>\n",
       "      <td>20.0</td>\n",
       "      <td>under40</td>\n",
       "    </tr>\n",
       "    <tr>\n",
       "      <th>131</th>\n",
       "      <td>20.0</td>\n",
       "      <td>under40</td>\n",
       "    </tr>\n",
       "    <tr>\n",
       "      <th>378</th>\n",
       "      <td>20.0</td>\n",
       "      <td>under40</td>\n",
       "    </tr>\n",
       "    <tr>\n",
       "      <th>404</th>\n",
       "      <td>20.0</td>\n",
       "      <td>under40</td>\n",
       "    </tr>\n",
       "    <tr>\n",
       "      <th>441</th>\n",
       "      <td>20.0</td>\n",
       "      <td>under40</td>\n",
       "    </tr>\n",
       "    <tr>\n",
       "      <th>622</th>\n",
       "      <td>20.0</td>\n",
       "      <td>under40</td>\n",
       "    </tr>\n",
       "    <tr>\n",
       "      <th>640</th>\n",
       "      <td>20.0</td>\n",
       "      <td>under40</td>\n",
       "    </tr>\n",
       "    <tr>\n",
       "      <th>664</th>\n",
       "      <td>20.0</td>\n",
       "      <td>under40</td>\n",
       "    </tr>\n",
       "    <tr>\n",
       "      <th>682</th>\n",
       "      <td>20.0</td>\n",
       "      <td>under40</td>\n",
       "    </tr>\n",
       "    <tr>\n",
       "      <th>725</th>\n",
       "      <td>20.0</td>\n",
       "      <td>under40</td>\n",
       "    </tr>\n",
       "    <tr>\n",
       "      <th>762</th>\n",
       "      <td>20.0</td>\n",
       "      <td>under40</td>\n",
       "    </tr>\n",
       "    <tr>\n",
       "      <th>840</th>\n",
       "      <td>20.0</td>\n",
       "      <td>under40</td>\n",
       "    </tr>\n",
       "    <tr>\n",
       "      <th>876</th>\n",
       "      <td>20.0</td>\n",
       "      <td>under40</td>\n",
       "    </tr>\n",
       "  </tbody>\n",
       "</table>\n",
       "</div>"
      ],
      "text/plain": [
       "      age age_range\n",
       "12   20.0   under40\n",
       "91   20.0   under40\n",
       "113  20.0   under40\n",
       "131  20.0   under40\n",
       "378  20.0   under40\n",
       "404  20.0   under40\n",
       "441  20.0   under40\n",
       "622  20.0   under40\n",
       "640  20.0   under40\n",
       "664  20.0   under40\n",
       "682  20.0   under40\n",
       "725  20.0   under40\n",
       "762  20.0   under40\n",
       "840  20.0   under40\n",
       "876  20.0   under40"
      ]
     },
     "execution_count": 169,
     "metadata": {},
     "output_type": "execute_result"
    }
   ],
   "source": [
    "data[data['age'] == 20][['age', 'age_range']]"
   ]
  },
  {
   "cell_type": "code",
   "execution_count": 126,
   "metadata": {},
   "outputs": [
    {
     "data": {
      "text/plain": [
       "count    891.000000\n",
       "mean      29.754659\n",
       "std       13.277179\n",
       "min        0.420000\n",
       "25%       21.773973\n",
       "50%       30.000000\n",
       "75%       35.898148\n",
       "max       80.000000\n",
       "Name: age2, dtype: float64"
      ]
     },
     "execution_count": 126,
     "metadata": {},
     "output_type": "execute_result"
    }
   ],
   "source": [
    "data['age2'].describe()"
   ]
  },
  {
   "cell_type": "code",
   "execution_count": 131,
   "metadata": {},
   "outputs": [],
   "source": [
    "# np.digitize(data, [20,40,60])\n",
    "# 0,1,2,3\n",
    "data['age_range'] = np.digitize(data['age2'], [20,40,60])"
   ]
  },
  {
   "cell_type": "code",
   "execution_count": 132,
   "metadata": {},
   "outputs": [
    {
     "data": {
      "text/plain": [
       "1    559\n",
       "0    168\n",
       "2    138\n",
       "3     26\n",
       "Name: age_range, dtype: int64"
      ]
     },
     "execution_count": 132,
     "metadata": {},
     "output_type": "execute_result"
    }
   ],
   "source": [
    "data['age_range'].value_counts()"
   ]
  },
  {
   "cell_type": "code",
   "execution_count": 142,
   "metadata": {},
   "outputs": [],
   "source": [
    "t = list(data['age_range'].unique())\n",
    "t.sort()"
   ]
  },
  {
   "cell_type": "code",
   "execution_count": 143,
   "metadata": {},
   "outputs": [
    {
     "data": {
      "text/plain": [
       "[0, 1, 2, 3]"
      ]
     },
     "execution_count": 143,
     "metadata": {},
     "output_type": "execute_result"
    }
   ],
   "source": [
    "t"
   ]
  },
  {
   "cell_type": "code",
   "execution_count": 145,
   "metadata": {},
   "outputs": [],
   "source": [
    "range_map = {}\n",
    "for k, v in zip(t, ['under20', 'under40', 'under60', 'over60']):\n",
    "    range_map[k] = v"
   ]
  },
  {
   "cell_type": "code",
   "execution_count": 146,
   "metadata": {},
   "outputs": [
    {
     "data": {
      "text/plain": [
       "{0: 'under20', 1: 'under40', 2: 'under60', 3: 'over60'}"
      ]
     },
     "execution_count": 146,
     "metadata": {},
     "output_type": "execute_result"
    }
   ],
   "source": [
    "range_map"
   ]
  },
  {
   "cell_type": "code",
   "execution_count": 148,
   "metadata": {},
   "outputs": [],
   "source": [
    "data['age_range'] = data['age_range'].map(range_map)"
   ]
  },
  {
   "cell_type": "code",
   "execution_count": 149,
   "metadata": {},
   "outputs": [
    {
     "data": {
      "text/plain": [
       "under40    559\n",
       "under20    168\n",
       "under60    138\n",
       "over60      26\n",
       "Name: age_range, dtype: int64"
      ]
     },
     "execution_count": 149,
     "metadata": {},
     "output_type": "execute_result"
    }
   ],
   "source": [
    "data['age_range'].value_counts()"
   ]
  },
  {
   "cell_type": "code",
   "execution_count": 150,
   "metadata": {},
   "outputs": [
    {
     "data": {
      "text/plain": [
       "<matplotlib.axes._subplots.AxesSubplot at 0x237d3cb7a58>"
      ]
     },
     "execution_count": 150,
     "metadata": {},
     "output_type": "execute_result"
    },
    {
     "data": {
      "image/png": "[encoded data removed]",
      "text/plain": [
       "<Figure size 432x288 with 1 Axes>"
      ]
     },
     "metadata": {},
     "output_type": "display_data"
    }
   ],
   "source": [
    "# 전체 연령대의 비율\n",
    "# pie\n",
    "data['age_range'].value_counts().plot(kind='pie')"
   ]
  },
  {
   "cell_type": "code",
   "execution_count": null,
   "metadata": {},
   "outputs": [],
   "source": [
    "# 생존여부별 나이대별 생존비율\n",
    "# stacked bar chart"
   ]
  },
  {
   "cell_type": "code",
   "execution_count": 155,
   "metadata": {},
   "outputs": [
    {
     "data": {
      "text/plain": [
       "<matplotlib.axes._subplots.AxesSubplot at 0x237d402b550>"
      ]
     },
     "execution_count": 155,
     "metadata": {},
     "output_type": "execute_result"
    },
    {
     "data": {
      "image/png": "[encoded data removed]",
      "text/plain": [
       "<Figure size 432x288 with 1 Axes>"
      ]
     },
     "metadata": {
      "needs_background": "light"
     },
     "output_type": "display_data"
    }
   ],
   "source": [
    "# 원본 데이터를 조작해서 시각화\n",
    "tmp = data.pivot_table(index='survived', columns='age_range', aggfunc='count')['age2']\n",
    "tmp.plot(kind='bar', stacked=True)"
   ]
  },
  {
   "cell_type": "code",
   "execution_count": 159,
   "metadata": {},
   "outputs": [],
   "source": [
    "# 시각화용 데이터를 생성\n",
    "dead = data[data['survived'] == 0]['age_range'].value_counts()\n",
    "survived = data[data['survived'] == 1]['age_range'].value_counts()"
   ]
  },
  {
   "cell_type": "code",
   "execution_count": 162,
   "metadata": {},
   "outputs": [],
   "source": [
    "dead.name = 'dead'\n",
    "survived.name = 'survived'"
   ]
  },
  {
   "cell_type": "code",
   "execution_count": 163,
   "metadata": {},
   "outputs": [
    {
     "data": {
      "text/html": [
       "<div>\n",
       "<style scoped>\n",
       "    .dataframe tbody tr th:only-of-type {\n",
       "        vertical-align: middle;\n",
       "    }\n",
       "\n",
       "    .dataframe tbody tr th {\n",
       "        vertical-align: top;\n",
       "    }\n",
       "\n",
       "    .dataframe thead th {\n",
       "        text-align: right;\n",
       "    }\n",
       "</style>\n",
       "<table border=\"1\" class=\"dataframe\">\n",
       "  <thead>\n",
       "    <tr style=\"text-align: right;\">\n",
       "      <th></th>\n",
       "      <th>under40</th>\n",
       "      <th>under20</th>\n",
       "      <th>under60</th>\n",
       "      <th>over60</th>\n",
       "    </tr>\n",
       "  </thead>\n",
       "  <tbody>\n",
       "    <tr>\n",
       "      <th>dead</th>\n",
       "      <td>359</td>\n",
       "      <td>87</td>\n",
       "      <td>84</td>\n",
       "      <td>19</td>\n",
       "    </tr>\n",
       "    <tr>\n",
       "      <th>survived</th>\n",
       "      <td>200</td>\n",
       "      <td>81</td>\n",
       "      <td>54</td>\n",
       "      <td>7</td>\n",
       "    </tr>\n",
       "  </tbody>\n",
       "</table>\n",
       "</div>"
      ],
      "text/plain": [
       "          under40  under20  under60  over60\n",
       "dead          359       87       84      19\n",
       "survived      200       81       54       7"
      ]
     },
     "execution_count": 163,
     "metadata": {},
     "output_type": "execute_result"
    }
   ],
   "source": [
    "df = pd.DataFrame([dead, survived])\n",
    "df"
   ]
  },
  {
   "cell_type": "code",
   "execution_count": 165,
   "metadata": {},
   "outputs": [
    {
     "data": {
      "text/plain": [
       "<matplotlib.axes._subplots.AxesSubplot at 0x237d3c6cda0>"
      ]
     },
     "execution_count": 165,
     "metadata": {},
     "output_type": "execute_result"
    },
    {
     "data": {
      "image/png": "[encoded data removed]",
      "text/plain": [
       "<Figure size 432x288 with 1 Axes>"
      ]
     },
     "metadata": {
      "needs_background": "light"
     },
     "output_type": "display_data"
    }
   ],
   "source": [
    "df.plot(kind='bar', stacked=True, rot=0)"
   ]
  },
  {
   "cell_type": "code",
   "execution_count": null,
   "metadata": {},
   "outputs": [],
   "source": [
    "# 연령대별 생존 비율\n",
    "# stacked bar chart"
   ]
  },
  {
   "cell_type": "code",
   "execution_count": 167,
   "metadata": {},
   "outputs": [
    {
     "data": {
      "text/plain": [
       "<matplotlib.axes._subplots.AxesSubplot at 0x237d4562320>"
      ]
     },
     "execution_count": 167,
     "metadata": {},
     "output_type": "execute_result"
    },
    {
     "data": {
      "image/png": "[encoded data removed]",
      "text/plain": [
       "<Figure size 432x288 with 1 Axes>"
      ]
     },
     "metadata": {
      "needs_background": "light"
     },
     "output_type": "display_data"
    }
   ],
   "source": [
    "tmp = data.pivot_table(index='age_range', columns='survived', aggfunc='count')['age2']\n",
    "tmp.plot(kind='bar', stacked=True)"
   ]
  },
  {
   "cell_type": "markdown",
   "metadata": {},
   "source": [
    "#### 기존 변수를 활용하여 family_size 유도 변수 추가 \n",
    "#### family_size 데이터를 범주형으로 변경\n",
    "\n",
    "- 3 미만\n",
    "- 3 이상 7 미만\n",
    "- 7 이상"
   ]
  },
  {
   "cell_type": "code",
   "execution_count": 184,
   "metadata": {},
   "outputs": [],
   "source": [
    "# sibsp, parch\n",
    "data['family_size'] = data['sibsp'] + data['parch']  + 1"
   ]
  },
  {
   "cell_type": "code",
   "execution_count": 174,
   "metadata": {},
   "outputs": [
    {
     "data": {
      "text/plain": [
       "count    891.000000\n",
       "mean       1.904602\n",
       "std        1.613459\n",
       "min        1.000000\n",
       "25%        1.000000\n",
       "50%        1.000000\n",
       "75%        2.000000\n",
       "max       11.000000\n",
       "Name: family_size, dtype: float64"
      ]
     },
     "execution_count": 174,
     "metadata": {},
     "output_type": "execute_result"
    }
   ],
   "source": [
    "data['family_size'].describe()"
   ]
  },
  {
   "cell_type": "code",
   "execution_count": 185,
   "metadata": {},
   "outputs": [],
   "source": [
    "# 3 미만\n",
    "# 3 이상 7 미만\n",
    "# 7 이상\n",
    "data['family_size1'] = np.digitize(data['family_size'], [3,7])"
   ]
  },
  {
   "cell_type": "code",
   "execution_count": 186,
   "metadata": {},
   "outputs": [],
   "source": [
    "data['family_size2'] = data['family_size1'].map({0:'small', 1:'medium', 2:'large'})"
   ]
  },
  {
   "cell_type": "code",
   "execution_count": 187,
   "metadata": {
    "collapsed": true
   },
   "outputs": [
    {
     "data": {
      "text/html": [
       "<div>\n",
       "<style scoped>\n",
       "    .dataframe tbody tr th:only-of-type {\n",
       "        vertical-align: middle;\n",
       "    }\n",
       "\n",
       "    .dataframe tbody tr th {\n",
       "        vertical-align: top;\n",
       "    }\n",
       "\n",
       "    .dataframe thead th {\n",
       "        text-align: right;\n",
       "    }\n",
       "</style>\n",
       "<table border=\"1\" class=\"dataframe\">\n",
       "  <thead>\n",
       "    <tr style=\"text-align: right;\">\n",
       "      <th></th>\n",
       "      <th>family_size</th>\n",
       "      <th>family_size2</th>\n",
       "    </tr>\n",
       "  </thead>\n",
       "  <tbody>\n",
       "    <tr>\n",
       "      <th>8</th>\n",
       "      <td>3</td>\n",
       "      <td>medium</td>\n",
       "    </tr>\n",
       "    <tr>\n",
       "      <th>10</th>\n",
       "      <td>3</td>\n",
       "      <td>medium</td>\n",
       "    </tr>\n",
       "    <tr>\n",
       "      <th>38</th>\n",
       "      <td>3</td>\n",
       "      <td>medium</td>\n",
       "    </tr>\n",
       "    <tr>\n",
       "      <th>48</th>\n",
       "      <td>3</td>\n",
       "      <td>medium</td>\n",
       "    </tr>\n",
       "    <tr>\n",
       "      <th>65</th>\n",
       "      <td>3</td>\n",
       "      <td>medium</td>\n",
       "    </tr>\n",
       "    <tr>\n",
       "      <th>69</th>\n",
       "      <td>3</td>\n",
       "      <td>medium</td>\n",
       "    </tr>\n",
       "    <tr>\n",
       "      <th>78</th>\n",
       "      <td>3</td>\n",
       "      <td>medium</td>\n",
       "    </tr>\n",
       "    <tr>\n",
       "      <th>104</th>\n",
       "      <td>3</td>\n",
       "      <td>medium</td>\n",
       "    </tr>\n",
       "    <tr>\n",
       "      <th>120</th>\n",
       "      <td>3</td>\n",
       "      <td>medium</td>\n",
       "    </tr>\n",
       "    <tr>\n",
       "      <th>128</th>\n",
       "      <td>3</td>\n",
       "      <td>medium</td>\n",
       "    </tr>\n",
       "    <tr>\n",
       "      <th>136</th>\n",
       "      <td>3</td>\n",
       "      <td>medium</td>\n",
       "    </tr>\n",
       "    <tr>\n",
       "      <th>140</th>\n",
       "      <td>3</td>\n",
       "      <td>medium</td>\n",
       "    </tr>\n",
       "    <tr>\n",
       "      <th>145</th>\n",
       "      <td>3</td>\n",
       "      <td>medium</td>\n",
       "    </tr>\n",
       "    <tr>\n",
       "      <th>148</th>\n",
       "      <td>3</td>\n",
       "      <td>medium</td>\n",
       "    </tr>\n",
       "    <tr>\n",
       "      <th>153</th>\n",
       "      <td>3</td>\n",
       "      <td>medium</td>\n",
       "    </tr>\n",
       "    <tr>\n",
       "      <th>165</th>\n",
       "      <td>3</td>\n",
       "      <td>medium</td>\n",
       "    </tr>\n",
       "    <tr>\n",
       "      <th>172</th>\n",
       "      <td>3</td>\n",
       "      <td>medium</td>\n",
       "    </tr>\n",
       "    <tr>\n",
       "      <th>175</th>\n",
       "      <td>3</td>\n",
       "      <td>medium</td>\n",
       "    </tr>\n",
       "    <tr>\n",
       "      <th>184</th>\n",
       "      <td>3</td>\n",
       "      <td>medium</td>\n",
       "    </tr>\n",
       "    <tr>\n",
       "      <th>188</th>\n",
       "      <td>3</td>\n",
       "      <td>medium</td>\n",
       "    </tr>\n",
       "    <tr>\n",
       "      <th>193</th>\n",
       "      <td>3</td>\n",
       "      <td>medium</td>\n",
       "    </tr>\n",
       "    <tr>\n",
       "      <th>237</th>\n",
       "      <td>3</td>\n",
       "      <td>medium</td>\n",
       "    </tr>\n",
       "    <tr>\n",
       "      <th>245</th>\n",
       "      <td>3</td>\n",
       "      <td>medium</td>\n",
       "    </tr>\n",
       "    <tr>\n",
       "      <th>247</th>\n",
       "      <td>3</td>\n",
       "      <td>medium</td>\n",
       "    </tr>\n",
       "    <tr>\n",
       "      <th>248</th>\n",
       "      <td>3</td>\n",
       "      <td>medium</td>\n",
       "    </tr>\n",
       "    <tr>\n",
       "      <th>251</th>\n",
       "      <td>3</td>\n",
       "      <td>medium</td>\n",
       "    </tr>\n",
       "    <tr>\n",
       "      <th>254</th>\n",
       "      <td>3</td>\n",
       "      <td>medium</td>\n",
       "    </tr>\n",
       "    <tr>\n",
       "      <th>255</th>\n",
       "      <td>3</td>\n",
       "      <td>medium</td>\n",
       "    </tr>\n",
       "    <tr>\n",
       "      <th>262</th>\n",
       "      <td>3</td>\n",
       "      <td>medium</td>\n",
       "    </tr>\n",
       "    <tr>\n",
       "      <th>279</th>\n",
       "      <td>3</td>\n",
       "      <td>medium</td>\n",
       "    </tr>\n",
       "    <tr>\n",
       "      <th>...</th>\n",
       "      <td>...</td>\n",
       "      <td>...</td>\n",
       "    </tr>\n",
       "    <tr>\n",
       "      <th>593</th>\n",
       "      <td>3</td>\n",
       "      <td>medium</td>\n",
       "    </tr>\n",
       "    <tr>\n",
       "      <th>595</th>\n",
       "      <td>3</td>\n",
       "      <td>medium</td>\n",
       "    </tr>\n",
       "    <tr>\n",
       "      <th>616</th>\n",
       "      <td>3</td>\n",
       "      <td>medium</td>\n",
       "    </tr>\n",
       "    <tr>\n",
       "      <th>622</th>\n",
       "      <td>3</td>\n",
       "      <td>medium</td>\n",
       "    </tr>\n",
       "    <tr>\n",
       "      <th>637</th>\n",
       "      <td>3</td>\n",
       "      <td>medium</td>\n",
       "    </tr>\n",
       "    <tr>\n",
       "      <th>655</th>\n",
       "      <td>3</td>\n",
       "      <td>medium</td>\n",
       "    </tr>\n",
       "    <tr>\n",
       "      <th>657</th>\n",
       "      <td>3</td>\n",
       "      <td>medium</td>\n",
       "    </tr>\n",
       "    <tr>\n",
       "      <th>659</th>\n",
       "      <td>3</td>\n",
       "      <td>medium</td>\n",
       "    </tr>\n",
       "    <tr>\n",
       "      <th>660</th>\n",
       "      <td>3</td>\n",
       "      <td>medium</td>\n",
       "    </tr>\n",
       "    <tr>\n",
       "      <th>665</th>\n",
       "      <td>3</td>\n",
       "      <td>medium</td>\n",
       "    </tr>\n",
       "    <tr>\n",
       "      <th>670</th>\n",
       "      <td>3</td>\n",
       "      <td>medium</td>\n",
       "    </tr>\n",
       "    <tr>\n",
       "      <th>684</th>\n",
       "      <td>3</td>\n",
       "      <td>medium</td>\n",
       "    </tr>\n",
       "    <tr>\n",
       "      <th>698</th>\n",
       "      <td>3</td>\n",
       "      <td>medium</td>\n",
       "    </tr>\n",
       "    <tr>\n",
       "      <th>709</th>\n",
       "      <td>3</td>\n",
       "      <td>medium</td>\n",
       "    </tr>\n",
       "    <tr>\n",
       "      <th>745</th>\n",
       "      <td>3</td>\n",
       "      <td>medium</td>\n",
       "    </tr>\n",
       "    <tr>\n",
       "      <th>746</th>\n",
       "      <td>3</td>\n",
       "      <td>medium</td>\n",
       "    </tr>\n",
       "    <tr>\n",
       "      <th>750</th>\n",
       "      <td>3</td>\n",
       "      <td>medium</td>\n",
       "    </tr>\n",
       "    <tr>\n",
       "      <th>755</th>\n",
       "      <td>3</td>\n",
       "      <td>medium</td>\n",
       "    </tr>\n",
       "    <tr>\n",
       "      <th>799</th>\n",
       "      <td>3</td>\n",
       "      <td>medium</td>\n",
       "    </tr>\n",
       "    <tr>\n",
       "      <th>801</th>\n",
       "      <td>3</td>\n",
       "      <td>medium</td>\n",
       "    </tr>\n",
       "    <tr>\n",
       "      <th>817</th>\n",
       "      <td>3</td>\n",
       "      <td>medium</td>\n",
       "    </tr>\n",
       "    <tr>\n",
       "      <th>820</th>\n",
       "      <td>3</td>\n",
       "      <td>medium</td>\n",
       "    </tr>\n",
       "    <tr>\n",
       "      <th>827</th>\n",
       "      <td>3</td>\n",
       "      <td>medium</td>\n",
       "    </tr>\n",
       "    <tr>\n",
       "      <th>831</th>\n",
       "      <td>3</td>\n",
       "      <td>medium</td>\n",
       "    </tr>\n",
       "    <tr>\n",
       "      <th>835</th>\n",
       "      <td>3</td>\n",
       "      <td>medium</td>\n",
       "    </tr>\n",
       "    <tr>\n",
       "      <th>852</th>\n",
       "      <td>3</td>\n",
       "      <td>medium</td>\n",
       "    </tr>\n",
       "    <tr>\n",
       "      <th>856</th>\n",
       "      <td>3</td>\n",
       "      <td>medium</td>\n",
       "    </tr>\n",
       "    <tr>\n",
       "      <th>860</th>\n",
       "      <td>3</td>\n",
       "      <td>medium</td>\n",
       "    </tr>\n",
       "    <tr>\n",
       "      <th>869</th>\n",
       "      <td>3</td>\n",
       "      <td>medium</td>\n",
       "    </tr>\n",
       "    <tr>\n",
       "      <th>871</th>\n",
       "      <td>3</td>\n",
       "      <td>medium</td>\n",
       "    </tr>\n",
       "  </tbody>\n",
       "</table>\n",
       "<p>102 rows × 2 columns</p>\n",
       "</div>"
      ],
      "text/plain": [
       "     family_size family_size2\n",
       "8              3       medium\n",
       "10             3       medium\n",
       "38             3       medium\n",
       "48             3       medium\n",
       "65             3       medium\n",
       "69             3       medium\n",
       "78             3       medium\n",
       "104            3       medium\n",
       "120            3       medium\n",
       "128            3       medium\n",
       "136            3       medium\n",
       "140            3       medium\n",
       "145            3       medium\n",
       "148            3       medium\n",
       "153            3       medium\n",
       "165            3       medium\n",
       "172            3       medium\n",
       "175            3       medium\n",
       "184            3       medium\n",
       "188            3       medium\n",
       "193            3       medium\n",
       "237            3       medium\n",
       "245            3       medium\n",
       "247            3       medium\n",
       "248            3       medium\n",
       "251            3       medium\n",
       "254            3       medium\n",
       "255            3       medium\n",
       "262            3       medium\n",
       "279            3       medium\n",
       "..           ...          ...\n",
       "593            3       medium\n",
       "595            3       medium\n",
       "616            3       medium\n",
       "622            3       medium\n",
       "637            3       medium\n",
       "655            3       medium\n",
       "657            3       medium\n",
       "659            3       medium\n",
       "660            3       medium\n",
       "665            3       medium\n",
       "670            3       medium\n",
       "684            3       medium\n",
       "698            3       medium\n",
       "709            3       medium\n",
       "745            3       medium\n",
       "746            3       medium\n",
       "750            3       medium\n",
       "755            3       medium\n",
       "799            3       medium\n",
       "801            3       medium\n",
       "817            3       medium\n",
       "820            3       medium\n",
       "827            3       medium\n",
       "831            3       medium\n",
       "835            3       medium\n",
       "852            3       medium\n",
       "856            3       medium\n",
       "860            3       medium\n",
       "869            3       medium\n",
       "871            3       medium\n",
       "\n",
       "[102 rows x 2 columns]"
      ]
     },
     "execution_count": 187,
     "metadata": {},
     "output_type": "execute_result"
    }
   ],
   "source": [
    "data[data['family_size']==3][['family_size', 'family_size2']]"
   ]
  },
  {
   "cell_type": "code",
   "execution_count": 188,
   "metadata": {
    "collapsed": true
   },
   "outputs": [
    {
     "data": {
      "text/plain": [
       "<matplotlib.axes._subplots.AxesSubplot at 0x237d49b4a90>"
      ]
     },
     "execution_count": 188,
     "metadata": {},
     "output_type": "execute_result"
    },
    {
     "data": {
      "image/png": "[encoded data removed]",
      "text/plain": [
       "<Figure size 432x288 with 1 Axes>"
      ]
     },
     "metadata": {
      "needs_background": "light"
     },
     "output_type": "display_data"
    }
   ],
   "source": [
    "data['family_size'].hist()"
   ]
  },
  {
   "cell_type": "code",
   "execution_count": 200,
   "metadata": {},
   "outputs": [
    {
     "data": {
      "text/plain": [
       "<matplotlib.axes._subplots.AxesSubplot at 0x237d4c55dd8>"
      ]
     },
     "execution_count": 200,
     "metadata": {},
     "output_type": "execute_result"
    },
    {
     "data": {
      "image/png": "[encoded data removed]",
      "text/plain": [
       "<Figure size 432x288 with 1 Axes>"
      ]
     },
     "metadata": {},
     "output_type": "display_data"
    }
   ],
   "source": [
    "data['family_size2'].value_counts().plot(kind='pie')"
   ]
  },
  {
   "cell_type": "code",
   "execution_count": 194,
   "metadata": {},
   "outputs": [],
   "source": [
    "# 생존여부에 따라 가족크기별 비율\n",
    "survived = data[data['survived'] == 1]['family_size2'].value_counts()\n",
    "dead = data[data['survived'] == 0]['family_size2'].value_counts()"
   ]
  },
  {
   "cell_type": "code",
   "execution_count": 196,
   "metadata": {
    "collapsed": true
   },
   "outputs": [
    {
     "data": {
      "text/plain": [
       "small     446\n",
       "medium     82\n",
       "large      21\n",
       "Name: family_size2, dtype: int64"
      ]
     },
     "execution_count": 196,
     "metadata": {},
     "output_type": "execute_result"
    }
   ],
   "source": [
    "dead"
   ]
  },
  {
   "cell_type": "code",
   "execution_count": 195,
   "metadata": {
    "collapsed": true
   },
   "outputs": [
    {
     "data": {
      "text/html": [
       "<div>\n",
       "<style scoped>\n",
       "    .dataframe tbody tr th:only-of-type {\n",
       "        vertical-align: middle;\n",
       "    }\n",
       "\n",
       "    .dataframe tbody tr th {\n",
       "        vertical-align: top;\n",
       "    }\n",
       "\n",
       "    .dataframe thead th {\n",
       "        text-align: right;\n",
       "    }\n",
       "</style>\n",
       "<table border=\"1\" class=\"dataframe\">\n",
       "  <thead>\n",
       "    <tr style=\"text-align: right;\">\n",
       "      <th></th>\n",
       "      <th>small</th>\n",
       "      <th>medium</th>\n",
       "      <th>large</th>\n",
       "    </tr>\n",
       "  </thead>\n",
       "  <tbody>\n",
       "    <tr>\n",
       "      <th>family_size2</th>\n",
       "      <td>252</td>\n",
       "      <td>86</td>\n",
       "      <td>4</td>\n",
       "    </tr>\n",
       "    <tr>\n",
       "      <th>family_size2</th>\n",
       "      <td>446</td>\n",
       "      <td>82</td>\n",
       "      <td>21</td>\n",
       "    </tr>\n",
       "  </tbody>\n",
       "</table>\n",
       "</div>"
      ],
      "text/plain": [
       "              small  medium  large\n",
       "family_size2    252      86      4\n",
       "family_size2    446      82     21"
      ]
     },
     "execution_count": 195,
     "metadata": {},
     "output_type": "execute_result"
    }
   ],
   "source": [
    "df = pd.DataFrame([survived, dead])\n",
    "df"
   ]
  },
  {
   "cell_type": "code",
   "execution_count": 198,
   "metadata": {
    "collapsed": true
   },
   "outputs": [
    {
     "data": {
      "text/html": [
       "<div>\n",
       "<style scoped>\n",
       "    .dataframe tbody tr th:only-of-type {\n",
       "        vertical-align: middle;\n",
       "    }\n",
       "\n",
       "    .dataframe tbody tr th {\n",
       "        vertical-align: top;\n",
       "    }\n",
       "\n",
       "    .dataframe thead th {\n",
       "        text-align: right;\n",
       "    }\n",
       "</style>\n",
       "<table border=\"1\" class=\"dataframe\">\n",
       "  <thead>\n",
       "    <tr style=\"text-align: right;\">\n",
       "      <th></th>\n",
       "      <th>small</th>\n",
       "      <th>medium</th>\n",
       "      <th>large</th>\n",
       "    </tr>\n",
       "  </thead>\n",
       "  <tbody>\n",
       "    <tr>\n",
       "      <th>survived</th>\n",
       "      <td>252</td>\n",
       "      <td>86</td>\n",
       "      <td>4</td>\n",
       "    </tr>\n",
       "    <tr>\n",
       "      <th>dead</th>\n",
       "      <td>446</td>\n",
       "      <td>82</td>\n",
       "      <td>21</td>\n",
       "    </tr>\n",
       "  </tbody>\n",
       "</table>\n",
       "</div>"
      ],
      "text/plain": [
       "          small  medium  large\n",
       "survived    252      86      4\n",
       "dead        446      82     21"
      ]
     },
     "execution_count": 198,
     "metadata": {},
     "output_type": "execute_result"
    }
   ],
   "source": [
    "df.index = ['survived', 'dead']\n",
    "df"
   ]
  },
  {
   "cell_type": "code",
   "execution_count": 199,
   "metadata": {},
   "outputs": [
    {
     "data": {
      "text/plain": [
       "<matplotlib.axes._subplots.AxesSubplot at 0x237d61adef0>"
      ]
     },
     "execution_count": 199,
     "metadata": {},
     "output_type": "execute_result"
    },
    {
     "data": {
      "image/png": "[encoded data removed]",
      "text/plain": [
       "<Figure size 432x288 with 1 Axes>"
      ]
     },
     "metadata": {
      "needs_background": "light"
     },
     "output_type": "display_data"
    }
   ],
   "source": [
    "df.plot(kind='bar', stacked=True)"
   ]
  },
  {
   "cell_type": "code",
   "execution_count": 202,
   "metadata": {
    "collapsed": true
   },
   "outputs": [
    {
     "data": {
      "text/plain": [
       "passengerid       0\n",
       "survived          0\n",
       "pclass            0\n",
       "name              0\n",
       "sex               0\n",
       "age             177\n",
       "sibsp             0\n",
       "parch             0\n",
       "ticket            0\n",
       "fare              0\n",
       "embarked          2\n",
       "deck              0\n",
       "title             0\n",
       "title2            0\n",
       "age2              0\n",
       "age_range         0\n",
       "family_size       0\n",
       "family_size2      0\n",
       "family_size1      0\n",
       "dtype: int64"
      ]
     },
     "execution_count": 202,
     "metadata": {},
     "output_type": "execute_result"
    }
   ],
   "source": [
    "data.isnull().sum()"
   ]
  },
  {
   "cell_type": "markdown",
   "metadata": {},
   "source": [
    "#### 결측치 처리 - Embarked"
   ]
  },
  {
   "cell_type": "code",
   "execution_count": null,
   "metadata": {},
   "outputs": [],
   "source": [
    "# Embarked NaN 값을 대체할 수 있는 대표값 찾기"
   ]
  },
  {
   "cell_type": "code",
   "execution_count": null,
   "metadata": {},
   "outputs": [],
   "source": [
    "# 사회적 등급(title)에 따른 탑승항구의 차이가 있는지 확인해서 대체값으로 적용"
   ]
  },
  {
   "cell_type": "code",
   "execution_count": null,
   "metadata": {},
   "outputs": [],
   "source": [
    "# Embarked 결측치 대체값 : 최빈값"
   ]
  },
  {
   "cell_type": "code",
   "execution_count": null,
   "metadata": {},
   "outputs": [],
   "source": [
    "# NaN값을 가지는 표본의 신분을 추정할 수 있는 도구 : title, fare"
   ]
  },
  {
   "cell_type": "code",
   "execution_count": null,
   "metadata": {},
   "outputs": [],
   "source": [
    "# 최빈값이 S 로 대체한다."
   ]
  },
  {
   "cell_type": "code",
   "execution_count": null,
   "metadata": {},
   "outputs": [],
   "source": [
    "# 61, 829번 표본과 공통된 title, fare 값을 갖는 표본을 조사하여 embarked 유추"
   ]
  },
  {
   "cell_type": "code",
   "execution_count": 204,
   "metadata": {},
   "outputs": [
    {
     "data": {
      "text/plain": [
       "61     NaN\n",
       "829    NaN\n",
       "Name: embarked, dtype: object"
      ]
     },
     "execution_count": 204,
     "metadata": {},
     "output_type": "execute_result"
    }
   ],
   "source": [
    "data.iloc[[61,829]]['embarked']"
   ]
  },
  {
   "cell_type": "code",
   "execution_count": 206,
   "metadata": {
    "scrolled": true
   },
   "outputs": [
    {
     "data": {
      "text/plain": [
       "'S'"
      ]
     },
     "execution_count": 206,
     "metadata": {},
     "output_type": "execute_result"
    }
   ],
   "source": [
    "# 대표값 찾기 : 최빈값 => S\n",
    "data['embarked'].value_counts().index[0]"
   ]
  },
  {
   "cell_type": "code",
   "execution_count": 208,
   "metadata": {},
   "outputs": [
    {
     "data": {
      "text/plain": [
       "'S'"
      ]
     },
     "execution_count": 208,
     "metadata": {},
     "output_type": "execute_result"
    }
   ],
   "source": [
    "data['embarked'].describe()[2]"
   ]
  },
  {
   "cell_type": "code",
   "execution_count": 219,
   "metadata": {},
   "outputs": [
    {
     "data": {
      "text/plain": [
       "array(['mr', 'mrs', 'miss', 'master', 'royalty', 'officer'], dtype=object)"
      ]
     },
     "execution_count": 219,
     "metadata": {},
     "output_type": "execute_result"
    }
   ],
   "source": [
    "data['title2'].unique()"
   ]
  },
  {
   "cell_type": "code",
   "execution_count": null,
   "metadata": {},
   "outputs": [],
   "source": [
    "# exec()\n",
    "# mr_sr\n",
    "# mrs_sr\n",
    "# miss_sr\n",
    "# master_sr"
   ]
  },
  {
   "cell_type": "code",
   "execution_count": 222,
   "metadata": {},
   "outputs": [],
   "source": [
    "tmp = []\n",
    "for t in data['title2'].unique():\n",
    "#      exec(t+\"_sr = data[data['title2'] == t]['embarked'].value_counts()\")\n",
    "    tmp.append(data[data['title2'] == t]['embarked'].value_counts().index[0])    "
   ]
  },
  {
   "cell_type": "code",
   "execution_count": 223,
   "metadata": {},
   "outputs": [
    {
     "data": {
      "text/plain": [
       "['S', 'S', 'S', 'S', 'S', 'S']"
      ]
     },
     "execution_count": 223,
     "metadata": {},
     "output_type": "execute_result"
    }
   ],
   "source": [
    "tmp"
   ]
  },
  {
   "cell_type": "code",
   "execution_count": 221,
   "metadata": {},
   "outputs": [
    {
     "data": {
      "text/plain": [
       "S    397\n",
       "C     85\n",
       "Q     35\n",
       "Name: embarked, dtype: int64"
      ]
     },
     "execution_count": 221,
     "metadata": {},
     "output_type": "execute_result"
    }
   ],
   "source": []
  },
  {
   "cell_type": "code",
   "execution_count": 212,
   "metadata": {},
   "outputs": [
    {
     "data": {
      "text/plain": [
       "title2\n",
       "master     S\n",
       "master     S\n",
       "master     S\n",
       "master     S\n",
       "master     S\n",
       "master     S\n",
       "master     C\n",
       "master     S\n",
       "master     C\n",
       "master     S\n",
       "master     S\n",
       "master     S\n",
       "master     S\n",
       "master     S\n",
       "master     S\n",
       "master     S\n",
       "master     C\n",
       "master     Q\n",
       "master     S\n",
       "master     Q\n",
       "master     S\n",
       "master     C\n",
       "master     C\n",
       "master     S\n",
       "master     S\n",
       "master     S\n",
       "master     S\n",
       "master     S\n",
       "master     S\n",
       "master     S\n",
       "          ..\n",
       "mrs        S\n",
       "mrs        S\n",
       "mrs        S\n",
       "mrs        S\n",
       "mrs        S\n",
       "mrs        C\n",
       "mrs        S\n",
       "officer    S\n",
       "officer    S\n",
       "officer    Q\n",
       "officer    S\n",
       "officer    S\n",
       "officer    S\n",
       "officer    Q\n",
       "officer    S\n",
       "officer    S\n",
       "officer    S\n",
       "officer    S\n",
       "officer    S\n",
       "officer    C\n",
       "officer    C\n",
       "officer    S\n",
       "officer    C\n",
       "officer    S\n",
       "officer    C\n",
       "officer    S\n",
       "royalty    C\n",
       "royalty    C\n",
       "royalty    S\n",
       "royalty    S\n",
       "Name: embarked, Length: 891, dtype: object"
      ]
     },
     "execution_count": 212,
     "metadata": {},
     "output_type": "execute_result"
    }
   ],
   "source": [
    "# 대표값 찾기 : title별 최빈값\n",
    "data.set_index('title2')['embarked']"
   ]
  },
  {
   "cell_type": "code",
   "execution_count": null,
   "metadata": {},
   "outputs": [],
   "source": []
  },
  {
   "cell_type": "code",
   "execution_count": null,
   "metadata": {},
   "outputs": [],
   "source": []
  },
  {
   "cell_type": "code",
   "execution_count": null,
   "metadata": {},
   "outputs": [],
   "source": []
  },
  {
   "cell_type": "code",
   "execution_count": null,
   "metadata": {},
   "outputs": [],
   "source": []
  },
  {
   "cell_type": "code",
   "execution_count": 224,
   "metadata": {},
   "outputs": [],
   "source": [
    "data['embarked'].fillna('S', inplace=True)"
   ]
  },
  {
   "cell_type": "code",
   "execution_count": 225,
   "metadata": {},
   "outputs": [
    {
     "data": {
      "text/plain": [
       "0"
      ]
     },
     "execution_count": 225,
     "metadata": {},
     "output_type": "execute_result"
    }
   ],
   "source": [
    "data['embarked'].isnull().sum()"
   ]
  },
  {
   "cell_type": "markdown",
   "metadata": {},
   "source": [
    "#### 객실등급별 출발지 현황 파악"
   ]
  },
  {
   "cell_type": "code",
   "execution_count": 226,
   "metadata": {},
   "outputs": [
    {
     "data": {
      "text/plain": [
       "array([3, 1, 2], dtype=int64)"
      ]
     },
     "execution_count": 226,
     "metadata": {},
     "output_type": "execute_result"
    }
   ],
   "source": [
    "data['pclass'].unique()"
   ]
  },
  {
   "cell_type": "code",
   "execution_count": 228,
   "metadata": {},
   "outputs": [],
   "source": [
    "p1 = data[data['pclass'] == 1]['embarked'].value_counts()\n",
    "p2 = data[data['pclass'] == 2]['embarked'].value_counts()\n",
    "p3 = data[data['pclass'] == 3]['embarked'].value_counts()"
   ]
  },
  {
   "cell_type": "code",
   "execution_count": 229,
   "metadata": {},
   "outputs": [
    {
     "data": {
      "text/html": [
       "<div>\n",
       "<style scoped>\n",
       "    .dataframe tbody tr th:only-of-type {\n",
       "        vertical-align: middle;\n",
       "    }\n",
       "\n",
       "    .dataframe tbody tr th {\n",
       "        vertical-align: top;\n",
       "    }\n",
       "\n",
       "    .dataframe thead th {\n",
       "        text-align: right;\n",
       "    }\n",
       "</style>\n",
       "<table border=\"1\" class=\"dataframe\">\n",
       "  <thead>\n",
       "    <tr style=\"text-align: right;\">\n",
       "      <th></th>\n",
       "      <th>S</th>\n",
       "      <th>C</th>\n",
       "      <th>Q</th>\n",
       "    </tr>\n",
       "  </thead>\n",
       "  <tbody>\n",
       "    <tr>\n",
       "      <th>embarked</th>\n",
       "      <td>129</td>\n",
       "      <td>85</td>\n",
       "      <td>2</td>\n",
       "    </tr>\n",
       "    <tr>\n",
       "      <th>embarked</th>\n",
       "      <td>164</td>\n",
       "      <td>17</td>\n",
       "      <td>3</td>\n",
       "    </tr>\n",
       "    <tr>\n",
       "      <th>embarked</th>\n",
       "      <td>353</td>\n",
       "      <td>66</td>\n",
       "      <td>72</td>\n",
       "    </tr>\n",
       "  </tbody>\n",
       "</table>\n",
       "</div>"
      ],
      "text/plain": [
       "            S   C   Q\n",
       "embarked  129  85   2\n",
       "embarked  164  17   3\n",
       "embarked  353  66  72"
      ]
     },
     "execution_count": 229,
     "metadata": {},
     "output_type": "execute_result"
    }
   ],
   "source": [
    "df = pd.DataFrame([p1, p2, p3])\n",
    "df"
   ]
  },
  {
   "cell_type": "code",
   "execution_count": 230,
   "metadata": {},
   "outputs": [
    {
     "data": {
      "text/html": [
       "<div>\n",
       "<style scoped>\n",
       "    .dataframe tbody tr th:only-of-type {\n",
       "        vertical-align: middle;\n",
       "    }\n",
       "\n",
       "    .dataframe tbody tr th {\n",
       "        vertical-align: top;\n",
       "    }\n",
       "\n",
       "    .dataframe thead th {\n",
       "        text-align: right;\n",
       "    }\n",
       "</style>\n",
       "<table border=\"1\" class=\"dataframe\">\n",
       "  <thead>\n",
       "    <tr style=\"text-align: right;\">\n",
       "      <th></th>\n",
       "      <th>S</th>\n",
       "      <th>C</th>\n",
       "      <th>Q</th>\n",
       "    </tr>\n",
       "  </thead>\n",
       "  <tbody>\n",
       "    <tr>\n",
       "      <th>p1</th>\n",
       "      <td>129</td>\n",
       "      <td>85</td>\n",
       "      <td>2</td>\n",
       "    </tr>\n",
       "    <tr>\n",
       "      <th>p2</th>\n",
       "      <td>164</td>\n",
       "      <td>17</td>\n",
       "      <td>3</td>\n",
       "    </tr>\n",
       "    <tr>\n",
       "      <th>p3</th>\n",
       "      <td>353</td>\n",
       "      <td>66</td>\n",
       "      <td>72</td>\n",
       "    </tr>\n",
       "  </tbody>\n",
       "</table>\n",
       "</div>"
      ],
      "text/plain": [
       "      S   C   Q\n",
       "p1  129  85   2\n",
       "p2  164  17   3\n",
       "p3  353  66  72"
      ]
     },
     "execution_count": 230,
     "metadata": {},
     "output_type": "execute_result"
    }
   ],
   "source": [
    "df.index = ['p1', 'p2', 'p3']\n",
    "df"
   ]
  },
  {
   "cell_type": "code",
   "execution_count": 231,
   "metadata": {},
   "outputs": [
    {
     "data": {
      "text/plain": [
       "<matplotlib.axes._subplots.AxesSubplot at 0x237d66b2e80>"
      ]
     },
     "execution_count": 231,
     "metadata": {},
     "output_type": "execute_result"
    },
    {
     "data": {
      "image/png": "[encoded data removed]",
      "text/plain": [
       "<Figure size 432x288 with 1 Axes>"
      ]
     },
     "metadata": {
      "needs_background": "light"
     },
     "output_type": "display_data"
    }
   ],
   "source": [
    "df.plot(kind='bar', stacked=True)"
   ]
  },
  {
   "cell_type": "code",
   "execution_count": 232,
   "metadata": {},
   "outputs": [
    {
     "data": {
      "text/plain": [
       "<matplotlib.axes._subplots.AxesSubplot at 0x237d62fbe10>"
      ]
     },
     "execution_count": 232,
     "metadata": {},
     "output_type": "execute_result"
    },
    {
     "data": {
      "image/png": "[encoded data removed]",
      "text/plain": [
       "<Figure size 432x288 with 1 Axes>"
      ]
     },
     "metadata": {},
     "output_type": "display_data"
    }
   ],
   "source": [
    "data['embarked'].value_counts().plot(kind='pie')"
   ]
  }
 ],
 "metadata": {
  "kernelspec": {
   "display_name": "Python 3",
   "language": "python",
   "name": "python3"
  },
  "language_info": {
   "codemirror_mode": {
    "name": "ipython",
    "version": 3
   },
   "file_extension": ".py",
   "mimetype": "text/x-python",
   "name": "python",
   "nbconvert_exporter": "python",
   "pygments_lexer": "ipython3",
   "version": "3.7.1"
  }
 },
 "nbformat": 4,
 "nbformat_minor": 2
}
