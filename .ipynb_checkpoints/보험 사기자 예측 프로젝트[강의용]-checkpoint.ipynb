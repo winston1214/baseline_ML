{
 "cells": [
  {
   "cell_type": "code",
   "execution_count": 1,
   "metadata": {},
   "outputs": [],
   "source": [
    "# 라이브러리\n",
    "# pandas\n",
    "# numpy\n",
    "# matplotlib\n",
    "import pandas as pd\n",
    "import numpy as np\n",
    "import matplotlib.pyplot as plt"
   ]
  },
  {
   "cell_type": "code",
   "execution_count": 2,
   "metadata": {},
   "outputs": [],
   "source": [
    "# 데이터프레임에서 출력되는 컬럼 개수 지정\n",
    "pd.set_option('display.max_columns', 40)"
   ]
  },
  {
   "cell_type": "code",
   "execution_count": 3,
   "metadata": {},
   "outputs": [],
   "source": [
    "# 데이터 적재\n",
    "# encoding : utf-16\n",
    "# sep : ,\n",
    "# engine : python\n",
    "cust_data = pd.read_csv('CUST_DATA.csv', encoding='utf-16', engine='python', sep=',')"
   ]
  },
  {
   "cell_type": "code",
   "execution_count": 4,
   "metadata": {},
   "outputs": [
    {
     "data": {
      "text/html": [
       "<div>\n",
       "<style scoped>\n",
       "    .dataframe tbody tr th:only-of-type {\n",
       "        vertical-align: middle;\n",
       "    }\n",
       "\n",
       "    .dataframe tbody tr th {\n",
       "        vertical-align: top;\n",
       "    }\n",
       "\n",
       "    .dataframe thead th {\n",
       "        text-align: right;\n",
       "    }\n",
       "</style>\n",
       "<table border=\"1\" class=\"dataframe\">\n",
       "  <thead>\n",
       "    <tr style=\"text-align: right;\">\n",
       "      <th></th>\n",
       "      <th>CUST_ID</th>\n",
       "      <th>DIVIDED_SET</th>\n",
       "      <th>SIU_CUST_YN</th>\n",
       "      <th>SEX</th>\n",
       "      <th>AGE</th>\n",
       "      <th>RESI_COST</th>\n",
       "      <th>RESI_TYPE_CODE</th>\n",
       "      <th>FP_CAREER</th>\n",
       "      <th>CUST_RGST</th>\n",
       "      <th>CTPR</th>\n",
       "      <th>OCCP_GRP_1</th>\n",
       "      <th>OCCP_GRP_2</th>\n",
       "      <th>TOTALPREM</th>\n",
       "      <th>MINCRDT</th>\n",
       "      <th>MAXCRDT</th>\n",
       "      <th>WEDD_YN</th>\n",
       "      <th>MATE_OCCP_GRP_1</th>\n",
       "      <th>MATE_OCCP_GRP_2</th>\n",
       "      <th>CHLD_CNT</th>\n",
       "      <th>LTBN_CHLD_AGE</th>\n",
       "      <th>MAX_PAYM_YM</th>\n",
       "      <th>MAX_PRM</th>\n",
       "      <th>CUST_INCM</th>\n",
       "      <th>RCBASE_HSHD_INCM</th>\n",
       "      <th>JPBASE_HSHD_INCM</th>\n",
       "    </tr>\n",
       "  </thead>\n",
       "  <tbody>\n",
       "    <tr>\n",
       "      <th>0</th>\n",
       "      <td>1</td>\n",
       "      <td>1</td>\n",
       "      <td>N</td>\n",
       "      <td>2</td>\n",
       "      <td>47</td>\n",
       "      <td>21111</td>\n",
       "      <td>20.0</td>\n",
       "      <td>N</td>\n",
       "      <td>199910.0</td>\n",
       "      <td>충북</td>\n",
       "      <td>3.사무직</td>\n",
       "      <td>사무직</td>\n",
       "      <td>146980441.0</td>\n",
       "      <td>NaN</td>\n",
       "      <td>NaN</td>\n",
       "      <td>Y</td>\n",
       "      <td>3.사무직</td>\n",
       "      <td>2차산업 종사자</td>\n",
       "      <td>2.0</td>\n",
       "      <td>13.0</td>\n",
       "      <td>200811.0</td>\n",
       "      <td>319718.0</td>\n",
       "      <td>4879.0</td>\n",
       "      <td>10094</td>\n",
       "      <td>11337.0</td>\n",
       "    </tr>\n",
       "    <tr>\n",
       "      <th>1</th>\n",
       "      <td>2</td>\n",
       "      <td>1</td>\n",
       "      <td>N</td>\n",
       "      <td>1</td>\n",
       "      <td>53</td>\n",
       "      <td>40000</td>\n",
       "      <td>20.0</td>\n",
       "      <td>N</td>\n",
       "      <td>199910.0</td>\n",
       "      <td>서울</td>\n",
       "      <td>3.사무직</td>\n",
       "      <td>사무직</td>\n",
       "      <td>94600109.0</td>\n",
       "      <td>1.0</td>\n",
       "      <td>6.0</td>\n",
       "      <td>Y</td>\n",
       "      <td>1.주부</td>\n",
       "      <td>주부</td>\n",
       "      <td>2.0</td>\n",
       "      <td>17.0</td>\n",
       "      <td>200012.0</td>\n",
       "      <td>341341.0</td>\n",
       "      <td>6509.0</td>\n",
       "      <td>9143</td>\n",
       "      <td>6509.0</td>\n",
       "    </tr>\n",
       "  </tbody>\n",
       "</table>\n",
       "</div>"
      ],
      "text/plain": [
       "   CUST_ID  DIVIDED_SET SIU_CUST_YN  SEX  AGE  RESI_COST  RESI_TYPE_CODE  \\\n",
       "0        1            1           N    2   47      21111            20.0   \n",
       "1        2            1           N    1   53      40000            20.0   \n",
       "\n",
       "  FP_CAREER  CUST_RGST CTPR OCCP_GRP_1 OCCP_GRP_2    TOTALPREM  MINCRDT  \\\n",
       "0         N   199910.0   충북      3.사무직        사무직  146980441.0      NaN   \n",
       "1         N   199910.0   서울      3.사무직        사무직   94600109.0      1.0   \n",
       "\n",
       "   MAXCRDT WEDD_YN MATE_OCCP_GRP_1 MATE_OCCP_GRP_2  CHLD_CNT  LTBN_CHLD_AGE  \\\n",
       "0      NaN       Y           3.사무직        2차산업 종사자       2.0           13.0   \n",
       "1      6.0       Y            1.주부              주부       2.0           17.0   \n",
       "\n",
       "   MAX_PAYM_YM   MAX_PRM  CUST_INCM  RCBASE_HSHD_INCM  JPBASE_HSHD_INCM  \n",
       "0     200811.0  319718.0     4879.0             10094           11337.0  \n",
       "1     200012.0  341341.0     6509.0              9143            6509.0  "
      ]
     },
     "execution_count": 4,
     "metadata": {},
     "output_type": "execute_result"
    }
   ],
   "source": [
    "cust_data.head(2)"
   ]
  },
  {
   "cell_type": "code",
   "execution_count": 5,
   "metadata": {},
   "outputs": [
    {
     "data": {
      "text/plain": [
       "(22400, 25)"
      ]
     },
     "execution_count": 5,
     "metadata": {},
     "output_type": "execute_result"
    }
   ],
   "source": [
    "cust_data.shape"
   ]
  },
  {
   "cell_type": "markdown",
   "metadata": {},
   "source": [
    "# 데이터 파악"
   ]
  },
  {
   "cell_type": "code",
   "execution_count": 6,
   "metadata": {},
   "outputs": [
    {
     "data": {
      "text/plain": [
       "CUST_ID                 0\n",
       "DIVIDED_SET             0\n",
       "SIU_CUST_YN          1793\n",
       "SEX                     0\n",
       "AGE                     0\n",
       "RESI_COST               0\n",
       "RESI_TYPE_CODE       1254\n",
       "FP_CAREER               0\n",
       "CUST_RGST             456\n",
       "CTPR                  621\n",
       "OCCP_GRP_1            595\n",
       "OCCP_GRP_2            595\n",
       "TOTALPREM            5791\n",
       "MINCRDT              9476\n",
       "MAXCRDT              9476\n",
       "WEDD_YN               473\n",
       "MATE_OCCP_GRP_1     11827\n",
       "MATE_OCCP_GRP_2     11827\n",
       "CHLD_CNT              473\n",
       "LTBN_CHLD_AGE         473\n",
       "MAX_PAYM_YM          6486\n",
       "MAX_PRM              6486\n",
       "CUST_INCM            5263\n",
       "RCBASE_HSHD_INCM        0\n",
       "JPBASE_HSHD_INCM      680\n",
       "dtype: int64"
      ]
     },
     "execution_count": 6,
     "metadata": {},
     "output_type": "execute_result"
    }
   ],
   "source": [
    "# 결측치 파악\n",
    "cust_data.isnull().sum()"
   ]
  },
  {
   "cell_type": "code",
   "execution_count": 7,
   "metadata": {},
   "outputs": [
    {
     "data": {
      "text/plain": [
       "(22400, 25)"
      ]
     },
     "execution_count": 7,
     "metadata": {},
     "output_type": "execute_result"
    }
   ],
   "source": [
    "cust_data.shape"
   ]
  },
  {
   "cell_type": "code",
   "execution_count": 8,
   "metadata": {},
   "outputs": [],
   "source": [
    "# 결측치 비율이 60% 이상인 컬럼은 분석대상 변수에서 제외\n",
    "# 결측치 비율\n",
    "# df.shape[0]\n",
    "# len(df)\n",
    "# 22400"
   ]
  },
  {
   "cell_type": "code",
   "execution_count": 9,
   "metadata": {},
   "outputs": [],
   "source": [
    "t = cust_data.isnull().sum() / cust_data.shape[0]"
   ]
  },
  {
   "cell_type": "code",
   "execution_count": 10,
   "metadata": {},
   "outputs": [
    {
     "data": {
      "text/plain": [
       "CUST_ID             0.000000\n",
       "DIVIDED_SET         0.000000\n",
       "SIU_CUST_YN         0.080045\n",
       "SEX                 0.000000\n",
       "AGE                 0.000000\n",
       "RESI_COST           0.000000\n",
       "RESI_TYPE_CODE      0.055982\n",
       "FP_CAREER           0.000000\n",
       "CUST_RGST           0.020357\n",
       "CTPR                0.027723\n",
       "OCCP_GRP_1          0.026562\n",
       "OCCP_GRP_2          0.026562\n",
       "TOTALPREM           0.258527\n",
       "MINCRDT             0.423036\n",
       "MAXCRDT             0.423036\n",
       "WEDD_YN             0.021116\n",
       "MATE_OCCP_GRP_1     0.527991\n",
       "MATE_OCCP_GRP_2     0.527991\n",
       "CHLD_CNT            0.021116\n",
       "LTBN_CHLD_AGE       0.021116\n",
       "MAX_PAYM_YM         0.289554\n",
       "MAX_PRM             0.289554\n",
       "CUST_INCM           0.234955\n",
       "RCBASE_HSHD_INCM    0.000000\n",
       "JPBASE_HSHD_INCM    0.030357\n",
       "dtype: float64"
      ]
     },
     "execution_count": 10,
     "metadata": {},
     "output_type": "execute_result"
    }
   ],
   "source": [
    "# MATE_OCCP_GRP_1 ,MATE_OCCP_GRP_2 : 절반 이상이 결측치\n",
    "t"
   ]
  },
  {
   "cell_type": "code",
   "execution_count": 11,
   "metadata": {},
   "outputs": [
    {
     "data": {
      "text/plain": [
       "MATE_OCCP_GRP_1    0.527991\n",
       "MATE_OCCP_GRP_2    0.527991\n",
       "dtype: float64"
      ]
     },
     "execution_count": 11,
     "metadata": {},
     "output_type": "execute_result"
    }
   ],
   "source": [
    "t[t>0.5]"
   ]
  },
  {
   "cell_type": "code",
   "execution_count": 12,
   "metadata": {},
   "outputs": [
    {
     "name": "stdout",
     "output_type": "stream",
     "text": [
      "<class 'pandas.core.frame.DataFrame'>\n",
      "RangeIndex: 22400 entries, 0 to 22399\n",
      "Data columns (total 25 columns):\n",
      "CUST_ID             22400 non-null int64\n",
      "DIVIDED_SET         22400 non-null int64\n",
      "SIU_CUST_YN         20607 non-null object\n",
      "SEX                 22400 non-null int64\n",
      "AGE                 22400 non-null int64\n",
      "RESI_COST           22400 non-null int64\n",
      "RESI_TYPE_CODE      21146 non-null float64\n",
      "FP_CAREER           22400 non-null object\n",
      "CUST_RGST           21944 non-null float64\n",
      "CTPR                21779 non-null object\n",
      "OCCP_GRP_1          21805 non-null object\n",
      "OCCP_GRP_2          21805 non-null object\n",
      "TOTALPREM           16609 non-null float64\n",
      "MINCRDT             12924 non-null float64\n",
      "MAXCRDT             12924 non-null float64\n",
      "WEDD_YN             21927 non-null object\n",
      "MATE_OCCP_GRP_1     10573 non-null object\n",
      "MATE_OCCP_GRP_2     10573 non-null object\n",
      "CHLD_CNT            21927 non-null float64\n",
      "LTBN_CHLD_AGE       21927 non-null float64\n",
      "MAX_PAYM_YM         15914 non-null float64\n",
      "MAX_PRM             15914 non-null float64\n",
      "CUST_INCM           17137 non-null float64\n",
      "RCBASE_HSHD_INCM    22400 non-null int64\n",
      "JPBASE_HSHD_INCM    21720 non-null float64\n",
      "dtypes: float64(11), int64(6), object(8)\n",
      "memory usage: 4.3+ MB\n"
     ]
    }
   ],
   "source": [
    "# 컬럼 데이터타입\n",
    "cust_data.info()"
   ]
  },
  {
   "cell_type": "code",
   "execution_count": 13,
   "metadata": {},
   "outputs": [
    {
     "data": {
      "text/html": [
       "<div>\n",
       "<style scoped>\n",
       "    .dataframe tbody tr th:only-of-type {\n",
       "        vertical-align: middle;\n",
       "    }\n",
       "\n",
       "    .dataframe tbody tr th {\n",
       "        vertical-align: top;\n",
       "    }\n",
       "\n",
       "    .dataframe thead th {\n",
       "        text-align: right;\n",
       "    }\n",
       "</style>\n",
       "<table border=\"1\" class=\"dataframe\">\n",
       "  <thead>\n",
       "    <tr style=\"text-align: right;\">\n",
       "      <th></th>\n",
       "      <th>CUST_ID</th>\n",
       "      <th>DIVIDED_SET</th>\n",
       "      <th>SEX</th>\n",
       "      <th>AGE</th>\n",
       "      <th>RESI_COST</th>\n",
       "      <th>RESI_TYPE_CODE</th>\n",
       "      <th>CUST_RGST</th>\n",
       "      <th>TOTALPREM</th>\n",
       "      <th>MINCRDT</th>\n",
       "      <th>MAXCRDT</th>\n",
       "      <th>CHLD_CNT</th>\n",
       "      <th>LTBN_CHLD_AGE</th>\n",
       "      <th>MAX_PAYM_YM</th>\n",
       "      <th>MAX_PRM</th>\n",
       "      <th>CUST_INCM</th>\n",
       "      <th>RCBASE_HSHD_INCM</th>\n",
       "      <th>JPBASE_HSHD_INCM</th>\n",
       "    </tr>\n",
       "  </thead>\n",
       "  <tbody>\n",
       "    <tr>\n",
       "      <th>count</th>\n",
       "      <td>22400.000000</td>\n",
       "      <td>22400.000000</td>\n",
       "      <td>22400.000000</td>\n",
       "      <td>22400.000000</td>\n",
       "      <td>22400.000000</td>\n",
       "      <td>21146.000000</td>\n",
       "      <td>21944.000000</td>\n",
       "      <td>1.660900e+04</td>\n",
       "      <td>12924.000000</td>\n",
       "      <td>12924.000000</td>\n",
       "      <td>21927.000000</td>\n",
       "      <td>21927.000000</td>\n",
       "      <td>15914.000000</td>\n",
       "      <td>1.591400e+04</td>\n",
       "      <td>17137.000000</td>\n",
       "      <td>22400.000000</td>\n",
       "      <td>21720.000000</td>\n",
       "    </tr>\n",
       "    <tr>\n",
       "      <th>mean</th>\n",
       "      <td>11200.500000</td>\n",
       "      <td>1.080045</td>\n",
       "      <td>1.565134</td>\n",
       "      <td>44.734866</td>\n",
       "      <td>15914.413973</td>\n",
       "      <td>25.765251</td>\n",
       "      <td>198924.250638</td>\n",
       "      <td>2.998266e+07</td>\n",
       "      <td>5.838904</td>\n",
       "      <td>19.480656</td>\n",
       "      <td>0.709491</td>\n",
       "      <td>8.603731</td>\n",
       "      <td>200881.825437</td>\n",
       "      <td>4.807763e+05</td>\n",
       "      <td>2704.184863</td>\n",
       "      <td>4768.733884</td>\n",
       "      <td>5198.238950</td>\n",
       "    </tr>\n",
       "    <tr>\n",
       "      <th>std</th>\n",
       "      <td>6466.467351</td>\n",
       "      <td>0.271368</td>\n",
       "      <td>0.495750</td>\n",
       "      <td>15.445707</td>\n",
       "      <td>14963.317519</td>\n",
       "      <td>20.691869</td>\n",
       "      <td>16989.329112</td>\n",
       "      <td>4.897438e+07</td>\n",
       "      <td>3.515198</td>\n",
       "      <td>32.363151</td>\n",
       "      <td>0.953671</td>\n",
       "      <td>11.585592</td>\n",
       "      <td>522.266749</td>\n",
       "      <td>1.327265e+06</td>\n",
       "      <td>2188.208641</td>\n",
       "      <td>3072.385280</td>\n",
       "      <td>2714.947843</td>\n",
       "    </tr>\n",
       "    <tr>\n",
       "      <th>min</th>\n",
       "      <td>1.000000</td>\n",
       "      <td>1.000000</td>\n",
       "      <td>1.000000</td>\n",
       "      <td>2.000000</td>\n",
       "      <td>0.000000</td>\n",
       "      <td>11.000000</td>\n",
       "      <td>101.000000</td>\n",
       "      <td>5.000000e+02</td>\n",
       "      <td>0.000000</td>\n",
       "      <td>0.000000</td>\n",
       "      <td>0.000000</td>\n",
       "      <td>0.000000</td>\n",
       "      <td>199801.000000</td>\n",
       "      <td>6.000000e+00</td>\n",
       "      <td>0.000000</td>\n",
       "      <td>0.000000</td>\n",
       "      <td>0.000000</td>\n",
       "    </tr>\n",
       "    <tr>\n",
       "      <th>25%</th>\n",
       "      <td>5600.750000</td>\n",
       "      <td>1.000000</td>\n",
       "      <td>1.000000</td>\n",
       "      <td>34.000000</td>\n",
       "      <td>6732.750000</td>\n",
       "      <td>20.000000</td>\n",
       "      <td>200306.000000</td>\n",
       "      <td>6.665459e+06</td>\n",
       "      <td>6.000000</td>\n",
       "      <td>6.000000</td>\n",
       "      <td>0.000000</td>\n",
       "      <td>0.000000</td>\n",
       "      <td>200404.000000</td>\n",
       "      <td>1.129440e+05</td>\n",
       "      <td>0.000000</td>\n",
       "      <td>2995.000000</td>\n",
       "      <td>3557.750000</td>\n",
       "    </tr>\n",
       "    <tr>\n",
       "      <th>50%</th>\n",
       "      <td>11200.500000</td>\n",
       "      <td>1.000000</td>\n",
       "      <td>2.000000</td>\n",
       "      <td>46.000000</td>\n",
       "      <td>12222.000000</td>\n",
       "      <td>20.000000</td>\n",
       "      <td>200306.000000</td>\n",
       "      <td>1.622463e+07</td>\n",
       "      <td>6.000000</td>\n",
       "      <td>6.000000</td>\n",
       "      <td>0.000000</td>\n",
       "      <td>0.000000</td>\n",
       "      <td>200901.000000</td>\n",
       "      <td>2.265920e+05</td>\n",
       "      <td>3432.000000</td>\n",
       "      <td>4807.000000</td>\n",
       "      <td>4681.000000</td>\n",
       "    </tr>\n",
       "    <tr>\n",
       "      <th>75%</th>\n",
       "      <td>16800.250000</td>\n",
       "      <td>1.000000</td>\n",
       "      <td>2.000000</td>\n",
       "      <td>56.000000</td>\n",
       "      <td>20988.000000</td>\n",
       "      <td>30.000000</td>\n",
       "      <td>200402.000000</td>\n",
       "      <td>3.479439e+07</td>\n",
       "      <td>6.000000</td>\n",
       "      <td>7.000000</td>\n",
       "      <td>1.000000</td>\n",
       "      <td>19.000000</td>\n",
       "      <td>201402.000000</td>\n",
       "      <td>4.852868e+05</td>\n",
       "      <td>4398.000000</td>\n",
       "      <td>6607.250000</td>\n",
       "      <td>6839.500000</td>\n",
       "    </tr>\n",
       "    <tr>\n",
       "      <th>max</th>\n",
       "      <td>22400.000000</td>\n",
       "      <td>2.000000</td>\n",
       "      <td>2.000000</td>\n",
       "      <td>89.000000</td>\n",
       "      <td>305555.000000</td>\n",
       "      <td>99.000000</td>\n",
       "      <td>201602.000000</td>\n",
       "      <td>1.840052e+09</td>\n",
       "      <td>99.000000</td>\n",
       "      <td>99.000000</td>\n",
       "      <td>6.000000</td>\n",
       "      <td>35.000000</td>\n",
       "      <td>207110.000000</td>\n",
       "      <td>5.686262e+07</td>\n",
       "      <td>12687.000000</td>\n",
       "      <td>19829.000000</td>\n",
       "      <td>25872.000000</td>\n",
       "    </tr>\n",
       "  </tbody>\n",
       "</table>\n",
       "</div>"
      ],
      "text/plain": [
       "            CUST_ID   DIVIDED_SET           SEX           AGE      RESI_COST  \\\n",
       "count  22400.000000  22400.000000  22400.000000  22400.000000   22400.000000   \n",
       "mean   11200.500000      1.080045      1.565134     44.734866   15914.413973   \n",
       "std     6466.467351      0.271368      0.495750     15.445707   14963.317519   \n",
       "min        1.000000      1.000000      1.000000      2.000000       0.000000   \n",
       "25%     5600.750000      1.000000      1.000000     34.000000    6732.750000   \n",
       "50%    11200.500000      1.000000      2.000000     46.000000   12222.000000   \n",
       "75%    16800.250000      1.000000      2.000000     56.000000   20988.000000   \n",
       "max    22400.000000      2.000000      2.000000     89.000000  305555.000000   \n",
       "\n",
       "       RESI_TYPE_CODE      CUST_RGST     TOTALPREM       MINCRDT  \\\n",
       "count    21146.000000   21944.000000  1.660900e+04  12924.000000   \n",
       "mean        25.765251  198924.250638  2.998266e+07      5.838904   \n",
       "std         20.691869   16989.329112  4.897438e+07      3.515198   \n",
       "min         11.000000     101.000000  5.000000e+02      0.000000   \n",
       "25%         20.000000  200306.000000  6.665459e+06      6.000000   \n",
       "50%         20.000000  200306.000000  1.622463e+07      6.000000   \n",
       "75%         30.000000  200402.000000  3.479439e+07      6.000000   \n",
       "max         99.000000  201602.000000  1.840052e+09     99.000000   \n",
       "\n",
       "            MAXCRDT      CHLD_CNT  LTBN_CHLD_AGE    MAX_PAYM_YM       MAX_PRM  \\\n",
       "count  12924.000000  21927.000000   21927.000000   15914.000000  1.591400e+04   \n",
       "mean      19.480656      0.709491       8.603731  200881.825437  4.807763e+05   \n",
       "std       32.363151      0.953671      11.585592     522.266749  1.327265e+06   \n",
       "min        0.000000      0.000000       0.000000  199801.000000  6.000000e+00   \n",
       "25%        6.000000      0.000000       0.000000  200404.000000  1.129440e+05   \n",
       "50%        6.000000      0.000000       0.000000  200901.000000  2.265920e+05   \n",
       "75%        7.000000      1.000000      19.000000  201402.000000  4.852868e+05   \n",
       "max       99.000000      6.000000      35.000000  207110.000000  5.686262e+07   \n",
       "\n",
       "          CUST_INCM  RCBASE_HSHD_INCM  JPBASE_HSHD_INCM  \n",
       "count  17137.000000      22400.000000      21720.000000  \n",
       "mean    2704.184863       4768.733884       5198.238950  \n",
       "std     2188.208641       3072.385280       2714.947843  \n",
       "min        0.000000          0.000000          0.000000  \n",
       "25%        0.000000       2995.000000       3557.750000  \n",
       "50%     3432.000000       4807.000000       4681.000000  \n",
       "75%     4398.000000       6607.250000       6839.500000  \n",
       "max    12687.000000      19829.000000      25872.000000  "
      ]
     },
     "execution_count": 13,
     "metadata": {},
     "output_type": "execute_result"
    }
   ],
   "source": [
    "# 기술통계 : 연속형 데이터\n",
    "# DIVIDED_SET, SEX,  RESI_TYPE_CODE : 숫자형인 범주 데이터\n",
    "# std = 0 => 해당 속성의 분산 = 0 => 모든 데이터 값이 동일한 값을 가진다.\n",
    "# => 해당 속성은 삭제\n",
    "cust_data.describe()"
   ]
  },
  {
   "cell_type": "code",
   "execution_count": 14,
   "metadata": {},
   "outputs": [
    {
     "data": {
      "text/html": [
       "<div>\n",
       "<style scoped>\n",
       "    .dataframe tbody tr th:only-of-type {\n",
       "        vertical-align: middle;\n",
       "    }\n",
       "\n",
       "    .dataframe tbody tr th {\n",
       "        vertical-align: top;\n",
       "    }\n",
       "\n",
       "    .dataframe thead th {\n",
       "        text-align: right;\n",
       "    }\n",
       "</style>\n",
       "<table border=\"1\" class=\"dataframe\">\n",
       "  <thead>\n",
       "    <tr style=\"text-align: right;\">\n",
       "      <th></th>\n",
       "      <th>SIU_CUST_YN</th>\n",
       "      <th>FP_CAREER</th>\n",
       "      <th>CTPR</th>\n",
       "      <th>OCCP_GRP_1</th>\n",
       "      <th>OCCP_GRP_2</th>\n",
       "      <th>WEDD_YN</th>\n",
       "      <th>MATE_OCCP_GRP_1</th>\n",
       "      <th>MATE_OCCP_GRP_2</th>\n",
       "    </tr>\n",
       "  </thead>\n",
       "  <tbody>\n",
       "    <tr>\n",
       "      <th>count</th>\n",
       "      <td>20607</td>\n",
       "      <td>22400</td>\n",
       "      <td>21779</td>\n",
       "      <td>21805</td>\n",
       "      <td>21805</td>\n",
       "      <td>21927</td>\n",
       "      <td>10573</td>\n",
       "      <td>10573</td>\n",
       "    </tr>\n",
       "    <tr>\n",
       "      <th>unique</th>\n",
       "      <td>2</td>\n",
       "      <td>2</td>\n",
       "      <td>17</td>\n",
       "      <td>8</td>\n",
       "      <td>25</td>\n",
       "      <td>2</td>\n",
       "      <td>8</td>\n",
       "      <td>24</td>\n",
       "    </tr>\n",
       "    <tr>\n",
       "      <th>top</th>\n",
       "      <td>N</td>\n",
       "      <td>N</td>\n",
       "      <td>경기</td>\n",
       "      <td>8.기타</td>\n",
       "      <td>주부</td>\n",
       "      <td>Y</td>\n",
       "      <td>1.주부</td>\n",
       "      <td>주부</td>\n",
       "    </tr>\n",
       "    <tr>\n",
       "      <th>freq</th>\n",
       "      <td>18801</td>\n",
       "      <td>21182</td>\n",
       "      <td>5200</td>\n",
       "      <td>4879</td>\n",
       "      <td>4837</td>\n",
       "      <td>12010</td>\n",
       "      <td>2394</td>\n",
       "      <td>2402</td>\n",
       "    </tr>\n",
       "  </tbody>\n",
       "</table>\n",
       "</div>"
      ],
      "text/plain": [
       "       SIU_CUST_YN FP_CAREER   CTPR OCCP_GRP_1 OCCP_GRP_2 WEDD_YN  \\\n",
       "count        20607     22400  21779      21805      21805   21927   \n",
       "unique           2         2     17          8         25       2   \n",
       "top              N         N     경기       8.기타         주부       Y   \n",
       "freq         18801     21182   5200       4879       4837   12010   \n",
       "\n",
       "       MATE_OCCP_GRP_1 MATE_OCCP_GRP_2  \n",
       "count            10573           10573  \n",
       "unique               8              24  \n",
       "top               1.주부              주부  \n",
       "freq              2394            2402  "
      ]
     },
     "execution_count": 14,
     "metadata": {},
     "output_type": "execute_result"
    }
   ],
   "source": [
    "# 범주형 데이터\n",
    "# CTPR : 지역코드 => 17개 범주의 개수를 줄여볼 수 있다. => 종속변수를 기준으로 탐색필요\n",
    "# OCCP_GRP_1, OCCP_GRP_2 & MATE_OCCP_GRP_1, MATE_OCCP_GRP_2 => 직업코드, 둘 중 하나 선택 필요 \n",
    "cust_data.describe(include='object')"
   ]
  },
  {
   "cell_type": "code",
   "execution_count": 15,
   "metadata": {},
   "outputs": [],
   "source": [
    "# SIU_CUST_YN\n",
    "# 정상인과 사기자 분포(시각화)\n",
    "# 파이차트"
   ]
  },
  {
   "cell_type": "code",
   "execution_count": 16,
   "metadata": {},
   "outputs": [],
   "source": [
    "plot1 = cust_data['SIU_CUST_YN'].value_counts()\n",
    "plot1.index =['일반인', '사기자']"
   ]
  },
  {
   "cell_type": "code",
   "execution_count": 17,
   "metadata": {},
   "outputs": [],
   "source": [
    "# 한글 폰트 지정\n",
    "import matplotlib\n",
    "\n",
    "font_name = matplotlib.font_manager.FontProperties(fname='C:/Windows/Fonts/malgun.ttf').get_name()\n",
    "matplotlib.rc('font', family = font_name)"
   ]
  },
  {
   "cell_type": "code",
   "execution_count": 18,
   "metadata": {},
   "outputs": [
    {
     "data": {
      "text/plain": [
       "Text(0.5, 1.0, 'SIU_CUST_YN')"
      ]
     },
     "execution_count": 18,
     "metadata": {},
     "output_type": "execute_result"
    },
    {
     "data": {
      "image/png": "[encoded data removed]",
      "text/plain": [
       "<Figure size 432x288 with 1 Axes>"
      ]
     },
     "metadata": {},
     "output_type": "display_data"
    }
   ],
   "source": [
    "plot1.plot(kind='pie')\n",
    "plt.ylabel('')\n",
    "plt.title('SIU_CUST_YN')"
   ]
  },
  {
   "cell_type": "code",
   "execution_count": 19,
   "metadata": {},
   "outputs": [],
   "source": [
    "# 정상인, 사기자, 분석대상 분포(시각화)\n",
    "# 파이차트\n",
    "plot2 = cust_data['SIU_CUST_YN'].value_counts(dropna=False)\n",
    "plot2.index = ['일반인', '사기자', '분석대상']"
   ]
  },
  {
   "cell_type": "code",
   "execution_count": 20,
   "metadata": {},
   "outputs": [
    {
     "data": {
      "text/plain": [
       "<matplotlib.axes._subplots.AxesSubplot at 0x15e9395b0b8>"
      ]
     },
     "execution_count": 20,
     "metadata": {},
     "output_type": "execute_result"
    },
    {
     "data": {
      "image/png": "[encoded data removed]",
      "text/plain": [
       "<Figure size 432x288 with 1 Axes>"
      ]
     },
     "metadata": {},
     "output_type": "display_data"
    }
   ],
   "source": [
    "plot2.plot(kind='pie')"
   ]
  },
  {
   "cell_type": "code",
   "execution_count": null,
   "metadata": {},
   "outputs": [],
   "source": []
  },
  {
   "cell_type": "markdown",
   "metadata": {},
   "source": [
    "# 결측치 처리 - 특정값으로 결측치 대체\n",
    "\n",
    "\n",
    "- RESI_TYPE_CODE : 고객의 거주지 형태(일반단독주택=11, 다가구단독주택=12...)\n",
    "    - 최빈값\n",
    "- TOTALPREM : 납입총보험료\n",
    "    - 버전1 : 0\n",
    "    - 버전2 : 중위값"
   ]
  },
  {
   "cell_type": "code",
   "execution_count": 21,
   "metadata": {},
   "outputs": [],
   "source": [
    "# RESI_TYPE_CODE : 고객의 거주지 형태(일반단독주택=11, 다가구단독주택=12...)\n",
    "# 최빈값"
   ]
  },
  {
   "cell_type": "code",
   "execution_count": 22,
   "metadata": {},
   "outputs": [
    {
     "data": {
      "text/plain": [
       " 20.0    10677\n",
       " 12.0     2549\n",
       " 30.0     2379\n",
       " 11.0     1797\n",
       " 40.0     1432\n",
       " 99.0     1341\n",
       "NaN       1254\n",
       " 13.0      816\n",
       " 50.0       69\n",
       " 60.0       55\n",
       " 70.0       31\n",
       "Name: RESI_TYPE_CODE, dtype: int64"
      ]
     },
     "execution_count": 22,
     "metadata": {},
     "output_type": "execute_result"
    }
   ],
   "source": [
    "cust_data['RESI_TYPE_CODE'].value_counts(dropna=False)"
   ]
  },
  {
   "cell_type": "code",
   "execution_count": 23,
   "metadata": {},
   "outputs": [],
   "source": [
    "resi_code_mode = cust_data['RESI_TYPE_CODE'].mode().values[0]"
   ]
  },
  {
   "cell_type": "code",
   "execution_count": 24,
   "metadata": {},
   "outputs": [],
   "source": [
    "cust_data['RESI_TYPE_CODE'].fillna(resi_code_mode, inplace=True)"
   ]
  },
  {
   "cell_type": "code",
   "execution_count": 25,
   "metadata": {},
   "outputs": [
    {
     "data": {
      "text/plain": [
       "0"
      ]
     },
     "execution_count": 25,
     "metadata": {},
     "output_type": "execute_result"
    }
   ],
   "source": [
    "cust_data['RESI_TYPE_CODE'].isnull().sum()"
   ]
  },
  {
   "cell_type": "code",
   "execution_count": 26,
   "metadata": {},
   "outputs": [],
   "source": [
    "# TOTALPREM : 납입총보험료\n",
    "# 버전1 : 0\n",
    "# 버전2 : 중위값"
   ]
  },
  {
   "cell_type": "code",
   "execution_count": 27,
   "metadata": {},
   "outputs": [],
   "source": [
    "cust_data1 = cust_data.copy()\n",
    "cust_data2 = cust_data.copy()"
   ]
  },
  {
   "cell_type": "code",
   "execution_count": 28,
   "metadata": {},
   "outputs": [
    {
     "data": {
      "text/plain": [
       "5791"
      ]
     },
     "execution_count": 28,
     "metadata": {},
     "output_type": "execute_result"
    }
   ],
   "source": [
    "cust_data1['TOTALPREM'].isnull().sum()"
   ]
  },
  {
   "cell_type": "code",
   "execution_count": 29,
   "metadata": {},
   "outputs": [
    {
     "data": {
      "text/plain": [
       "16224632.0"
      ]
     },
     "execution_count": 29,
     "metadata": {},
     "output_type": "execute_result"
    }
   ],
   "source": [
    "cust_data2['TOTALPREM'].median()"
   ]
  },
  {
   "cell_type": "code",
   "execution_count": 30,
   "metadata": {},
   "outputs": [],
   "source": [
    "# 1분위수, 2분위수\n",
    "q1, q2 = cust_data2['TOTALPREM'].quantile([.25, .5])"
   ]
  },
  {
   "cell_type": "code",
   "execution_count": 31,
   "metadata": {},
   "outputs": [
    {
     "data": {
      "text/plain": [
       "6665459.0"
      ]
     },
     "execution_count": 31,
     "metadata": {},
     "output_type": "execute_result"
    }
   ],
   "source": [
    "q1"
   ]
  },
  {
   "cell_type": "code",
   "execution_count": 32,
   "metadata": {},
   "outputs": [],
   "source": [
    "cust_data1['TOTALPREM'].fillna(0, inplace=True)\n",
    "cust_data2['TOTALPREM'].fillna(cust_data2['TOTALPREM'].median(), inplace=True)"
   ]
  },
  {
   "cell_type": "code",
   "execution_count": 33,
   "metadata": {},
   "outputs": [
    {
     "data": {
      "text/plain": [
       "CUST_ID                 0\n",
       "DIVIDED_SET             0\n",
       "SIU_CUST_YN          1793\n",
       "SEX                     0\n",
       "AGE                     0\n",
       "RESI_COST               0\n",
       "RESI_TYPE_CODE          0\n",
       "FP_CAREER               0\n",
       "CUST_RGST             456\n",
       "CTPR                  621\n",
       "OCCP_GRP_1            595\n",
       "OCCP_GRP_2            595\n",
       "TOTALPREM               0\n",
       "MINCRDT              9476\n",
       "MAXCRDT              9476\n",
       "WEDD_YN               473\n",
       "MATE_OCCP_GRP_1     11827\n",
       "MATE_OCCP_GRP_2     11827\n",
       "CHLD_CNT              473\n",
       "LTBN_CHLD_AGE         473\n",
       "MAX_PAYM_YM          6486\n",
       "MAX_PRM              6486\n",
       "CUST_INCM            5263\n",
       "RCBASE_HSHD_INCM        0\n",
       "JPBASE_HSHD_INCM      680\n",
       "dtype: int64"
      ]
     },
     "execution_count": 33,
     "metadata": {},
     "output_type": "execute_result"
    }
   ],
   "source": [
    "cust_data1.isnull().sum()"
   ]
  },
  {
   "cell_type": "markdown",
   "metadata": {},
   "source": [
    "- MINCRDT, MAXCRDT : 고객의 신용등급에 대해 최소등급, 최대등급\n",
    "    - 버전1 : 최소값, 최대값\n",
    "    - 버전2 : 중위값\n",
    "- CTPR : 거주지역코드\n",
    "    - 최빈값"
   ]
  },
  {
   "cell_type": "code",
   "execution_count": 34,
   "metadata": {},
   "outputs": [
    {
     "data": {
      "text/plain": [
       "9476"
      ]
     },
     "execution_count": 34,
     "metadata": {},
     "output_type": "execute_result"
    }
   ],
   "source": [
    "cust_data1['MINCRDT'].isnull().sum()"
   ]
  },
  {
   "cell_type": "code",
   "execution_count": 35,
   "metadata": {},
   "outputs": [
    {
     "data": {
      "text/plain": [
       "0.0"
      ]
     },
     "execution_count": 35,
     "metadata": {},
     "output_type": "execute_result"
    }
   ],
   "source": [
    "cust_data1['MINCRDT'].min()"
   ]
  },
  {
   "cell_type": "code",
   "execution_count": 36,
   "metadata": {},
   "outputs": [
    {
     "data": {
      "text/plain": [
       "9476"
      ]
     },
     "execution_count": 36,
     "metadata": {},
     "output_type": "execute_result"
    }
   ],
   "source": [
    "cust_data1['MAXCRDT'].isnull().sum()"
   ]
  },
  {
   "cell_type": "code",
   "execution_count": 37,
   "metadata": {},
   "outputs": [
    {
     "data": {
      "text/plain": [
       "99.0"
      ]
     },
     "execution_count": 37,
     "metadata": {},
     "output_type": "execute_result"
    }
   ],
   "source": [
    "cust_data1['MAXCRDT'].max()"
   ]
  },
  {
   "cell_type": "code",
   "execution_count": 38,
   "metadata": {},
   "outputs": [
    {
     "data": {
      "text/plain": [
       "(9476, 25)"
      ]
     },
     "execution_count": 38,
     "metadata": {},
     "output_type": "execute_result"
    }
   ],
   "source": [
    "# MIN, MAXCRDT의 결측치가 어떻게 구성되어 있는지 확인\n",
    "# 신용등급에 대한 결측 : 최소, 최대가 모두 없는 경우\n",
    "cust_data1[cust_data1[['MINCRDT', 'MAXCRDT']].isnull().all(axis=1)].shape"
   ]
  },
  {
   "cell_type": "code",
   "execution_count": 39,
   "metadata": {},
   "outputs": [
    {
     "data": {
      "text/html": [
       "<div>\n",
       "<style scoped>\n",
       "    .dataframe tbody tr th:only-of-type {\n",
       "        vertical-align: middle;\n",
       "    }\n",
       "\n",
       "    .dataframe tbody tr th {\n",
       "        vertical-align: top;\n",
       "    }\n",
       "\n",
       "    .dataframe thead th {\n",
       "        text-align: right;\n",
       "    }\n",
       "</style>\n",
       "<table border=\"1\" class=\"dataframe\">\n",
       "  <thead>\n",
       "    <tr style=\"text-align: right;\">\n",
       "      <th></th>\n",
       "      <th>CUST_ID</th>\n",
       "      <th>DIVIDED_SET</th>\n",
       "      <th>SIU_CUST_YN</th>\n",
       "      <th>SEX</th>\n",
       "      <th>AGE</th>\n",
       "      <th>RESI_COST</th>\n",
       "      <th>RESI_TYPE_CODE</th>\n",
       "      <th>FP_CAREER</th>\n",
       "      <th>CUST_RGST</th>\n",
       "      <th>CTPR</th>\n",
       "      <th>OCCP_GRP_1</th>\n",
       "      <th>OCCP_GRP_2</th>\n",
       "      <th>TOTALPREM</th>\n",
       "      <th>MINCRDT</th>\n",
       "      <th>MAXCRDT</th>\n",
       "      <th>WEDD_YN</th>\n",
       "      <th>MATE_OCCP_GRP_1</th>\n",
       "      <th>MATE_OCCP_GRP_2</th>\n",
       "      <th>CHLD_CNT</th>\n",
       "      <th>LTBN_CHLD_AGE</th>\n",
       "      <th>MAX_PAYM_YM</th>\n",
       "      <th>MAX_PRM</th>\n",
       "      <th>CUST_INCM</th>\n",
       "      <th>RCBASE_HSHD_INCM</th>\n",
       "      <th>JPBASE_HSHD_INCM</th>\n",
       "    </tr>\n",
       "  </thead>\n",
       "  <tbody>\n",
       "  </tbody>\n",
       "</table>\n",
       "</div>"
      ],
      "text/plain": [
       "Empty DataFrame\n",
       "Columns: [CUST_ID, DIVIDED_SET, SIU_CUST_YN, SEX, AGE, RESI_COST, RESI_TYPE_CODE, FP_CAREER, CUST_RGST, CTPR, OCCP_GRP_1, OCCP_GRP_2, TOTALPREM, MINCRDT, MAXCRDT, WEDD_YN, MATE_OCCP_GRP_1, MATE_OCCP_GRP_2, CHLD_CNT, LTBN_CHLD_AGE, MAX_PAYM_YM, MAX_PRM, CUST_INCM, RCBASE_HSHD_INCM, JPBASE_HSHD_INCM]\n",
       "Index: []"
      ]
     },
     "execution_count": 39,
     "metadata": {},
     "output_type": "execute_result"
    }
   ],
   "source": [
    "cust_data1[(cust_data1['MINCRDT'].isnull()) & (cust_data1['MAXCRDT'].notnull())]"
   ]
  },
  {
   "cell_type": "code",
   "execution_count": 40,
   "metadata": {},
   "outputs": [],
   "source": [
    "cust_data1['MINCRDT'].fillna(cust_data1['MINCRDT'].min(), inplace=True)\n",
    "cust_data1['MAXCRDT'].fillna(cust_data1['MAXCRDT'].max(), inplace=True)"
   ]
  },
  {
   "cell_type": "code",
   "execution_count": 41,
   "metadata": {},
   "outputs": [
    {
     "data": {
      "text/plain": [
       "(0, 25)"
      ]
     },
     "execution_count": 41,
     "metadata": {},
     "output_type": "execute_result"
    }
   ],
   "source": [
    "cust_data1[cust_data1[['MINCRDT', 'MAXCRDT']].isnull().all(axis=1)].shape"
   ]
  },
  {
   "cell_type": "code",
   "execution_count": 42,
   "metadata": {},
   "outputs": [
    {
     "data": {
      "text/plain": [
       "6.0"
      ]
     },
     "execution_count": 42,
     "metadata": {},
     "output_type": "execute_result"
    }
   ],
   "source": [
    "cust_data2['MINCRDT'].median()"
   ]
  },
  {
   "cell_type": "code",
   "execution_count": 43,
   "metadata": {},
   "outputs": [
    {
     "data": {
      "text/plain": [
       "6.0"
      ]
     },
     "execution_count": 43,
     "metadata": {},
     "output_type": "execute_result"
    }
   ],
   "source": [
    "cust_data2['MAXCRDT'].median()"
   ]
  },
  {
   "cell_type": "code",
   "execution_count": 44,
   "metadata": {},
   "outputs": [],
   "source": [
    "cust_data2['MINCRDT'].fillna(cust_data2['MINCRDT'].median(), inplace=True)\n",
    "cust_data2['MAXCRDT'].fillna(cust_data2['MAXCRDT'].median(), inplace=True)"
   ]
  },
  {
   "cell_type": "code",
   "execution_count": 45,
   "metadata": {},
   "outputs": [
    {
     "data": {
      "text/plain": [
       "경기     5200\n",
       "서울     3667\n",
       "경남     1595\n",
       "부산     1519\n",
       "인천     1465\n",
       "전남     1119\n",
       "대구      998\n",
       "경북      981\n",
       "전북      962\n",
       "광주      863\n",
       "충남      767\n",
       "울산      708\n",
       "충북      623\n",
       "NaN     621\n",
       "강원      571\n",
       "대전      510\n",
       "제주      190\n",
       "세종       41\n",
       "Name: CTPR, dtype: int64"
      ]
     },
     "execution_count": 45,
     "metadata": {},
     "output_type": "execute_result"
    }
   ],
   "source": [
    "cust_data1['CTPR'].value_counts(dropna=False)"
   ]
  },
  {
   "cell_type": "code",
   "execution_count": 46,
   "metadata": {},
   "outputs": [
    {
     "data": {
      "text/plain": [
       "'경기'"
      ]
     },
     "execution_count": 46,
     "metadata": {},
     "output_type": "execute_result"
    }
   ],
   "source": [
    "cust_data1['CTPR'].mode()[0]\n",
    "cust_data1['CTPR'].mode().values[0]"
   ]
  },
  {
   "cell_type": "code",
   "execution_count": 47,
   "metadata": {},
   "outputs": [],
   "source": [
    "cust_data1['CTPR'].fillna(cust_data1['CTPR'].mode().values[0], inplace=True)\n",
    "cust_data2['CTPR'].fillna(cust_data2['CTPR'].mode().values[0], inplace=True)"
   ]
  },
  {
   "cell_type": "code",
   "execution_count": 48,
   "metadata": {
    "scrolled": true
   },
   "outputs": [
    {
     "data": {
      "text/plain": [
       "CUST_ID                 0\n",
       "DIVIDED_SET             0\n",
       "SIU_CUST_YN          1793\n",
       "SEX                     0\n",
       "AGE                     0\n",
       "RESI_COST               0\n",
       "RESI_TYPE_CODE          0\n",
       "FP_CAREER               0\n",
       "CUST_RGST             456\n",
       "CTPR                    0\n",
       "OCCP_GRP_1            595\n",
       "OCCP_GRP_2            595\n",
       "TOTALPREM               0\n",
       "MINCRDT                 0\n",
       "MAXCRDT                 0\n",
       "WEDD_YN               473\n",
       "MATE_OCCP_GRP_1     11827\n",
       "MATE_OCCP_GRP_2     11827\n",
       "CHLD_CNT              473\n",
       "LTBN_CHLD_AGE         473\n",
       "MAX_PAYM_YM          6486\n",
       "MAX_PRM              6486\n",
       "CUST_INCM            5263\n",
       "RCBASE_HSHD_INCM        0\n",
       "JPBASE_HSHD_INCM      680\n",
       "dtype: int64"
      ]
     },
     "execution_count": 48,
     "metadata": {},
     "output_type": "execute_result"
    }
   ],
   "source": [
    "cust_data1.isnull().sum()"
   ]
  },
  {
   "cell_type": "markdown",
   "metadata": {},
   "source": [
    "# 관련 변수를 고려하여 결측치 대체\n",
    "\n",
    "- WEDD_YN : 결혼여부\n",
    "    - 관련 변수 : CHLD_CNT, LTBN_CHLD_AGE, MATE_OCCP_GRP_1\n",
    "    - WEDD_YN의 결측 => N\n",
    "    - WEDD_YN이 결측인 CHLD_CNT, LTBN_CHLD_AGE => 0\n",
    "        - WEDD_YN == N : 0"
   ]
  },
  {
   "cell_type": "code",
   "execution_count": 49,
   "metadata": {},
   "outputs": [
    {
     "data": {
      "text/plain": [
       "Index(['CUST_ID', 'DIVIDED_SET', 'SIU_CUST_YN', 'SEX', 'AGE', 'RESI_COST',\n",
       "       'RESI_TYPE_CODE', 'FP_CAREER', 'CUST_RGST', 'CTPR', 'OCCP_GRP_1',\n",
       "       'OCCP_GRP_2', 'TOTALPREM', 'MINCRDT', 'MAXCRDT', 'WEDD_YN',\n",
       "       'MATE_OCCP_GRP_1', 'MATE_OCCP_GRP_2', 'CHLD_CNT', 'LTBN_CHLD_AGE',\n",
       "       'MAX_PAYM_YM', 'MAX_PRM', 'CUST_INCM', 'RCBASE_HSHD_INCM',\n",
       "       'JPBASE_HSHD_INCM'],\n",
       "      dtype='object')"
      ]
     },
     "execution_count": 49,
     "metadata": {},
     "output_type": "execute_result"
    }
   ],
   "source": [
    "cust_data.columns"
   ]
  },
  {
   "cell_type": "code",
   "execution_count": 50,
   "metadata": {},
   "outputs": [],
   "source": [
    "# 결혼여부 컬럼이 결측인 데이터의 자녀명수, 최소자녀연령, 배우자직업코드\n",
    "tmp = cust_data1[cust_data1['WEDD_YN'].isnull()][['CHLD_CNT', 'LTBN_CHLD_AGE', 'MATE_OCCP_GRP_1']]"
   ]
  },
  {
   "cell_type": "code",
   "execution_count": 51,
   "metadata": {},
   "outputs": [
    {
     "data": {
      "text/plain": [
       "(473, 3)"
      ]
     },
     "execution_count": 51,
     "metadata": {},
     "output_type": "execute_result"
    }
   ],
   "source": [
    "tmp.shape"
   ]
  },
  {
   "cell_type": "code",
   "execution_count": 52,
   "metadata": {},
   "outputs": [
    {
     "data": {
      "text/plain": [
       "CHLD_CNT           473\n",
       "LTBN_CHLD_AGE      473\n",
       "MATE_OCCP_GRP_1    473\n",
       "dtype: int64"
      ]
     },
     "execution_count": 52,
     "metadata": {},
     "output_type": "execute_result"
    }
   ],
   "source": [
    "tmp.isnull().sum()"
   ]
  },
  {
   "cell_type": "code",
   "execution_count": 53,
   "metadata": {},
   "outputs": [],
   "source": [
    "tmp2 = cust_data1[cust_data1['WEDD_YN'].notnull()][['WEDD_YN','CHLD_CNT', 'LTBN_CHLD_AGE', 'MATE_OCCP_GRP_1']]"
   ]
  },
  {
   "cell_type": "code",
   "execution_count": 54,
   "metadata": {},
   "outputs": [
    {
     "data": {
      "text/plain": [
       "Y    12010\n",
       "N     9917\n",
       "Name: WEDD_YN, dtype: int64"
      ]
     },
     "execution_count": 54,
     "metadata": {},
     "output_type": "execute_result"
    }
   ],
   "source": [
    "tmp2['WEDD_YN'].value_counts()"
   ]
  },
  {
   "cell_type": "code",
   "execution_count": 55,
   "metadata": {
    "scrolled": true
   },
   "outputs": [
    {
     "data": {
      "text/plain": [
       "WEDD_YN               0\n",
       "CHLD_CNT              0\n",
       "LTBN_CHLD_AGE         0\n",
       "MATE_OCCP_GRP_1    9917\n",
       "dtype: int64"
      ]
     },
     "execution_count": 55,
     "metadata": {},
     "output_type": "execute_result"
    }
   ],
   "source": [
    "# tmp1 => 결혼여부가 결측인 사람들의 데이터\n",
    "# CHLD_CNT, LTBN_CHLD_AGE => 0\n",
    "# MATE_OCCP_GRP_1 => 결측인 데이터는 미혼자로 해석해서 처리\n",
    "# 해당 컬럼의 결측치에 대해서 처리할 때 추후 고려하는 부분\n",
    "tmp2[tmp2['WEDD_YN'] == 'N'].isnull().sum()"
   ]
  },
  {
   "cell_type": "code",
   "execution_count": 56,
   "metadata": {},
   "outputs": [
    {
     "data": {
      "text/plain": [
       "(9917, 4)"
      ]
     },
     "execution_count": 56,
     "metadata": {},
     "output_type": "execute_result"
    }
   ],
   "source": [
    "tmp2[tmp2['WEDD_YN'] == 'N'].shape"
   ]
  },
  {
   "cell_type": "code",
   "execution_count": 57,
   "metadata": {},
   "outputs": [],
   "source": [
    "# WEDD_YN이 결측인 CHLD_CNT, LTBN_CHLD_AGE => 0\n",
    "x = cust_data1[cust_data1['WEDD_YN'].isnull()]['CHLD_CNT'].index"
   ]
  },
  {
   "cell_type": "code",
   "execution_count": 58,
   "metadata": {},
   "outputs": [
    {
     "name": "stderr",
     "output_type": "stream",
     "text": [
      "C:\\Users\\winst\\Anaconda3\\lib\\site-packages\\ipykernel_launcher.py:1: SettingWithCopyWarning: \n",
      "A value is trying to be set on a copy of a slice from a DataFrame\n",
      "\n",
      "See the caveats in the documentation: http://pandas.pydata.org/pandas-docs/stable/indexing.html#indexing-view-versus-copy\n",
      "  \"\"\"Entry point for launching an IPython kernel.\n"
     ]
    }
   ],
   "source": [
    "cust_data1['CHLD_CNT'][x] = 0"
   ]
  },
  {
   "cell_type": "code",
   "execution_count": 59,
   "metadata": {},
   "outputs": [],
   "source": [
    "x = cust_data1[cust_data1['WEDD_YN'].isnull()]['LTBN_CHLD_AGE'].index"
   ]
  },
  {
   "cell_type": "code",
   "execution_count": 60,
   "metadata": {
    "scrolled": false
   },
   "outputs": [
    {
     "name": "stderr",
     "output_type": "stream",
     "text": [
      "C:\\Users\\winst\\Anaconda3\\lib\\site-packages\\ipykernel_launcher.py:2: SettingWithCopyWarning: \n",
      "A value is trying to be set on a copy of a slice from a DataFrame\n",
      "\n",
      "See the caveats in the documentation: http://pandas.pydata.org/pandas-docs/stable/indexing.html#indexing-view-versus-copy\n",
      "  \n"
     ]
    }
   ],
   "source": [
    "# (cust_data[cust_data['WEDD_YN'].isnull()]['CHLD_CNT']).fillna(0)\n",
    "cust_data1['LTBN_CHLD_AGE'][x] = 0"
   ]
  },
  {
   "cell_type": "code",
   "execution_count": 61,
   "metadata": {},
   "outputs": [
    {
     "data": {
      "text/plain": [
       "82       0.0\n",
       "125      0.0\n",
       "164      0.0\n",
       "169      0.0\n",
       "170      0.0\n",
       "172      0.0\n",
       "173      0.0\n",
       "174      0.0\n",
       "189      0.0\n",
       "211      0.0\n",
       "218      0.0\n",
       "225      0.0\n",
       "278      0.0\n",
       "290      0.0\n",
       "301      0.0\n",
       "342      0.0\n",
       "358      0.0\n",
       "387      0.0\n",
       "411      0.0\n",
       "618      0.0\n",
       "619      0.0\n",
       "634      0.0\n",
       "683      0.0\n",
       "759      0.0\n",
       "778      0.0\n",
       "806      0.0\n",
       "868      0.0\n",
       "995      0.0\n",
       "1168     0.0\n",
       "1170     0.0\n",
       "        ... \n",
       "21200    0.0\n",
       "21224    0.0\n",
       "21346    0.0\n",
       "21357    0.0\n",
       "21442    0.0\n",
       "21445    0.0\n",
       "21464    0.0\n",
       "21470    0.0\n",
       "21471    0.0\n",
       "21513    0.0\n",
       "21515    0.0\n",
       "21575    0.0\n",
       "21607    0.0\n",
       "21614    0.0\n",
       "21643    0.0\n",
       "21652    0.0\n",
       "21734    0.0\n",
       "21781    0.0\n",
       "21792    0.0\n",
       "21845    0.0\n",
       "21852    0.0\n",
       "21890    0.0\n",
       "21939    0.0\n",
       "22016    0.0\n",
       "22098    0.0\n",
       "22129    0.0\n",
       "22186    0.0\n",
       "22191    0.0\n",
       "22269    0.0\n",
       "22310    0.0\n",
       "Name: LTBN_CHLD_AGE, Length: 473, dtype: float64"
      ]
     },
     "execution_count": 61,
     "metadata": {},
     "output_type": "execute_result"
    }
   ],
   "source": [
    "cust_data1['LTBN_CHLD_AGE'][x]"
   ]
  },
  {
   "cell_type": "code",
   "execution_count": 62,
   "metadata": {},
   "outputs": [
    {
     "data": {
      "text/plain": [
       "CUST_ID                 0\n",
       "DIVIDED_SET             0\n",
       "SIU_CUST_YN          1793\n",
       "SEX                     0\n",
       "AGE                     0\n",
       "RESI_COST               0\n",
       "RESI_TYPE_CODE          0\n",
       "FP_CAREER               0\n",
       "CUST_RGST             456\n",
       "CTPR                    0\n",
       "OCCP_GRP_1            595\n",
       "OCCP_GRP_2            595\n",
       "TOTALPREM               0\n",
       "MINCRDT                 0\n",
       "MAXCRDT                 0\n",
       "WEDD_YN               473\n",
       "MATE_OCCP_GRP_1     11827\n",
       "MATE_OCCP_GRP_2     11827\n",
       "CHLD_CNT                0\n",
       "LTBN_CHLD_AGE           0\n",
       "MAX_PAYM_YM          6486\n",
       "MAX_PRM              6486\n",
       "CUST_INCM            5263\n",
       "RCBASE_HSHD_INCM        0\n",
       "JPBASE_HSHD_INCM      680\n",
       "dtype: int64"
      ]
     },
     "execution_count": 62,
     "metadata": {},
     "output_type": "execute_result"
    }
   ],
   "source": [
    "cust_data1.isnull().sum()"
   ]
  },
  {
   "cell_type": "code",
   "execution_count": 63,
   "metadata": {},
   "outputs": [],
   "source": [
    "# WEDD_YN의 결측 => N\n",
    "cust_data1['WEDD_YN'].fillna('N', inplace=True)"
   ]
  },
  {
   "cell_type": "code",
   "execution_count": 64,
   "metadata": {},
   "outputs": [
    {
     "name": "stderr",
     "output_type": "stream",
     "text": [
      "C:\\Users\\winst\\Anaconda3\\lib\\site-packages\\pandas\\core\\generic.py:5434: SettingWithCopyWarning: \n",
      "A value is trying to be set on a copy of a slice from a DataFrame\n",
      "\n",
      "See the caveats in the documentation: http://pandas.pydata.org/pandas-docs/stable/indexing.html#indexing-view-versus-copy\n",
      "  self._update_inplace(new_data)\n"
     ]
    },
    {
     "data": {
      "text/plain": [
       "473"
      ]
     },
     "execution_count": 64,
     "metadata": {},
     "output_type": "execute_result"
    }
   ],
   "source": [
    "# 실행은 되지만 fillna의 동작이 원본에 제대로 저장되지 않음\n",
    "(cust_data[cust_data['WEDD_YN'].isnull()]['CHLD_CNT']).fillna(0, inplace=True)\n",
    "cust_data[cust_data['WEDD_YN'].isnull()]['CHLD_CNT'].isnull().sum()"
   ]
  },
  {
   "cell_type": "code",
   "execution_count": 65,
   "metadata": {},
   "outputs": [],
   "source": [
    "x1 = cust_data2[cust_data2['WEDD_YN'].isnull()]['CHLD_CNT'].index\n",
    "x2 = cust_data2[cust_data2['WEDD_YN'].isnull()]['LTBN_CHLD_AGE'].index"
   ]
  },
  {
   "cell_type": "code",
   "execution_count": 66,
   "metadata": {},
   "outputs": [
    {
     "name": "stderr",
     "output_type": "stream",
     "text": [
      "C:\\Users\\winst\\Anaconda3\\lib\\site-packages\\ipykernel_launcher.py:1: SettingWithCopyWarning: \n",
      "A value is trying to be set on a copy of a slice from a DataFrame\n",
      "\n",
      "See the caveats in the documentation: http://pandas.pydata.org/pandas-docs/stable/indexing.html#indexing-view-versus-copy\n",
      "  \"\"\"Entry point for launching an IPython kernel.\n",
      "C:\\Users\\winst\\Anaconda3\\lib\\site-packages\\ipykernel_launcher.py:2: SettingWithCopyWarning: \n",
      "A value is trying to be set on a copy of a slice from a DataFrame\n",
      "\n",
      "See the caveats in the documentation: http://pandas.pydata.org/pandas-docs/stable/indexing.html#indexing-view-versus-copy\n",
      "  \n"
     ]
    }
   ],
   "source": [
    "cust_data2['CHLD_CNT'][x1] = 0\n",
    "cust_data2['LTBN_CHLD_AGE'][x2] = 0"
   ]
  },
  {
   "cell_type": "code",
   "execution_count": 67,
   "metadata": {},
   "outputs": [],
   "source": [
    "cust_data2['WEDD_YN'].fillna('N', inplace=True)"
   ]
  },
  {
   "cell_type": "code",
   "execution_count": 68,
   "metadata": {},
   "outputs": [
    {
     "data": {
      "text/plain": [
       "0"
      ]
     },
     "execution_count": 68,
     "metadata": {},
     "output_type": "execute_result"
    }
   ],
   "source": [
    "cust_data2['WEDD_YN'].isnull().sum()"
   ]
  },
  {
   "cell_type": "markdown",
   "metadata": {},
   "source": [
    "- CUST_INCOM : 고객의 추정소득(연령/직업/보험료수준)\n",
    "    - 버전1 : 직업코드(관련변수:OCCP_CODE 고려하여 직업군별 평균 소득)\n",
    "        - 결측치가 있는 데이터 : 무직일 수 있는 가능성\n",
    "            - 관련변수 : TOTALPREM를 활용하여 \n",
    "                         CUST_INCOM 결측치를 대체할 수 있는 값 찾기"
   ]
  },
  {
   "cell_type": "code",
   "execution_count": 69,
   "metadata": {},
   "outputs": [
    {
     "data": {
      "text/plain": [
       "5263"
      ]
     },
     "execution_count": 69,
     "metadata": {},
     "output_type": "execute_result"
    }
   ],
   "source": [
    "cust_data1['CUST_INCM'].isnull().sum()"
   ]
  },
  {
   "cell_type": "code",
   "execution_count": 70,
   "metadata": {},
   "outputs": [
    {
     "data": {
      "text/plain": [
       "595"
      ]
     },
     "execution_count": 70,
     "metadata": {},
     "output_type": "execute_result"
    }
   ],
   "source": [
    "cust_data1['OCCP_GRP_1'].isnull().sum()"
   ]
  },
  {
   "cell_type": "code",
   "execution_count": 71,
   "metadata": {},
   "outputs": [
    {
     "data": {
      "text/plain": [
       "8.기타      4879\n",
       "1.주부      4820\n",
       "3.사무직     3327\n",
       "5.서비스     2800\n",
       "2.자영업     2301\n",
       "4.전문직     1979\n",
       "6.제조업     1364\n",
       "7.1차산업     335\n",
       "Name: OCCP_GRP_1, dtype: int64"
      ]
     },
     "execution_count": 71,
     "metadata": {},
     "output_type": "execute_result"
    }
   ],
   "source": [
    "cust_data1['OCCP_GRP_1'].value_counts()"
   ]
  },
  {
   "cell_type": "code",
   "execution_count": 72,
   "metadata": {},
   "outputs": [],
   "source": [
    "# 1. 직업코드가 결측, 소득이 결측인 경우 무직으로 처리, 0으로 처리\n",
    "# 3. 총보험료(연속형변수) => 구간으로 나눠서 범주형 => \n",
    "# 소득이 결측이고 총보험료구간이 있는경우 보험료구간별 평균소득으로 처리"
   ]
  },
  {
   "cell_type": "code",
   "execution_count": 73,
   "metadata": {},
   "outputs": [
    {
     "data": {
      "text/plain": [
       "(472, 25)"
      ]
     },
     "execution_count": 73,
     "metadata": {},
     "output_type": "execute_result"
    }
   ],
   "source": [
    "cust_data1[cust_data1[['OCCP_GRP_1', 'CUST_INCM']].isnull().all(axis=1)].shape"
   ]
  },
  {
   "cell_type": "code",
   "execution_count": 74,
   "metadata": {},
   "outputs": [],
   "source": [
    "x = cust_data1[cust_data1[['OCCP_GRP_1', 'CUST_INCM']].isnull().all(axis=1)].index"
   ]
  },
  {
   "cell_type": "code",
   "execution_count": 75,
   "metadata": {},
   "outputs": [
    {
     "name": "stderr",
     "output_type": "stream",
     "text": [
      "C:\\Users\\winst\\Anaconda3\\lib\\site-packages\\ipykernel_launcher.py:1: SettingWithCopyWarning: \n",
      "A value is trying to be set on a copy of a slice from a DataFrame\n",
      "\n",
      "See the caveats in the documentation: http://pandas.pydata.org/pandas-docs/stable/indexing.html#indexing-view-versus-copy\n",
      "  \"\"\"Entry point for launching an IPython kernel.\n"
     ]
    }
   ],
   "source": [
    "cust_data1['OCCP_GRP_1'][x] = '9.무직'"
   ]
  },
  {
   "cell_type": "code",
   "execution_count": 76,
   "metadata": {},
   "outputs": [
    {
     "name": "stderr",
     "output_type": "stream",
     "text": [
      "C:\\Users\\winst\\Anaconda3\\lib\\site-packages\\ipykernel_launcher.py:1: SettingWithCopyWarning: \n",
      "A value is trying to be set on a copy of a slice from a DataFrame\n",
      "\n",
      "See the caveats in the documentation: http://pandas.pydata.org/pandas-docs/stable/indexing.html#indexing-view-versus-copy\n",
      "  \"\"\"Entry point for launching an IPython kernel.\n"
     ]
    }
   ],
   "source": [
    "cust_data1['CUST_INCM'][x] = 0"
   ]
  },
  {
   "cell_type": "code",
   "execution_count": 77,
   "metadata": {},
   "outputs": [
    {
     "data": {
      "text/plain": [
       "(0, 25)"
      ]
     },
     "execution_count": 77,
     "metadata": {},
     "output_type": "execute_result"
    }
   ],
   "source": [
    "cust_data1[cust_data1[['OCCP_GRP_1', 'CUST_INCM']].isnull().all(axis=1)].shape"
   ]
  },
  {
   "cell_type": "code",
   "execution_count": 78,
   "metadata": {},
   "outputs": [],
   "source": [
    "# 2. 직업코드가 있고, 소득이 결측인 경우 직업코드별 평균소득으로 처리"
   ]
  },
  {
   "cell_type": "code",
   "execution_count": 79,
   "metadata": {},
   "outputs": [
    {
     "data": {
      "text/plain": [
       "4791"
      ]
     },
     "execution_count": 79,
     "metadata": {},
     "output_type": "execute_result"
    }
   ],
   "source": [
    "cust_data1['CUST_INCM'].isnull().sum()"
   ]
  },
  {
   "cell_type": "code",
   "execution_count": 80,
   "metadata": {},
   "outputs": [
    {
     "data": {
      "text/plain": [
       "count    3815.0\n",
       "mean        0.0\n",
       "std         0.0\n",
       "min         0.0\n",
       "25%         0.0\n",
       "50%         0.0\n",
       "75%         0.0\n",
       "max         0.0\n",
       "Name: CUST_INCM, dtype: float64"
      ]
     },
     "execution_count": 80,
     "metadata": {},
     "output_type": "execute_result"
    }
   ],
   "source": [
    "# 주부 직업의 모든 고객은 소득이 0일까?\n",
    "cust_data1[cust_data1['OCCP_GRP_1'] == '1.주부']['CUST_INCM'].describe()"
   ]
  },
  {
   "cell_type": "code",
   "execution_count": 81,
   "metadata": {},
   "outputs": [],
   "source": [
    "cust_data1['OCCP_GRP_1'] = cust_data1['OCCP_GRP_1'].replace('9.무직', '1.주부')"
   ]
  },
  {
   "cell_type": "code",
   "execution_count": 82,
   "metadata": {},
   "outputs": [
    {
     "data": {
      "text/plain": [
       "OCCP_GRP_1\n",
       "1.주부         0.000000\n",
       "2.자영업     4621.081266\n",
       "3.사무직     4319.376505\n",
       "4.전문직     4173.168564\n",
       "5.서비스     3949.647207\n",
       "6.제조업     4181.931034\n",
       "7.1차산업    4025.830601\n",
       "8.기타       415.870774\n",
       "Name: CUST_INCM, dtype: float64"
      ]
     },
     "execution_count": 82,
     "metadata": {},
     "output_type": "execute_result"
    }
   ],
   "source": [
    "# 주부의 평균 소득 0 => 직업코드,&소득 모두 결측인 데이터를 무직 처리한 작업에 대해 수정필요?\n",
    "cust_data1.groupby('OCCP_GRP_1')['CUST_INCM'].mean()"
   ]
  },
  {
   "cell_type": "code",
   "execution_count": 83,
   "metadata": {},
   "outputs": [
    {
     "data": {
      "text/plain": [
       "123"
      ]
     },
     "execution_count": 83,
     "metadata": {},
     "output_type": "execute_result"
    }
   ],
   "source": [
    "cust_data1['OCCP_GRP_1'].isnull().sum()"
   ]
  },
  {
   "cell_type": "code",
   "execution_count": null,
   "metadata": {},
   "outputs": [],
   "source": []
  },
  {
   "cell_type": "code",
   "execution_count": 84,
   "metadata": {},
   "outputs": [
    {
     "data": {
      "text/plain": [
       "0"
      ]
     },
     "execution_count": 84,
     "metadata": {},
     "output_type": "execute_result"
    }
   ],
   "source": [
    "# 직업코드가 없는 데이터에 fillna가 적용이 되는지?\n",
    "cust_data1[cust_data1['OCCP_GRP_1'].isnull()]['CUST_INCM'].isnull().sum()"
   ]
  },
  {
   "cell_type": "code",
   "execution_count": 85,
   "metadata": {},
   "outputs": [],
   "source": [
    "cust_data1['CUST_INCM'] = cust_data1['CUST_INCM'].fillna(cust_data1.groupby('OCCP_GRP_1')['CUST_INCM'].transform('mean'))"
   ]
  },
  {
   "cell_type": "code",
   "execution_count": 86,
   "metadata": {},
   "outputs": [
    {
     "data": {
      "text/plain": [
       "0"
      ]
     },
     "execution_count": 86,
     "metadata": {},
     "output_type": "execute_result"
    }
   ],
   "source": [
    "cust_data1['CUST_INCM'].isnull().sum()"
   ]
  },
  {
   "cell_type": "markdown",
   "metadata": {},
   "source": [
    "# 모델링으로 결측치 대체\n",
    "\n",
    "- OCCP_GRP_1 : 직업코드\n",
    "    - 알고리즘 : RandomForest\n",
    "    - 입력변수 : FP_CAREER, TOTALPREM, CUST_INCM"
   ]
  },
  {
   "cell_type": "code",
   "execution_count": 87,
   "metadata": {},
   "outputs": [
    {
     "data": {
      "text/plain": [
       "N    21182\n",
       "Y     1218\n",
       "Name: FP_CAREER, dtype: int64"
      ]
     },
     "execution_count": 87,
     "metadata": {},
     "output_type": "execute_result"
    }
   ],
   "source": [
    "# ohe\n",
    "cust_data1['FP_CAREER'].value_counts()"
   ]
  },
  {
   "cell_type": "code",
   "execution_count": 88,
   "metadata": {},
   "outputs": [],
   "source": [
    "tmp = cust_data1[['FP_CAREER', 'TOTALPREM', 'CUST_INCM', 'OCCP_GRP_1' ]].copy()"
   ]
  },
  {
   "cell_type": "code",
   "execution_count": 89,
   "metadata": {},
   "outputs": [
    {
     "data": {
      "text/plain": [
       "FP_CAREER       0\n",
       "TOTALPREM       0\n",
       "CUST_INCM       0\n",
       "OCCP_GRP_1    123\n",
       "dtype: int64"
      ]
     },
     "execution_count": 89,
     "metadata": {},
     "output_type": "execute_result"
    }
   ],
   "source": [
    "tmp.isnull().sum()"
   ]
  },
  {
   "cell_type": "code",
   "execution_count": 90,
   "metadata": {},
   "outputs": [
    {
     "data": {
      "text/html": [
       "<div>\n",
       "<style scoped>\n",
       "    .dataframe tbody tr th:only-of-type {\n",
       "        vertical-align: middle;\n",
       "    }\n",
       "\n",
       "    .dataframe tbody tr th {\n",
       "        vertical-align: top;\n",
       "    }\n",
       "\n",
       "    .dataframe thead th {\n",
       "        text-align: right;\n",
       "    }\n",
       "</style>\n",
       "<table border=\"1\" class=\"dataframe\">\n",
       "  <thead>\n",
       "    <tr style=\"text-align: right;\">\n",
       "      <th></th>\n",
       "      <th>FP_CAREER</th>\n",
       "      <th>TOTALPREM</th>\n",
       "      <th>CUST_INCM</th>\n",
       "      <th>OCCP_GRP_1</th>\n",
       "    </tr>\n",
       "  </thead>\n",
       "  <tbody>\n",
       "    <tr>\n",
       "      <th>0</th>\n",
       "      <td>N</td>\n",
       "      <td>146980441.0</td>\n",
       "      <td>4879.000000</td>\n",
       "      <td>3.사무직</td>\n",
       "    </tr>\n",
       "    <tr>\n",
       "      <th>1</th>\n",
       "      <td>N</td>\n",
       "      <td>94600109.0</td>\n",
       "      <td>6509.000000</td>\n",
       "      <td>3.사무직</td>\n",
       "    </tr>\n",
       "    <tr>\n",
       "      <th>2</th>\n",
       "      <td>N</td>\n",
       "      <td>18501269.0</td>\n",
       "      <td>4180.000000</td>\n",
       "      <td>5.서비스</td>\n",
       "    </tr>\n",
       "    <tr>\n",
       "      <th>3</th>\n",
       "      <td>Y</td>\n",
       "      <td>317223657.0</td>\n",
       "      <td>4621.081266</td>\n",
       "      <td>2.자영업</td>\n",
       "    </tr>\n",
       "    <tr>\n",
       "      <th>4</th>\n",
       "      <td>Y</td>\n",
       "      <td>10506072.0</td>\n",
       "      <td>3894.000000</td>\n",
       "      <td>2.자영업</td>\n",
       "    </tr>\n",
       "  </tbody>\n",
       "</table>\n",
       "</div>"
      ],
      "text/plain": [
       "  FP_CAREER    TOTALPREM    CUST_INCM OCCP_GRP_1\n",
       "0         N  146980441.0  4879.000000      3.사무직\n",
       "1         N   94600109.0  6509.000000      3.사무직\n",
       "2         N   18501269.0  4180.000000      5.서비스\n",
       "3         Y  317223657.0  4621.081266      2.자영업\n",
       "4         Y   10506072.0  3894.000000      2.자영업"
      ]
     },
     "execution_count": 90,
     "metadata": {},
     "output_type": "execute_result"
    }
   ],
   "source": [
    "tmp.head()"
   ]
  },
  {
   "cell_type": "code",
   "execution_count": 91,
   "metadata": {},
   "outputs": [],
   "source": [
    "from sklearn.preprocessing import OneHotEncoder\n",
    "\n",
    "ohe = OneHotEncoder()\n",
    "\n",
    "fp_ohe = ohe.fit_transform(tmp['FP_CAREER'].values.reshape(-1,1)).toarray()"
   ]
  },
  {
   "cell_type": "code",
   "execution_count": 92,
   "metadata": {},
   "outputs": [],
   "source": [
    "fp_ohe_df = pd.DataFrame(fp_ohe, columns=['fp1', 'fp2'])"
   ]
  },
  {
   "cell_type": "code",
   "execution_count": 93,
   "metadata": {},
   "outputs": [],
   "source": [
    "tmp.drop('FP_CAREER', axis=1, inplace=True)"
   ]
  },
  {
   "cell_type": "code",
   "execution_count": 94,
   "metadata": {},
   "outputs": [],
   "source": [
    "tmp2 = pd.concat([tmp, fp_ohe_df], axis=1)"
   ]
  },
  {
   "cell_type": "code",
   "execution_count": 95,
   "metadata": {},
   "outputs": [
    {
     "data": {
      "text/html": [
       "<div>\n",
       "<style scoped>\n",
       "    .dataframe tbody tr th:only-of-type {\n",
       "        vertical-align: middle;\n",
       "    }\n",
       "\n",
       "    .dataframe tbody tr th {\n",
       "        vertical-align: top;\n",
       "    }\n",
       "\n",
       "    .dataframe thead th {\n",
       "        text-align: right;\n",
       "    }\n",
       "</style>\n",
       "<table border=\"1\" class=\"dataframe\">\n",
       "  <thead>\n",
       "    <tr style=\"text-align: right;\">\n",
       "      <th></th>\n",
       "      <th>TOTALPREM</th>\n",
       "      <th>CUST_INCM</th>\n",
       "      <th>OCCP_GRP_1</th>\n",
       "      <th>fp1</th>\n",
       "      <th>fp2</th>\n",
       "    </tr>\n",
       "  </thead>\n",
       "  <tbody>\n",
       "    <tr>\n",
       "      <th>0</th>\n",
       "      <td>146980441.0</td>\n",
       "      <td>4879.000000</td>\n",
       "      <td>3.사무직</td>\n",
       "      <td>1.0</td>\n",
       "      <td>0.0</td>\n",
       "    </tr>\n",
       "    <tr>\n",
       "      <th>1</th>\n",
       "      <td>94600109.0</td>\n",
       "      <td>6509.000000</td>\n",
       "      <td>3.사무직</td>\n",
       "      <td>1.0</td>\n",
       "      <td>0.0</td>\n",
       "    </tr>\n",
       "    <tr>\n",
       "      <th>2</th>\n",
       "      <td>18501269.0</td>\n",
       "      <td>4180.000000</td>\n",
       "      <td>5.서비스</td>\n",
       "      <td>1.0</td>\n",
       "      <td>0.0</td>\n",
       "    </tr>\n",
       "    <tr>\n",
       "      <th>3</th>\n",
       "      <td>317223657.0</td>\n",
       "      <td>4621.081266</td>\n",
       "      <td>2.자영업</td>\n",
       "      <td>0.0</td>\n",
       "      <td>1.0</td>\n",
       "    </tr>\n",
       "    <tr>\n",
       "      <th>4</th>\n",
       "      <td>10506072.0</td>\n",
       "      <td>3894.000000</td>\n",
       "      <td>2.자영업</td>\n",
       "      <td>0.0</td>\n",
       "      <td>1.0</td>\n",
       "    </tr>\n",
       "  </tbody>\n",
       "</table>\n",
       "</div>"
      ],
      "text/plain": [
       "     TOTALPREM    CUST_INCM OCCP_GRP_1  fp1  fp2\n",
       "0  146980441.0  4879.000000      3.사무직  1.0  0.0\n",
       "1   94600109.0  6509.000000      3.사무직  1.0  0.0\n",
       "2   18501269.0  4180.000000      5.서비스  1.0  0.0\n",
       "3  317223657.0  4621.081266      2.자영업  0.0  1.0\n",
       "4   10506072.0  3894.000000      2.자영업  0.0  1.0"
      ]
     },
     "execution_count": 95,
     "metadata": {},
     "output_type": "execute_result"
    }
   ],
   "source": [
    "tmp2.head()"
   ]
  },
  {
   "cell_type": "code",
   "execution_count": 96,
   "metadata": {},
   "outputs": [
    {
     "data": {
      "text/plain": [
       "TOTALPREM       0\n",
       "CUST_INCM       0\n",
       "OCCP_GRP_1    123\n",
       "fp1             0\n",
       "fp2             0\n",
       "dtype: int64"
      ]
     },
     "execution_count": 96,
     "metadata": {},
     "output_type": "execute_result"
    }
   ],
   "source": [
    "tmp2.isnull().sum()"
   ]
  },
  {
   "cell_type": "code",
   "execution_count": 97,
   "metadata": {},
   "outputs": [],
   "source": [
    "test = tmp2[tmp2['OCCP_GRP_1'].isnull()][['fp1','fp2', 'TOTALPREM', 'CUST_INCM', 'OCCP_GRP_1' ]].copy()\n",
    "train = tmp2[tmp2['OCCP_GRP_1'].notnull()][['fp1','fp2', 'TOTALPREM', 'CUST_INCM', 'OCCP_GRP_1' ]].copy()"
   ]
  },
  {
   "cell_type": "code",
   "execution_count": 98,
   "metadata": {},
   "outputs": [],
   "source": [
    "nan_idx = test.index"
   ]
  },
  {
   "cell_type": "code",
   "execution_count": 99,
   "metadata": {},
   "outputs": [
    {
     "data": {
      "text/plain": [
       "(123, 5)"
      ]
     },
     "execution_count": 99,
     "metadata": {},
     "output_type": "execute_result"
    }
   ],
   "source": [
    "test.shape"
   ]
  },
  {
   "cell_type": "code",
   "execution_count": 100,
   "metadata": {},
   "outputs": [
    {
     "data": {
      "text/plain": [
       "(22277, 5)"
      ]
     },
     "execution_count": 100,
     "metadata": {},
     "output_type": "execute_result"
    }
   ],
   "source": [
    "train.shape"
   ]
  },
  {
   "cell_type": "code",
   "execution_count": 101,
   "metadata": {},
   "outputs": [],
   "source": [
    "train_x = train[['fp1','fp2','TOTALPREM', 'CUST_INCM']]\n",
    "train_y = train['OCCP_GRP_1']\n",
    "test_x = test[['fp1','fp2', 'TOTALPREM', 'CUST_INCM']]\n",
    "test_y =test['OCCP_GRP_1']"
   ]
  },
  {
   "cell_type": "code",
   "execution_count": 102,
   "metadata": {},
   "outputs": [
    {
     "data": {
      "text/plain": [
       "(123,)"
      ]
     },
     "execution_count": 102,
     "metadata": {},
     "output_type": "execute_result"
    }
   ],
   "source": [
    "test_y.shape"
   ]
  },
  {
   "cell_type": "code",
   "execution_count": 103,
   "metadata": {},
   "outputs": [
    {
     "data": {
      "text/plain": [
       "0    3.사무직\n",
       "1    3.사무직\n",
       "2    5.서비스\n",
       "3    2.자영업\n",
       "4    2.자영업\n",
       "Name: OCCP_GRP_1, dtype: object"
      ]
     },
     "execution_count": 103,
     "metadata": {},
     "output_type": "execute_result"
    }
   ],
   "source": [
    "train_y.head()"
   ]
  },
  {
   "cell_type": "code",
   "execution_count": 104,
   "metadata": {},
   "outputs": [],
   "source": [
    "from sklearn.ensemble import RandomForestClassifier\n",
    "\n",
    "rf = RandomForestClassifier()"
   ]
  },
  {
   "cell_type": "code",
   "execution_count": 105,
   "metadata": {},
   "outputs": [
    {
     "name": "stderr",
     "output_type": "stream",
     "text": [
      "C:\\Users\\winst\\Anaconda3\\lib\\site-packages\\sklearn\\ensemble\\forest.py:246: FutureWarning: The default value of n_estimators will change from 10 in version 0.20 to 100 in 0.22.\n",
      "  \"10 in version 0.20 to 100 in 0.22.\", FutureWarning)\n"
     ]
    }
   ],
   "source": [
    "rf.fit(train_x, train_y)\n",
    "pred_y = rf.predict(test_x)"
   ]
  },
  {
   "cell_type": "code",
   "execution_count": 106,
   "metadata": {},
   "outputs": [
    {
     "data": {
      "text/plain": [
       "array(['4.전문직', '2.자영업', '3.사무직', '3.사무직', '3.사무직', '3.사무직', '3.사무직',\n",
       "       '3.사무직', '6.제조업', '3.사무직', '2.자영업', '6.제조업', '2.자영업', '5.서비스',\n",
       "       '5.서비스', '6.제조업', '5.서비스', '3.사무직', '2.자영업', '6.제조업', '3.사무직',\n",
       "       '3.사무직', '3.사무직', '5.서비스', '5.서비스', '3.사무직', '3.사무직', '5.서비스',\n",
       "       '5.서비스', '2.자영업', '2.자영업', '4.전문직', '3.사무직', '4.전문직', '2.자영업',\n",
       "       '5.서비스', '3.사무직', '2.자영업', '6.제조업', '4.전문직', '3.사무직', '3.사무직',\n",
       "       '3.사무직', '3.사무직', '4.전문직', '4.전문직', '2.자영업', '5.서비스', '5.서비스',\n",
       "       '5.서비스', '3.사무직', '4.전문직', '6.제조업', '3.사무직', '3.사무직', '5.서비스',\n",
       "       '4.전문직', '5.서비스', '5.서비스', '4.전문직', '2.자영업', '5.서비스', '6.제조업',\n",
       "       '3.사무직', '3.사무직', '3.사무직', '3.사무직', '4.전문직', '4.전문직', '4.전문직',\n",
       "       '6.제조업', '8.기타', '3.사무직', '3.사무직', '6.제조업', '3.사무직', '3.사무직',\n",
       "       '4.전문직', '3.사무직', '6.제조업', '3.사무직', '3.사무직', '3.사무직', '3.사무직',\n",
       "       '2.자영업', '4.전문직', '6.제조업', '2.자영업', '3.사무직', '3.사무직', '3.사무직',\n",
       "       '3.사무직', '3.사무직', '2.자영업', '3.사무직', '5.서비스', '3.사무직', '2.자영업',\n",
       "       '4.전문직', '3.사무직', '5.서비스', '5.서비스', '3.사무직', '4.전문직', '2.자영업',\n",
       "       '3.사무직', '3.사무직', '6.제조업', '4.전문직', '6.제조업', '3.사무직', '5.서비스',\n",
       "       '3.사무직', '8.기타', '3.사무직', '5.서비스', '7.1차산업', '3.사무직', '2.자영업',\n",
       "       '3.사무직', '3.사무직', '3.사무직', '8.기타'], dtype=object)"
      ]
     },
     "execution_count": 106,
     "metadata": {},
     "output_type": "execute_result"
    }
   ],
   "source": [
    "pred_y"
   ]
  },
  {
   "cell_type": "code",
   "execution_count": 107,
   "metadata": {},
   "outputs": [
    {
     "data": {
      "text/plain": [
       "123"
      ]
     },
     "execution_count": 107,
     "metadata": {},
     "output_type": "execute_result"
    }
   ],
   "source": [
    "len(nan_idx)"
   ]
  },
  {
   "cell_type": "code",
   "execution_count": 108,
   "metadata": {},
   "outputs": [],
   "source": [
    "# 숙제 : 예측값을 원본 데이터프레임에 적용해서 결측치를 대체하기"
   ]
  },
  {
   "cell_type": "code",
   "execution_count": 109,
   "metadata": {},
   "outputs": [],
   "source": [
    "# 컬럼  apply => float "
   ]
  },
  {
   "cell_type": "code",
   "execution_count": 110,
   "metadata": {},
   "outputs": [
    {
     "data": {
      "text/plain": [
       "123"
      ]
     },
     "execution_count": 110,
     "metadata": {},
     "output_type": "execute_result"
    }
   ],
   "source": [
    "len(pred_y)"
   ]
  },
  {
   "cell_type": "code",
   "execution_count": 111,
   "metadata": {},
   "outputs": [
    {
     "data": {
      "text/plain": [
       "123"
      ]
     },
     "execution_count": 111,
     "metadata": {},
     "output_type": "execute_result"
    }
   ],
   "source": [
    "len(nan_idx)"
   ]
  },
  {
   "cell_type": "code",
   "execution_count": 112,
   "metadata": {},
   "outputs": [
    {
     "data": {
      "text/plain": [
       "123"
      ]
     },
     "execution_count": 112,
     "metadata": {},
     "output_type": "execute_result"
    }
   ],
   "source": [
    "cust_data1['OCCP_GRP_1'][nan_idx].isnull().sum()"
   ]
  },
  {
   "cell_type": "code",
   "execution_count": 113,
   "metadata": {},
   "outputs": [
    {
     "name": "stderr",
     "output_type": "stream",
     "text": [
      "C:\\Users\\winst\\Anaconda3\\lib\\site-packages\\ipykernel_launcher.py:1: SettingWithCopyWarning: \n",
      "A value is trying to be set on a copy of a slice from a DataFrame\n",
      "\n",
      "See the caveats in the documentation: http://pandas.pydata.org/pandas-docs/stable/indexing.html#indexing-view-versus-copy\n",
      "  \"\"\"Entry point for launching an IPython kernel.\n"
     ]
    }
   ],
   "source": [
    "cust_data1['OCCP_GRP_1'][nan_idx] = pred_y"
   ]
  },
  {
   "cell_type": "code",
   "execution_count": 114,
   "metadata": {},
   "outputs": [
    {
     "data": {
      "text/plain": [
       "0"
      ]
     },
     "execution_count": 114,
     "metadata": {},
     "output_type": "execute_result"
    }
   ],
   "source": [
    "cust_data1['OCCP_GRP_1'][nan_idx].isnull().sum()"
   ]
  },
  {
   "cell_type": "markdown",
   "metadata": {},
   "source": [
    "# 유도 변수\n",
    "\n",
    "- 나이대 : AGE => AGE_RANGE\n",
    "- 자녀수구간 : CHLD_CNT => CHLD_RANGE"
   ]
  },
  {
   "cell_type": "code",
   "execution_count": 115,
   "metadata": {},
   "outputs": [],
   "source": [
    "# pd.cut([11,12,13,14,15], [12,14])\n",
    "# np.qcut()\n",
    "# np.digitize()\n",
    "# 사용자정의함수 "
   ]
  },
  {
   "cell_type": "code",
   "execution_count": 116,
   "metadata": {},
   "outputs": [
    {
     "data": {
      "text/plain": [
       "count    22400.000000\n",
       "mean         0.694509\n",
       "std          0.949046\n",
       "min          0.000000\n",
       "25%          0.000000\n",
       "50%          0.000000\n",
       "75%          1.000000\n",
       "max          6.000000\n",
       "Name: CHLD_CNT, dtype: float64"
      ]
     },
     "execution_count": 116,
     "metadata": {},
     "output_type": "execute_result"
    }
   ],
   "source": [
    "# AGE : 2~19 : 20~39 : 40~59 : 60 ~\n",
    "# CHLD_CNT : 0, 1~3, 4~ \n",
    "cust_data1['CHLD_CNT'].describe()"
   ]
  },
  {
   "cell_type": "code",
   "execution_count": 117,
   "metadata": {},
   "outputs": [
    {
     "data": {
      "text/plain": [
       "CUST_ID                 0\n",
       "DIVIDED_SET             0\n",
       "SIU_CUST_YN          1793\n",
       "SEX                     0\n",
       "AGE                     0\n",
       "RESI_COST               0\n",
       "RESI_TYPE_CODE          0\n",
       "FP_CAREER               0\n",
       "CUST_RGST             456\n",
       "CTPR                    0\n",
       "OCCP_GRP_1              0\n",
       "OCCP_GRP_2            595\n",
       "TOTALPREM               0\n",
       "MINCRDT                 0\n",
       "MAXCRDT                 0\n",
       "WEDD_YN                 0\n",
       "MATE_OCCP_GRP_1     11827\n",
       "MATE_OCCP_GRP_2     11827\n",
       "CHLD_CNT                0\n",
       "LTBN_CHLD_AGE           0\n",
       "MAX_PAYM_YM          6486\n",
       "MAX_PRM              6486\n",
       "CUST_INCM               0\n",
       "RCBASE_HSHD_INCM        0\n",
       "JPBASE_HSHD_INCM      680\n",
       "dtype: int64"
      ]
     },
     "execution_count": 117,
     "metadata": {},
     "output_type": "execute_result"
    }
   ],
   "source": [
    "cust_data1.isnull().sum()"
   ]
  },
  {
   "cell_type": "code",
   "execution_count": 118,
   "metadata": {},
   "outputs": [
    {
     "data": {
      "text/plain": [
       "Index(['CUST_ID', 'DIVIDED_SET', 'SIU_CUST_YN', 'SEX', 'AGE', 'RESI_COST',\n",
       "       'RESI_TYPE_CODE', 'FP_CAREER', 'CUST_RGST', 'CTPR', 'OCCP_GRP_1',\n",
       "       'OCCP_GRP_2', 'TOTALPREM', 'MINCRDT', 'MAXCRDT', 'WEDD_YN',\n",
       "       'MATE_OCCP_GRP_1', 'MATE_OCCP_GRP_2', 'CHLD_CNT', 'LTBN_CHLD_AGE',\n",
       "       'MAX_PAYM_YM', 'MAX_PRM', 'CUST_INCM', 'RCBASE_HSHD_INCM',\n",
       "       'JPBASE_HSHD_INCM'],\n",
       "      dtype='object')"
      ]
     },
     "execution_count": 118,
     "metadata": {},
     "output_type": "execute_result"
    }
   ],
   "source": [
    "cust_data1.columns"
   ]
  },
  {
   "cell_type": "code",
   "execution_count": 119,
   "metadata": {},
   "outputs": [],
   "source": [
    "# pd.cut(x, bins, labels)\n",
    "age_tmp = pd.cut(cust_data1['AGE'], [0,19,39,59,90], labels=list('ABCD'))"
   ]
  },
  {
   "cell_type": "code",
   "execution_count": 120,
   "metadata": {},
   "outputs": [
    {
     "data": {
      "text/html": [
       "<div>\n",
       "<style scoped>\n",
       "    .dataframe tbody tr th:only-of-type {\n",
       "        vertical-align: middle;\n",
       "    }\n",
       "\n",
       "    .dataframe tbody tr th {\n",
       "        vertical-align: top;\n",
       "    }\n",
       "\n",
       "    .dataframe thead th {\n",
       "        text-align: right;\n",
       "    }\n",
       "</style>\n",
       "<table border=\"1\" class=\"dataframe\">\n",
       "  <thead>\n",
       "    <tr style=\"text-align: right;\">\n",
       "      <th></th>\n",
       "      <th>AGE</th>\n",
       "      <th>AGE</th>\n",
       "    </tr>\n",
       "  </thead>\n",
       "  <tbody>\n",
       "    <tr>\n",
       "      <th>0</th>\n",
       "      <td>47</td>\n",
       "      <td>C</td>\n",
       "    </tr>\n",
       "    <tr>\n",
       "      <th>1</th>\n",
       "      <td>53</td>\n",
       "      <td>C</td>\n",
       "    </tr>\n",
       "    <tr>\n",
       "      <th>2</th>\n",
       "      <td>60</td>\n",
       "      <td>D</td>\n",
       "    </tr>\n",
       "    <tr>\n",
       "      <th>3</th>\n",
       "      <td>64</td>\n",
       "      <td>D</td>\n",
       "    </tr>\n",
       "    <tr>\n",
       "      <th>4</th>\n",
       "      <td>54</td>\n",
       "      <td>C</td>\n",
       "    </tr>\n",
       "    <tr>\n",
       "      <th>5</th>\n",
       "      <td>62</td>\n",
       "      <td>D</td>\n",
       "    </tr>\n",
       "    <tr>\n",
       "      <th>6</th>\n",
       "      <td>60</td>\n",
       "      <td>D</td>\n",
       "    </tr>\n",
       "    <tr>\n",
       "      <th>7</th>\n",
       "      <td>57</td>\n",
       "      <td>C</td>\n",
       "    </tr>\n",
       "    <tr>\n",
       "      <th>8</th>\n",
       "      <td>54</td>\n",
       "      <td>C</td>\n",
       "    </tr>\n",
       "    <tr>\n",
       "      <th>9</th>\n",
       "      <td>58</td>\n",
       "      <td>C</td>\n",
       "    </tr>\n",
       "    <tr>\n",
       "      <th>10</th>\n",
       "      <td>63</td>\n",
       "      <td>D</td>\n",
       "    </tr>\n",
       "    <tr>\n",
       "      <th>11</th>\n",
       "      <td>59</td>\n",
       "      <td>C</td>\n",
       "    </tr>\n",
       "    <tr>\n",
       "      <th>12</th>\n",
       "      <td>52</td>\n",
       "      <td>C</td>\n",
       "    </tr>\n",
       "    <tr>\n",
       "      <th>13</th>\n",
       "      <td>68</td>\n",
       "      <td>D</td>\n",
       "    </tr>\n",
       "    <tr>\n",
       "      <th>14</th>\n",
       "      <td>48</td>\n",
       "      <td>C</td>\n",
       "    </tr>\n",
       "    <tr>\n",
       "      <th>15</th>\n",
       "      <td>64</td>\n",
       "      <td>D</td>\n",
       "    </tr>\n",
       "    <tr>\n",
       "      <th>16</th>\n",
       "      <td>57</td>\n",
       "      <td>C</td>\n",
       "    </tr>\n",
       "    <tr>\n",
       "      <th>17</th>\n",
       "      <td>63</td>\n",
       "      <td>D</td>\n",
       "    </tr>\n",
       "    <tr>\n",
       "      <th>18</th>\n",
       "      <td>51</td>\n",
       "      <td>C</td>\n",
       "    </tr>\n",
       "    <tr>\n",
       "      <th>19</th>\n",
       "      <td>81</td>\n",
       "      <td>D</td>\n",
       "    </tr>\n",
       "    <tr>\n",
       "      <th>20</th>\n",
       "      <td>58</td>\n",
       "      <td>C</td>\n",
       "    </tr>\n",
       "    <tr>\n",
       "      <th>21</th>\n",
       "      <td>49</td>\n",
       "      <td>C</td>\n",
       "    </tr>\n",
       "    <tr>\n",
       "      <th>22</th>\n",
       "      <td>55</td>\n",
       "      <td>C</td>\n",
       "    </tr>\n",
       "    <tr>\n",
       "      <th>23</th>\n",
       "      <td>55</td>\n",
       "      <td>C</td>\n",
       "    </tr>\n",
       "    <tr>\n",
       "      <th>24</th>\n",
       "      <td>61</td>\n",
       "      <td>D</td>\n",
       "    </tr>\n",
       "    <tr>\n",
       "      <th>25</th>\n",
       "      <td>39</td>\n",
       "      <td>B</td>\n",
       "    </tr>\n",
       "    <tr>\n",
       "      <th>26</th>\n",
       "      <td>57</td>\n",
       "      <td>C</td>\n",
       "    </tr>\n",
       "    <tr>\n",
       "      <th>27</th>\n",
       "      <td>54</td>\n",
       "      <td>C</td>\n",
       "    </tr>\n",
       "    <tr>\n",
       "      <th>28</th>\n",
       "      <td>52</td>\n",
       "      <td>C</td>\n",
       "    </tr>\n",
       "    <tr>\n",
       "      <th>29</th>\n",
       "      <td>47</td>\n",
       "      <td>C</td>\n",
       "    </tr>\n",
       "    <tr>\n",
       "      <th>...</th>\n",
       "      <td>...</td>\n",
       "      <td>...</td>\n",
       "    </tr>\n",
       "    <tr>\n",
       "      <th>22370</th>\n",
       "      <td>21</td>\n",
       "      <td>B</td>\n",
       "    </tr>\n",
       "    <tr>\n",
       "      <th>22371</th>\n",
       "      <td>22</td>\n",
       "      <td>B</td>\n",
       "    </tr>\n",
       "    <tr>\n",
       "      <th>22372</th>\n",
       "      <td>20</td>\n",
       "      <td>B</td>\n",
       "    </tr>\n",
       "    <tr>\n",
       "      <th>22373</th>\n",
       "      <td>24</td>\n",
       "      <td>B</td>\n",
       "    </tr>\n",
       "    <tr>\n",
       "      <th>22374</th>\n",
       "      <td>64</td>\n",
       "      <td>D</td>\n",
       "    </tr>\n",
       "    <tr>\n",
       "      <th>22375</th>\n",
       "      <td>17</td>\n",
       "      <td>A</td>\n",
       "    </tr>\n",
       "    <tr>\n",
       "      <th>22376</th>\n",
       "      <td>44</td>\n",
       "      <td>C</td>\n",
       "    </tr>\n",
       "    <tr>\n",
       "      <th>22377</th>\n",
       "      <td>33</td>\n",
       "      <td>B</td>\n",
       "    </tr>\n",
       "    <tr>\n",
       "      <th>22378</th>\n",
       "      <td>15</td>\n",
       "      <td>A</td>\n",
       "    </tr>\n",
       "    <tr>\n",
       "      <th>22379</th>\n",
       "      <td>20</td>\n",
       "      <td>B</td>\n",
       "    </tr>\n",
       "    <tr>\n",
       "      <th>22380</th>\n",
       "      <td>20</td>\n",
       "      <td>B</td>\n",
       "    </tr>\n",
       "    <tr>\n",
       "      <th>22381</th>\n",
       "      <td>31</td>\n",
       "      <td>B</td>\n",
       "    </tr>\n",
       "    <tr>\n",
       "      <th>22382</th>\n",
       "      <td>12</td>\n",
       "      <td>A</td>\n",
       "    </tr>\n",
       "    <tr>\n",
       "      <th>22383</th>\n",
       "      <td>14</td>\n",
       "      <td>A</td>\n",
       "    </tr>\n",
       "    <tr>\n",
       "      <th>22384</th>\n",
       "      <td>70</td>\n",
       "      <td>D</td>\n",
       "    </tr>\n",
       "    <tr>\n",
       "      <th>22385</th>\n",
       "      <td>22</td>\n",
       "      <td>B</td>\n",
       "    </tr>\n",
       "    <tr>\n",
       "      <th>22386</th>\n",
       "      <td>53</td>\n",
       "      <td>C</td>\n",
       "    </tr>\n",
       "    <tr>\n",
       "      <th>22387</th>\n",
       "      <td>20</td>\n",
       "      <td>B</td>\n",
       "    </tr>\n",
       "    <tr>\n",
       "      <th>22388</th>\n",
       "      <td>37</td>\n",
       "      <td>B</td>\n",
       "    </tr>\n",
       "    <tr>\n",
       "      <th>22389</th>\n",
       "      <td>28</td>\n",
       "      <td>B</td>\n",
       "    </tr>\n",
       "    <tr>\n",
       "      <th>22390</th>\n",
       "      <td>22</td>\n",
       "      <td>B</td>\n",
       "    </tr>\n",
       "    <tr>\n",
       "      <th>22391</th>\n",
       "      <td>56</td>\n",
       "      <td>C</td>\n",
       "    </tr>\n",
       "    <tr>\n",
       "      <th>22392</th>\n",
       "      <td>23</td>\n",
       "      <td>B</td>\n",
       "    </tr>\n",
       "    <tr>\n",
       "      <th>22393</th>\n",
       "      <td>8</td>\n",
       "      <td>A</td>\n",
       "    </tr>\n",
       "    <tr>\n",
       "      <th>22394</th>\n",
       "      <td>49</td>\n",
       "      <td>C</td>\n",
       "    </tr>\n",
       "    <tr>\n",
       "      <th>22395</th>\n",
       "      <td>34</td>\n",
       "      <td>B</td>\n",
       "    </tr>\n",
       "    <tr>\n",
       "      <th>22396</th>\n",
       "      <td>30</td>\n",
       "      <td>B</td>\n",
       "    </tr>\n",
       "    <tr>\n",
       "      <th>22397</th>\n",
       "      <td>23</td>\n",
       "      <td>B</td>\n",
       "    </tr>\n",
       "    <tr>\n",
       "      <th>22398</th>\n",
       "      <td>15</td>\n",
       "      <td>A</td>\n",
       "    </tr>\n",
       "    <tr>\n",
       "      <th>22399</th>\n",
       "      <td>18</td>\n",
       "      <td>A</td>\n",
       "    </tr>\n",
       "  </tbody>\n",
       "</table>\n",
       "<p>22400 rows × 2 columns</p>\n",
       "</div>"
      ],
      "text/plain": [
       "      AGE AGE\n",
       "0      47   C\n",
       "1      53   C\n",
       "2      60   D\n",
       "3      64   D\n",
       "4      54   C\n",
       "5      62   D\n",
       "6      60   D\n",
       "7      57   C\n",
       "8      54   C\n",
       "9      58   C\n",
       "10     63   D\n",
       "11     59   C\n",
       "12     52   C\n",
       "13     68   D\n",
       "14     48   C\n",
       "15     64   D\n",
       "16     57   C\n",
       "17     63   D\n",
       "18     51   C\n",
       "19     81   D\n",
       "20     58   C\n",
       "21     49   C\n",
       "22     55   C\n",
       "23     55   C\n",
       "24     61   D\n",
       "25     39   B\n",
       "26     57   C\n",
       "27     54   C\n",
       "28     52   C\n",
       "29     47   C\n",
       "...    ..  ..\n",
       "22370  21   B\n",
       "22371  22   B\n",
       "22372  20   B\n",
       "22373  24   B\n",
       "22374  64   D\n",
       "22375  17   A\n",
       "22376  44   C\n",
       "22377  33   B\n",
       "22378  15   A\n",
       "22379  20   B\n",
       "22380  20   B\n",
       "22381  31   B\n",
       "22382  12   A\n",
       "22383  14   A\n",
       "22384  70   D\n",
       "22385  22   B\n",
       "22386  53   C\n",
       "22387  20   B\n",
       "22388  37   B\n",
       "22389  28   B\n",
       "22390  22   B\n",
       "22391  56   C\n",
       "22392  23   B\n",
       "22393   8   A\n",
       "22394  49   C\n",
       "22395  34   B\n",
       "22396  30   B\n",
       "22397  23   B\n",
       "22398  15   A\n",
       "22399  18   A\n",
       "\n",
       "[22400 rows x 2 columns]"
      ]
     },
     "execution_count": 120,
     "metadata": {},
     "output_type": "execute_result"
    }
   ],
   "source": [
    "pd.concat([cust_data1['AGE'], age_tmp], axis=1)"
   ]
  },
  {
   "cell_type": "code",
   "execution_count": 121,
   "metadata": {},
   "outputs": [],
   "source": [
    "# np.digitize(x, bins)\n",
    "cust_data1['AGE2'] = np.digitize(cust_data1['AGE'], [0,19,39,59,90])"
   ]
  },
  {
   "cell_type": "code",
   "execution_count": 122,
   "metadata": {},
   "outputs": [],
   "source": [
    "# 1,2,3,4 => A,B,C,D\n",
    "# sr.map / apply => dictionary\n",
    "# age_map = {1:'A', 2:'B', 3:'C', 4:'D'}\n",
    "age_map = {}\n",
    "for k,v in zip(np.unique(np.digitize(cust_data1['AGE'],\n",
    "                                     [0,19,39,59,90])),\n",
    "               list('ABCD')):\n",
    "    age_map[k] = v"
   ]
  },
  {
   "cell_type": "code",
   "execution_count": 123,
   "metadata": {},
   "outputs": [
    {
     "data": {
      "text/plain": [
       "{1: 'A', 2: 'B', 3: 'C', 4: 'D'}"
      ]
     },
     "execution_count": 123,
     "metadata": {},
     "output_type": "execute_result"
    }
   ],
   "source": [
    "age_map"
   ]
  },
  {
   "cell_type": "code",
   "execution_count": 124,
   "metadata": {},
   "outputs": [],
   "source": [
    "cust_data1['AGE2'] = cust_data1['AGE2'].map(age_map)"
   ]
  },
  {
   "cell_type": "code",
   "execution_count": 125,
   "metadata": {},
   "outputs": [
    {
     "data": {
      "text/plain": [
       "0    C\n",
       "1    C\n",
       "Name: AGE2, dtype: object"
      ]
     },
     "execution_count": 125,
     "metadata": {},
     "output_type": "execute_result"
    }
   ],
   "source": [
    "cust_data1['AGE2'].head(2)"
   ]
  },
  {
   "cell_type": "code",
   "execution_count": 126,
   "metadata": {},
   "outputs": [],
   "source": [
    "# 사용자정의함수 1\n",
    "def age_to_gen1(x):\n",
    "    if x <= 19:\n",
    "        label = 'A'\n",
    "    elif x <= 39:\n",
    "        label = 'B'\n",
    "    elif x <= 59:\n",
    "        label = 'C'\n",
    "    else:\n",
    "        label = 'D'\n",
    "        \n",
    "    return label"
   ]
  },
  {
   "cell_type": "code",
   "execution_count": 127,
   "metadata": {},
   "outputs": [
    {
     "data": {
      "text/plain": [
       "0        C\n",
       "1        C\n",
       "2        D\n",
       "3        D\n",
       "4        C\n",
       "5        D\n",
       "6        D\n",
       "7        C\n",
       "8        C\n",
       "9        C\n",
       "10       D\n",
       "11       C\n",
       "12       C\n",
       "13       D\n",
       "14       C\n",
       "15       D\n",
       "16       C\n",
       "17       D\n",
       "18       C\n",
       "19       D\n",
       "20       C\n",
       "21       C\n",
       "22       C\n",
       "23       C\n",
       "24       D\n",
       "25       B\n",
       "26       C\n",
       "27       C\n",
       "28       C\n",
       "29       C\n",
       "        ..\n",
       "22370    B\n",
       "22371    B\n",
       "22372    B\n",
       "22373    B\n",
       "22374    D\n",
       "22375    A\n",
       "22376    C\n",
       "22377    B\n",
       "22378    A\n",
       "22379    B\n",
       "22380    B\n",
       "22381    B\n",
       "22382    A\n",
       "22383    A\n",
       "22384    D\n",
       "22385    B\n",
       "22386    C\n",
       "22387    B\n",
       "22388    B\n",
       "22389    B\n",
       "22390    B\n",
       "22391    C\n",
       "22392    B\n",
       "22393    A\n",
       "22394    C\n",
       "22395    B\n",
       "22396    B\n",
       "22397    B\n",
       "22398    A\n",
       "22399    A\n",
       "Name: AGE, Length: 22400, dtype: object"
      ]
     },
     "execution_count": 127,
     "metadata": {},
     "output_type": "execute_result"
    }
   ],
   "source": [
    "cust_data1['AGE'].apply(age_to_gen1)"
   ]
  },
  {
   "cell_type": "code",
   "execution_count": 128,
   "metadata": {},
   "outputs": [],
   "source": [
    "# 사용자정의함수 2\n",
    "# AGE : 11 => 10, 25 => 20, 46 => 40\n",
    "def age_to_gen2(x):\n",
    "    age = int(x/10)\n",
    "    return age"
   ]
  },
  {
   "cell_type": "code",
   "execution_count": 129,
   "metadata": {},
   "outputs": [
    {
     "data": {
      "text/plain": [
       "0        4\n",
       "1        5\n",
       "2        6\n",
       "3        6\n",
       "4        5\n",
       "5        6\n",
       "6        6\n",
       "7        5\n",
       "8        5\n",
       "9        5\n",
       "10       6\n",
       "11       5\n",
       "12       5\n",
       "13       6\n",
       "14       4\n",
       "15       6\n",
       "16       5\n",
       "17       6\n",
       "18       5\n",
       "19       8\n",
       "20       5\n",
       "21       4\n",
       "22       5\n",
       "23       5\n",
       "24       6\n",
       "25       3\n",
       "26       5\n",
       "27       5\n",
       "28       5\n",
       "29       4\n",
       "        ..\n",
       "22370    2\n",
       "22371    2\n",
       "22372    2\n",
       "22373    2\n",
       "22374    6\n",
       "22375    1\n",
       "22376    4\n",
       "22377    3\n",
       "22378    1\n",
       "22379    2\n",
       "22380    2\n",
       "22381    3\n",
       "22382    1\n",
       "22383    1\n",
       "22384    7\n",
       "22385    2\n",
       "22386    5\n",
       "22387    2\n",
       "22388    3\n",
       "22389    2\n",
       "22390    2\n",
       "22391    5\n",
       "22392    2\n",
       "22393    0\n",
       "22394    4\n",
       "22395    3\n",
       "22396    3\n",
       "22397    2\n",
       "22398    1\n",
       "22399    1\n",
       "Name: AGE, Length: 22400, dtype: int64"
      ]
     },
     "execution_count": 129,
     "metadata": {},
     "output_type": "execute_result"
    }
   ],
   "source": [
    "cust_data1['AGE'].apply(age_to_gen2)"
   ]
  },
  {
   "cell_type": "code",
   "execution_count": 130,
   "metadata": {},
   "outputs": [
    {
     "data": {
      "text/plain": [
       "0        4\n",
       "1        5\n",
       "2        6\n",
       "3        6\n",
       "4        5\n",
       "5        6\n",
       "6        6\n",
       "7        5\n",
       "8        5\n",
       "9        5\n",
       "10       6\n",
       "11       5\n",
       "12       5\n",
       "13       6\n",
       "14       4\n",
       "15       6\n",
       "16       5\n",
       "17       6\n",
       "18       5\n",
       "19       8\n",
       "20       5\n",
       "21       4\n",
       "22       5\n",
       "23       5\n",
       "24       6\n",
       "25       3\n",
       "26       5\n",
       "27       5\n",
       "28       5\n",
       "29       4\n",
       "        ..\n",
       "22370    2\n",
       "22371    2\n",
       "22372    2\n",
       "22373    2\n",
       "22374    6\n",
       "22375    1\n",
       "22376    4\n",
       "22377    3\n",
       "22378    1\n",
       "22379    2\n",
       "22380    2\n",
       "22381    3\n",
       "22382    1\n",
       "22383    1\n",
       "22384    7\n",
       "22385    2\n",
       "22386    5\n",
       "22387    2\n",
       "22388    3\n",
       "22389    2\n",
       "22390    2\n",
       "22391    5\n",
       "22392    2\n",
       "22393    0\n",
       "22394    4\n",
       "22395    3\n",
       "22396    3\n",
       "22397    2\n",
       "22398    1\n",
       "22399    1\n",
       "Name: AGE, Length: 22400, dtype: int64"
      ]
     },
     "execution_count": 130,
     "metadata": {},
     "output_type": "execute_result"
    }
   ],
   "source": [
    "cust_data1['AGE'].apply(lambda x: int(x/10))"
   ]
  },
  {
   "cell_type": "code",
   "execution_count": 131,
   "metadata": {
    "scrolled": true
   },
   "outputs": [
    {
     "data": {
      "text/plain": [
       "0        [1, 4)\n",
       "1        [1, 4)\n",
       "2        [0, 1)\n",
       "3        [0, 1)\n",
       "4        [1, 4)\n",
       "5        [1, 4)\n",
       "6        [1, 4)\n",
       "7        [1, 4)\n",
       "8        [1, 4)\n",
       "9        [1, 4)\n",
       "10       [0, 1)\n",
       "11       [0, 1)\n",
       "12       [0, 1)\n",
       "13       [0, 1)\n",
       "14       [4, 7)\n",
       "15       [1, 4)\n",
       "16       [1, 4)\n",
       "17       [1, 4)\n",
       "18       [1, 4)\n",
       "19       [0, 1)\n",
       "20       [1, 4)\n",
       "21       [1, 4)\n",
       "22       [1, 4)\n",
       "23       [1, 4)\n",
       "24       [1, 4)\n",
       "25       [1, 4)\n",
       "26       [0, 1)\n",
       "27       [1, 4)\n",
       "28       [4, 7)\n",
       "29       [1, 4)\n",
       "          ...  \n",
       "22370    [0, 1)\n",
       "22371    [0, 1)\n",
       "22372    [0, 1)\n",
       "22373    [0, 1)\n",
       "22374    [1, 4)\n",
       "22375    [0, 1)\n",
       "22376    [0, 1)\n",
       "22377    [0, 1)\n",
       "22378    [0, 1)\n",
       "22379    [0, 1)\n",
       "22380    [0, 1)\n",
       "22381    [0, 1)\n",
       "22382    [0, 1)\n",
       "22383    [0, 1)\n",
       "22384    [0, 1)\n",
       "22385    [0, 1)\n",
       "22386    [1, 4)\n",
       "22387    [0, 1)\n",
       "22388    [0, 1)\n",
       "22389    [0, 1)\n",
       "22390    [0, 1)\n",
       "22391    [1, 4)\n",
       "22392    [0, 1)\n",
       "22393    [0, 1)\n",
       "22394    [1, 4)\n",
       "22395    [0, 1)\n",
       "22396    [0, 1)\n",
       "22397    [0, 1)\n",
       "22398    [0, 1)\n",
       "22399    [0, 1)\n",
       "Name: CHLD_CNT, Length: 22400, dtype: category\n",
       "Categories (3, interval[int64]): [[0, 1) < [1, 4) < [4, 7)]"
      ]
     },
     "execution_count": 131,
     "metadata": {},
     "output_type": "execute_result"
    }
   ],
   "source": [
    "pd.cut(cust_data1['CHLD_CNT'], [0,1,4,7], right=False)"
   ]
  },
  {
   "cell_type": "code",
   "execution_count": 132,
   "metadata": {},
   "outputs": [],
   "source": [
    "# 0, 1~3, 4~\n",
    "child_tmp = pd.cut(cust_data1['CHLD_CNT'], [0,1,4,7], right=False, labels=['no', 'small', 'big'])"
   ]
  },
  {
   "cell_type": "code",
   "execution_count": 133,
   "metadata": {},
   "outputs": [],
   "source": [
    "cust_data1['CHLD_RANGE'] = child_tmp"
   ]
  },
  {
   "cell_type": "code",
   "execution_count": 134,
   "metadata": {},
   "outputs": [
    {
     "data": {
      "text/html": [
       "<div>\n",
       "<style scoped>\n",
       "    .dataframe tbody tr th:only-of-type {\n",
       "        vertical-align: middle;\n",
       "    }\n",
       "\n",
       "    .dataframe tbody tr th {\n",
       "        vertical-align: top;\n",
       "    }\n",
       "\n",
       "    .dataframe thead th {\n",
       "        text-align: right;\n",
       "    }\n",
       "</style>\n",
       "<table border=\"1\" class=\"dataframe\">\n",
       "  <thead>\n",
       "    <tr style=\"text-align: right;\">\n",
       "      <th></th>\n",
       "      <th>CHLD_CNT</th>\n",
       "      <th>CHLD_CNT</th>\n",
       "    </tr>\n",
       "  </thead>\n",
       "  <tbody>\n",
       "    <tr>\n",
       "      <th>0</th>\n",
       "      <td>2.0</td>\n",
       "      <td>small</td>\n",
       "    </tr>\n",
       "    <tr>\n",
       "      <th>1</th>\n",
       "      <td>2.0</td>\n",
       "      <td>small</td>\n",
       "    </tr>\n",
       "    <tr>\n",
       "      <th>2</th>\n",
       "      <td>0.0</td>\n",
       "      <td>no</td>\n",
       "    </tr>\n",
       "    <tr>\n",
       "      <th>3</th>\n",
       "      <td>0.0</td>\n",
       "      <td>no</td>\n",
       "    </tr>\n",
       "    <tr>\n",
       "      <th>4</th>\n",
       "      <td>3.0</td>\n",
       "      <td>small</td>\n",
       "    </tr>\n",
       "    <tr>\n",
       "      <th>5</th>\n",
       "      <td>1.0</td>\n",
       "      <td>small</td>\n",
       "    </tr>\n",
       "    <tr>\n",
       "      <th>6</th>\n",
       "      <td>1.0</td>\n",
       "      <td>small</td>\n",
       "    </tr>\n",
       "    <tr>\n",
       "      <th>7</th>\n",
       "      <td>1.0</td>\n",
       "      <td>small</td>\n",
       "    </tr>\n",
       "    <tr>\n",
       "      <th>8</th>\n",
       "      <td>1.0</td>\n",
       "      <td>small</td>\n",
       "    </tr>\n",
       "    <tr>\n",
       "      <th>9</th>\n",
       "      <td>2.0</td>\n",
       "      <td>small</td>\n",
       "    </tr>\n",
       "    <tr>\n",
       "      <th>10</th>\n",
       "      <td>0.0</td>\n",
       "      <td>no</td>\n",
       "    </tr>\n",
       "    <tr>\n",
       "      <th>11</th>\n",
       "      <td>0.0</td>\n",
       "      <td>no</td>\n",
       "    </tr>\n",
       "    <tr>\n",
       "      <th>12</th>\n",
       "      <td>0.0</td>\n",
       "      <td>no</td>\n",
       "    </tr>\n",
       "    <tr>\n",
       "      <th>13</th>\n",
       "      <td>0.0</td>\n",
       "      <td>no</td>\n",
       "    </tr>\n",
       "    <tr>\n",
       "      <th>14</th>\n",
       "      <td>4.0</td>\n",
       "      <td>big</td>\n",
       "    </tr>\n",
       "    <tr>\n",
       "      <th>15</th>\n",
       "      <td>1.0</td>\n",
       "      <td>small</td>\n",
       "    </tr>\n",
       "    <tr>\n",
       "      <th>16</th>\n",
       "      <td>2.0</td>\n",
       "      <td>small</td>\n",
       "    </tr>\n",
       "    <tr>\n",
       "      <th>17</th>\n",
       "      <td>2.0</td>\n",
       "      <td>small</td>\n",
       "    </tr>\n",
       "    <tr>\n",
       "      <th>18</th>\n",
       "      <td>2.0</td>\n",
       "      <td>small</td>\n",
       "    </tr>\n",
       "    <tr>\n",
       "      <th>19</th>\n",
       "      <td>0.0</td>\n",
       "      <td>no</td>\n",
       "    </tr>\n",
       "    <tr>\n",
       "      <th>20</th>\n",
       "      <td>1.0</td>\n",
       "      <td>small</td>\n",
       "    </tr>\n",
       "    <tr>\n",
       "      <th>21</th>\n",
       "      <td>2.0</td>\n",
       "      <td>small</td>\n",
       "    </tr>\n",
       "    <tr>\n",
       "      <th>22</th>\n",
       "      <td>2.0</td>\n",
       "      <td>small</td>\n",
       "    </tr>\n",
       "    <tr>\n",
       "      <th>23</th>\n",
       "      <td>2.0</td>\n",
       "      <td>small</td>\n",
       "    </tr>\n",
       "    <tr>\n",
       "      <th>24</th>\n",
       "      <td>1.0</td>\n",
       "      <td>small</td>\n",
       "    </tr>\n",
       "    <tr>\n",
       "      <th>25</th>\n",
       "      <td>3.0</td>\n",
       "      <td>small</td>\n",
       "    </tr>\n",
       "    <tr>\n",
       "      <th>26</th>\n",
       "      <td>0.0</td>\n",
       "      <td>no</td>\n",
       "    </tr>\n",
       "    <tr>\n",
       "      <th>27</th>\n",
       "      <td>2.0</td>\n",
       "      <td>small</td>\n",
       "    </tr>\n",
       "    <tr>\n",
       "      <th>28</th>\n",
       "      <td>4.0</td>\n",
       "      <td>big</td>\n",
       "    </tr>\n",
       "    <tr>\n",
       "      <th>29</th>\n",
       "      <td>1.0</td>\n",
       "      <td>small</td>\n",
       "    </tr>\n",
       "    <tr>\n",
       "      <th>...</th>\n",
       "      <td>...</td>\n",
       "      <td>...</td>\n",
       "    </tr>\n",
       "    <tr>\n",
       "      <th>22370</th>\n",
       "      <td>0.0</td>\n",
       "      <td>no</td>\n",
       "    </tr>\n",
       "    <tr>\n",
       "      <th>22371</th>\n",
       "      <td>0.0</td>\n",
       "      <td>no</td>\n",
       "    </tr>\n",
       "    <tr>\n",
       "      <th>22372</th>\n",
       "      <td>0.0</td>\n",
       "      <td>no</td>\n",
       "    </tr>\n",
       "    <tr>\n",
       "      <th>22373</th>\n",
       "      <td>0.0</td>\n",
       "      <td>no</td>\n",
       "    </tr>\n",
       "    <tr>\n",
       "      <th>22374</th>\n",
       "      <td>1.0</td>\n",
       "      <td>small</td>\n",
       "    </tr>\n",
       "    <tr>\n",
       "      <th>22375</th>\n",
       "      <td>0.0</td>\n",
       "      <td>no</td>\n",
       "    </tr>\n",
       "    <tr>\n",
       "      <th>22376</th>\n",
       "      <td>0.0</td>\n",
       "      <td>no</td>\n",
       "    </tr>\n",
       "    <tr>\n",
       "      <th>22377</th>\n",
       "      <td>0.0</td>\n",
       "      <td>no</td>\n",
       "    </tr>\n",
       "    <tr>\n",
       "      <th>22378</th>\n",
       "      <td>0.0</td>\n",
       "      <td>no</td>\n",
       "    </tr>\n",
       "    <tr>\n",
       "      <th>22379</th>\n",
       "      <td>0.0</td>\n",
       "      <td>no</td>\n",
       "    </tr>\n",
       "    <tr>\n",
       "      <th>22380</th>\n",
       "      <td>0.0</td>\n",
       "      <td>no</td>\n",
       "    </tr>\n",
       "    <tr>\n",
       "      <th>22381</th>\n",
       "      <td>0.0</td>\n",
       "      <td>no</td>\n",
       "    </tr>\n",
       "    <tr>\n",
       "      <th>22382</th>\n",
       "      <td>0.0</td>\n",
       "      <td>no</td>\n",
       "    </tr>\n",
       "    <tr>\n",
       "      <th>22383</th>\n",
       "      <td>0.0</td>\n",
       "      <td>no</td>\n",
       "    </tr>\n",
       "    <tr>\n",
       "      <th>22384</th>\n",
       "      <td>0.0</td>\n",
       "      <td>no</td>\n",
       "    </tr>\n",
       "    <tr>\n",
       "      <th>22385</th>\n",
       "      <td>0.0</td>\n",
       "      <td>no</td>\n",
       "    </tr>\n",
       "    <tr>\n",
       "      <th>22386</th>\n",
       "      <td>2.0</td>\n",
       "      <td>small</td>\n",
       "    </tr>\n",
       "    <tr>\n",
       "      <th>22387</th>\n",
       "      <td>0.0</td>\n",
       "      <td>no</td>\n",
       "    </tr>\n",
       "    <tr>\n",
       "      <th>22388</th>\n",
       "      <td>0.0</td>\n",
       "      <td>no</td>\n",
       "    </tr>\n",
       "    <tr>\n",
       "      <th>22389</th>\n",
       "      <td>0.0</td>\n",
       "      <td>no</td>\n",
       "    </tr>\n",
       "    <tr>\n",
       "      <th>22390</th>\n",
       "      <td>0.0</td>\n",
       "      <td>no</td>\n",
       "    </tr>\n",
       "    <tr>\n",
       "      <th>22391</th>\n",
       "      <td>3.0</td>\n",
       "      <td>small</td>\n",
       "    </tr>\n",
       "    <tr>\n",
       "      <th>22392</th>\n",
       "      <td>0.0</td>\n",
       "      <td>no</td>\n",
       "    </tr>\n",
       "    <tr>\n",
       "      <th>22393</th>\n",
       "      <td>0.0</td>\n",
       "      <td>no</td>\n",
       "    </tr>\n",
       "    <tr>\n",
       "      <th>22394</th>\n",
       "      <td>2.0</td>\n",
       "      <td>small</td>\n",
       "    </tr>\n",
       "    <tr>\n",
       "      <th>22395</th>\n",
       "      <td>0.0</td>\n",
       "      <td>no</td>\n",
       "    </tr>\n",
       "    <tr>\n",
       "      <th>22396</th>\n",
       "      <td>0.0</td>\n",
       "      <td>no</td>\n",
       "    </tr>\n",
       "    <tr>\n",
       "      <th>22397</th>\n",
       "      <td>0.0</td>\n",
       "      <td>no</td>\n",
       "    </tr>\n",
       "    <tr>\n",
       "      <th>22398</th>\n",
       "      <td>0.0</td>\n",
       "      <td>no</td>\n",
       "    </tr>\n",
       "    <tr>\n",
       "      <th>22399</th>\n",
       "      <td>0.0</td>\n",
       "      <td>no</td>\n",
       "    </tr>\n",
       "  </tbody>\n",
       "</table>\n",
       "<p>22400 rows × 2 columns</p>\n",
       "</div>"
      ],
      "text/plain": [
       "      CHLD_CNT CHLD_CNT\n",
       "0          2.0    small\n",
       "1          2.0    small\n",
       "2          0.0       no\n",
       "3          0.0       no\n",
       "4          3.0    small\n",
       "5          1.0    small\n",
       "6          1.0    small\n",
       "7          1.0    small\n",
       "8          1.0    small\n",
       "9          2.0    small\n",
       "10         0.0       no\n",
       "11         0.0       no\n",
       "12         0.0       no\n",
       "13         0.0       no\n",
       "14         4.0      big\n",
       "15         1.0    small\n",
       "16         2.0    small\n",
       "17         2.0    small\n",
       "18         2.0    small\n",
       "19         0.0       no\n",
       "20         1.0    small\n",
       "21         2.0    small\n",
       "22         2.0    small\n",
       "23         2.0    small\n",
       "24         1.0    small\n",
       "25         3.0    small\n",
       "26         0.0       no\n",
       "27         2.0    small\n",
       "28         4.0      big\n",
       "29         1.0    small\n",
       "...        ...      ...\n",
       "22370      0.0       no\n",
       "22371      0.0       no\n",
       "22372      0.0       no\n",
       "22373      0.0       no\n",
       "22374      1.0    small\n",
       "22375      0.0       no\n",
       "22376      0.0       no\n",
       "22377      0.0       no\n",
       "22378      0.0       no\n",
       "22379      0.0       no\n",
       "22380      0.0       no\n",
       "22381      0.0       no\n",
       "22382      0.0       no\n",
       "22383      0.0       no\n",
       "22384      0.0       no\n",
       "22385      0.0       no\n",
       "22386      2.0    small\n",
       "22387      0.0       no\n",
       "22388      0.0       no\n",
       "22389      0.0       no\n",
       "22390      0.0       no\n",
       "22391      3.0    small\n",
       "22392      0.0       no\n",
       "22393      0.0       no\n",
       "22394      2.0    small\n",
       "22395      0.0       no\n",
       "22396      0.0       no\n",
       "22397      0.0       no\n",
       "22398      0.0       no\n",
       "22399      0.0       no\n",
       "\n",
       "[22400 rows x 2 columns]"
      ]
     },
     "execution_count": 134,
     "metadata": {},
     "output_type": "execute_result"
    }
   ],
   "source": [
    "pd.concat([cust_data1['CHLD_CNT'], child_tmp], axis=1)"
   ]
  },
  {
   "cell_type": "markdown",
   "metadata": {},
   "source": [
    "# 파생변수\n",
    "- 버전1 : 파생변수 추가\n",
    "- 버전2 : 구간화 X 파생변수 추가 X\n",
    "- CLAIM_DATA \n",
    "    - 사기자에 영향을 주는 요인 \n",
    "        - 평균 입원 일수 : VLID_HOSP_OTDA(통원일/입원일)\n",
    "        - 사고구분 및 청구사유 횟수 : ACCI_DVSN, DMND_RESN_CODE\n",
    "    - 원본 데이터(cust_data)에 합치는 방법 : CUST_ID"
   ]
  },
  {
   "cell_type": "code",
   "execution_count": 135,
   "metadata": {},
   "outputs": [
    {
     "data": {
      "text/html": [
       "<div>\n",
       "<style scoped>\n",
       "    .dataframe tbody tr th:only-of-type {\n",
       "        vertical-align: middle;\n",
       "    }\n",
       "\n",
       "    .dataframe tbody tr th {\n",
       "        vertical-align: top;\n",
       "    }\n",
       "\n",
       "    .dataframe thead th {\n",
       "        text-align: right;\n",
       "    }\n",
       "</style>\n",
       "<table border=\"1\" class=\"dataframe\">\n",
       "  <thead>\n",
       "    <tr style=\"text-align: right;\">\n",
       "      <th></th>\n",
       "      <th>CUST_ID</th>\n",
       "      <th>POLY_NO</th>\n",
       "      <th>ACCI_OCCP_GRP1</th>\n",
       "      <th>ACCI_OCCP_GRP2</th>\n",
       "      <th>CHANG_FP_YN</th>\n",
       "      <th>CNTT_RECP_SQNO</th>\n",
       "      <th>RECP_DATE</th>\n",
       "      <th>ORIG_RESN_DATE</th>\n",
       "      <th>RESN_DATE</th>\n",
       "      <th>CRNT_PROG_DVSN</th>\n",
       "      <th>ACCI_DVSN</th>\n",
       "      <th>CAUS_CODE</th>\n",
       "      <th>CAUS_CODE_DTAL</th>\n",
       "      <th>DSAS_NAME</th>\n",
       "      <th>DMND_RESN_CODE</th>\n",
       "      <th>DMND_RSCD_SQNO</th>\n",
       "      <th>HOSP_OTPA_STDT</th>\n",
       "      <th>HOSP_OTPA_ENDT</th>\n",
       "      <th>RESL_CD1</th>\n",
       "      <th>RESL_NM1</th>\n",
       "      <th>VLID_HOSP_OTDA</th>\n",
       "      <th>HOUSE_HOSP_DIST</th>\n",
       "      <th>HOSP_CODE</th>\n",
       "      <th>ACCI_HOSP_ADDR</th>\n",
       "      <th>HOSP_SPEC_DVSN</th>\n",
       "      <th>CHME_LICE_NO</th>\n",
       "      <th>PAYM_DATE</th>\n",
       "      <th>DMND_AMT</th>\n",
       "      <th>PAYM_AMT</th>\n",
       "      <th>PMMI_DLNG_YN</th>\n",
       "      <th>SELF_CHAM</th>\n",
       "      <th>NON_PAY</th>\n",
       "      <th>TAMT_SFCA</th>\n",
       "      <th>PATT_CHRG_TOTA</th>\n",
       "      <th>DSCT_AMT</th>\n",
       "      <th>COUNT_TRMT_ITEM</th>\n",
       "      <th>DCAF_CMPS_XCPA</th>\n",
       "      <th>NON_PAY_RATIO</th>\n",
       "      <th>HEED_HOSP_YN</th>\n",
       "    </tr>\n",
       "  </thead>\n",
       "  <tbody>\n",
       "    <tr>\n",
       "      <th>0</th>\n",
       "      <td>5936</td>\n",
       "      <td>1365</td>\n",
       "      <td>8.기타</td>\n",
       "      <td>학생</td>\n",
       "      <td>Y</td>\n",
       "      <td>2006011200001</td>\n",
       "      <td>20060112</td>\n",
       "      <td>20060109</td>\n",
       "      <td>20060109</td>\n",
       "      <td>11</td>\n",
       "      <td>1</td>\n",
       "      <td>W21</td>\n",
       "      <td>#</td>\n",
       "      <td>하악부표재성손상</td>\n",
       "      <td>3</td>\n",
       "      <td>2</td>\n",
       "      <td>20060109.0</td>\n",
       "      <td>20060111.0</td>\n",
       "      <td>S00</td>\n",
       "      <td>머리의 얕은(표재성)손상</td>\n",
       "      <td>2</td>\n",
       "      <td>NaN</td>\n",
       "      <td>12537.0</td>\n",
       "      <td>NaN</td>\n",
       "      <td>95.0</td>\n",
       "      <td>11606</td>\n",
       "      <td>20060112.0</td>\n",
       "      <td>20000</td>\n",
       "      <td>20000</td>\n",
       "      <td>N</td>\n",
       "      <td>NaN</td>\n",
       "      <td>NaN</td>\n",
       "      <td>NaN</td>\n",
       "      <td>NaN</td>\n",
       "      <td>NaN</td>\n",
       "      <td>NaN</td>\n",
       "      <td>NaN</td>\n",
       "      <td>0.0</td>\n",
       "      <td>N</td>\n",
       "    </tr>\n",
       "    <tr>\n",
       "      <th>1</th>\n",
       "      <td>5936</td>\n",
       "      <td>6151</td>\n",
       "      <td>8.기타</td>\n",
       "      <td>학생</td>\n",
       "      <td>Y</td>\n",
       "      <td>2006011200002</td>\n",
       "      <td>20060112</td>\n",
       "      <td>20060109</td>\n",
       "      <td>20060109</td>\n",
       "      <td>11</td>\n",
       "      <td>1</td>\n",
       "      <td>W21</td>\n",
       "      <td>#</td>\n",
       "      <td>하악부표재성손상</td>\n",
       "      <td>3</td>\n",
       "      <td>2</td>\n",
       "      <td>20060109.0</td>\n",
       "      <td>20060111.0</td>\n",
       "      <td>S00</td>\n",
       "      <td>머리의 얕은(표재성)손상</td>\n",
       "      <td>2</td>\n",
       "      <td>NaN</td>\n",
       "      <td>12537.0</td>\n",
       "      <td>NaN</td>\n",
       "      <td>95.0</td>\n",
       "      <td>11606</td>\n",
       "      <td>20060112.0</td>\n",
       "      <td>30000</td>\n",
       "      <td>30000</td>\n",
       "      <td>N</td>\n",
       "      <td>NaN</td>\n",
       "      <td>NaN</td>\n",
       "      <td>NaN</td>\n",
       "      <td>NaN</td>\n",
       "      <td>NaN</td>\n",
       "      <td>NaN</td>\n",
       "      <td>NaN</td>\n",
       "      <td>0.0</td>\n",
       "      <td>N</td>\n",
       "    </tr>\n",
       "  </tbody>\n",
       "</table>\n",
       "</div>"
      ],
      "text/plain": [
       "   CUST_ID  POLY_NO ACCI_OCCP_GRP1 ACCI_OCCP_GRP2 CHANG_FP_YN  CNTT_RECP_SQNO  \\\n",
       "0     5936     1365           8.기타             학생           Y   2006011200001   \n",
       "1     5936     6151           8.기타             학생           Y   2006011200002   \n",
       "\n",
       "   RECP_DATE  ORIG_RESN_DATE  RESN_DATE  CRNT_PROG_DVSN  ACCI_DVSN CAUS_CODE  \\\n",
       "0   20060112        20060109   20060109              11          1       W21   \n",
       "1   20060112        20060109   20060109              11          1       W21   \n",
       "\n",
       "  CAUS_CODE_DTAL DSAS_NAME  DMND_RESN_CODE  DMND_RSCD_SQNO  HOSP_OTPA_STDT  \\\n",
       "0              #  하악부표재성손상               3               2      20060109.0   \n",
       "1              #  하악부표재성손상               3               2      20060109.0   \n",
       "\n",
       "   HOSP_OTPA_ENDT RESL_CD1       RESL_NM1  VLID_HOSP_OTDA  HOUSE_HOSP_DIST  \\\n",
       "0      20060111.0      S00  머리의 얕은(표재성)손상               2              NaN   \n",
       "1      20060111.0      S00  머리의 얕은(표재성)손상               2              NaN   \n",
       "\n",
       "   HOSP_CODE ACCI_HOSP_ADDR  HOSP_SPEC_DVSN  CHME_LICE_NO   PAYM_DATE  \\\n",
       "0    12537.0            NaN            95.0         11606  20060112.0   \n",
       "1    12537.0            NaN            95.0         11606  20060112.0   \n",
       "\n",
       "   DMND_AMT  PAYM_AMT PMMI_DLNG_YN  SELF_CHAM  NON_PAY  TAMT_SFCA  \\\n",
       "0     20000     20000            N        NaN      NaN        NaN   \n",
       "1     30000     30000            N        NaN      NaN        NaN   \n",
       "\n",
       "   PATT_CHRG_TOTA  DSCT_AMT  COUNT_TRMT_ITEM  DCAF_CMPS_XCPA  NON_PAY_RATIO  \\\n",
       "0             NaN       NaN              NaN             NaN            0.0   \n",
       "1             NaN       NaN              NaN             NaN            0.0   \n",
       "\n",
       "  HEED_HOSP_YN  \n",
       "0            N  \n",
       "1            N  "
      ]
     },
     "execution_count": 135,
     "metadata": {},
     "output_type": "execute_result"
    }
   ],
   "source": [
    "claim_data = pd.read_csv('CLAIM_DATA.csv', encoding='utf-16',\n",
    "                         engine='python', sep=',')\n",
    "claim_data.head(2)"
   ]
  },
  {
   "cell_type": "code",
   "execution_count": 136,
   "metadata": {},
   "outputs": [],
   "source": [
    "# 평균 입원일수 : VLID_HOSP_OTDA\n",
    "# cust_data1 에 컬럼으로 추가(HOSP_MEAN)"
   ]
  },
  {
   "cell_type": "code",
   "execution_count": 137,
   "metadata": {},
   "outputs": [
    {
     "data": {
      "text/plain": [
       "(22400, 27)"
      ]
     },
     "execution_count": 137,
     "metadata": {},
     "output_type": "execute_result"
    }
   ],
   "source": [
    "cust_data1.shape"
   ]
  },
  {
   "cell_type": "code",
   "execution_count": 138,
   "metadata": {},
   "outputs": [
    {
     "data": {
      "text/plain": [
       "22400"
      ]
     },
     "execution_count": 138,
     "metadata": {},
     "output_type": "execute_result"
    }
   ],
   "source": [
    "cust_data1['CUST_ID'].unique().size"
   ]
  },
  {
   "cell_type": "code",
   "execution_count": 139,
   "metadata": {},
   "outputs": [
    {
     "data": {
      "text/plain": [
       "(119020, 39)"
      ]
     },
     "execution_count": 139,
     "metadata": {},
     "output_type": "execute_result"
    }
   ],
   "source": [
    "claim_data.shape"
   ]
  },
  {
   "cell_type": "code",
   "execution_count": 140,
   "metadata": {},
   "outputs": [
    {
     "data": {
      "text/plain": [
       "22400"
      ]
     },
     "execution_count": 140,
     "metadata": {},
     "output_type": "execute_result"
    }
   ],
   "source": [
    "claim_data['CUST_ID'].unique().size"
   ]
  },
  {
   "cell_type": "code",
   "execution_count": 141,
   "metadata": {},
   "outputs": [],
   "source": [
    "# CUST_ID 별 입원 일수의 평균\n",
    "mean_days = claim_data.pivot_table(index='CUST_ID', values='VLID_HOSP_OTDA',\n",
    "                      aggfunc='mean')"
   ]
  },
  {
   "cell_type": "code",
   "execution_count": 142,
   "metadata": {},
   "outputs": [],
   "source": [
    "mean_days = mean_days.reset_index()"
   ]
  },
  {
   "cell_type": "code",
   "execution_count": 143,
   "metadata": {},
   "outputs": [
    {
     "data": {
      "text/plain": [
       "Index(['CUST_ID', 'VLID_HOSP_OTDA'], dtype='object')"
      ]
     },
     "execution_count": 143,
     "metadata": {},
     "output_type": "execute_result"
    }
   ],
   "source": [
    "mean_days.columns"
   ]
  },
  {
   "cell_type": "code",
   "execution_count": 144,
   "metadata": {},
   "outputs": [],
   "source": [
    "cust_data1 = cust_data1.merge(mean_days).copy()"
   ]
  },
  {
   "cell_type": "code",
   "execution_count": 145,
   "metadata": {},
   "outputs": [],
   "source": [
    "cust_data1.rename({'VLID_HOSP_OTDA':'HOSP_MEAN'}, axis=1, inplace=True)"
   ]
  },
  {
   "cell_type": "code",
   "execution_count": 146,
   "metadata": {},
   "outputs": [
    {
     "data": {
      "text/plain": [
       "CUST_ID                 0\n",
       "DIVIDED_SET             0\n",
       "SIU_CUST_YN          1793\n",
       "SEX                     0\n",
       "AGE                     0\n",
       "RESI_COST               0\n",
       "RESI_TYPE_CODE          0\n",
       "FP_CAREER               0\n",
       "CUST_RGST             456\n",
       "CTPR                    0\n",
       "OCCP_GRP_1              0\n",
       "OCCP_GRP_2            595\n",
       "TOTALPREM               0\n",
       "MINCRDT                 0\n",
       "MAXCRDT                 0\n",
       "WEDD_YN                 0\n",
       "MATE_OCCP_GRP_1     11827\n",
       "MATE_OCCP_GRP_2     11827\n",
       "CHLD_CNT                0\n",
       "LTBN_CHLD_AGE           0\n",
       "MAX_PAYM_YM          6486\n",
       "MAX_PRM              6486\n",
       "CUST_INCM               0\n",
       "RCBASE_HSHD_INCM        0\n",
       "JPBASE_HSHD_INCM      680\n",
       "AGE2                    0\n",
       "CHLD_RANGE              0\n",
       "HOSP_MEAN               0\n",
       "dtype: int64"
      ]
     },
     "execution_count": 146,
     "metadata": {},
     "output_type": "execute_result"
    }
   ],
   "source": [
    "cust_data1.isnull().sum()"
   ]
  },
  {
   "cell_type": "code",
   "execution_count": 147,
   "metadata": {},
   "outputs": [],
   "source": [
    "# 사고구분 및 청구사유 횟수 : ACCI_DVSN, DMND_RESN_CODE"
   ]
  },
  {
   "cell_type": "code",
   "execution_count": 148,
   "metadata": {},
   "outputs": [
    {
     "data": {
      "text/plain": [
       "array([1, 3, 2], dtype=int64)"
      ]
     },
     "execution_count": 148,
     "metadata": {},
     "output_type": "execute_result"
    }
   ],
   "source": [
    "claim_data['ACCI_DVSN'].unique()"
   ]
  },
  {
   "cell_type": "code",
   "execution_count": 149,
   "metadata": {},
   "outputs": [
    {
     "data": {
      "text/plain": [
       "array([3, 2, 5, 6, 4, 1, 7, 9], dtype=int64)"
      ]
     },
     "execution_count": 149,
     "metadata": {},
     "output_type": "execute_result"
    }
   ],
   "source": [
    "claim_data['DMND_RESN_CODE'].unique()"
   ]
  },
  {
   "cell_type": "code",
   "execution_count": 150,
   "metadata": {},
   "outputs": [
    {
     "data": {
      "text/plain": [
       "CUST_ID              0\n",
       "ACCI_DVSN            0\n",
       "DMND_RESN_CODE       0\n",
       "ACCI_OCCP_GRP1    1417\n",
       "dtype: int64"
      ]
     },
     "execution_count": 150,
     "metadata": {},
     "output_type": "execute_result"
    }
   ],
   "source": [
    "claim_data[['CUST_ID', 'ACCI_DVSN', 'DMND_RESN_CODE', 'ACCI_OCCP_GRP1']].isnull().sum()"
   ]
  },
  {
   "cell_type": "code",
   "execution_count": 151,
   "metadata": {},
   "outputs": [
    {
     "data": {
      "text/html": [
       "<div>\n",
       "<style scoped>\n",
       "    .dataframe tbody tr th:only-of-type {\n",
       "        vertical-align: middle;\n",
       "    }\n",
       "\n",
       "    .dataframe tbody tr th {\n",
       "        vertical-align: top;\n",
       "    }\n",
       "\n",
       "    .dataframe thead th {\n",
       "        text-align: right;\n",
       "    }\n",
       "</style>\n",
       "<table border=\"1\" class=\"dataframe\">\n",
       "  <thead>\n",
       "    <tr style=\"text-align: right;\">\n",
       "      <th></th>\n",
       "      <th>CUST_ID</th>\n",
       "      <th>ACCI_DVSN</th>\n",
       "      <th>DMND_RESN_CODE</th>\n",
       "      <th>ACCI_OCCP_GRP1</th>\n",
       "    </tr>\n",
       "  </thead>\n",
       "  <tbody>\n",
       "    <tr>\n",
       "      <th>0</th>\n",
       "      <td>5936</td>\n",
       "      <td>1</td>\n",
       "      <td>3</td>\n",
       "      <td>8.기타</td>\n",
       "    </tr>\n",
       "    <tr>\n",
       "      <th>1</th>\n",
       "      <td>5936</td>\n",
       "      <td>1</td>\n",
       "      <td>3</td>\n",
       "      <td>8.기타</td>\n",
       "    </tr>\n",
       "    <tr>\n",
       "      <th>2</th>\n",
       "      <td>5936</td>\n",
       "      <td>1</td>\n",
       "      <td>3</td>\n",
       "      <td>8.기타</td>\n",
       "    </tr>\n",
       "    <tr>\n",
       "      <th>3</th>\n",
       "      <td>1043</td>\n",
       "      <td>3</td>\n",
       "      <td>2</td>\n",
       "      <td>1.주부</td>\n",
       "    </tr>\n",
       "    <tr>\n",
       "      <th>4</th>\n",
       "      <td>8545</td>\n",
       "      <td>3</td>\n",
       "      <td>5</td>\n",
       "      <td>1.주부</td>\n",
       "    </tr>\n",
       "  </tbody>\n",
       "</table>\n",
       "</div>"
      ],
      "text/plain": [
       "   CUST_ID  ACCI_DVSN  DMND_RESN_CODE ACCI_OCCP_GRP1\n",
       "0     5936          1               3           8.기타\n",
       "1     5936          1               3           8.기타\n",
       "2     5936          1               3           8.기타\n",
       "3     1043          3               2           1.주부\n",
       "4     8545          3               5           1.주부"
      ]
     },
     "execution_count": 151,
     "metadata": {},
     "output_type": "execute_result"
    }
   ],
   "source": [
    "claim_data[['CUST_ID', 'ACCI_DVSN', 'DMND_RESN_CODE', 'ACCI_OCCP_GRP1']].head()"
   ]
  },
  {
   "cell_type": "code",
   "execution_count": 158,
   "metadata": {},
   "outputs": [],
   "source": [
    "# 청구이력이 있는 케이스에 대한 횟수\n",
    "cross_table = claim_data.groupby(['CUST_ID', 'ACCI_DVSN','DMND_RESN_CODE']).size()"
   ]
  },
  {
   "cell_type": "code",
   "execution_count": 159,
   "metadata": {},
   "outputs": [
    {
     "data": {
      "text/plain": [
       "CUST_ID  ACCI_DVSN  DMND_RESN_CODE\n",
       "1        3          3                 4\n",
       "2        3          3                 3\n",
       "dtype: int64"
      ]
     },
     "execution_count": 159,
     "metadata": {},
     "output_type": "execute_result"
    }
   ],
   "source": [
    "cross_table.head(2)"
   ]
  },
  {
   "cell_type": "code",
   "execution_count": 160,
   "metadata": {},
   "outputs": [],
   "source": [
    "# 멀티 인덱스 생성\n",
    "# 청구이력이 없는 경우의 수를 생성하여 모든 케이스를 적용"
   ]
  },
  {
   "cell_type": "code",
   "execution_count": 161,
   "metadata": {},
   "outputs": [],
   "source": [
    "tmp = claim_data[['CUST_ID', 'ACCI_DVSN','DMND_RESN_CODE']].copy()"
   ]
  },
  {
   "cell_type": "code",
   "execution_count": 162,
   "metadata": {
    "scrolled": true
   },
   "outputs": [
    {
     "data": {
      "text/plain": [
       "array([[ 5936,  5936,  5936, ...,  6864, 15545, 21542],\n",
       "       [    1,     1,     1, ...,     3,     3,     3],\n",
       "       [    3,     3,     3, ...,     2,     3,     2]], dtype=int64)"
      ]
     },
     "execution_count": 162,
     "metadata": {},
     "output_type": "execute_result"
    }
   ],
   "source": [
    "tmp.values.T"
   ]
  },
  {
   "cell_type": "code",
   "execution_count": 163,
   "metadata": {},
   "outputs": [],
   "source": [
    "# pd.MultiIndex.from_product()"
   ]
  },
  {
   "cell_type": "code",
   "execution_count": 164,
   "metadata": {},
   "outputs": [
    {
     "data": {
      "text/plain": [
       "MultiIndex(levels=[[0, 1, 2], ['A', 'B'], [1, 2, 3]],\n",
       "           labels=[[0, 0, 0, 0, 0, 0, 1, 1, 1, 1, 1, 1, 2, 2, 2, 2, 2, 2], [0, 0, 0, 1, 1, 1, 0, 0, 0, 1, 1, 1, 0, 0, 0, 1, 1, 1], [0, 1, 2, 0, 1, 2, 0, 1, 2, 0, 1, 2, 0, 1, 2, 0, 1, 2]])"
      ]
     },
     "execution_count": 164,
     "metadata": {},
     "output_type": "execute_result"
    }
   ],
   "source": [
    "pd.MultiIndex.from_product([[0,1,2],['A','B'], [1,2,3]])"
   ]
  },
  {
   "cell_type": "code",
   "execution_count": 165,
   "metadata": {},
   "outputs": [],
   "source": [
    "# 첫번째 계층\n",
    "a = list(map(set, tmp.values.T))[0]"
   ]
  },
  {
   "cell_type": "code",
   "execution_count": 166,
   "metadata": {},
   "outputs": [],
   "source": [
    "# 두번째 계층\n",
    "b = list(map(set, tmp.values.T))[1]"
   ]
  },
  {
   "cell_type": "code",
   "execution_count": 167,
   "metadata": {
    "scrolled": true
   },
   "outputs": [],
   "source": [
    "# 세번째 계층\n",
    "c = list(map(set, tmp.values.T))[2]"
   ]
  },
  {
   "cell_type": "code",
   "execution_count": 168,
   "metadata": {},
   "outputs": [],
   "source": [
    "multi = pd.MultiIndex.from_product(list(map(set, tmp.values.T)))"
   ]
  },
  {
   "cell_type": "code",
   "execution_count": 169,
   "metadata": {},
   "outputs": [
    {
     "data": {
      "text/plain": [
       "CUST_ID  ACCI_DVSN  DMND_RESN_CODE\n",
       "1        3          3                 4\n",
       "2        3          3                 3\n",
       "3        2          2                 1\n",
       "4        1          6                 9\n",
       "5        2          2                 1\n",
       "dtype: int64"
      ]
     },
     "execution_count": 169,
     "metadata": {},
     "output_type": "execute_result"
    }
   ],
   "source": [
    "cross_table.head()"
   ]
  },
  {
   "cell_type": "code",
   "execution_count": 170,
   "metadata": {},
   "outputs": [],
   "source": [
    "cross_table2 = cross_table.reindex(multi, fill_value=0)"
   ]
  },
  {
   "cell_type": "code",
   "execution_count": 171,
   "metadata": {},
   "outputs": [],
   "source": [
    "cross_table3 = cross_table2.unstack([1,2])"
   ]
  },
  {
   "cell_type": "code",
   "execution_count": 172,
   "metadata": {},
   "outputs": [],
   "source": [
    "cols = []\n",
    "for x,y in cross_table3.columns:\n",
    "    cols.append('{}_{}'.format(x,y))"
   ]
  },
  {
   "cell_type": "code",
   "execution_count": 173,
   "metadata": {},
   "outputs": [
    {
     "data": {
      "text/plain": [
       "['1_1',\n",
       " '1_2',\n",
       " '1_3',\n",
       " '1_4',\n",
       " '1_5',\n",
       " '1_6',\n",
       " '1_7',\n",
       " '1_9',\n",
       " '2_1',\n",
       " '2_2',\n",
       " '2_3',\n",
       " '2_4',\n",
       " '2_5',\n",
       " '2_6',\n",
       " '2_7',\n",
       " '2_9',\n",
       " '3_1',\n",
       " '3_2',\n",
       " '3_3',\n",
       " '3_4',\n",
       " '3_5',\n",
       " '3_6',\n",
       " '3_7',\n",
       " '3_9']"
      ]
     },
     "execution_count": 173,
     "metadata": {},
     "output_type": "execute_result"
    }
   ],
   "source": [
    "cols"
   ]
  },
  {
   "cell_type": "code",
   "execution_count": 174,
   "metadata": {},
   "outputs": [],
   "source": [
    "cross_table3.columns = cols"
   ]
  },
  {
   "cell_type": "code",
   "execution_count": 175,
   "metadata": {},
   "outputs": [],
   "source": [
    "cross_table3 = cross_table3.reset_index()"
   ]
  },
  {
   "cell_type": "code",
   "execution_count": 176,
   "metadata": {},
   "outputs": [],
   "source": [
    "cross_table3.rename({'index':'CUST_ID'}, axis=1, inplace=True)"
   ]
  },
  {
   "cell_type": "code",
   "execution_count": 177,
   "metadata": {},
   "outputs": [
    {
     "data": {
      "text/html": [
       "<div>\n",
       "<style scoped>\n",
       "    .dataframe tbody tr th:only-of-type {\n",
       "        vertical-align: middle;\n",
       "    }\n",
       "\n",
       "    .dataframe tbody tr th {\n",
       "        vertical-align: top;\n",
       "    }\n",
       "\n",
       "    .dataframe thead th {\n",
       "        text-align: right;\n",
       "    }\n",
       "</style>\n",
       "<table border=\"1\" class=\"dataframe\">\n",
       "  <thead>\n",
       "    <tr style=\"text-align: right;\">\n",
       "      <th></th>\n",
       "      <th>CUST_ID</th>\n",
       "      <th>1_1</th>\n",
       "      <th>1_2</th>\n",
       "      <th>1_3</th>\n",
       "      <th>1_4</th>\n",
       "      <th>1_5</th>\n",
       "      <th>1_6</th>\n",
       "      <th>1_7</th>\n",
       "      <th>1_9</th>\n",
       "      <th>2_1</th>\n",
       "      <th>2_2</th>\n",
       "      <th>2_3</th>\n",
       "      <th>2_4</th>\n",
       "      <th>2_5</th>\n",
       "      <th>2_6</th>\n",
       "      <th>2_7</th>\n",
       "      <th>2_9</th>\n",
       "      <th>3_1</th>\n",
       "      <th>3_2</th>\n",
       "      <th>3_3</th>\n",
       "      <th>3_4</th>\n",
       "      <th>3_5</th>\n",
       "      <th>3_6</th>\n",
       "      <th>3_7</th>\n",
       "      <th>3_9</th>\n",
       "    </tr>\n",
       "  </thead>\n",
       "  <tbody>\n",
       "    <tr>\n",
       "      <th>0</th>\n",
       "      <td>1</td>\n",
       "      <td>0</td>\n",
       "      <td>0</td>\n",
       "      <td>0</td>\n",
       "      <td>0</td>\n",
       "      <td>0</td>\n",
       "      <td>0</td>\n",
       "      <td>0</td>\n",
       "      <td>0</td>\n",
       "      <td>0</td>\n",
       "      <td>0</td>\n",
       "      <td>0</td>\n",
       "      <td>0</td>\n",
       "      <td>0</td>\n",
       "      <td>0</td>\n",
       "      <td>0</td>\n",
       "      <td>0</td>\n",
       "      <td>0</td>\n",
       "      <td>0</td>\n",
       "      <td>4</td>\n",
       "      <td>0</td>\n",
       "      <td>0</td>\n",
       "      <td>0</td>\n",
       "      <td>0</td>\n",
       "      <td>0</td>\n",
       "    </tr>\n",
       "    <tr>\n",
       "      <th>1</th>\n",
       "      <td>2</td>\n",
       "      <td>0</td>\n",
       "      <td>0</td>\n",
       "      <td>0</td>\n",
       "      <td>0</td>\n",
       "      <td>0</td>\n",
       "      <td>0</td>\n",
       "      <td>0</td>\n",
       "      <td>0</td>\n",
       "      <td>0</td>\n",
       "      <td>0</td>\n",
       "      <td>0</td>\n",
       "      <td>0</td>\n",
       "      <td>0</td>\n",
       "      <td>0</td>\n",
       "      <td>0</td>\n",
       "      <td>0</td>\n",
       "      <td>0</td>\n",
       "      <td>0</td>\n",
       "      <td>3</td>\n",
       "      <td>0</td>\n",
       "      <td>0</td>\n",
       "      <td>0</td>\n",
       "      <td>0</td>\n",
       "      <td>0</td>\n",
       "    </tr>\n",
       "  </tbody>\n",
       "</table>\n",
       "</div>"
      ],
      "text/plain": [
       "   CUST_ID  1_1  1_2  1_3  1_4  1_5  1_6  1_7  1_9  2_1  2_2  2_3  2_4  2_5  \\\n",
       "0        1    0    0    0    0    0    0    0    0    0    0    0    0    0   \n",
       "1        2    0    0    0    0    0    0    0    0    0    0    0    0    0   \n",
       "\n",
       "   2_6  2_7  2_9  3_1  3_2  3_3  3_4  3_5  3_6  3_7  3_9  \n",
       "0    0    0    0    0    0    4    0    0    0    0    0  \n",
       "1    0    0    0    0    0    3    0    0    0    0    0  "
      ]
     },
     "execution_count": 177,
     "metadata": {},
     "output_type": "execute_result"
    }
   ],
   "source": [
    "cross_table3.head(2)"
   ]
  },
  {
   "cell_type": "code",
   "execution_count": 178,
   "metadata": {},
   "outputs": [],
   "source": [
    "cust_data1 = cust_data1.merge(cross_table3)"
   ]
  },
  {
   "cell_type": "code",
   "execution_count": 179,
   "metadata": {},
   "outputs": [
    {
     "data": {
      "text/plain": [
       "Index(['CUST_ID', 'DIVIDED_SET', 'SIU_CUST_YN', 'SEX', 'AGE', 'RESI_COST',\n",
       "       'RESI_TYPE_CODE', 'FP_CAREER', 'CUST_RGST', 'CTPR', 'OCCP_GRP_1',\n",
       "       'OCCP_GRP_2', 'TOTALPREM', 'MINCRDT', 'MAXCRDT', 'WEDD_YN',\n",
       "       'MATE_OCCP_GRP_1', 'MATE_OCCP_GRP_2', 'CHLD_CNT', 'LTBN_CHLD_AGE',\n",
       "       'MAX_PAYM_YM', 'MAX_PRM', 'CUST_INCM', 'RCBASE_HSHD_INCM',\n",
       "       'JPBASE_HSHD_INCM', 'AGE2', 'CHLD_RANGE', 'HOSP_MEAN', '1_1', '1_2',\n",
       "       '1_3', '1_4', '1_5', '1_6', '1_7', '1_9', '2_1', '2_2', '2_3', '2_4',\n",
       "       '2_5', '2_6', '2_7', '2_9', '3_1', '3_2', '3_3', '3_4', '3_5', '3_6',\n",
       "       '3_7', '3_9'],\n",
       "      dtype='object')"
      ]
     },
     "execution_count": 179,
     "metadata": {},
     "output_type": "execute_result"
    }
   ],
   "source": [
    "cust_data1.columns"
   ]
  },
  {
   "cell_type": "code",
   "execution_count": 180,
   "metadata": {},
   "outputs": [
    {
     "data": {
      "text/plain": [
       "CUST_ID                 0\n",
       "DIVIDED_SET             0\n",
       "SIU_CUST_YN          1793\n",
       "SEX                     0\n",
       "AGE                     0\n",
       "RESI_COST               0\n",
       "RESI_TYPE_CODE          0\n",
       "FP_CAREER               0\n",
       "CUST_RGST             456\n",
       "CTPR                    0\n",
       "OCCP_GRP_1              0\n",
       "OCCP_GRP_2            595\n",
       "TOTALPREM               0\n",
       "MINCRDT                 0\n",
       "MAXCRDT                 0\n",
       "WEDD_YN                 0\n",
       "MATE_OCCP_GRP_1     11827\n",
       "MATE_OCCP_GRP_2     11827\n",
       "CHLD_CNT                0\n",
       "LTBN_CHLD_AGE           0\n",
       "MAX_PAYM_YM          6486\n",
       "MAX_PRM              6486\n",
       "CUST_INCM               0\n",
       "RCBASE_HSHD_INCM        0\n",
       "JPBASE_HSHD_INCM      680\n",
       "AGE2                    0\n",
       "CHLD_RANGE              0\n",
       "HOSP_MEAN               0\n",
       "1_1                     0\n",
       "1_2                     0\n",
       "1_3                     0\n",
       "1_4                     0\n",
       "1_5                     0\n",
       "1_6                     0\n",
       "1_7                     0\n",
       "1_9                     0\n",
       "2_1                     0\n",
       "2_2                     0\n",
       "2_3                     0\n",
       "2_4                     0\n",
       "2_5                     0\n",
       "2_6                     0\n",
       "2_7                     0\n",
       "2_9                     0\n",
       "3_1                     0\n",
       "3_2                     0\n",
       "3_3                     0\n",
       "3_4                     0\n",
       "3_5                     0\n",
       "3_6                     0\n",
       "3_7                     0\n",
       "3_9                     0\n",
       "dtype: int64"
      ]
     },
     "execution_count": 180,
     "metadata": {},
     "output_type": "execute_result"
    }
   ],
   "source": [
    "cust_data1.isnull().sum()"
   ]
  },
  {
   "cell_type": "code",
   "execution_count": 181,
   "metadata": {},
   "outputs": [
    {
     "data": {
      "text/plain": [
       "Index(['CUST_ID', 'DIVIDED_SET', 'SIU_CUST_YN', 'SEX', 'AGE', 'RESI_COST',\n",
       "       'RESI_TYPE_CODE', 'FP_CAREER', 'CUST_RGST', 'CTPR', 'OCCP_GRP_1',\n",
       "       'OCCP_GRP_2', 'TOTALPREM', 'MINCRDT', 'MAXCRDT', 'WEDD_YN',\n",
       "       'MATE_OCCP_GRP_1', 'MATE_OCCP_GRP_2', 'CHLD_CNT', 'LTBN_CHLD_AGE',\n",
       "       'MAX_PAYM_YM', 'MAX_PRM', 'CUST_INCM', 'RCBASE_HSHD_INCM',\n",
       "       'JPBASE_HSHD_INCM', 'AGE2', 'CHLD_RANGE', 'HOSP_MEAN', '1_1', '1_2',\n",
       "       '1_3', '1_4', '1_5', '1_6', '1_7', '1_9', '2_1', '2_2', '2_3', '2_4',\n",
       "       '2_5', '2_6', '2_7', '2_9', '3_1', '3_2', '3_3', '3_4', '3_5', '3_6',\n",
       "       '3_7', '3_9'],\n",
       "      dtype='object')"
      ]
     },
     "execution_count": 181,
     "metadata": {},
     "output_type": "execute_result"
    }
   ],
   "source": [
    "cust_data1.columns"
   ]
  },
  {
   "cell_type": "code",
   "execution_count": 182,
   "metadata": {},
   "outputs": [
    {
     "data": {
      "text/plain": [
       "N    18801\n",
       "Y     1806\n",
       "Name: SIU_CUST_YN, dtype: int64"
      ]
     },
     "execution_count": 182,
     "metadata": {},
     "output_type": "execute_result"
    }
   ],
   "source": [
    "cust_data1['SIU_CUST_YN'].value_counts()"
   ]
  },
  {
   "cell_type": "code",
   "execution_count": 183,
   "metadata": {},
   "outputs": [],
   "source": [
    "# 범주형 변수 데이터 탐색\n",
    "# 사기자 VS 일반인 사이의 분포 차이 비교를 위한 탐색\n",
    "# 1. 연령대 : AGE2\n",
    "fraud_age = cust_data1[cust_data1['SIU_CUST_YN']=='Y']['AGE2']"
   ]
  },
  {
   "cell_type": "code",
   "execution_count": 184,
   "metadata": {},
   "outputs": [
    {
     "data": {
      "text/plain": [
       "<matplotlib.axes._subplots.AxesSubplot at 0x15e98091fd0>"
      ]
     },
     "execution_count": 184,
     "metadata": {},
     "output_type": "execute_result"
    },
    {
     "data": {
      "image/png": "[encoded data removed]",
      "text/plain": [
       "<Figure size 432x288 with 1 Axes>"
      ]
     },
     "metadata": {
      "needs_background": "light"
     },
     "output_type": "display_data"
    }
   ],
   "source": [
    "fraud_age.value_counts().plot(kind='bar')"
   ]
  },
  {
   "cell_type": "code",
   "execution_count": 185,
   "metadata": {},
   "outputs": [],
   "source": [
    "f = fraud_age.value_counts()"
   ]
  },
  {
   "cell_type": "code",
   "execution_count": 186,
   "metadata": {},
   "outputs": [
    {
     "data": {
      "text/plain": [
       "Text(0.5, 1.0, '사기자')"
      ]
     },
     "execution_count": 186,
     "metadata": {},
     "output_type": "execute_result"
    },
    {
     "data": {
      "image/png": "[encoded data removed]",
      "text/plain": [
       "<Figure size 432x288 with 1 Axes>"
      ]
     },
     "metadata": {},
     "output_type": "display_data"
    }
   ],
   "source": [
    "fraud_age.value_counts().plot(kind='pie')\n",
    "plt.ylabel('')\n",
    "plt.title('사기자')"
   ]
  },
  {
   "cell_type": "code",
   "execution_count": 187,
   "metadata": {},
   "outputs": [],
   "source": [
    "general_age = cust_data1[cust_data1['SIU_CUST_YN']=='N']['AGE2']"
   ]
  },
  {
   "cell_type": "code",
   "execution_count": 188,
   "metadata": {},
   "outputs": [],
   "source": [
    "g = general_age.value_counts()"
   ]
  },
  {
   "cell_type": "code",
   "execution_count": 189,
   "metadata": {},
   "outputs": [],
   "source": [
    "tmp = pd.concat([f,g],axis=1)"
   ]
  },
  {
   "cell_type": "code",
   "execution_count": 190,
   "metadata": {},
   "outputs": [
    {
     "data": {
      "text/html": [
       "<div>\n",
       "<style scoped>\n",
       "    .dataframe tbody tr th:only-of-type {\n",
       "        vertical-align: middle;\n",
       "    }\n",
       "\n",
       "    .dataframe tbody tr th {\n",
       "        vertical-align: top;\n",
       "    }\n",
       "\n",
       "    .dataframe thead th {\n",
       "        text-align: right;\n",
       "    }\n",
       "</style>\n",
       "<table border=\"1\" class=\"dataframe\">\n",
       "  <thead>\n",
       "    <tr style=\"text-align: right;\">\n",
       "      <th></th>\n",
       "      <th>사기자</th>\n",
       "      <th>일반인</th>\n",
       "    </tr>\n",
       "  </thead>\n",
       "  <tbody>\n",
       "    <tr>\n",
       "      <th>C</th>\n",
       "      <td>951</td>\n",
       "      <td>8574</td>\n",
       "    </tr>\n",
       "    <tr>\n",
       "      <th>B</th>\n",
       "      <td>465</td>\n",
       "      <td>5289</td>\n",
       "    </tr>\n",
       "    <tr>\n",
       "      <th>D</th>\n",
       "      <td>361</td>\n",
       "      <td>3661</td>\n",
       "    </tr>\n",
       "    <tr>\n",
       "      <th>A</th>\n",
       "      <td>29</td>\n",
       "      <td>1277</td>\n",
       "    </tr>\n",
       "  </tbody>\n",
       "</table>\n",
       "</div>"
      ],
      "text/plain": [
       "   사기자   일반인\n",
       "C  951  8574\n",
       "B  465  5289\n",
       "D  361  3661\n",
       "A   29  1277"
      ]
     },
     "execution_count": 190,
     "metadata": {},
     "output_type": "execute_result"
    }
   ],
   "source": [
    "tmp.columns = ['사기자', '일반인']\n",
    "tmp"
   ]
  },
  {
   "cell_type": "code",
   "execution_count": 191,
   "metadata": {},
   "outputs": [
    {
     "data": {
      "text/plain": [
       "Text(0.5, 1.0, '일반인')"
      ]
     },
     "execution_count": 191,
     "metadata": {},
     "output_type": "execute_result"
    },
    {
     "data": {
      "image/png": "[encoded data removed]",
      "text/plain": [
       "<Figure size 432x288 with 1 Axes>"
      ]
     },
     "metadata": {},
     "output_type": "display_data"
    }
   ],
   "source": [
    "g.plot(kind='pie')\n",
    "plt.ylabel('')\n",
    "plt.title('일반인')"
   ]
  },
  {
   "cell_type": "code",
   "execution_count": 193,
   "metadata": {},
   "outputs": [
    {
     "data": {
      "text/plain": [
       "2    1155\n",
       "1     651\n",
       "Name: SEX, dtype: int64"
      ]
     },
     "execution_count": 193,
     "metadata": {},
     "output_type": "execute_result"
    }
   ],
   "source": [
    "# 2. 성별 : SEX\n",
    "cust_data1[cust_data1['SIU_CUST_YN']=='Y']['SEX'].value_counts()"
   ]
  },
  {
   "cell_type": "code",
   "execution_count": 194,
   "metadata": {},
   "outputs": [
    {
     "data": {
      "text/plain": [
       "<matplotlib.axes._subplots.AxesSubplot at 0x15e980cb048>"
      ]
     },
     "execution_count": 194,
     "metadata": {},
     "output_type": "execute_result"
    },
    {
     "data": {
      "image/png": "[encoded data removed]",
      "text/plain": [
       "<Figure size 432x288 with 1 Axes>"
      ]
     },
     "metadata": {},
     "output_type": "display_data"
    }
   ],
   "source": [
    "cust_data1[cust_data1['SIU_CUST_YN']=='Y']['SEX'].value_counts().plot(kind='pie')"
   ]
  },
  {
   "cell_type": "code",
   "execution_count": 195,
   "metadata": {},
   "outputs": [
    {
     "data": {
      "text/plain": [
       "<matplotlib.axes._subplots.AxesSubplot at 0x15e980e5320>"
      ]
     },
     "execution_count": 195,
     "metadata": {},
     "output_type": "execute_result"
    },
    {
     "data": {
      "image/png": "[encoded data removed]",
      "text/plain": [
       "<Figure size 432x288 with 1 Axes>"
      ]
     },
     "metadata": {},
     "output_type": "display_data"
    }
   ],
   "source": [
    "cust_data1[cust_data1['SIU_CUST_YN']=='N']['SEX'].value_counts().plot(kind='pie')"
   ]
  },
  {
   "cell_type": "code",
   "execution_count": 196,
   "metadata": {},
   "outputs": [
    {
     "data": {
      "text/plain": [
       "2    12659\n",
       "1     9741\n",
       "Name: SEX, dtype: int64"
      ]
     },
     "execution_count": 196,
     "metadata": {},
     "output_type": "execute_result"
    }
   ],
   "source": [
    "# 2:여자\n",
    "cust_data1['SEX'].value_counts()"
   ]
  },
  {
   "cell_type": "code",
   "execution_count": 197,
   "metadata": {
    "scrolled": true
   },
   "outputs": [
    {
     "data": {
      "text/plain": [
       "CUST_ID                 0\n",
       "DIVIDED_SET             0\n",
       "SIU_CUST_YN          1793\n",
       "SEX                     0\n",
       "AGE                     0\n",
       "RESI_COST               0\n",
       "RESI_TYPE_CODE          0\n",
       "FP_CAREER               0\n",
       "CUST_RGST             456\n",
       "CTPR                    0\n",
       "OCCP_GRP_1              0\n",
       "OCCP_GRP_2            595\n",
       "TOTALPREM               0\n",
       "MINCRDT                 0\n",
       "MAXCRDT                 0\n",
       "WEDD_YN                 0\n",
       "MATE_OCCP_GRP_1     11827\n",
       "MATE_OCCP_GRP_2     11827\n",
       "CHLD_CNT                0\n",
       "LTBN_CHLD_AGE           0\n",
       "MAX_PAYM_YM          6486\n",
       "MAX_PRM              6486\n",
       "CUST_INCM               0\n",
       "RCBASE_HSHD_INCM        0\n",
       "JPBASE_HSHD_INCM      680\n",
       "AGE2                    0\n",
       "CHLD_RANGE              0\n",
       "HOSP_MEAN               0\n",
       "1_1                     0\n",
       "1_2                     0\n",
       "1_3                     0\n",
       "1_4                     0\n",
       "1_5                     0\n",
       "1_6                     0\n",
       "1_7                     0\n",
       "1_9                     0\n",
       "2_1                     0\n",
       "2_2                     0\n",
       "2_3                     0\n",
       "2_4                     0\n",
       "2_5                     0\n",
       "2_6                     0\n",
       "2_7                     0\n",
       "2_9                     0\n",
       "3_1                     0\n",
       "3_2                     0\n",
       "3_3                     0\n",
       "3_4                     0\n",
       "3_5                     0\n",
       "3_6                     0\n",
       "3_7                     0\n",
       "3_9                     0\n",
       "dtype: int64"
      ]
     },
     "execution_count": 197,
     "metadata": {},
     "output_type": "execute_result"
    }
   ],
   "source": [
    "cust_data1.isnull().sum()"
   ]
  },
  {
   "cell_type": "code",
   "execution_count": 198,
   "metadata": {
    "scrolled": false
   },
   "outputs": [
    {
     "data": {
      "text/plain": [
       "2_7    0.0\n",
       "2_9    0.0\n",
       "Name: std, dtype: float64"
      ]
     },
     "execution_count": 198,
     "metadata": {},
     "output_type": "execute_result"
    }
   ],
   "source": [
    "# 연속형 데이터 컬럼의 분산이 0인 컬럼은 제거\n",
    "cust_data1.describe().loc['std'][cust_data1.describe().loc['std'] == 0]"
   ]
  },
  {
   "cell_type": "code",
   "execution_count": 199,
   "metadata": {
    "collapsed": true
   },
   "outputs": [
    {
     "data": {
      "text/plain": [
       "2_7    0.0\n",
       "2_9    0.0\n",
       "dtype: float64"
      ]
     },
     "execution_count": 199,
     "metadata": {},
     "output_type": "execute_result"
    }
   ],
   "source": [
    "# np.nanvar()\n",
    "cust_data1._get_numeric_data().apply(lambda x: np.nanvar(x))[cust_data1._get_numeric_data().apply(lambda x: np.nanvar(x)) == 0]"
   ]
  },
  {
   "cell_type": "code",
   "execution_count": 200,
   "metadata": {},
   "outputs": [
    {
     "data": {
      "text/plain": [
       "Index(['CUST_ID', 'DIVIDED_SET', 'SIU_CUST_YN', 'SEX', 'AGE', 'RESI_COST',\n",
       "       'RESI_TYPE_CODE', 'FP_CAREER', 'CUST_RGST', 'CTPR', 'OCCP_GRP_1',\n",
       "       'OCCP_GRP_2', 'TOTALPREM', 'MINCRDT', 'MAXCRDT', 'WEDD_YN',\n",
       "       'MATE_OCCP_GRP_1', 'MATE_OCCP_GRP_2', 'CHLD_CNT', 'LTBN_CHLD_AGE',\n",
       "       'MAX_PAYM_YM', 'MAX_PRM', 'CUST_INCM', 'RCBASE_HSHD_INCM',\n",
       "       'JPBASE_HSHD_INCM', 'AGE2', 'CHLD_RANGE', 'HOSP_MEAN', '1_1', '1_2',\n",
       "       '1_3', '1_4', '1_5', '1_6', '1_7', '1_9', '2_1', '2_2', '2_3', '2_4',\n",
       "       '2_5', '2_6', '2_7', '2_9', '3_1', '3_2', '3_3', '3_4', '3_5', '3_6',\n",
       "       '3_7', '3_9'],\n",
       "      dtype='object')"
      ]
     },
     "execution_count": 200,
     "metadata": {},
     "output_type": "execute_result"
    }
   ],
   "source": [
    "cust_data1.columns"
   ]
  },
  {
   "cell_type": "code",
   "execution_count": 201,
   "metadata": {},
   "outputs": [],
   "source": [
    "cust_data1.drop(['2_7', '2_9'], axis=1, inplace=True)"
   ]
  },
  {
   "cell_type": "code",
   "execution_count": 202,
   "metadata": {},
   "outputs": [],
   "source": [
    "# DIVIDED_SET "
   ]
  },
  {
   "cell_type": "code",
   "execution_count": 203,
   "metadata": {},
   "outputs": [],
   "source": [
    "# MAX_PAYM_YM, MAX_PRM, MATE_OCCP_GRP_1, CUST_RGST, \n",
    "# JPBASE_HSHD_INCM, OCCP_GRP_2, MATE_OCCP_GRP_2, MAXCRDT \n",
    "# CHLD_RANGE, LTBN_CHLD_AGE\n",
    "\n",
    "# MAX_PAYM_YM, MAX_PRM, MATE_OCCP_GRP_1, CUST_RGST, \n",
    "# JPBASE_HSHD_INCM, OCCP_GRP_2, MATE_OCCP_GRP_2, MAXCRDT \n",
    "# CHLD_RANGE, LTBN_CHLD_AGE \n",
    "final_cust = cust_data1.drop(['MAX_PAYM_YM', 'MAX_PRM', 'MATE_OCCP_GRP_1', 'CUST_RGST', \n",
    "'JPBASE_HSHD_INCM', 'OCCP_GRP_2', 'MATE_OCCP_GRP_2', 'MAXCRDT' ,\n",
    "'CHLD_RANGE', 'LTBN_CHLD_AGE'], axis=1).copy()"
   ]
  },
  {
   "cell_type": "code",
   "execution_count": 204,
   "metadata": {},
   "outputs": [],
   "source": [
    "# final_cust.drop('CUST_ID')"
   ]
  },
  {
   "cell_type": "code",
   "execution_count": 205,
   "metadata": {
    "collapsed": true
   },
   "outputs": [
    {
     "name": "stdout",
     "output_type": "stream",
     "text": [
      "<class 'pandas.core.frame.DataFrame'>\n",
      "Int64Index: 22400 entries, 0 to 22399\n",
      "Data columns (total 40 columns):\n",
      "CUST_ID             22400 non-null int64\n",
      "DIVIDED_SET         22400 non-null int64\n",
      "SIU_CUST_YN         20607 non-null object\n",
      "SEX                 22400 non-null int64\n",
      "AGE                 22400 non-null int64\n",
      "RESI_COST           22400 non-null int64\n",
      "RESI_TYPE_CODE      22400 non-null float64\n",
      "FP_CAREER           22400 non-null object\n",
      "CTPR                22400 non-null object\n",
      "OCCP_GRP_1          22400 non-null object\n",
      "TOTALPREM           22400 non-null float64\n",
      "MINCRDT             22400 non-null float64\n",
      "WEDD_YN             22400 non-null object\n",
      "CHLD_CNT            22400 non-null float64\n",
      "CUST_INCM           22400 non-null float64\n",
      "RCBASE_HSHD_INCM    22400 non-null int64\n",
      "AGE2                22400 non-null object\n",
      "HOSP_MEAN           22400 non-null float64\n",
      "1_1                 22400 non-null int64\n",
      "1_2                 22400 non-null int64\n",
      "1_3                 22400 non-null int64\n",
      "1_4                 22400 non-null int64\n",
      "1_5                 22400 non-null int64\n",
      "1_6                 22400 non-null int64\n",
      "1_7                 22400 non-null int64\n",
      "1_9                 22400 non-null int64\n",
      "2_1                 22400 non-null int64\n",
      "2_2                 22400 non-null int64\n",
      "2_3                 22400 non-null int64\n",
      "2_4                 22400 non-null int64\n",
      "2_5                 22400 non-null int64\n",
      "2_6                 22400 non-null int64\n",
      "3_1                 22400 non-null int64\n",
      "3_2                 22400 non-null int64\n",
      "3_3                 22400 non-null int64\n",
      "3_4                 22400 non-null int64\n",
      "3_5                 22400 non-null int64\n",
      "3_6                 22400 non-null int64\n",
      "3_7                 22400 non-null int64\n",
      "3_9                 22400 non-null int64\n",
      "dtypes: float64(6), int64(28), object(6)\n",
      "memory usage: 7.0+ MB\n"
     ]
    }
   ],
   "source": [
    "final_cust.info()"
   ]
  },
  {
   "cell_type": "code",
   "execution_count": 206,
   "metadata": {},
   "outputs": [],
   "source": [
    "final_cust.drop('CTPR', axis=1, inplace=True)"
   ]
  },
  {
   "cell_type": "code",
   "execution_count": 207,
   "metadata": {},
   "outputs": [],
   "source": [
    "# 범주형 변수 전처리\n",
    "# 학습(독립,종속), 평가(독립,종속) 데이터 분리\n",
    "# sex\n",
    "# resi_type_code\n",
    "# occp_grp_1\n",
    "# wedd_yn\n",
    "# age2"
   ]
  },
  {
   "cell_type": "code",
   "execution_count": 208,
   "metadata": {},
   "outputs": [],
   "source": [
    "from sklearn.preprocessing import OneHotEncoder"
   ]
  },
  {
   "cell_type": "code",
   "execution_count": 209,
   "metadata": {},
   "outputs": [],
   "source": [
    "def ohe_trans(df, col):\n",
    "    ohe = OneHotEncoder()\n",
    "    x = ohe.fit_transform(df[col].values.reshape(-1,1)).toarray()\n",
    "    tmp = []\n",
    "    for i in range(df[col].unique().size):\n",
    "        tmp.append(col[0]+str(i))\n",
    "        \n",
    "    ohe_df = pd.DataFrame(x, columns=tmp)\n",
    "    return ohe_df    "
   ]
  },
  {
   "cell_type": "code",
   "execution_count": 210,
   "metadata": {},
   "outputs": [
    {
     "name": "stderr",
     "output_type": "stream",
     "text": [
      "C:\\Users\\winst\\Anaconda3\\lib\\site-packages\\sklearn\\preprocessing\\_encoders.py:368: FutureWarning: The handling of integer data will change in version 0.22. Currently, the categories are determined based on the range [0, max(values)], while in the future they will be determined based on the unique values.\n",
      "If you want the future behaviour and silence this warning, you can specify \"categories='auto'\".\n",
      "In case you used a LabelEncoder before this OneHotEncoder to convert the categories to integers, then you can now use the OneHotEncoder directly.\n",
      "  warnings.warn(msg, FutureWarning)\n",
      "C:\\Users\\winst\\Anaconda3\\lib\\site-packages\\sklearn\\preprocessing\\_encoders.py:368: FutureWarning: The handling of integer data will change in version 0.22. Currently, the categories are determined based on the range [0, max(values)], while in the future they will be determined based on the unique values.\n",
      "If you want the future behaviour and silence this warning, you can specify \"categories='auto'\".\n",
      "In case you used a LabelEncoder before this OneHotEncoder to convert the categories to integers, then you can now use the OneHotEncoder directly.\n",
      "  warnings.warn(msg, FutureWarning)\n"
     ]
    }
   ],
   "source": [
    "# sex\n",
    "sex_df = ohe_trans(cust_data1, 'SEX')\n",
    "# resi_type_code\n",
    "resi_df = ohe_trans(cust_data1, 'RESI_TYPE_CODE')\n",
    "# occp_grp_1\n",
    "occp_df = ohe_trans(cust_data1, 'OCCP_GRP_1')\n",
    "# wedd_yn\n",
    "wedd_df = ohe_trans(cust_data1, 'WEDD_YN')\n",
    "# age2\n",
    "age_df = ohe_trans(cust_data1, 'AGE2')"
   ]
  },
  {
   "cell_type": "code",
   "execution_count": 229,
   "metadata": {},
   "outputs": [],
   "source": [
    "# FP_CARRER\n",
    "fp_df=ohe_trans(cust_data1, 'FP_CAREER')"
   ]
  },
  {
   "cell_type": "code",
   "execution_count": 230,
   "metadata": {},
   "outputs": [],
   "source": [
    "tmp = pd.concat([cust_data1, sex_df, resi_df, occp_df, wedd_df, age_df,fp_df], axis=1)"
   ]
  },
  {
   "cell_type": "code",
   "execution_count": 231,
   "metadata": {},
   "outputs": [],
   "source": [
    "tmp.drop(['SEX', 'OCCP_GRP_1', 'RESI_TYPE_CODE', 'WEDD_YN', 'AGE2','AGE'],\n",
    "         axis=1, inplace=True)"
   ]
  },
  {
   "cell_type": "code",
   "execution_count": 246,
   "metadata": {
    "collapsed": true
   },
   "outputs": [
    {
     "ename": "KeyError",
     "evalue": "\"['CHLD_CNT' 'LTBN_CHLD_AGE' 'CHLD_RANGE' 'CUST_RGST' 'CTPR' 'OCCP_GRP_2'\\n 'MAXCRDT' 'MATE_OCCP_GRP_1' 'MATE_OCCP_GRP_2MAX_PAYM_YM' 'MAX_PRM'] not found in axis\"",
     "output_type": "error",
     "traceback": [
      "\u001b[1;31m---------------------------------------------------------------------------\u001b[0m",
      "\u001b[1;31mKeyError\u001b[0m                                  Traceback (most recent call last)",
      "\u001b[1;32m<ipython-input-246-a8b1b37ebb3c>\u001b[0m in \u001b[0;36m<module>\u001b[1;34m\u001b[0m\n\u001b[0;32m      9\u001b[0m \u001b[1;34m'MATE_OCCP_GRP_1'\u001b[0m\u001b[1;33m,\u001b[0m\u001b[1;33m\u001b[0m\u001b[1;33m\u001b[0m\u001b[0m\n\u001b[0;32m     10\u001b[0m \u001b[1;34m'MATE_OCCP_GRP_2'\u001b[0m\u001b[1;33m\u001b[0m\u001b[1;33m\u001b[0m\u001b[0m\n\u001b[1;32m---> 11\u001b[1;33m 'MAX_PAYM_YM', 'MAX_PRM'],axis=1,inplace=True)\n\u001b[0m",
      "\u001b[1;32m~\\Anaconda3\\lib\\site-packages\\pandas\\core\\frame.py\u001b[0m in \u001b[0;36mdrop\u001b[1;34m(self, labels, axis, index, columns, level, inplace, errors)\u001b[0m\n\u001b[0;32m   3695\u001b[0m                                            \u001b[0mindex\u001b[0m\u001b[1;33m=\u001b[0m\u001b[0mindex\u001b[0m\u001b[1;33m,\u001b[0m \u001b[0mcolumns\u001b[0m\u001b[1;33m=\u001b[0m\u001b[0mcolumns\u001b[0m\u001b[1;33m,\u001b[0m\u001b[1;33m\u001b[0m\u001b[1;33m\u001b[0m\u001b[0m\n\u001b[0;32m   3696\u001b[0m                                            \u001b[0mlevel\u001b[0m\u001b[1;33m=\u001b[0m\u001b[0mlevel\u001b[0m\u001b[1;33m,\u001b[0m \u001b[0minplace\u001b[0m\u001b[1;33m=\u001b[0m\u001b[0minplace\u001b[0m\u001b[1;33m,\u001b[0m\u001b[1;33m\u001b[0m\u001b[1;33m\u001b[0m\u001b[0m\n\u001b[1;32m-> 3697\u001b[1;33m                                            errors=errors)\n\u001b[0m\u001b[0;32m   3698\u001b[0m \u001b[1;33m\u001b[0m\u001b[0m\n\u001b[0;32m   3699\u001b[0m     @rewrite_axis_style_signature('mapper', [('copy', True),\n",
      "\u001b[1;32m~\\Anaconda3\\lib\\site-packages\\pandas\\core\\generic.py\u001b[0m in \u001b[0;36mdrop\u001b[1;34m(self, labels, axis, index, columns, level, inplace, errors)\u001b[0m\n\u001b[0;32m   3109\u001b[0m         \u001b[1;32mfor\u001b[0m \u001b[0maxis\u001b[0m\u001b[1;33m,\u001b[0m \u001b[0mlabels\u001b[0m \u001b[1;32min\u001b[0m \u001b[0maxes\u001b[0m\u001b[1;33m.\u001b[0m\u001b[0mitems\u001b[0m\u001b[1;33m(\u001b[0m\u001b[1;33m)\u001b[0m\u001b[1;33m:\u001b[0m\u001b[1;33m\u001b[0m\u001b[1;33m\u001b[0m\u001b[0m\n\u001b[0;32m   3110\u001b[0m             \u001b[1;32mif\u001b[0m \u001b[0mlabels\u001b[0m \u001b[1;32mis\u001b[0m \u001b[1;32mnot\u001b[0m \u001b[1;32mNone\u001b[0m\u001b[1;33m:\u001b[0m\u001b[1;33m\u001b[0m\u001b[1;33m\u001b[0m\u001b[0m\n\u001b[1;32m-> 3111\u001b[1;33m                 \u001b[0mobj\u001b[0m \u001b[1;33m=\u001b[0m \u001b[0mobj\u001b[0m\u001b[1;33m.\u001b[0m\u001b[0m_drop_axis\u001b[0m\u001b[1;33m(\u001b[0m\u001b[0mlabels\u001b[0m\u001b[1;33m,\u001b[0m \u001b[0maxis\u001b[0m\u001b[1;33m,\u001b[0m \u001b[0mlevel\u001b[0m\u001b[1;33m=\u001b[0m\u001b[0mlevel\u001b[0m\u001b[1;33m,\u001b[0m \u001b[0merrors\u001b[0m\u001b[1;33m=\u001b[0m\u001b[0merrors\u001b[0m\u001b[1;33m)\u001b[0m\u001b[1;33m\u001b[0m\u001b[1;33m\u001b[0m\u001b[0m\n\u001b[0m\u001b[0;32m   3112\u001b[0m \u001b[1;33m\u001b[0m\u001b[0m\n\u001b[0;32m   3113\u001b[0m         \u001b[1;32mif\u001b[0m \u001b[0minplace\u001b[0m\u001b[1;33m:\u001b[0m\u001b[1;33m\u001b[0m\u001b[1;33m\u001b[0m\u001b[0m\n",
      "\u001b[1;32m~\\Anaconda3\\lib\\site-packages\\pandas\\core\\generic.py\u001b[0m in \u001b[0;36m_drop_axis\u001b[1;34m(self, labels, axis, level, errors)\u001b[0m\n\u001b[0;32m   3141\u001b[0m                 \u001b[0mnew_axis\u001b[0m \u001b[1;33m=\u001b[0m \u001b[0maxis\u001b[0m\u001b[1;33m.\u001b[0m\u001b[0mdrop\u001b[0m\u001b[1;33m(\u001b[0m\u001b[0mlabels\u001b[0m\u001b[1;33m,\u001b[0m \u001b[0mlevel\u001b[0m\u001b[1;33m=\u001b[0m\u001b[0mlevel\u001b[0m\u001b[1;33m,\u001b[0m \u001b[0merrors\u001b[0m\u001b[1;33m=\u001b[0m\u001b[0merrors\u001b[0m\u001b[1;33m)\u001b[0m\u001b[1;33m\u001b[0m\u001b[1;33m\u001b[0m\u001b[0m\n\u001b[0;32m   3142\u001b[0m             \u001b[1;32melse\u001b[0m\u001b[1;33m:\u001b[0m\u001b[1;33m\u001b[0m\u001b[1;33m\u001b[0m\u001b[0m\n\u001b[1;32m-> 3143\u001b[1;33m                 \u001b[0mnew_axis\u001b[0m \u001b[1;33m=\u001b[0m \u001b[0maxis\u001b[0m\u001b[1;33m.\u001b[0m\u001b[0mdrop\u001b[0m\u001b[1;33m(\u001b[0m\u001b[0mlabels\u001b[0m\u001b[1;33m,\u001b[0m \u001b[0merrors\u001b[0m\u001b[1;33m=\u001b[0m\u001b[0merrors\u001b[0m\u001b[1;33m)\u001b[0m\u001b[1;33m\u001b[0m\u001b[1;33m\u001b[0m\u001b[0m\n\u001b[0m\u001b[0;32m   3144\u001b[0m             \u001b[0mresult\u001b[0m \u001b[1;33m=\u001b[0m \u001b[0mself\u001b[0m\u001b[1;33m.\u001b[0m\u001b[0mreindex\u001b[0m\u001b[1;33m(\u001b[0m\u001b[1;33m**\u001b[0m\u001b[1;33m{\u001b[0m\u001b[0maxis_name\u001b[0m\u001b[1;33m:\u001b[0m \u001b[0mnew_axis\u001b[0m\u001b[1;33m}\u001b[0m\u001b[1;33m)\u001b[0m\u001b[1;33m\u001b[0m\u001b[1;33m\u001b[0m\u001b[0m\n\u001b[0;32m   3145\u001b[0m \u001b[1;33m\u001b[0m\u001b[0m\n",
      "\u001b[1;32m~\\Anaconda3\\lib\\site-packages\\pandas\\core\\indexes\\base.py\u001b[0m in \u001b[0;36mdrop\u001b[1;34m(self, labels, errors)\u001b[0m\n\u001b[0;32m   4402\u001b[0m             \u001b[1;32mif\u001b[0m \u001b[0merrors\u001b[0m \u001b[1;33m!=\u001b[0m \u001b[1;34m'ignore'\u001b[0m\u001b[1;33m:\u001b[0m\u001b[1;33m\u001b[0m\u001b[1;33m\u001b[0m\u001b[0m\n\u001b[0;32m   4403\u001b[0m                 raise KeyError(\n\u001b[1;32m-> 4404\u001b[1;33m                     '{} not found in axis'.format(labels[mask]))\n\u001b[0m\u001b[0;32m   4405\u001b[0m             \u001b[0mindexer\u001b[0m \u001b[1;33m=\u001b[0m \u001b[0mindexer\u001b[0m\u001b[1;33m[\u001b[0m\u001b[1;33m~\u001b[0m\u001b[0mmask\u001b[0m\u001b[1;33m]\u001b[0m\u001b[1;33m\u001b[0m\u001b[1;33m\u001b[0m\u001b[0m\n\u001b[0;32m   4406\u001b[0m         \u001b[1;32mreturn\u001b[0m \u001b[0mself\u001b[0m\u001b[1;33m.\u001b[0m\u001b[0mdelete\u001b[0m\u001b[1;33m(\u001b[0m\u001b[0mindexer\u001b[0m\u001b[1;33m)\u001b[0m\u001b[1;33m\u001b[0m\u001b[1;33m\u001b[0m\u001b[0m\n",
      "\u001b[1;31mKeyError\u001b[0m: \"['CHLD_CNT' 'LTBN_CHLD_AGE' 'CHLD_RANGE' 'CUST_RGST' 'CTPR' 'OCCP_GRP_2'\\n 'MAXCRDT' 'MATE_OCCP_GRP_1' 'MATE_OCCP_GRP_2MAX_PAYM_YM' 'MAX_PRM'] not found in axis\""
     ]
    }
   ],
   "source": [
    "tmp.drop([\n",
    "'CHLD_CNT',\n",
    "'LTBN_CHLD_AGE',\n",
    "'CHLD_RANGE',\n",
    "'CUST_RGST',\n",
    "'CTPR',\n",
    "'OCCP_GRP_2',\n",
    "'MAXCRDT',\n",
    "'MATE_OCCP_GRP_1',\n",
    "'MAX_PAYM_YM', 'MAX_PRM'],axis=1,inplace=True)"
   ]
  },
  {
   "cell_type": "code",
   "execution_count": 234,
   "metadata": {
    "scrolled": true
   },
   "outputs": [
    {
     "data": {
      "text/plain": [
       "Index(['CUST_ID', 'DIVIDED_SET', 'SIU_CUST_YN', 'RESI_COST', 'FP_CAREER',\n",
       "       'TOTALPREM', 'MINCRDT', 'MATE_OCCP_GRP_2', 'CUST_INCM',\n",
       "       'RCBASE_HSHD_INCM', 'JPBASE_HSHD_INCM', 'HOSP_MEAN', '1_1', '1_2',\n",
       "       '1_3', '1_4', '1_5', '1_6', '1_7', '1_9', '2_1', '2_2', '2_3', '2_4',\n",
       "       '2_5', '2_6', '3_1', '3_2', '3_3', '3_4', '3_5', '3_6', '3_7', '3_9',\n",
       "       'S0', 'S1', 'R0', 'R1', 'R2', 'R3', 'R4', 'R5', 'R6', 'R7', 'R8', 'R9',\n",
       "       'O0', 'O1', 'O2', 'O3', 'O4', 'O5', 'O6', 'O7', 'W0', 'W1', 'A0', 'A1',\n",
       "       'A2', 'A3', 'F0', 'F1'],\n",
       "      dtype='object')"
      ]
     },
     "execution_count": 234,
     "metadata": {},
     "output_type": "execute_result"
    }
   ],
   "source": [
    "tmp.columns"
   ]
  },
  {
   "cell_type": "code",
   "execution_count": 261,
   "metadata": {},
   "outputs": [
    {
     "data": {
      "text/plain": [
       "Index(['CUST_ID', 'DIVIDED_SET', 'SIU_CUST_YN', 'RESI_COST', 'TOTALPREM',\n",
       "       'MINCRDT', 'CUST_INCM', 'RCBASE_HSHD_INCM', 'HOSP_MEAN', '1_1', '1_2',\n",
       "       '1_3', '1_4', '1_5', '1_6', '1_7', '1_9', '2_1', '2_2', '2_3', '2_4',\n",
       "       '2_5', '2_6', '3_1', '3_2', '3_3', '3_4', '3_5', '3_6', '3_7', '3_9',\n",
       "       'S0', 'S1', 'R0', 'R1', 'R2', 'R3', 'R4', 'R5', 'R6', 'R7', 'R8', 'R9',\n",
       "       'O0', 'O1', 'O2', 'O3', 'O4', 'O5', 'O6', 'O7', 'W0', 'W1', 'A0', 'A1',\n",
       "       'A2', 'A3', 'F0', 'F1'],\n",
       "      dtype='object')"
      ]
     },
     "execution_count": 261,
     "metadata": {},
     "output_type": "execute_result"
    }
   ],
   "source": [
    "# 학습, 평가 \n",
    "tmp.columns"
   ]
  },
  {
   "cell_type": "code",
   "execution_count": 262,
   "metadata": {},
   "outputs": [],
   "source": [
    "train = tmp[tmp['DIVIDED_SET'] == 1]\n",
    "test = tmp[tmp['DIVIDED_SET'] == 2]"
   ]
  },
  {
   "cell_type": "code",
   "execution_count": 263,
   "metadata": {},
   "outputs": [],
   "source": [
    "# train_x, train_y\n",
    "train_x = train.loc[:, train.columns.difference(\n",
    "    ['CUST_ID','DIVIDED_SET','SIU_CUST_YN'])]\n",
    "train_y = train['SIU_CUST_YN']"
   ]
  },
  {
   "cell_type": "code",
   "execution_count": 264,
   "metadata": {},
   "outputs": [],
   "source": [
    "# test_x, test_y\n",
    "test_x =  test.loc[:, train.columns.difference(\n",
    "    ['CUST_ID','DIVIDED_SET','SIU_CUST_YN'])]\n",
    "test_y = test[['CUST_ID','SIU_CUST_YN']]"
   ]
  },
  {
   "cell_type": "code",
   "execution_count": 265,
   "metadata": {},
   "outputs": [
    {
     "data": {
      "text/plain": [
       "Index(['1_1', '1_2', '1_3', '1_4', '1_5', '1_6', '1_7', '1_9', '2_1', '2_2',\n",
       "       '2_3', '2_4', '2_5', '2_6', '3_1', '3_2', '3_3', '3_4', '3_5', '3_6',\n",
       "       '3_7', '3_9', 'A0', 'A1', 'A2', 'A3', 'CUST_INCM', 'F0', 'F1',\n",
       "       'HOSP_MEAN', 'MINCRDT', 'O0', 'O1', 'O2', 'O3', 'O4', 'O5', 'O6', 'O7',\n",
       "       'R0', 'R1', 'R2', 'R3', 'R4', 'R5', 'R6', 'R7', 'R8', 'R9',\n",
       "       'RCBASE_HSHD_INCM', 'RESI_COST', 'S0', 'S1', 'TOTALPREM', 'W0', 'W1'],\n",
       "      dtype='object')"
      ]
     },
     "execution_count": 265,
     "metadata": {},
     "output_type": "execute_result"
    }
   ],
   "source": [
    "train_x.columns"
   ]
  },
  {
   "cell_type": "code",
   "execution_count": 241,
   "metadata": {},
   "outputs": [],
   "source": [
    "# 모델링\n",
    "# XGBoost,RandomForest"
   ]
  },
  {
   "cell_type": "code",
   "execution_count": 242,
   "metadata": {},
   "outputs": [],
   "source": [
    "from sklearn.ensemble import RandomForestClassifier"
   ]
  },
  {
   "cell_type": "code",
   "execution_count": 243,
   "metadata": {},
   "outputs": [],
   "source": [
    "rf=RandomForestClassifier()"
   ]
  },
  {
   "cell_type": "code",
   "execution_count": 259,
   "metadata": {
    "scrolled": true
   },
   "outputs": [
    {
     "data": {
      "text/plain": [
       "1_1                   0\n",
       "1_2                   0\n",
       "1_3                   0\n",
       "1_4                   0\n",
       "1_5                   0\n",
       "1_6                   0\n",
       "1_7                   0\n",
       "1_9                   0\n",
       "2_1                   0\n",
       "2_2                   0\n",
       "2_3                   0\n",
       "2_4                   0\n",
       "2_5                   0\n",
       "2_6                   0\n",
       "3_1                   0\n",
       "3_2                   0\n",
       "3_3                   0\n",
       "3_4                   0\n",
       "3_5                   0\n",
       "3_6                   0\n",
       "3_7                   0\n",
       "3_9                   0\n",
       "A0                    0\n",
       "A1                    0\n",
       "A2                    0\n",
       "A3                    0\n",
       "CUST_INCM             0\n",
       "F0                    0\n",
       "F1                    0\n",
       "HOSP_MEAN             0\n",
       "JPBASE_HSHD_INCM    616\n",
       "MINCRDT               0\n",
       "O0                    0\n",
       "O1                    0\n",
       "O2                    0\n",
       "O3                    0\n",
       "O4                    0\n",
       "O5                    0\n",
       "O6                    0\n",
       "O7                    0\n",
       "R0                    0\n",
       "R1                    0\n",
       "R2                    0\n",
       "R3                    0\n",
       "R4                    0\n",
       "R5                    0\n",
       "R6                    0\n",
       "R7                    0\n",
       "R8                    0\n",
       "R9                    0\n",
       "RCBASE_HSHD_INCM      0\n",
       "RESI_COST             0\n",
       "S0                    0\n",
       "S1                    0\n",
       "TOTALPREM             0\n",
       "W0                    0\n",
       "W1                    0\n",
       "dtype: int64"
      ]
     },
     "execution_count": 259,
     "metadata": {},
     "output_type": "execute_result"
    }
   ],
   "source": [
    "train_x.isnull().sum()"
   ]
  },
  {
   "cell_type": "code",
   "execution_count": 260,
   "metadata": {},
   "outputs": [],
   "source": [
    "tmp.drop('JPBASE_HSHD_INCM',axis=1,inplace=True)"
   ]
  },
  {
   "cell_type": "code",
   "execution_count": 247,
   "metadata": {},
   "outputs": [],
   "source": [
    "tmp.drop('MATE_OCCP_GRP_2',axis=1,inplace=True)"
   ]
  },
  {
   "cell_type": "code",
   "execution_count": 250,
   "metadata": {},
   "outputs": [],
   "source": [
    "tmp.drop('FP_CAREER',axis=1,inplace=True)"
   ]
  },
  {
   "cell_type": "code",
   "execution_count": 266,
   "metadata": {},
   "outputs": [
    {
     "data": {
      "text/plain": [
       "RandomForestClassifier(bootstrap=True, class_weight=None, criterion='gini',\n",
       "            max_depth=None, max_features='auto', max_leaf_nodes=None,\n",
       "            min_impurity_decrease=0.0, min_impurity_split=None,\n",
       "            min_samples_leaf=1, min_samples_split=2,\n",
       "            min_weight_fraction_leaf=0.0, n_estimators=10, n_jobs=None,\n",
       "            oob_score=False, random_state=None, verbose=0,\n",
       "            warm_start=False)"
      ]
     },
     "execution_count": 266,
     "metadata": {},
     "output_type": "execute_result"
    }
   ],
   "source": [
    "rf.fit(train_x,train_y)"
   ]
  },
  {
   "cell_type": "code",
   "execution_count": 267,
   "metadata": {},
   "outputs": [],
   "source": [
    "answer=pd.read_csv('answer.csv')"
   ]
  },
  {
   "cell_type": "code",
   "execution_count": 268,
   "metadata": {},
   "outputs": [
    {
     "data": {
      "text/html": [
       "<div>\n",
       "<style scoped>\n",
       "    .dataframe tbody tr th:only-of-type {\n",
       "        vertical-align: middle;\n",
       "    }\n",
       "\n",
       "    .dataframe tbody tr th {\n",
       "        vertical-align: top;\n",
       "    }\n",
       "\n",
       "    .dataframe thead th {\n",
       "        text-align: right;\n",
       "    }\n",
       "</style>\n",
       "<table border=\"1\" class=\"dataframe\">\n",
       "  <thead>\n",
       "    <tr style=\"text-align: right;\">\n",
       "      <th></th>\n",
       "      <th>CUST_ID</th>\n",
       "      <th>SIU_CUST_YN</th>\n",
       "    </tr>\n",
       "  </thead>\n",
       "  <tbody>\n",
       "    <tr>\n",
       "      <th>0</th>\n",
       "      <td>37</td>\n",
       "      <td>0</td>\n",
       "    </tr>\n",
       "    <tr>\n",
       "      <th>1</th>\n",
       "      <td>51</td>\n",
       "      <td>0</td>\n",
       "    </tr>\n",
       "    <tr>\n",
       "      <th>2</th>\n",
       "      <td>60</td>\n",
       "      <td>0</td>\n",
       "    </tr>\n",
       "    <tr>\n",
       "      <th>3</th>\n",
       "      <td>65</td>\n",
       "      <td>0</td>\n",
       "    </tr>\n",
       "    <tr>\n",
       "      <th>4</th>\n",
       "      <td>73</td>\n",
       "      <td>0</td>\n",
       "    </tr>\n",
       "  </tbody>\n",
       "</table>\n",
       "</div>"
      ],
      "text/plain": [
       "   CUST_ID  SIU_CUST_YN\n",
       "0       37            0\n",
       "1       51            0\n",
       "2       60            0\n",
       "3       65            0\n",
       "4       73            0"
      ]
     },
     "execution_count": 268,
     "metadata": {},
     "output_type": "execute_result"
    }
   ],
   "source": [
    "answer.head()"
   ]
  },
  {
   "cell_type": "code",
   "execution_count": 269,
   "metadata": {},
   "outputs": [
    {
     "data": {
      "text/plain": [
       "array(['N', 'N', 'N', ..., 'N', 'N', 'N'], dtype=object)"
      ]
     },
     "execution_count": 269,
     "metadata": {},
     "output_type": "execute_result"
    }
   ],
   "source": [
    "rf.predict(test_x)"
   ]
  },
  {
   "cell_type": "code",
   "execution_count": null,
   "metadata": {},
   "outputs": [],
   "source": []
  }
 ],
 "metadata": {
  "kernelspec": {
   "display_name": "Python 3",
   "language": "python",
   "name": "python3"
  },
  "language_info": {
   "codemirror_mode": {
    "name": "ipython",
    "version": 3
   },
   "file_extension": ".py",
   "mimetype": "text/x-python",
   "name": "python",
   "nbconvert_exporter": "python",
   "pygments_lexer": "ipython3",
   "version": "3.7.1"
  }
 },
 "nbformat": 4,
 "nbformat_minor": 2
}
