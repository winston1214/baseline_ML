{
 "cells": [
  {
   "cell_type": "markdown",
   "metadata": {},
   "source": [
    "# Multiple Regression Analysis"
   ]
  },
  {
   "cell_type": "markdown",
   "metadata": {},
   "source": [
    "## Simple Regression Analysis : 단순선형회귀\n",
    "- 독립변수(입력데이터)의 선형 결합으로 종속변수 설명\n",
    "- 독립변수와 종속변수가 모두 연속형(숫자형)으로 구성되어야함\n",
    "- y hat = w[0] * x[0] + w[1]*x[1] + ...w[p] * x[p] + b\n",
    "- y= ax1+bx2+cx3+...+z\n",
    "    - x: 입력 데이터의 변수들(특성)\n",
    "    - y hat: 모델의 예측 결과\n",
    "    - a~c : 회귀모델이 가지는 파라미터로 각 변수들의 가중치(계수)를 의미, 직선의 방정식에서 기울기\n",
    "    - z : 회귀모델이 가지는 파라미터, 직선의 방정식에서 y 절편\n",
    "- 선형회귀(Linear regression) 또는 최소제곱법(OLS : Ordinary Least Squares)\n",
    "    - 평균제곱오차(실제값과 예측 값의 차이를 제곱한 것의 평균)를 최소화 하는 파라미터 w, b 를 구하는 알고리즘\n",
    "    - 조정할 수 있는 매개변수가 없어 조작이 단순하지만 모델의 복잡도 및 성능을 제어할 수도 없음\n",
    "    - 종류\n",
    "        - 단순선형회귀 : 사용하는 데이터의 종류(특징,설명변수)가 한가지\n",
    "        - 다중선형회귀: 사용하는 데이터의 종류(설명변수)가 두개 이상"
   ]
  },
  {
   "cell_type": "markdown",
   "metadata": {},
   "source": [
    "## 잔차(Residual)\n",
    "- 회귀분석에서 실제 결과 (y)와 예측 결과(y hat)의 차이(e=y-y hat)\n",
    "- 모델에서 사용된 변수들을 통해 완전하게 설명하지 못한 부분으로 해석할 수 있음\n",
    "- 선형회귀모델은 오차의 분산이 설명변수와 관계가 없다는 가정을 가지며 잔차의 변동성이 설명변수(x)에 따라 변하지 않음\n",
    "- 잔차의 산포도가 일정한 방향없이 균일하게 퍼져있는 모양일때 해당 선형회귀모델의 회귀식의 적합도가 높음\n",
    "- 잔차의 산포도(x: 설명변수, y: 잔차)\n",
    "    - 비선형성 : 구간별로 잔차의 부호가 집중적으로 다르므로 선형회귀모델이 적합하지 않음\n",
    "    - 이질성 : 잔차의 변동성이 x가 증가함에 따라 함께 증가하는 경향을 보임"
   ]
  },
  {
   "cell_type": "markdown",
   "metadata": {},
   "source": [
    "# StatsModel을 이용한 다중회귀분석"
   ]
  },
  {
   "cell_type": "code",
   "execution_count": 3,
   "metadata": {},
   "outputs": [],
   "source": [
    "from sklearn.datasets import make_regression\n",
    "# 샘플개수: 100\n",
    "# 절편은 -5\n",
    "# 독립변수 개수: 2개\n",
    "# 노이즈 10(회귀식으로 설명할 수 없는 것)\n",
    "# coef : 변수 계수 반환 여부\n",
    "# 반환값 3개: 입력변수, 종속변수, (계수)\n",
    "X0,y,coef=make_regression(n_samples=100, n_features=2,bias=-5,noise=10,coef=True, random_state=2)"
   ]
  },
  {
   "cell_type": "code",
   "execution_count": 8,
   "metadata": {},
   "outputs": [],
   "source": [
    "# statsmodels 의 회귀모형을 사용할 경우에는\n",
    "# 독립변수에 bias 처리를 위한 자리를 만들어줘야한다.\n",
    "import statsmodels.api as sm\n",
    "\n",
    "X=sm.add_constant(X0)"
   ]
  },
  {
   "cell_type": "code",
   "execution_count": 11,
   "metadata": {},
   "outputs": [],
   "source": [
    "# OLS\n",
    "sm_model1=sm.OLS(y,X)\n",
    "sm_result1=sm_model1.fit()"
   ]
  },
  {
   "cell_type": "code",
   "execution_count": 12,
   "metadata": {},
   "outputs": [
    {
     "name": "stdout",
     "output_type": "stream",
     "text": [
      "                            OLS Regression Results                            \n",
      "==============================================================================\n",
      "Dep. Variable:                      y   R-squared:                       0.957\n",
      "Model:                            OLS   Adj. R-squared:                  0.957\n",
      "Method:                 Least Squares   F-statistic:                     1092.\n",
      "Date:                Sat, 29 Jun 2019   Prob (F-statistic):           3.08e-67\n",
      "Time:                        14:48:35   Log-Likelihood:                -368.52\n",
      "No. Observations:                 100   AIC:                             743.0\n",
      "Df Residuals:                      97   BIC:                             750.9\n",
      "Df Model:                           2                                         \n",
      "Covariance Type:            nonrobust                                         \n",
      "==============================================================================\n",
      "                 coef    std err          t      P>|t|      [0.025      0.975]\n",
      "------------------------------------------------------------------------------\n",
      "const         -6.5444      0.981     -6.670      0.000      -8.492      -4.597\n",
      "x1            38.3744      0.867     44.261      0.000      36.654      40.095\n",
      "x2            17.2342      0.959     17.970      0.000      15.331      19.138\n",
      "==============================================================================\n",
      "Omnibus:                        0.025   Durbin-Watson:                   1.814\n",
      "Prob(Omnibus):                  0.988   Jarque-Bera (JB):                0.135\n",
      "Skew:                           0.031   Prob(JB):                        0.935\n",
      "Kurtosis:                       2.831   Cond. No.                         1.17\n",
      "==============================================================================\n",
      "\n",
      "Warnings:\n",
      "[1] Standard Errors assume that the covariance matrix of the errors is correctly specified.\n"
     ]
    }
   ],
   "source": [
    "# 결과 출력\n",
    "# t검정에 대한 p값\n",
    "print(sm_result1.summary())"
   ]
  },
  {
   "cell_type": "code",
   "execution_count": 15,
   "metadata": {},
   "outputs": [
    {
     "data": {
      "text/plain": [
       "array([ 1.07540426,  2.07950486, -0.43851083,  1.17669596, -0.65323739,\n",
       "        0.33785826,  0.47959611,  0.01555735,  0.19782259,  0.48254537,\n",
       "       -0.06842782, -0.58943474,  0.76150087,  1.85552126,  1.14398442,\n",
       "        0.0385104 ,  0.60775051, -0.00498639,  0.49197007, -0.90465693,\n",
       "       -2.05591829,  0.20914844,  2.09367049, -0.28119664,  1.53801   ,\n",
       "       -0.49752768,  0.81258775,  1.27345672,  0.71197892,  0.67057845,\n",
       "        1.37565413,  0.11719685, -1.8137286 ,  0.18903798, -1.24235362,\n",
       "       -0.54532221,  0.15478357,  0.04703917, -0.89084224, -1.48578238,\n",
       "        0.52841862, -0.07761126, -1.65991083,  1.63616989,  0.52941241,\n",
       "       -1.2890388 , -0.82327889, -1.43341126, -0.22777669,  2.11026934,\n",
       "       -0.6289178 ,  0.60645909, -2.37210369, -0.37352149,  0.80242615,\n",
       "        2.38116362,  1.24700865, -1.22488536, -0.14775858,  0.35795826,\n",
       "       -1.68499498, -0.96688171, -0.41239156,  0.36905297, -1.03563433,\n",
       "        0.34962785, -1.57731055, -0.99564231, -0.6771894 ,  0.07473575,\n",
       "       -0.10220761, -0.8229149 , -0.50708827,  0.20472258, -0.02795781,\n",
       "       -0.15653369, -0.32333419,  0.77927517, -0.20198298,  1.03422878,\n",
       "       -0.98743992,  1.04860842, -1.11332936, -0.00568348, -0.53962764,\n",
       "       -1.0435833 ,  0.00896371, -0.5595017 ,  0.75139395,  0.38075847,\n",
       "        1.0313626 , -0.49157397, -0.27961491,  0.20935275,  0.56760024,\n",
       "       -0.09924318, -2.10052871, -0.36730376,  0.51835121,  1.3449494 ])"
      ]
     },
     "execution_count": 15,
     "metadata": {},
     "output_type": "execute_result"
    }
   ],
   "source": [
    "sm_result1.resid_pearson  # 회귀식의 잔차값"
   ]
  },
  {
   "cell_type": "code",
   "execution_count": 18,
   "metadata": {},
   "outputs": [
    {
     "data": {
      "text/plain": [
       "Text(0.5, 1.0, 'Residual plot between x2 and residual')"
      ]
     },
     "execution_count": 18,
     "metadata": {},
     "output_type": "execute_result"
    },
    {
     "data": {
      "image/png": "[encoded data removed]",
      "text/plain": [
       "<Figure size 1080x360 with 2 Axes>"
      ]
     },
     "metadata": {
      "needs_background": "light"
     },
     "output_type": "display_data"
    }
   ],
   "source": [
    "import matplotlib.pyplot as plt\n",
    "# 잔차 정규성 검정1- 시각화1 (잔차와 독립변수간에 독립성이 만족해야한다)\n",
    "# 산점도\n",
    "# x1 과 잔차에 대한 산점도를 첫번째 플롯\n",
    "# x2 와 잔차에 대한 산점도를 두번째 플롯\n",
    "plt.figure(figsize=(15,5))\n",
    "ax1= plt.subplot(1,2,1)\n",
    "ax2=plt.subplot(1,2,2)\n",
    "\n",
    "ax1.scatter(X0[:,0],sm_result1.resid_pearson)\n",
    "ax1.hlines(y=0,xmin=-3,xmax=5)\n",
    "ax1.set_xlabel('x1')\n",
    "ax1.set_title('Residual plot between x1 and residual')\n",
    "\n",
    "ax2.scatter(X0[:,1],sm_result1.resid_pearson,color='r')\n",
    "ax2.hlines(y=0,xmin=-3,xmax=5)\n",
    "ax2.set_xlabel('x2')\n",
    "ax2.set_title('Residual plot between x2 and residual')"
   ]
  },
  {
   "cell_type": "code",
   "execution_count": 19,
   "metadata": {},
   "outputs": [
    {
     "data": {
      "image/png": "[encoded data removed]",
      "text/plain": [
       "<Figure size 432x288 with 1 Axes>"
      ]
     },
     "metadata": {
      "needs_background": "light"
     },
     "output_type": "display_data"
    }
   ],
   "source": [
    "# 잔차의 정규성 검정2 - 시각화2 ( 잔차는 정규분포를 따른다)\n",
    "# QQplot\n",
    "import scipy as sp\n",
    "\n",
    "sp.stats.probplot(sm_result1.resid_pearson,plot=plt)\n",
    "plt.show()"
   ]
  },
  {
   "cell_type": "code",
   "execution_count": 20,
   "metadata": {},
   "outputs": [
    {
     "data": {
      "text/plain": [
       "NormaltestResult(statistic=0.02492939075944142, pvalue=0.9876126671685979)"
      ]
     },
     "execution_count": 20,
     "metadata": {},
     "output_type": "execute_result"
    }
   ],
   "source": [
    "# 잔차의 정규성 검정3 - 통계값\n",
    "# 카이제곱 검정 => p-value => 0.05 이하일때 회귀모델 적합성이 높다.\n",
    "# 귀무가설 : 정규분포를 따른다\n",
    "# 유의수준을 벗어나기 때문에 귀무가설을 기각할 수 없다 => 정규성 만족\n",
    "import statsmodels.stats.api as sms\n",
    "\n",
    "result=sms.omni_normtest(sm_result1.resid_pearson)\n",
    "result"
   ]
  },
  {
   "cell_type": "markdown",
   "metadata": {},
   "source": [
    "# Scikit-Learn을 이용한 다중회귀분석"
   ]
  },
  {
   "cell_type": "code",
   "execution_count": 22,
   "metadata": {},
   "outputs": [],
   "source": [
    "# sklearn 을 이용한 다중회귀 분석\n",
    "from sklearn.linear_model import LinearRegression"
   ]
  },
  {
   "cell_type": "code",
   "execution_count": 24,
   "metadata": {},
   "outputs": [],
   "source": [
    "sk_model1=LinearRegression()\n",
    "sk_result1=sk_model1.fit(X0,y)"
   ]
  },
  {
   "cell_type": "code",
   "execution_count": 25,
   "metadata": {},
   "outputs": [
    {
     "data": {
      "text/plain": [
       "array([38.37437809, 17.23419749])"
      ]
     },
     "execution_count": 25,
     "metadata": {},
     "output_type": "execute_result"
    }
   ],
   "source": [
    "# 계수(coef_), 절편(intercept_)\n",
    "sk_result1.coef_"
   ]
  },
  {
   "cell_type": "code",
   "execution_count": 26,
   "metadata": {},
   "outputs": [
    {
     "data": {
      "text/plain": [
       "-6.54438528165217"
      ]
     },
     "execution_count": 26,
     "metadata": {},
     "output_type": "execute_result"
    }
   ],
   "source": [
    "sk_result1.intercept_"
   ]
  },
  {
   "cell_type": "code",
   "execution_count": 27,
   "metadata": {},
   "outputs": [
    {
     "data": {
      "text/plain": [
       "0.9574768116628116"
      ]
     },
     "execution_count": 27,
     "metadata": {},
     "output_type": "execute_result"
    }
   ],
   "source": [
    "# 결정계수 확인\n",
    "sk_model1.score(X0,y)"
   ]
  },
  {
   "cell_type": "code",
   "execution_count": 29,
   "metadata": {},
   "outputs": [],
   "source": [
    "# 잔차 구하기\n",
    "# sklearn에서의 회귀모형은 계산된 잔차를 보여주는 옵션이 없음\n",
    "# 잔차 = 정답 - 예측값\n",
    "sk_resid=y-sk_result1.predict(X0)"
   ]
  },
  {
   "cell_type": "code",
   "execution_count": 30,
   "metadata": {},
   "outputs": [
    {
     "data": {
      "text/plain": [
       "Text(0.5, 1.0, 'Residual plot between x2 and residual')"
      ]
     },
     "execution_count": 30,
     "metadata": {},
     "output_type": "execute_result"
    },
    {
     "data": {
      "image/png": "[encoded data removed]",
      "text/plain": [
       "<Figure size 1080x360 with 2 Axes>"
      ]
     },
     "metadata": {
      "needs_background": "light"
     },
     "output_type": "display_data"
    }
   ],
   "source": [
    "plt.figure(figsize=(15,5))\n",
    "ax1= plt.subplot(1,2,1)\n",
    "ax2=plt.subplot(1,2,2)\n",
    "\n",
    "ax1.scatter(X0[:,0],sk_resid)\n",
    "ax1.hlines(y=0,xmin=-3,xmax=5)\n",
    "ax1.set_xlabel('x1')\n",
    "ax1.set_title('Residual plot between x1 and residual')\n",
    "\n",
    "ax2.scatter(X0[:,1],sk_resid,color='r')\n",
    "ax2.hlines(y=0,xmin=-3,xmax=5)\n",
    "ax2.set_xlabel('x2')\n",
    "ax2.set_title('Residual plot between x2 and residual')"
   ]
  },
  {
   "cell_type": "code",
   "execution_count": 31,
   "metadata": {},
   "outputs": [
    {
     "data": {
      "text/plain": [
       "NormaltestResult(statistic=0.024929390759440798, pvalue=0.9876126671685982)"
      ]
     },
     "execution_count": 31,
     "metadata": {},
     "output_type": "execute_result"
    }
   ],
   "source": [
    "# 잔차의 정규성 검정\n",
    "sms.omni_normtest(sk_resid)"
   ]
  },
  {
   "cell_type": "markdown",
   "metadata": {},
   "source": [
    "# 실습"
   ]
  },
  {
   "cell_type": "code",
   "execution_count": 32,
   "metadata": {},
   "outputs": [],
   "source": [
    "# 각각의 설정값에 따른 데이터 생성\n",
    "# 분포(산점도), coef 확인"
   ]
  },
  {
   "cell_type": "code",
   "execution_count": 33,
   "metadata": {},
   "outputs": [],
   "source": [
    "# n_sample=100\n",
    "# coef=True\n",
    "# V1. bias=30 , noise=0\n",
    "# V2, bias=0, noise=30\n",
    "# V3, bais=30, noise=30"
   ]
  },
  {
   "cell_type": "code",
   "execution_count": 36,
   "metadata": {},
   "outputs": [],
   "source": [
    "X1,y1,coef1=make_regression(n_samples=100, n_features=1,bias=30,noise=0,coef=True, random_state=2)\n",
    "X2,y2,coef2=make_regression(n_samples=100, n_features=1,bias=0,noise=30,coef=True, random_state=2)\n",
    "X3,y3,coef3=make_regression(n_samples=100, n_features=1,bias=30,noise=30,coef=True, random_state=2)"
   ]
  },
  {
   "cell_type": "code",
   "execution_count": 37,
   "metadata": {},
   "outputs": [],
   "source": [
    "sk_model1=LinearRegression()\n",
    "sk_model2=LinearRegression()\n",
    "sk_model3=LinearRegression()"
   ]
  },
  {
   "cell_type": "code",
   "execution_count": 38,
   "metadata": {},
   "outputs": [],
   "source": [
    "sk_result1=sk_model1.fit(X1,y1)\n",
    "sk_result2=sk_model1.fit(X2,y2)\n",
    "sk_result3=sk_model1.fit(X3,y3)"
   ]
  },
  {
   "cell_type": "code",
   "execution_count": 40,
   "metadata": {},
   "outputs": [],
   "source": [
    "sk_resid1=y-sk_result1.predict(X1)\n",
    "sk_resid2=y-sk_result2.predict(X2)\n",
    "sk_resid3=y-sk_result3.predict(X3)"
   ]
  },
  {
   "cell_type": "code",
   "execution_count": 43,
   "metadata": {},
   "outputs": [
    {
     "data": {
      "image/png": "[encoded data removed]",
      "text/plain": [
       "<Figure size 1080x360 with 3 Axes>"
      ]
     },
     "metadata": {
      "needs_background": "light"
     },
     "output_type": "display_data"
    }
   ],
   "source": [
    "fig,axes = plt.subplots(1,3,figsize=(15,5))\n",
    "data=[[X1,y1],[X2,y2],[X3,y3]]\n",
    "titles=['bias=30,noise=0','bias=0,noise=30','bias=30,noise=30']\n",
    "for d,a,t in zip(data,axes,titles):\n",
    "    a.scatter(d[0],d[1])\n",
    "    a.set_xlabel('x')\n",
    "    a.set_ylabel('y')\n",
    "    a.set_title(t)"
   ]
  },
  {
   "cell_type": "code",
   "execution_count": null,
   "metadata": {},
   "outputs": [],
   "source": [
    "# X1,y1 vs X2,y2"
   ]
  },
  {
   "cell_type": "code",
   "execution_count": 63,
   "metadata": {},
   "outputs": [],
   "source": [
    "# 선형회귀모델 객체 생성\n",
    "reg1=LinearRegression()\n",
    "reg2=LinearRegression()"
   ]
  },
  {
   "cell_type": "code",
   "execution_count": 64,
   "metadata": {},
   "outputs": [
    {
     "data": {
      "text/plain": [
       "LinearRegression(copy_X=True, fit_intercept=True, n_jobs=None,\n",
       "         normalize=False)"
      ]
     },
     "execution_count": 64,
     "metadata": {},
     "output_type": "execute_result"
    }
   ],
   "source": [
    "# 모델 학습\n",
    "reg1.fit(X1,y1)\n",
    "reg2.fit(X2,y2)"
   ]
  },
  {
   "cell_type": "code",
   "execution_count": 65,
   "metadata": {},
   "outputs": [
    {
     "data": {
      "text/plain": [
       "29.999999999999996"
      ]
     },
     "execution_count": 65,
     "metadata": {},
     "output_type": "execute_result"
    }
   ],
   "source": [
    "# 선형 회귀 모델로 추정한 회귀식의 절편과 기울기 확인\n",
    "# 절편: intercept_\n",
    "reg1.intercept_"
   ]
  },
  {
   "cell_type": "code",
   "execution_count": 69,
   "metadata": {},
   "outputs": [
    {
     "data": {
      "text/plain": [
       "0.8001588590835018"
      ]
     },
     "execution_count": 69,
     "metadata": {},
     "output_type": "execute_result"
    }
   ],
   "source": [
    "reg2.intercept_"
   ]
  },
  {
   "cell_type": "code",
   "execution_count": 71,
   "metadata": {},
   "outputs": [
    {
     "data": {
      "text/plain": [
       "array([60.84421578])"
      ]
     },
     "execution_count": 71,
     "metadata": {},
     "output_type": "execute_result"
    }
   ],
   "source": [
    "# 기울기:coef_\n",
    "reg1.coef_"
   ]
  },
  {
   "cell_type": "code",
   "execution_count": 72,
   "metadata": {},
   "outputs": [
    {
     "data": {
      "text/plain": [
       "array([56.7558821])"
      ]
     },
     "execution_count": 72,
     "metadata": {},
     "output_type": "execute_result"
    }
   ],
   "source": [
    "reg2.coef_"
   ]
  },
  {
   "cell_type": "code",
   "execution_count": 62,
   "metadata": {},
   "outputs": [
    {
     "name": "stdout",
     "output_type": "stream",
     "text": [
      "y1= 30.800158859083506*x1+[56.7558821],\n",
      "y2= 30.800158859083506*x2 + [56.7558821]\n"
     ]
    }
   ],
   "source": [
    "# 추정 회귀식\n",
    "print('y1= {}*x1+{},\\ny2= {}*x2 + {}'.format(sk_result1.intercept_,sk_result1.coef_,sk_result2.intercept_,sk_result2.coef_))"
   ]
  },
  {
   "cell_type": "code",
   "execution_count": 53,
   "metadata": {},
   "outputs": [
    {
     "data": {
      "text/plain": [
       "0.6033905701655642"
      ]
     },
     "execution_count": 53,
     "metadata": {},
     "output_type": "execute_result"
    }
   ],
   "source": [
    "# 회귀식의 적합도\n",
    "sk_result1.score(X1,y1)\n",
    "sk_result2.score(X2,y2)"
   ]
  },
  {
   "cell_type": "code",
   "execution_count": 73,
   "metadata": {},
   "outputs": [
    {
     "data": {
      "text/plain": [
       "1.0"
      ]
     },
     "execution_count": 73,
     "metadata": {},
     "output_type": "execute_result"
    }
   ],
   "source": [
    "reg1.score(X1,y1)"
   ]
  },
  {
   "cell_type": "code",
   "execution_count": 74,
   "metadata": {},
   "outputs": [
    {
     "data": {
      "text/plain": [
       "0.8151684585436454"
      ]
     },
     "execution_count": 74,
     "metadata": {},
     "output_type": "execute_result"
    }
   ],
   "source": [
    "reg2.score(X2,y2)"
   ]
  },
  {
   "cell_type": "code",
   "execution_count": 75,
   "metadata": {},
   "outputs": [],
   "source": [
    "# 잔차분석을 위한 잔차 연산 및 산점도 시각화\n",
    "# X1,y1\n",
    "reg1_resid=y1-reg1.predict(X1)"
   ]
  },
  {
   "cell_type": "code",
   "execution_count": 84,
   "metadata": {},
   "outputs": [
    {
     "data": {
      "text/plain": [
       "<matplotlib.collections.LineCollection at 0x21a086627f0>"
      ]
     },
     "execution_count": 84,
     "metadata": {},
     "output_type": "execute_result"
    },
    {
     "data": {
      "image/png": "[encoded data removed]",
      "text/plain": [
       "<Figure size 432x288 with 1 Axes>"
      ]
     },
     "metadata": {
      "needs_background": "light"
     },
     "output_type": "display_data"
    }
   ],
   "source": [
    "plt.scatter(X1[:,0],reg1_resid)\n",
    "plt.hlines(y=0,xmin=-4,xmax=4)"
   ]
  },
  {
   "cell_type": "code",
   "execution_count": 93,
   "metadata": {},
   "outputs": [
    {
     "data": {
      "text/plain": [
       "LinearRegression(copy_X=True, fit_intercept=True, n_jobs=None,\n",
       "         normalize=False)"
      ]
     },
     "execution_count": 93,
     "metadata": {},
     "output_type": "execute_result"
    }
   ],
   "source": [
    "# 실제데이터와 추정한 회귀식을 그래프로 시각화\n",
    "# X3,y3\n",
    "reg3=LinearRegression()\n",
    "reg3.fit(X3,y3)"
   ]
  },
  {
   "cell_type": "code",
   "execution_count": 94,
   "metadata": {},
   "outputs": [
    {
     "data": {
      "text/plain": [
       "30.800158859083506"
      ]
     },
     "execution_count": 94,
     "metadata": {},
     "output_type": "execute_result"
    }
   ],
   "source": [
    "reg3.intercept_"
   ]
  },
  {
   "cell_type": "code",
   "execution_count": 95,
   "metadata": {},
   "outputs": [
    {
     "data": {
      "text/plain": [
       "array([56.7558821])"
      ]
     },
     "execution_count": 95,
     "metadata": {},
     "output_type": "execute_result"
    }
   ],
   "source": [
    "reg3.coef_"
   ]
  },
  {
   "cell_type": "code",
   "execution_count": 107,
   "metadata": {},
   "outputs": [
    {
     "data": {
      "text/plain": [
       "<matplotlib.legend.Legend at 0x21a0a22cba8>"
      ]
     },
     "execution_count": 107,
     "metadata": {},
     "output_type": "execute_result"
    },
    {
     "data": {
      "image/png": "[encoded data removed]",
      "text/plain": [
       "<Figure size 432x288 with 1 Axes>"
      ]
     },
     "metadata": {
      "needs_background": "light"
     },
     "output_type": "display_data"
    }
   ],
   "source": [
    "plt.scatter(X3,y3,label='data',color='orange')\n",
    "plt.plot(X3,reg3.predict(X3),label='regression',color='k')\n",
    "plt.legend()"
   ]
  },
  {
   "cell_type": "code",
   "execution_count": null,
   "metadata": {},
   "outputs": [],
   "source": []
  }
 ],
 "metadata": {
  "kernelspec": {
   "display_name": "Python 3",
   "language": "python",
   "name": "python3"
  },
  "language_info": {
   "codemirror_mode": {
    "name": "ipython",
    "version": 3
   },
   "file_extension": ".py",
   "mimetype": "text/x-python",
   "name": "python",
   "nbconvert_exporter": "python",
   "pygments_lexer": "ipython3",
   "version": "3.7.1"
  }
 },
 "nbformat": 4,
 "nbformat_minor": 2
}
