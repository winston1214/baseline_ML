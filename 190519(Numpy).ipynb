{
 "cells": [
  {
   "cell_type": "markdown",
   "metadata": {},
   "source": [
    "# Numpy\n",
    "- 배열 형태의 데이터 사용\n",
    "- 파이썬 기반 데이터 분석 환경에서 행렬 및 벡터 연산에 필요한 다양한 함수 제공\n",
    "- 메모리 소모가 많은 반복문 없이 전체 데이터 배열에 빠른 연산을 처리할 수 있는 표준 수학 함수\n",
    "    - 배열: 동일한 특성 및 일정한 규칙을 가지는 여러 개의 요소가 나열되어 있는 데이터 집합\n",
    "- 파이썬 list 객체를 사용할 때 보다 Numpy의 ndarray 객체를 사용하면 연산 속도가 개선되어 더 많은 데이터를 더 빠르게 처리"
   ]
  },
  {
   "cell_type": "code",
   "execution_count": 1,
   "metadata": {},
   "outputs": [],
   "source": [
    "# 라이브러리 가져오기\n",
    "import numpy as np"
   ]
  },
  {
   "cell_type": "code",
   "execution_count": 2,
   "metadata": {},
   "outputs": [
    {
     "data": {
      "text/plain": [
       "'1.15.4'"
      ]
     },
     "execution_count": 2,
     "metadata": {},
     "output_type": "execute_result"
    }
   ],
   "source": [
    "# 라이브러리 버전확인하기\n",
    "np.__version__"
   ]
  },
  {
   "cell_type": "markdown",
   "metadata": {},
   "source": [
    "# Numpy 배열 :numpy.ndarray\n",
    "- 다차원 배열(1차원,2차원,3차원)으로 입체적인 데이터 구조를 구성하고 여러개의 데이터 방향을 가진다.\n",
    "- 배열 속성: shape,ndim,dtype 등\n",
    "- 데이터방향: axis=0(행/높이),1(열/폭),2(채널/깊이)"
   ]
  },
  {
   "cell_type": "markdown",
   "metadata": {},
   "source": [
    "# 배열생성\n",
    "- np.array(data)\n",
    "    - 파이썬 list 객체를 전달하여 np 배열 객체를 생성\n",
    "    - 배열 속성\n",
    "        - shape: 구조(차원,행,열)=>차원마다 출력값이 다름\n",
    "            - 1차원: (아이템개수,)\n",
    "            - 2차원: (행,열)\n",
    "            - 3차원: (층,행,열)\n",
    "        - ndim: 차원\n",
    "        - dype: 데이터타입\n",
    "            - size: 요소개수=행*열*차원(3차원일때 층)\n",
    "    - 배열 메서드\n",
    "        -astype(): 데이터 타입 변환\n",
    "    - 파이썬 내장함수를 사용한 속성값\n",
    "        - type(): 객체타입\n",
    "        - len(): 요소길이(2차원 이상일때는 행 개수 반환)\n",
    "     - 배열 구조 변환 메서드\n",
    "         - reshpe(row,col)"
   ]
  },
  {
   "cell_type": "code",
   "execution_count": 3,
   "metadata": {},
   "outputs": [
    {
     "data": {
      "text/plain": [
       "array([1, 2, 3, 4, 5])"
      ]
     },
     "execution_count": 3,
     "metadata": {},
     "output_type": "execute_result"
    }
   ],
   "source": [
    "#파이썬 1차원 리스트로 Numpy 배열 생성: 벡터(vector) 형태의 배열 => 리스트 형식의 배열\n",
    "data=[1,2,3,4,5]\n",
    "arr1= np.array(data)\n",
    "arr1"
   ]
  },
  {
   "cell_type": "code",
   "execution_count": 4,
   "metadata": {},
   "outputs": [
    {
     "name": "stdout",
     "output_type": "stream",
     "text": [
      "<class 'numpy.ndarray'>\n"
     ]
    },
    {
     "data": {
      "text/plain": [
       "dtype('int32')"
      ]
     },
     "execution_count": 4,
     "metadata": {},
     "output_type": "execute_result"
    }
   ],
   "source": [
    "#배열 객체의 속성 - 타입\n",
    "print(type(arr1))   #객체의 타입\n",
    "arr1.dtype"
   ]
  },
  {
   "cell_type": "code",
   "execution_count": 5,
   "metadata": {},
   "outputs": [
    {
     "data": {
      "text/plain": [
       "(5,)"
      ]
     },
     "execution_count": 5,
     "metadata": {},
     "output_type": "execute_result"
    }
   ],
   "source": [
    "# 배열 객체의 속성 - 구조 : (행,열,차원)\n",
    "arr1.shape"
   ]
  },
  {
   "cell_type": "code",
   "execution_count": 6,
   "metadata": {},
   "outputs": [
    {
     "data": {
      "text/plain": [
       "5"
      ]
     },
     "execution_count": 6,
     "metadata": {},
     "output_type": "execute_result"
    }
   ],
   "source": [
    "#배열 객체의 속성 - 길이:\n",
    "len(arr1)"
   ]
  },
  {
   "cell_type": "code",
   "execution_count": 7,
   "metadata": {},
   "outputs": [
    {
     "data": {
      "text/plain": [
       "1"
      ]
     },
     "execution_count": 7,
     "metadata": {},
     "output_type": "execute_result"
    }
   ],
   "source": [
    "# 배열 객체의 속성 - 차원\n",
    "arr1.ndim"
   ]
  },
  {
   "cell_type": "code",
   "execution_count": 8,
   "metadata": {},
   "outputs": [
    {
     "data": {
      "text/plain": [
       "5"
      ]
     },
     "execution_count": 8,
     "metadata": {},
     "output_type": "execute_result"
    }
   ],
   "source": [
    "# 배열 객체의 속성- 요소의 개수(전체 아이템의 개수)\n",
    "arr1.size"
   ]
  },
  {
   "cell_type": "code",
   "execution_count": 9,
   "metadata": {},
   "outputs": [
    {
     "data": {
      "text/plain": [
       "dtype('int32')"
      ]
     },
     "execution_count": 9,
     "metadata": {},
     "output_type": "execute_result"
    }
   ],
   "source": [
    "arr1.dtype"
   ]
  },
  {
   "cell_type": "code",
   "execution_count": 10,
   "metadata": {},
   "outputs": [
    {
     "data": {
      "text/plain": [
       "array([1., 2., 3., 4., 5.])"
      ]
     },
     "execution_count": 10,
     "metadata": {},
     "output_type": "execute_result"
    }
   ],
   "source": [
    "# 배열 객체의 속성 - 데이터 타입 변환\n",
    "arr1.dtype\n",
    "arr1.astype(float)"
   ]
  },
  {
   "cell_type": "code",
   "execution_count": 11,
   "metadata": {},
   "outputs": [
    {
     "data": {
      "text/plain": [
       "array([1, 2, 3, 4, 5])"
      ]
     },
     "execution_count": 11,
     "metadata": {},
     "output_type": "execute_result"
    }
   ],
   "source": [
    "arr1  # astype 원본을 변경하지 않는다"
   ]
  },
  {
   "cell_type": "code",
   "execution_count": 12,
   "metadata": {},
   "outputs": [],
   "source": [
    "# 배열 구조 변환\n",
    "# 기존 배열의 요소 개수와 변환하려는 구조의 요소 개수가 일치해야함\n",
    "arr2=arr1.reshape(1,5)"
   ]
  },
  {
   "cell_type": "code",
   "execution_count": 13,
   "metadata": {},
   "outputs": [
    {
     "data": {
      "text/plain": [
       "array([1, 2, 3, 4, 5])"
      ]
     },
     "execution_count": 13,
     "metadata": {},
     "output_type": "execute_result"
    }
   ],
   "source": [
    "arr1"
   ]
  },
  {
   "cell_type": "code",
   "execution_count": 14,
   "metadata": {},
   "outputs": [
    {
     "data": {
      "text/plain": [
       "array([[1, 2, 3, 4, 5]])"
      ]
     },
     "execution_count": 14,
     "metadata": {},
     "output_type": "execute_result"
    }
   ],
   "source": [
    "arr2"
   ]
  },
  {
   "cell_type": "code",
   "execution_count": 15,
   "metadata": {},
   "outputs": [
    {
     "data": {
      "text/plain": [
       "(5,)"
      ]
     },
     "execution_count": 15,
     "metadata": {},
     "output_type": "execute_result"
    }
   ],
   "source": [
    "arr1.shape"
   ]
  },
  {
   "cell_type": "code",
   "execution_count": 16,
   "metadata": {},
   "outputs": [
    {
     "data": {
      "text/plain": [
       "(1, 5)"
      ]
     },
     "execution_count": 16,
     "metadata": {},
     "output_type": "execute_result"
    }
   ],
   "source": [
    "arr2.shape"
   ]
  },
  {
   "cell_type": "code",
   "execution_count": 17,
   "metadata": {},
   "outputs": [],
   "source": [
    "# Numpy 객체 정보를 확인하기 위한 사용자 함수 정의\n",
    "# 배열객체의 구조, 차원, 데이터타입, 객체\n",
    "def np_print(arr):\n",
    "    txt='''\n",
    "    shape : {}\n",
    "    ndim: {}\n",
    "    dtype: {} \n",
    "    data: \\n {}\n",
    "    '''.format(arr.shape,arr.ndim,arr.dtype,arr)\n",
    "    print(txt)"
   ]
  },
  {
   "cell_type": "code",
   "execution_count": 18,
   "metadata": {},
   "outputs": [
    {
     "name": "stdout",
     "output_type": "stream",
     "text": [
      "\n",
      "    shape : (1, 5)\n",
      "    ndim: 2\n",
      "    dtype: int32 \n",
      "    data: \n",
      " [[1 2 3 4 5]]\n",
      "    \n"
     ]
    }
   ],
   "source": [
    "np_print(arr2)"
   ]
  },
  {
   "cell_type": "code",
   "execution_count": 19,
   "metadata": {},
   "outputs": [
    {
     "name": "stdout",
     "output_type": "stream",
     "text": [
      "\n",
      "    shape : (4,)\n",
      "    ndim: 1\n",
      "    dtype: <U11 \n",
      "    data: \n",
      " ['1' '2' '3' '4']\n",
      "    \n"
     ]
    }
   ],
   "source": [
    "# 리스트 요소 타입이 일관되지 않으면 우선순위에 따라 numpy 배열의 dtype이 결정된다.\n",
    "# 우선순위: str>float>int\n",
    "# 서로 다른 타입 혼합 1 : int+str=str\n",
    "tmp=[1,2,3,'4']\n",
    "arr3=np.array(tmp)\n",
    "np_print(arr3)"
   ]
  },
  {
   "cell_type": "code",
   "execution_count": 20,
   "metadata": {},
   "outputs": [
    {
     "name": "stdout",
     "output_type": "stream",
     "text": [
      "\n",
      "    shape : (4,)\n",
      "    ndim: 1\n",
      "    dtype: float64 \n",
      "    data: \n",
      " [1. 2. 3. 4.]\n",
      "    \n"
     ]
    }
   ],
   "source": [
    "# 서로 다른 타입 혼합2: int+float=float\n",
    "tmp=[1,2,3,4.0]\n",
    "arr4=np.array(tmp)\n",
    "np_print(arr4)"
   ]
  },
  {
   "cell_type": "code",
   "execution_count": 21,
   "metadata": {},
   "outputs": [
    {
     "name": "stdout",
     "output_type": "stream",
     "text": [
      "\n",
      "    shape : (3,)\n",
      "    ndim: 1\n",
      "    dtype: <U32 \n",
      "    data: \n",
      " ['1.1' '1.2' '1.3']\n",
      "    \n"
     ]
    }
   ],
   "source": [
    "#서로 다른 타입 혼합3: str+float=str\n",
    "tmp=[1.1,1.2,'1.3']\n",
    "arr5=np.array(tmp)\n",
    "np_print(arr5)"
   ]
  },
  {
   "cell_type": "code",
   "execution_count": 22,
   "metadata": {},
   "outputs": [
    {
     "name": "stdout",
     "output_type": "stream",
     "text": [
      "\n",
      "    shape : (2, 3)\n",
      "    ndim: 2\n",
      "    dtype: int32 \n",
      "    data: \n",
      " [[1 2 3]\n",
      " [4 5 6]]\n",
      "    \n"
     ]
    }
   ],
   "source": [
    "# 파이썬 리스트로 2차원 Numpy 배열 생성\n",
    "# 다차원 리스트(중첩된 리스트)\n",
    "# 다차원 리스트의 아이템 개수 : 배열의 행의 개수\n",
    "# 다차원 리스트의 하위 리스트의 아이템 개수: 배열의 열의 개수\n",
    "# 2행 3열의 구조를 가진 2차원 배열\n",
    "tmp=[[1,2,3],[4,5,6]]\n",
    "arr1=np.array(tmp)\n",
    "np_print(arr1)\n",
    "# 열의 개수를 맞추지 않으면 2차원 매열을 생성할 수 없다."
   ]
  },
  {
   "cell_type": "code",
   "execution_count": 23,
   "metadata": {},
   "outputs": [
    {
     "name": "stdout",
     "output_type": "stream",
     "text": [
      "\n",
      "    shape : (2, 2, 3)\n",
      "    ndim: 3\n",
      "    dtype: int32 \n",
      "    data: \n",
      " [[[ 1  2  3]\n",
      "  [ 4  5  6]]\n",
      "\n",
      " [[10 20 30]\n",
      "  [40 50 60]]]\n",
      "    \n"
     ]
    }
   ],
   "source": [
    "# 파이썬 리스트로 3차원 Numpy 배열 생성\n",
    "# 두개의 레이어를 가진 2행 3열 구조의 3차원 배열\n",
    "# 다차원 리스트의 아이템 개수 : 배열의 레이어의 개수\n",
    "# 다차원 리스트의 아이템 개수 : 배열의 레이어의 개수\n",
    "# 다차원 리스트의 하위 리스트의 아이템 개수: 배열의 행의 개수\n",
    "# 다차원 리스트의 하위 리스트의 하위 리스트 아이템의 개수: 배열의 열의 개수\n",
    "tmp1=[[[1,2,3],[4,5,6]],[[10,20,30],[40,50,60]]]\n",
    "arr2=np.array(tmp1)\n",
    "np_print(arr2)\n"
   ]
  },
  {
   "cell_type": "markdown",
   "metadata": {},
   "source": [
    "# 배열 생성 및 초기화\n",
    "1. 초기값을 지정하여 데이터를 자동으로 가지는 배열을 생성\n",
    "    - np.zeros()\n",
    "    - np.ones()\n",
    "    - np.full()\n",
    "    - np.eye()\n",
    "    \n",
    "   1-1. np.zeros(shape)\n",
    "    - 지정된 구조의 배열을 생성하고 모든 요소를 0으로 초기화\n",
    "    - shape: scala(1차원 배열) 또는 tuple type(2차원 배열/행.열)으로 구조를 지정"
   ]
  },
  {
   "cell_type": "code",
   "execution_count": 24,
   "metadata": {},
   "outputs": [
    {
     "name": "stdout",
     "output_type": "stream",
     "text": [
      "\n",
      "    shape : (3, 4)\n",
      "    ndim: 2\n",
      "    dtype: float64 \n",
      "    data: \n",
      " [[0. 0. 0. 0.]\n",
      " [0. 0. 0. 0.]\n",
      " [0. 0. 0. 0.]]\n",
      "    \n"
     ]
    }
   ],
   "source": [
    "# 3행 4열의 구조 안에 모든 값을 0으로 가진 배열\n",
    "arr1= np.zeros((3,4))\n",
    "np_print(arr1)"
   ]
  },
  {
   "cell_type": "code",
   "execution_count": 25,
   "metadata": {},
   "outputs": [
    {
     "name": "stdout",
     "output_type": "stream",
     "text": [
      "\n",
      "    shape : (3, 4)\n",
      "    ndim: 2\n",
      "    dtype: int32 \n",
      "    data: \n",
      " [[0 0 0 0]\n",
      " [0 0 0 0]\n",
      " [0 0 0 0]]\n",
      "    \n"
     ]
    }
   ],
   "source": [
    "arr1= np.zeros((3,4),dtype=int)\n",
    "np_print(arr1)"
   ]
  },
  {
   "cell_type": "code",
   "execution_count": 26,
   "metadata": {},
   "outputs": [
    {
     "name": "stdout",
     "output_type": "stream",
     "text": [
      "\n",
      "    shape : (5,)\n",
      "    ndim: 1\n",
      "    dtype: float64 \n",
      "    data: \n",
      " [0. 0. 0. 0. 0.]\n",
      "    \n"
     ]
    }
   ],
   "source": [
    "arr2= np.zeros(5)\n",
    "np_print(arr2)"
   ]
  },
  {
   "cell_type": "code",
   "execution_count": 27,
   "metadata": {},
   "outputs": [
    {
     "name": "stdout",
     "output_type": "stream",
     "text": [
      "\n",
      "    shape : (3, 4)\n",
      "    ndim: 2\n",
      "    dtype: float64 \n",
      "    data: \n",
      " [[1. 1. 1. 1.]\n",
      " [1. 1. 1. 1.]\n",
      " [1. 1. 1. 1.]]\n",
      "    \n"
     ]
    }
   ],
   "source": [
    "# 3행 4열의 구조 안에 모든 값을 1로 가진 배열\n",
    "arr1=np.ones((3,4))\n",
    "np_print(arr1)"
   ]
  },
  {
   "cell_type": "code",
   "execution_count": 28,
   "metadata": {},
   "outputs": [
    {
     "name": "stdout",
     "output_type": "stream",
     "text": [
      "\n",
      "    shape : (3, 4)\n",
      "    ndim: 2\n",
      "    dtype: float64 \n",
      "    data: \n",
      " [[0.5 0.5 0.5 0.5]\n",
      " [0.5 0.5 0.5 0.5]\n",
      " [0.5 0.5 0.5 0.5]]\n",
      "    \n"
     ]
    }
   ],
   "source": [
    "# 3행 4열의 구조 안에 초기 값을 0.5로 가진 배열\n",
    "arr2=np.full((3,4),0.5)\n",
    "np_print(arr2)"
   ]
  },
  {
   "cell_type": "markdown",
   "metadata": {},
   "source": [
    "### 1-4 np.eye()\n",
    "- 괄호 안에 숫자 하나만 넣어도 행과 열이 같기 때문에 하나만 넣어도 n by n 단위행렬이 나옴"
   ]
  },
  {
   "cell_type": "code",
   "execution_count": 29,
   "metadata": {},
   "outputs": [
    {
     "name": "stdout",
     "output_type": "stream",
     "text": [
      "\n",
      "    shape : (3, 3)\n",
      "    ndim: 2\n",
      "    dtype: float64 \n",
      "    data: \n",
      " [[1. 0. 0.]\n",
      " [0. 1. 0.]\n",
      " [0. 0. 1.]]\n",
      "    \n"
     ]
    }
   ],
   "source": [
    "#3행 3열 단위행렬\n",
    "arr1 = np.eye(3,3)\n",
    "np_print(arr1)"
   ]
  },
  {
   "cell_type": "markdown",
   "metadata": {},
   "source": [
    "## like 함수\n",
    "- 전달 받은 배열과 동일한 shape으로 초기값을 설정하여 새로운 배열을 생성\n",
    "    - np.zeros_like(): 초기값을 0으로 가지는 배열 생성\n",
    "    - np.ones_like(): 초기값을 1로 가지는 배열 생성\n",
    "    - np.full_like(): 초기값을 full_value 값으로 가지는 배열 생성\n",
    "   "
   ]
  },
  {
   "cell_type": "code",
   "execution_count": 30,
   "metadata": {},
   "outputs": [
    {
     "name": "stdout",
     "output_type": "stream",
     "text": [
      "\n",
      "    shape : (3, 3)\n",
      "    ndim: 2\n",
      "    dtype: float64 \n",
      "    data: \n",
      " [[1. 0. 0.]\n",
      " [0. 1. 0.]\n",
      " [0. 0. 1.]]\n",
      "    \n"
     ]
    }
   ],
   "source": [
    "# ones((3,4))\n",
    "# ones_like(arr)\n",
    "# 2행 3열의 구조에서 1~6의 숫자로 구성된 배열\n",
    "np_print(arr1)"
   ]
  },
  {
   "cell_type": "code",
   "execution_count": 31,
   "metadata": {},
   "outputs": [
    {
     "name": "stdout",
     "output_type": "stream",
     "text": [
      "\n",
      "    shape : (3, 3)\n",
      "    ndim: 2\n",
      "    dtype: float64 \n",
      "    data: \n",
      " [[1. 1. 1.]\n",
      " [1. 1. 1.]\n",
      " [1. 1. 1.]]\n",
      "    \n"
     ]
    }
   ],
   "source": [
    "arr2=np.ones_like(arr1)\n",
    "np_print(arr2)"
   ]
  },
  {
   "cell_type": "markdown",
   "metadata": {},
   "source": [
    "# 배열 생성 및 초기화\n",
    "### 범위와 조건이 있는 데이터를 가지는 1차원 배열 생성\n",
    "    - np.linspace()\n",
    "    - np.arange()\n",
    "    - np.logspace()"
   ]
  },
  {
   "cell_type": "markdown",
   "metadata": {},
   "source": [
    "### np.linspace(start,stop,num=50,endpoint=True)\n",
    "    - 시작값부터 마지막값 사이의 범위에서 균등한 간격으로 일정 개수개의 데이터를 자니는 배열 생성\n",
    "    - num : 데이터 개수, 기본값 = 50\n",
    "    - endpoint: 마지막 값에 stop을 포함/제외하는 조건 지정, 기본값=True(포함) 마지막 값을 넣으냐마냐"
   ]
  },
  {
   "cell_type": "code",
   "execution_count": 32,
   "metadata": {},
   "outputs": [
    {
     "name": "stdout",
     "output_type": "stream",
     "text": [
      "\n",
      "    shape : (10,)\n",
      "    ndim: 1\n",
      "    dtype: float64 \n",
      "    data: \n",
      " [0.         0.11111111 0.22222222 0.33333333 0.44444444 0.55555556\n",
      " 0.66666667 0.77777778 0.88888889 1.        ]\n",
      "    \n"
     ]
    }
   ],
   "source": [
    "#기본값\n",
    "#0이상 1 이하의 범위에서 균등한 간격으로 발생한 숫자 5개를 포함하는 배열\n",
    "line_arr=np.linspace(0,1,10)\n",
    "np_print(line_arr)"
   ]
  },
  {
   "cell_type": "code",
   "execution_count": 33,
   "metadata": {},
   "outputs": [
    {
     "name": "stdout",
     "output_type": "stream",
     "text": [
      "\n",
      "    shape : (10,)\n",
      "    ndim: 1\n",
      "    dtype: float64 \n",
      "    data: \n",
      " [0.  0.1 0.2 0.3 0.4 0.5 0.6 0.7 0.8 0.9]\n",
      "    \n"
     ]
    }
   ],
   "source": [
    "# 1포함 하지 않기 endpoint 설정\n",
    "line_arr=np.linspace(0,1,10,endpoint=False)\n",
    "np_print(line_arr)\n"
   ]
  },
  {
   "cell_type": "markdown",
   "metadata": {},
   "source": [
    "### np.arange(start=0,stop,step=1)\n",
    "- 시작값(start)부터 마지막값 사이의 범위에서 지정한 간격으로 일정개수개의 데이터를 가지는 배열 생성\n",
    "- 파이썬 내장함수 range()와 유사\n",
    "- start: 시작값,기본값=0\n",
    "- stop: 마지막값으로 범위에 포함되자 않음\n",
    "- step: 데이터 사이의 간격, 기본값 1"
   ]
  },
  {
   "cell_type": "code",
   "execution_count": 34,
   "metadata": {},
   "outputs": [
    {
     "name": "stdout",
     "output_type": "stream",
     "text": [
      "\n",
      "    shape : (5,)\n",
      "    ndim: 1\n",
      "    dtype: int32 \n",
      "    data: \n",
      " [0 1 2 3 4]\n",
      "    \n"
     ]
    }
   ],
   "source": [
    "# 기본값\n",
    "# 0이상 5미만 범위에서 1씩 증가한는 숫자를 가지는 배열\n",
    "range_arr=np.arange(0,5)\n",
    "np_print(range_arr)"
   ]
  },
  {
   "cell_type": "code",
   "execution_count": 35,
   "metadata": {},
   "outputs": [
    {
     "name": "stdout",
     "output_type": "stream",
     "text": [
      "\n",
      "    shape : (10,)\n",
      "    ndim: 1\n",
      "    dtype: float64 \n",
      "    data: \n",
      " [0.  0.5 1.  1.5 2.  2.5 3.  3.5 4.  4.5]\n",
      "    \n"
     ]
    }
   ],
   "source": [
    "# 0.5간격으로 \n",
    "np_print(np.arange(0,5,0.5))"
   ]
  },
  {
   "cell_type": "markdown",
   "metadata": {},
   "source": [
    "### np.logspace(start,stop,num=50,endpoint=True)\n",
    "- start와 stop을 모두 로그값을 씌우고 나서 그 사이에 균등한 간격으로 일정 개수개의 데이터를 가지는 배열 생성"
   ]
  },
  {
   "cell_type": "code",
   "execution_count": 36,
   "metadata": {},
   "outputs": [
    {
     "name": "stdout",
     "output_type": "stream",
     "text": [
      "\n",
      "    shape : (10,)\n",
      "    ndim: 1\n",
      "    dtype: float64 \n",
      "    data: \n",
      " [ 1.          1.29154967  1.66810054  2.15443469  2.7825594   3.59381366\n",
      "  4.64158883  5.9948425   7.74263683 10.        ]\n",
      "    \n"
     ]
    }
   ],
   "source": [
    "# 기본값\n",
    "# 0과 1이하의 범위에서 로그스케일을 적용한 값을 가진 배열\n",
    "arr1=np.logspace(0,1,10,endpoint='False')\n",
    "np_print(arr1)"
   ]
  },
  {
   "cell_type": "markdown",
   "metadata": {},
   "source": [
    "## 배열 생성 및 초기화\n",
    "난수를 데이터로 가지는 배열을 생성\n",
    "    - np.random.normal()\n",
    "    - np.random.rand()\n",
    "    - np.random.randn()\n",
    "    - np.random.randint()\n",
    "    - np.randoml.random()"
   ]
  },
  {
   "cell_type": "markdown",
   "metadata": {},
   "source": [
    "### np.random.normal(loc=0.0,scale=1.0,size=None)\n",
    "- 정규 분포 확률 밀도에서 표본을 추출하여 데이터로 가지는 배열 생성\n",
    "- loc: 정규분포의 평균, 기본값=0.0\n",
    "- scale: 정규분포의 표준편차, 기본값=1.0\n",
    "- size:(행,열,차원)배열 구조, 기본값=single value(배열이 아닌 하나의 값을 반환)"
   ]
  },
  {
   "cell_type": "code",
   "execution_count": 49,
   "metadata": {},
   "outputs": [
    {
     "data": {
      "text/plain": [
       "0.22256290808827717"
      ]
     },
     "execution_count": 49,
     "metadata": {},
     "output_type": "execute_result"
    }
   ],
   "source": [
    "# 기본값\n",
    "np.random.normal()"
   ]
  },
  {
   "cell_type": "code",
   "execution_count": 38,
   "metadata": {},
   "outputs": [
    {
     "name": "stdout",
     "output_type": "stream",
     "text": [
      "\n",
      "    shape : (2, 3)\n",
      "    ndim: 2\n",
      "    dtype: float64 \n",
      "    data: \n",
      " [[-0.64479911 -1.95377974  1.4820877 ]\n",
      " [ 0.24306045 -1.03653762  0.15421817]]\n",
      "    \n"
     ]
    }
   ],
   "source": [
    "#size 설정 : 2행3열의 구조 설정\n",
    "arr=np.random.normal(0,1,size=(2,3))\n",
    "np_print(arr)"
   ]
  },
  {
   "cell_type": "code",
   "execution_count": 50,
   "metadata": {},
   "outputs": [
    {
     "data": {
      "text/plain": [
       "10000"
      ]
     },
     "execution_count": 50,
     "metadata": {},
     "output_type": "execute_result"
    }
   ],
   "source": [
    "# 정규분포 데이터로 이루어진 배열에 대한 시각화\n",
    "# 평균 10, 표준편차 2인 정규분포에서 추출한 10000개의 데이터\n",
    "data= np.random.normal(10,2,10000)\n",
    "len(data)"
   ]
  },
  {
   "cell_type": "code",
   "execution_count": 51,
   "metadata": {},
   "outputs": [],
   "source": [
    "# 100개의 구간으로 구분한 분포\n",
    "# 시각화 라이브러리\n",
    "import matplotlib.pyplot as plt"
   ]
  },
  {
   "cell_type": "code",
   "execution_count": 52,
   "metadata": {},
   "outputs": [],
   "source": [
    "#명령어(plt.show()) 없이 출력화면에 그래프를 띄우고 싶을때\n",
    "%matplotlib inline"
   ]
  },
  {
   "cell_type": "code",
   "execution_count": 53,
   "metadata": {},
   "outputs": [
    {
     "data": {
      "image/png": "[encoded data removed]",
      "text/plain": [
       "<Figure size 432x288 with 1 Axes>"
      ]
     },
     "metadata": {
      "needs_background": "light"
     },
     "output_type": "display_data"
    }
   ],
   "source": [
    "plt.hist(data)\n",
    "plt.show()   "
   ]
  },
  {
   "cell_type": "markdown",
   "metadata": {},
   "source": [
    "### np.random.rand(d0,d1...dn)\n",
    "- 지정한 shape 에 따라 배열을 생성한 후 난수로 초기화\n",
    "- 사용되는 난수는 0이상 1미만의 범위에서 균등 분포로 추출"
   ]
  },
  {
   "cell_type": "code",
   "execution_count": 43,
   "metadata": {},
   "outputs": [
    {
     "name": "stdout",
     "output_type": "stream",
     "text": [
      "\n",
      "    shape : (10,)\n",
      "    ndim: 1\n",
      "    dtype: float64 \n",
      "    data: \n",
      " [0.82968931 0.51429933 0.14308049 0.09504637 0.18423587 0.10191306\n",
      " 0.71837197 0.14812854 0.41052438 0.51563834]\n",
      "    \n"
     ]
    }
   ],
   "source": [
    "# 2행3열의 구조\n",
    "arr= np.random.rand(10)\n",
    "np_print(arr)"
   ]
  },
  {
   "cell_type": "code",
   "execution_count": 44,
   "metadata": {},
   "outputs": [
    {
     "data": {
      "text/plain": [
       "(array([4., 1., 0., 0., 1., 2., 0., 0., 1., 1.]),\n",
       " array([0.09504637, 0.16851066, 0.24197496, 0.31543925, 0.38890354,\n",
       "        0.46236784, 0.53583213, 0.60929643, 0.68276072, 0.75622502,\n",
       "        0.82968931]),\n",
       " <a list of 10 Patch objects>)"
      ]
     },
     "execution_count": 44,
     "metadata": {},
     "output_type": "execute_result"
    },
    {
     "data": {
      "image/png": "[encoded data removed]",
      "text/plain": [
       "<Figure size 432x288 with 1 Axes>"
      ]
     },
     "metadata": {
      "needs_background": "light"
     },
     "output_type": "display_data"
    }
   ],
   "source": [
    "plt.hist(arr)"
   ]
  },
  {
   "cell_type": "code",
   "execution_count": 45,
   "metadata": {},
   "outputs": [
    {
     "data": {
      "text/plain": [
       "(array([1053., 1054., 1008.,  996., 1005.,  948., 1023.,  960., 1004.,\n",
       "         949.]),\n",
       " array([1.48967894e-05, 1.00010819e-01, 2.00006741e-01, 3.00002664e-01,\n",
       "        3.99998586e-01, 4.99994508e-01, 5.99990431e-01, 6.99986353e-01,\n",
       "        7.99982275e-01, 8.99978197e-01, 9.99974120e-01]),\n",
       " <a list of 10 Patch objects>)"
      ]
     },
     "execution_count": 45,
     "metadata": {},
     "output_type": "execute_result"
    },
    {
     "data": {
      "image/png": "[encoded data removed]",
      "text/plain": [
       "<Figure size 432x288 with 1 Axes>"
      ]
     },
     "metadata": {
      "needs_background": "light"
     },
     "output_type": "display_data"
    }
   ],
   "source": [
    "# 균등 분포 데이터로 이루어진 배열에 대한 시각화\n",
    "arr=np.random.rand(10000)\n",
    "plt.hist(arr,bins=10)"
   ]
  },
  {
   "cell_type": "code",
   "execution_count": 46,
   "metadata": {},
   "outputs": [
    {
     "data": {
      "image/png": "[encoded data removed]",
      "text/plain": [
       "<Figure size 432x288 with 1 Axes>"
      ]
     },
     "metadata": {
      "needs_background": "light"
     },
     "output_type": "display_data"
    }
   ],
   "source": [
    "plt.hist(arr,bins=1000)\n",
    "plt.show()"
   ]
  },
  {
   "cell_type": "markdown",
   "metadata": {},
   "source": [
    "### np.random.randn(d0,d1,d2...dn)\n",
    "- 지정한 shape에 따라 배열을 생성한 후 난수로 초기화\n",
    "- 난수는 표준정규분포에서 추출된 데이터"
   ]
  },
  {
   "cell_type": "code",
   "execution_count": 47,
   "metadata": {},
   "outputs": [
    {
     "data": {
      "image/png": "[encoded data removed]",
      "text/plain": [
       "<Figure size 432x288 with 1 Axes>"
      ]
     },
     "metadata": {
      "needs_background": "light"
     },
     "output_type": "display_data"
    }
   ],
   "source": [
    "# 정규분포 데이터로 이루어진 배열에 대한 시각화\n",
    "# 평균 0 표준편차 1 에서 10000개 추출\n",
    "#100개의 구간을 구분한 분포\n",
    "arr=np.random.randn(10000)\n",
    "plt.hist(arr,bins=100)\n",
    "plt.show()\n"
   ]
  },
  {
   "cell_type": "code",
   "execution_count": null,
   "metadata": {},
   "outputs": [],
   "source": []
  }
 ],
 "metadata": {
  "kernelspec": {
   "display_name": "Python 3",
   "language": "python",
   "name": "python3"
  },
  "language_info": {
   "codemirror_mode": {
    "name": "ipython",
    "version": 3
   },
   "file_extension": ".py",
   "mimetype": "text/x-python",
   "name": "python",
   "nbconvert_exporter": "python",
   "pygments_lexer": "ipython3",
   "version": "3.7.1"
  }
 },
 "nbformat": 4,
 "nbformat_minor": 2
}
