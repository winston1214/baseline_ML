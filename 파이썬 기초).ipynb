{
 "cells": [
  {
   "cell_type": "markdown",
   "metadata": {},
   "source": [
    "## Welcome to 'python world'를 출력하시오"
   ]
  },
  {
   "cell_type": "code",
   "execution_count": 13,
   "metadata": {},
   "outputs": [
    {
     "name": "stdout",
     "output_type": "stream",
     "text": [
      "Welcome to 'python world'\n",
      "Welcome to 'python wolrd'\n"
     ]
    }
   ],
   "source": [
    "print(\"Welcome to 'python world'\")\n",
    "#이스케이프 사용\n",
    "print('Welcome to \\'python wolrd\\'')"
   ]
  },
  {
   "cell_type": "markdown",
   "metadata": {},
   "source": [
    "## \\n 과 \\t 의 차이점을 서술하시오"
   ]
  },
  {
   "cell_type": "markdown",
   "metadata": {},
   "source": [
    "\\n은 프린트에서 한줄 띄우기 \n",
    "\n",
    "\\t는 탭키 누른 것 처럼 나오기"
   ]
  },
  {
   "cell_type": "markdown",
   "metadata": {},
   "source": [
    "## 문자열 'hello world'의 길이를 출력할 수 있는 코드와 예상 길이를 작성하세요."
   ]
  },
  {
   "cell_type": "code",
   "execution_count": 3,
   "metadata": {},
   "outputs": [
    {
     "name": "stdout",
     "output_type": "stream",
     "text": [
      "11\n"
     ]
    }
   ],
   "source": [
    "a='hello world'\n",
    "print(len(a))"
   ]
  },
  {
   "cell_type": "markdown",
   "metadata": {},
   "source": [
    "## 문자열 'hello world'에서 'w'의 인덱스 번호를 반환하는 메서드를 이용하여 값을 출력하세요\n",
    "\n",
    "- 문자열 메서드 : 특정 아이테믜 위치를 찾는 메서드(find)\n",
    "    - 파이썬 내장 함수 vs 특정 타입의 메서드\n",
    "        - 파이썬 내장 함수 : 단독 사용(len, type, print ...)\n",
    "        - 특정 타입의 메서드 : 문자타입 데이터.find(문자아이템)"
   ]
  },
  {
   "cell_type": "code",
   "execution_count": 6,
   "metadata": {},
   "outputs": [
    {
     "data": {
      "text/plain": [
       "6"
      ]
     },
     "execution_count": 6,
     "metadata": {},
     "output_type": "execute_result"
    }
   ],
   "source": [
    "a\n",
    "a.find('w')"
   ]
  },
  {
   "cell_type": "markdown",
   "metadata": {},
   "source": [
    "# 인덱싱, 슬라이싱\n",
    "- 인덱싱 => 대상[]\n",
    "     - 특정 위치 하나의 값을 참조/반환\n",
    "- 슬라이싱 => 대상[처음:마지막:간격]\n",
    "     - 연속된 범위에 있는 여러 개의 값을 참조(하나,홀수번째, 짝수번째)\n",
    "     - 마지막 인덱스 번호는 포함하지 않는다."
   ]
  },
  {
   "cell_type": "markdown",
   "metadata": {},
   "source": [
    "## 문자열 'hello world'에서 'world'만 슬라이싱하여 추출하세요."
   ]
  },
  {
   "cell_type": "code",
   "execution_count": 1,
   "metadata": {},
   "outputs": [
    {
     "name": "stdout",
     "output_type": "stream",
     "text": [
      "world\n"
     ]
    }
   ],
   "source": [
    "a='hello world'\n",
    "print(a[6:])"
   ]
  },
  {
   "cell_type": "markdown",
   "metadata": {},
   "source": [
    "## 아래 조건을 만족하여 문자열을 만들고 원하는 값을 추출하세요.\n",
    "- 조건1. 변수 h에 문자열 hello를 저장\n",
    "- 조건2. 변수 p에 문자열 python을 저장\n",
    "- 조건3. 변수 h,p를 사용하여 hello python(중간 공백 있음)문장을 완성\n",
    "- 조건4. 조건3에서 완성된 문자열에 hello만 추출"
   ]
  },
  {
   "cell_type": "code",
   "execution_count": 32,
   "metadata": {},
   "outputs": [
    {
     "data": {
      "text/plain": [
       "'hello'"
      ]
     },
     "execution_count": 32,
     "metadata": {},
     "output_type": "execute_result"
    }
   ],
   "source": [
    "h='hello'\n",
    "p='python'\n",
    "hp=h+' '+p\n",
    "hp\n",
    "hp[0:5]"
   ]
  },
  {
   "cell_type": "markdown",
   "metadata": {},
   "source": [
    "## 20190517토요일맑음 을 입력받고 날짜,요일,날씨 로 구분하여 출력하시오(포맷팅으로)"
   ]
  },
  {
   "cell_type": "code",
   "execution_count": 33,
   "metadata": {},
   "outputs": [
    {
     "name": "stdout",
     "output_type": "stream",
     "text": [
      "20190517토요일맑음\n"
     ]
    }
   ],
   "source": [
    "msg=input()"
   ]
  },
  {
   "cell_type": "code",
   "execution_count": 34,
   "metadata": {},
   "outputs": [
    {
     "data": {
      "text/plain": [
       "7"
      ]
     },
     "execution_count": 34,
     "metadata": {},
     "output_type": "execute_result"
    }
   ],
   "source": [
    "msg.find('7')"
   ]
  },
  {
   "cell_type": "code",
   "execution_count": 35,
   "metadata": {},
   "outputs": [],
   "source": [
    "day=msg[:8]\n",
    "day2=msg[8:11]\n",
    "wheater=msg[11:]"
   ]
  },
  {
   "cell_type": "markdown",
   "metadata": {},
   "source": [
    "### 문자열 포맷팅\n",
    "- %\n",
    "- format 메서드"
   ]
  },
  {
   "cell_type": "code",
   "execution_count": 39,
   "metadata": {},
   "outputs": [
    {
     "name": "stdout",
     "output_type": "stream",
     "text": [
      "날짜는 20190517, 요일은 토요일, 날씨는 맑음\n"
     ]
    }
   ],
   "source": [
    "print('날짜는 {}, 요일은 {}, 날씨는 {}'.format(day,day2,wheater))"
   ]
  },
  {
   "cell_type": "markdown",
   "metadata": {},
   "source": [
    "## 아래 문장에 대해 조건을 만족하는 포맷팅을 작성하세요.\n",
    "\"날짜:2019-05-17 / 출석률:81%\"\n",
    "\n",
    "- 전달하는 값: 날짜,출석률\n",
    "- 출석한 학생수: 21명\n",
    "- 총 학생 수 : 26명\n",
    "- 출석률은 소수점 첫번째 자리에서 반올림 적용\n"
   ]
  },
  {
   "cell_type": "code",
   "execution_count": 7,
   "metadata": {},
   "outputs": [
    {
     "name": "stdout",
     "output_type": "stream",
     "text": [
      "날짜: 2019-05-17 / 출석률: 80.8%\n",
      "날짜 : 2019-05-17/ 출석률: 80.8\n"
     ]
    }
   ],
   "source": [
    "day='2019-05-17'\n",
    "total_student = 26\n",
    "attend_student = 21\n",
    "p=attend_student/total_student*100\n",
    "txt= '날짜: %s / 출석률: %0.1f%%' %(day,p)\n",
    "print(txt)\n",
    "print('날짜 : {}/ 출석률: {:.1f}'.format(day,p))"
   ]
  },
  {
   "cell_type": "code",
   "execution_count": null,
   "metadata": {},
   "outputs": [],
   "source": [
    "%.2f%%"
   ]
  },
  {
   "cell_type": "markdown",
   "metadata": {},
   "source": [
    "## 아래 두가지 경우를 구현해주세요.\n",
    "### <문자타입>\n",
    "\n",
    "- a:b:c:d => a#b#c#d\n",
    "- abcd => a/b/c/d"
   ]
  },
  {
   "cell_type": "markdown",
   "metadata": {},
   "source": [
    "#### 문자열.replace(old,new)"
   ]
  },
  {
   "cell_type": "code",
   "execution_count": 54,
   "metadata": {},
   "outputs": [
    {
     "data": {
      "text/plain": [
       "'a#b#c#d'"
      ]
     },
     "execution_count": 54,
     "metadata": {},
     "output_type": "execute_result"
    }
   ],
   "source": [
    "'a:b:c:d'.replace(':','#')"
   ]
  },
  {
   "cell_type": "markdown",
   "metadata": {},
   "source": [
    "### 자주쓰는 문자열 메서드\n",
    "- upper(대문자로 변환),lower(소문자로 변환), strip(앞뒤 공백 없애기), split(하나의 기준으로 나누기), count(특정문자가 몇개가 있는지) "
   ]
  },
  {
   "cell_type": "code",
   "execution_count": 62,
   "metadata": {},
   "outputs": [
    {
     "data": {
      "text/plain": [
       "'a/b/c/d'"
      ]
     },
     "execution_count": 62,
     "metadata": {},
     "output_type": "execute_result"
    }
   ],
   "source": [
    "txt2='abcd'\n",
    "#없는 기호를 사이사이에 집어넣을때 join 함수\n",
    "#추가할 문자.join(대상문자열)\n",
    "'/'.join(txt2)"
   ]
  },
  {
   "cell_type": "markdown",
   "metadata": {},
   "source": [
    "### 1234A5959 를 A59591234 로 변환하시오"
   ]
  },
  {
   "cell_type": "code",
   "execution_count": 63,
   "metadata": {},
   "outputs": [
    {
     "data": {
      "text/plain": [
       "4"
      ]
     },
     "execution_count": 63,
     "metadata": {},
     "output_type": "execute_result"
    }
   ],
   "source": [
    "a='1234A5959'\n",
    "a.index('A')"
   ]
  },
  {
   "cell_type": "code",
   "execution_count": 65,
   "metadata": {},
   "outputs": [
    {
     "data": {
      "text/plain": [
       "'A59591234'"
      ]
     },
     "execution_count": 65,
     "metadata": {},
     "output_type": "execute_result"
    }
   ],
   "source": [
    "b=a[4:]+a[:4]\n",
    "b"
   ]
  },
  {
   "cell_type": "markdown",
   "metadata": {},
   "source": [
    "### 아래의 전화번호에서 '-'시호를 제거하고 공백으로 출력해보세요\n",
    "    phone=010-111-0000"
   ]
  },
  {
   "cell_type": "code",
   "execution_count": 2,
   "metadata": {},
   "outputs": [
    {
     "data": {
      "text/plain": [
       "['010', '111', '0000']"
      ]
     },
     "execution_count": 2,
     "metadata": {},
     "output_type": "execute_result"
    }
   ],
   "source": [
    "phone='010-111-0000'\n",
    "phone2=phone.split('-')\n",
    "\n",
    "phone2#phone2[0]+phone2[1]+phone2[2]"
   ]
  },
  {
   "cell_type": "code",
   "execution_count": 67,
   "metadata": {},
   "outputs": [
    {
     "data": {
      "text/plain": [
       "'0101110000'"
      ]
     },
     "execution_count": 67,
     "metadata": {},
     "output_type": "execute_result"
    }
   ],
   "source": [
    "phone.replace('-','') "
   ]
  },
  {
   "cell_type": "markdown",
   "metadata": {},
   "source": [
    "### abcd99aE45a 에서 a를 A로 바꿔라"
   ]
  },
  {
   "cell_type": "code",
   "execution_count": 68,
   "metadata": {},
   "outputs": [
    {
     "data": {
      "text/plain": [
       "'Abcd99AE45A'"
      ]
     },
     "execution_count": 68,
     "metadata": {},
     "output_type": "execute_result"
    }
   ],
   "source": [
    "'abcd99aE45a'.replace('a','A')"
   ]
  },
  {
   "cell_type": "markdown",
   "metadata": {},
   "source": [
    "### 홍길동의 시험 성적 평균을 구하세요\n",
    " 영어 80,국어 72,수학 90, 사회 66\n",
    " 변수 사용하여 과목의 평균 구하기\n",
    " 출력양식:\n",
    " 총점수=\n",
    " 평균점수="
   ]
  },
  {
   "cell_type": "code",
   "execution_count": 74,
   "metadata": {},
   "outputs": [
    {
     "name": "stdout",
     "output_type": "stream",
     "text": [
      "총점수= 308 \n",
      "평균점수= 77.0\n"
     ]
    }
   ],
   "source": [
    "eng=80\n",
    "kor=72\n",
    "mat=90\n",
    "soc=66\n",
    "total=eng+kor+mat+soc\n",
    "avg=total/4\n",
    "print('총점수= {} \\n평균점수= {}'.format(total,avg))"
   ]
  },
  {
   "cell_type": "markdown",
   "metadata": {},
   "source": [
    "### 반지름이 7인 원의 넓이 구하기\n",
    "- 반지름,원넓이 모두 변수 사용\n",
    "- 출력양식\n",
    "    반지름:\n",
    "    원넓이: 소수점 없는 정수형 값으로 출력하되 반올림 적용"
   ]
  },
  {
   "cell_type": "code",
   "execution_count": 88,
   "metadata": {},
   "outputs": [
    {
     "name": "stdout",
     "output_type": "stream",
     "text": [
      "반지름: 7 \n",
      "원넓이: 153\n"
     ]
    }
   ],
   "source": [
    "r=7\n",
    "s=r**2*3.14\n",
    "print('반지름: %d \\n원넓이: %d'%(r,s))"
   ]
  },
  {
   "cell_type": "markdown",
   "metadata": {},
   "source": [
    "### 숫자 연산자를 사용하여 입력받은 수의 제곱근과 세제곱을 출력하세요"
   ]
  },
  {
   "cell_type": "code",
   "execution_count": 79,
   "metadata": {},
   "outputs": [
    {
     "name": "stdout",
     "output_type": "stream",
     "text": [
      "5\n"
     ]
    },
    {
     "data": {
      "text/plain": [
       "'5'"
      ]
     },
     "execution_count": 79,
     "metadata": {},
     "output_type": "execute_result"
    }
   ],
   "source": [
    "#파이썬 지수 제곱: **\n",
    "#input()은 기본 문자열 타입으로 저장\n",
    "x=input()\n",
    "x"
   ]
  },
  {
   "cell_type": "code",
   "execution_count": 80,
   "metadata": {},
   "outputs": [],
   "source": [
    "#eval(): 문법 기호를 기준으로 적절한 파이썬 데이터 타입으로 변환\n",
    "#int(): 정수형으로 변환"
   ]
  },
  {
   "cell_type": "code",
   "execution_count": 81,
   "metadata": {},
   "outputs": [
    {
     "name": "stdout",
     "output_type": "stream",
     "text": [
      "2\n"
     ]
    },
    {
     "data": {
      "text/plain": [
       "int"
      ]
     },
     "execution_count": 81,
     "metadata": {},
     "output_type": "execute_result"
    }
   ],
   "source": [
    "x=eval(input())\n",
    "type(x)"
   ]
  },
  {
   "cell_type": "code",
   "execution_count": 86,
   "metadata": {},
   "outputs": [
    {
     "name": "stdout",
     "output_type": "stream",
     "text": [
      "9\n",
      "3.0\n",
      "2.080083823051904\n"
     ]
    }
   ],
   "source": [
    "x=int(input())\n",
    "print(x**(1/2))\n",
    "print(x**(1/3))"
   ]
  },
  {
   "cell_type": "markdown",
   "metadata": {},
   "source": [
    "### %는 나머지만 반환\n",
    "### // 몫만 반환"
   ]
  },
  {
   "cell_type": "markdown",
   "metadata": {},
   "source": [
    "## 아래와 같은 문자열을 아이템으로 가지는 리스트를 이용하여 다음과 같은 문자열을 출력하시오\n",
    "- 아이템 'Life','is','too','short','you','need','python'\n",
    "- 출력문 you too"
   ]
  },
  {
   "cell_type": "code",
   "execution_count": 150,
   "metadata": {},
   "outputs": [
    {
     "data": {
      "text/plain": [
       "'you too'"
      ]
     },
     "execution_count": 150,
     "metadata": {},
     "output_type": "execute_result"
    }
   ],
   "source": [
    "ls1='Life is too short you need python'\n",
    "ls1=ls1.split()\n",
    "ls1[-3]+' '+ls1[2]"
   ]
  },
  {
   "cell_type": "markdown",
   "metadata": {},
   "source": [
    "## 위 리스트의 길이를 추가하시오"
   ]
  },
  {
   "cell_type": "code",
   "execution_count": 154,
   "metadata": {},
   "outputs": [
    {
     "data": {
      "text/plain": [
       "8"
      ]
     },
     "execution_count": 154,
     "metadata": {},
     "output_type": "execute_result"
    }
   ],
   "source": [
    "len(ls1)"
   ]
  },
  {
   "cell_type": "code",
   "execution_count": 152,
   "metadata": {},
   "outputs": [],
   "source": [
    "#위치를 지정하여 리스트의 아이템 추가\n",
    "#리스트.insert(index,value)\n",
    "ls1.insert(0,len(ls1))"
   ]
  },
  {
   "cell_type": "code",
   "execution_count": 153,
   "metadata": {},
   "outputs": [
    {
     "data": {
      "text/plain": [
       "[7, 'Life', 'is', 'too', 'short', 'you', 'need', 'python']"
      ]
     },
     "execution_count": 153,
     "metadata": {},
     "output_type": "execute_result"
    }
   ],
   "source": [
    "ls1"
   ]
  },
  {
   "cell_type": "markdown",
   "metadata": {},
   "source": [
    "### 리스트 아이템 추가\n",
    "- 리스트.append() : 하나의 아이템을 마지막에 추가\n",
    "- 리스트.extend() : 여러개의 아이템을 마지막 추가\n",
    "- 리스트.insert(index,value) : 지정된 위치에 아이템을 추가\n",
    "- 리스트1+리스트2 : 순서대로 아이템이 추가"
   ]
  },
  {
   "cell_type": "markdown",
   "metadata": {},
   "source": [
    "## 크기 순서가 없는 리스트를 만들고 내림차순 정렬로 바꿔보세요.\n"
   ]
  },
  {
   "cell_type": "code",
   "execution_count": 125,
   "metadata": {},
   "outputs": [],
   "source": [
    "list1=[5,7,8,910,1,4,8]\n",
    "list1.sort(reverse=True)"
   ]
  },
  {
   "cell_type": "code",
   "execution_count": 126,
   "metadata": {},
   "outputs": [
    {
     "data": {
      "text/plain": [
       "[910, 8, 8, 7, 5, 4, 1]"
      ]
     },
     "execution_count": 126,
     "metadata": {},
     "output_type": "execute_result"
    }
   ],
   "source": [
    "list1"
   ]
  },
  {
   "cell_type": "markdown",
   "metadata": {},
   "source": [
    "### 1~10까지의 정수를 아이템으로 가지는 리스트를 만들고 홀수 값인 아이템을 삭제해보세요."
   ]
  },
  {
   "cell_type": "code",
   "execution_count": 135,
   "metadata": {},
   "outputs": [
    {
     "data": {
      "text/plain": [
       "[2, 4, 6, 8, 10]"
      ]
     },
     "execution_count": 135,
     "metadata": {},
     "output_type": "execute_result"
    }
   ],
   "source": [
    "list2=[1,2,3,4,5,6,7,8,9,10]\n",
    "del(list2[::2])\n",
    "list2"
   ]
  },
  {
   "cell_type": "markdown",
   "metadata": {},
   "source": [
    "### 아래와 같은 다차원 딕셔너리를 만들고 제시한 값을 출력해보세요\n",
    "{'a' : [1,2,3], 'b':100,'c':{'key1' : ['파인애플','포도','바나나'],'key2':(55,66)}}\n",
    "- 3출력하기\n",
    "- [파인애플 포도 바나나]출력하기\n",
    "- 포도 출력하기\n",
    "- 55출력하기"
   ]
  },
  {
   "cell_type": "code",
   "execution_count": 136,
   "metadata": {},
   "outputs": [],
   "source": [
    "d={'a' : [1,2,3], 'b':100,'c':{'key1' : ['파인애플','포도','바나나'],'key2':(55,66)}}"
   ]
  },
  {
   "cell_type": "code",
   "execution_count": 139,
   "metadata": {},
   "outputs": [
    {
     "data": {
      "text/plain": [
       "3"
      ]
     },
     "execution_count": 139,
     "metadata": {},
     "output_type": "execute_result"
    }
   ],
   "source": [
    "d['a'][2]"
   ]
  },
  {
   "cell_type": "code",
   "execution_count": 140,
   "metadata": {},
   "outputs": [
    {
     "data": {
      "text/plain": [
       "['파인애플', '포도', '바나나']"
      ]
     },
     "execution_count": 140,
     "metadata": {},
     "output_type": "execute_result"
    }
   ],
   "source": [
    "d['c']['key1']"
   ]
  },
  {
   "cell_type": "code",
   "execution_count": 141,
   "metadata": {},
   "outputs": [
    {
     "data": {
      "text/plain": [
       "'포도'"
      ]
     },
     "execution_count": 141,
     "metadata": {},
     "output_type": "execute_result"
    }
   ],
   "source": [
    "d['c']['key1'][1]"
   ]
  },
  {
   "cell_type": "code",
   "execution_count": 143,
   "metadata": {},
   "outputs": [
    {
     "data": {
      "text/plain": [
       "55"
      ]
     },
     "execution_count": 143,
     "metadata": {},
     "output_type": "execute_result"
    }
   ],
   "source": [
    "d['c']['key2'][0]"
   ]
  },
  {
   "cell_type": "markdown",
   "metadata": {},
   "source": [
    "## 프린트 파라미터\n",
    "- sep : 두개 값 이상 출력시 사이값(기본:공백하나)\n",
    "- end : 마지막 값 뒤에 출력값(기본:\\n)"
   ]
  },
  {
   "cell_type": "markdown",
   "metadata": {},
   "source": [
    "### 아래와 같은 딕셔너리를 생성하고 해당 딕셔너리의 value 중 최소값을 구하여 형식에 맞게 출력하세요\n",
    "- 생성 딕셔너리\n",
    "        {'A':9,'B':80,'C':70}\n",
    "- 조건1 생성한 딕셔너리에 'D':20,'E':100,'F':10 아이템을 3개 추가하시오\n",
    "- 조건2 key'A'값을 9에서 90으로 변경\n",
    "- 조건3 '최소 값 10 을 가진 key는 'F'입니다' 로 포맷팅을 사용하여 출력하고 10을 포맷팅 값으로 사용\n",
    "- 조건4 최소값은 딕셔너리에 속한 내장함수와 파이썬 내장함수를 모두 사용하여 구해보세요"
   ]
  },
  {
   "cell_type": "code",
   "execution_count": 181,
   "metadata": {},
   "outputs": [
    {
     "data": {
      "text/plain": [
       "{'A': 9, 'B': 80, 'C': 70, 'D': 20, 'E': 100, 'F': 10}"
      ]
     },
     "execution_count": 181,
     "metadata": {},
     "output_type": "execute_result"
    }
   ],
   "source": [
    "#딕셔너리 메서드 d.update({dic})\n",
    "d1={'A':9,'B':80,'C':70}\n",
    "d1.update({'D':20,'E':100,'F':10})\n",
    "d1"
   ]
  },
  {
   "cell_type": "code",
   "execution_count": 182,
   "metadata": {},
   "outputs": [
    {
     "data": {
      "text/plain": [
       "{'A': 90, 'B': 80, 'C': 70, 'D': 20, 'E': 100, 'F': 10}"
      ]
     },
     "execution_count": 182,
     "metadata": {},
     "output_type": "execute_result"
    }
   ],
   "source": [
    "# 딕셔너리 타입의 아이템 값 조회/참조/가져오기\n",
    "# 인덱싱 기호: d[key] => 새로운 값으로 수정 가능\n",
    "# 딕셔너리 타입 메서드: d.get(key) => 새로운 값으로 수정,삭제 불가능\n",
    "d1['A']=90\n",
    "d1"
   ]
  },
  {
   "cell_type": "code",
   "execution_count": null,
   "metadata": {},
   "outputs": [],
   "source": [
    "# 딕셔너리 타입의 values\n",
    "# d.keys()\n",
    "# d.values()\n",
    "# d.items() => 튜플형으로 키와 벨류값을 출력"
   ]
  },
  {
   "cell_type": "code",
   "execution_count": 168,
   "metadata": {},
   "outputs": [
    {
     "name": "stdout",
     "output_type": "stream",
     "text": [
      "최소값 10 을 가진 key는 F 입니다\n"
     ]
    }
   ],
   "source": [
    "print('최소값 {} 을 가진 key는 {} 입니다'.format(10,'F'))"
   ]
  },
  {
   "cell_type": "code",
   "execution_count": 176,
   "metadata": {},
   "outputs": [
    {
     "name": "stdout",
     "output_type": "stream",
     "text": [
      "최소값 10을 가진 key는 F입니다.\n"
     ]
    }
   ],
   "source": [
    "print('최소값 {}을 가진 key는 {}입니다.'.format(min(d1.values()),'F'))"
   ]
  },
  {
   "cell_type": "code",
   "execution_count": 186,
   "metadata": {},
   "outputs": [
    {
     "data": {
      "text/plain": [
       "[('A', 90), ('B', 80), ('C', 70), ('D', 20), ('E', 100), ('F', 10)]"
      ]
     },
     "execution_count": 186,
     "metadata": {},
     "output_type": "execute_result"
    }
   ],
   "source": [
    "list(d1.items())"
   ]
  },
  {
   "cell_type": "code",
   "execution_count": 187,
   "metadata": {},
   "outputs": [],
   "source": [
    "#꼬북칩 1800원 추가\n",
    "snack={'마가레뜨':2000,'버터와플':2300,'다이제':2500}\n",
    "snack['꼬북칩']=1800"
   ]
  },
  {
   "cell_type": "code",
   "execution_count": 188,
   "metadata": {},
   "outputs": [
    {
     "data": {
      "text/plain": [
       "{'마가레뜨': 2000, '버터와플': 2300, '다이제': 2500, '꼬북칩': 1800}"
      ]
     },
     "execution_count": 188,
     "metadata": {},
     "output_type": "execute_result"
    }
   ],
   "source": [
    "snack"
   ]
  },
  {
   "cell_type": "code",
   "execution_count": 189,
   "metadata": {},
   "outputs": [
    {
     "data": {
      "text/plain": [
       "{'마가레뜨': 3000, '버터와플': 2300, '다이제': 2500, '꼬북칩': 1800}"
      ]
     },
     "execution_count": 189,
     "metadata": {},
     "output_type": "execute_result"
    }
   ],
   "source": [
    "#마가레뜨 3000원으로 가격 인상\n",
    "snack['마가레뜨']=3000\n",
    "snack"
   ]
  },
  {
   "cell_type": "code",
   "execution_count": 190,
   "metadata": {},
   "outputs": [
    {
     "data": {
      "text/plain": [
       "{'마가레뜨': 3000, '버터와플': 2300, '다이제': 2500}"
      ]
     },
     "execution_count": 190,
     "metadata": {},
     "output_type": "execute_result"
    }
   ],
   "source": [
    "#꼬북칩 삭제\n",
    "del snack['꼬북칩']\n",
    "snack"
   ]
  },
  {
   "cell_type": "code",
   "execution_count": 191,
   "metadata": {},
   "outputs": [
    {
     "data": {
      "text/plain": [
       "{'마가레뜨': 3000,\n",
       " '버터와플': 2300,\n",
       " '다이제': 2500,\n",
       " '월드콘': 2500,\n",
       " '돼지바': 500,\n",
       " '빙수바': 1500,\n",
       " '스크류바': 900}"
      ]
     },
     "execution_count": 191,
     "metadata": {},
     "output_type": "execute_result"
    }
   ],
   "source": [
    "#월드콘 돼지바 빙수바 스크류바 한번에 추가하기\n",
    "snack.update({'월드콘':2500,'돼지바':500,'빙수바':1500,'스크류바':900})\n",
    "snack"
   ]
  },
  {
   "cell_type": "code",
   "execution_count": 202,
   "metadata": {},
   "outputs": [
    {
     "name": "stdout",
     "output_type": "stream",
     "text": [
      "총 가격: 13200 원 \n",
      "평균가격:1886 원\n"
     ]
    }
   ],
   "source": [
    "#총 가격 평균가격 출력하기\n",
    "total=sum(snack.values())\n",
    "avg=total/len(snack)\n",
    "print('총 가격: %d 원 \\n평균가격:%0.0f 원'%(total,avg))    # %d로 할 경우 소수점 버림"
   ]
  },
  {
   "cell_type": "code",
   "execution_count": 205,
   "metadata": {},
   "outputs": [
    {
     "name": "stdout",
     "output_type": "stream",
     "text": [
      "총 가격: 13200 원 \n",
      "평균가격:1886 원\n"
     ]
    }
   ],
   "source": [
    "#총 가격 평균가격 출력하기\n",
    "total=sum(snack.values())\n",
    "avg=total/len(snack)\n",
    "print('총 가격: {} 원 \\n평균가격:{} 원'.format(total,round(avg)))   "
   ]
  },
  {
   "cell_type": "markdown",
   "metadata": {},
   "source": [
    "### 한 반의 학생에 대해 혈액형 별 인원 정보를 자료형에 저장한 후 이 반의 총 학생수를 구하고 '총 인원'으로 아이템을 추가하세요\n",
    "    - A형 14, B형 10, AB형 18 O형 20"
   ]
  },
  {
   "cell_type": "code",
   "execution_count": 206,
   "metadata": {},
   "outputs": [
    {
     "data": {
      "text/plain": [
       "{'A형': 14, 'B형': 10, 'AB형': 18, 'O형': 20, '총 인원': 62}"
      ]
     },
     "execution_count": 206,
     "metadata": {},
     "output_type": "execute_result"
    }
   ],
   "source": [
    "blood={'A형': 14, 'B형': 10, 'AB형': 18, 'O형': 20}\n",
    "blood['총 인원']=sum(blood.values())\n",
    "blood"
   ]
  },
  {
   "cell_type": "markdown",
   "metadata": {},
   "source": [
    "### RH-  혈액형인 학생 3명 추가 총인원도 업뎃해라"
   ]
  },
  {
   "cell_type": "code",
   "execution_count": 207,
   "metadata": {},
   "outputs": [
    {
     "data": {
      "text/plain": [
       "{'A형': 14, 'B형': 10, 'AB형': 18, 'O형': 20, '총 인원': 62, 'RH-': 3}"
      ]
     },
     "execution_count": 207,
     "metadata": {},
     "output_type": "execute_result"
    }
   ],
   "source": [
    "blood['RH-']=3\n",
    "blood"
   ]
  },
  {
   "cell_type": "code",
   "execution_count": 214,
   "metadata": {},
   "outputs": [
    {
     "data": {
      "text/plain": [
       "65"
      ]
     },
     "execution_count": 214,
     "metadata": {},
     "output_type": "execute_result"
    }
   ],
   "source": [
    "#총 인원 아이템을 삭제하지 않고 값만 수정\n",
    "\n",
    "#values 값에서 추출\n",
    "sum(list(blood.values())[:4]+[list(blood.values())[-1]])"
   ]
  },
  {
   "cell_type": "code",
   "execution_count": 216,
   "metadata": {},
   "outputs": [
    {
     "data": {
      "text/plain": [
       "65"
      ]
     },
     "execution_count": 216,
     "metadata": {},
     "output_type": "execute_result"
    }
   ],
   "source": [
    "#딕셔너리 값에서 추출\n",
    "blood['A형']+blood['RH-']+blood['B형']+blood['AB형']+blood['O형']"
   ]
  },
  {
   "cell_type": "code",
   "execution_count": 217,
   "metadata": {},
   "outputs": [],
   "source": [
    "#총 인원 아이템을 삭제하고 다시 추가\n",
    "del blood['총 인원']"
   ]
  },
  {
   "cell_type": "code",
   "execution_count": 218,
   "metadata": {},
   "outputs": [
    {
     "data": {
      "text/plain": [
       "{'A형': 14, 'B형': 10, 'AB형': 18, 'O형': 20, 'RH-': 3, '총 인원': 65}"
      ]
     },
     "execution_count": 218,
     "metadata": {},
     "output_type": "execute_result"
    }
   ],
   "source": [
    "blood['총 인원']=sum(blood.values())\n",
    "blood"
   ]
  },
  {
   "cell_type": "markdown",
   "metadata": {},
   "source": [
    "### set\n",
    "- {} / 빈 셋타입을 생성할 때는 반드시 함수를 사용: set()\n",
    "- 중복값 제거 필터용\n",
    "- 집합 연산 : 교집합, 차집합, 합집합\n",
    "- 인덱싱 불가: 아이템의 순서가 없다. => 필터링으로 사용한 후 리스트 등으로 형변환 필요"
   ]
  },
  {
   "cell_type": "code",
   "execution_count": 219,
   "metadata": {},
   "outputs": [],
   "source": [
    "user_id=[1,1,1,1,1,1,1,2,3,3,3,3,3,4,5,5,5,5,7,7,7,8,8,9]"
   ]
  },
  {
   "cell_type": "code",
   "execution_count": 225,
   "metadata": {},
   "outputs": [],
   "source": [
    "s1=set(user_id)"
   ]
  },
  {
   "cell_type": "code",
   "execution_count": 221,
   "metadata": {},
   "outputs": [],
   "source": [
    "user_id2= [8,8,8,8,8,8,8,9,9,9,9,9,9,10,10,10,10,1,1,1,6,6,5,5,7,7,7,8]"
   ]
  },
  {
   "cell_type": "code",
   "execution_count": 222,
   "metadata": {},
   "outputs": [],
   "source": [
    "s2=set(user_id2)"
   ]
  },
  {
   "cell_type": "code",
   "execution_count": 223,
   "metadata": {},
   "outputs": [],
   "source": [
    "#교집합\n",
    "#연산자 : &\n",
    "#메서드 : intersection"
   ]
  },
  {
   "cell_type": "code",
   "execution_count": 230,
   "metadata": {},
   "outputs": [
    {
     "data": {
      "text/plain": [
       "{1, 5, 7, 8, 9}"
      ]
     },
     "execution_count": 230,
     "metadata": {},
     "output_type": "execute_result"
    }
   ],
   "source": [
    "s1.intersection(s2)"
   ]
  },
  {
   "cell_type": "code",
   "execution_count": null,
   "metadata": {},
   "outputs": [],
   "source": [
    "#합집합\n",
    "#연산자 : |\n",
    "#메서드: union"
   ]
  },
  {
   "cell_type": "code",
   "execution_count": 227,
   "metadata": {},
   "outputs": [
    {
     "data": {
      "text/plain": [
       "{1, 2, 3, 4, 5, 6, 7, 8, 9, 10}"
      ]
     },
     "execution_count": 227,
     "metadata": {},
     "output_type": "execute_result"
    }
   ],
   "source": [
    "s1 | s2"
   ]
  },
  {
   "cell_type": "code",
   "execution_count": null,
   "metadata": {},
   "outputs": [],
   "source": [
    "#차집합\n",
    "#연산자: -\n",
    "#메서드: differences"
   ]
  },
  {
   "cell_type": "code",
   "execution_count": 228,
   "metadata": {},
   "outputs": [
    {
     "data": {
      "text/plain": [
       "{2, 3, 4}"
      ]
     },
     "execution_count": 228,
     "metadata": {},
     "output_type": "execute_result"
    }
   ],
   "source": [
    "s1-s2"
   ]
  },
  {
   "cell_type": "code",
   "execution_count": 229,
   "metadata": {},
   "outputs": [
    {
     "data": {
      "text/plain": [
       "{6, 10}"
      ]
     },
     "execution_count": 229,
     "metadata": {},
     "output_type": "execute_result"
    }
   ],
   "source": [
    "s2-s1"
   ]
  },
  {
   "cell_type": "markdown",
   "metadata": {},
   "source": [
    "### tuple \n",
    "\n",
    "- (,): 아이템이 하나만 있을 경우에도 쉼표를 작성해야한다.\n",
    "- 소괄호는 생략 가능\n",
    "- 아이템이 수정,삭제 될 수 없다."
   ]
  },
  {
   "cell_type": "code",
   "execution_count": null,
   "metadata": {},
   "outputs": [],
   "source": []
  }
 ],
 "metadata": {
  "kernelspec": {
   "display_name": "Python 3",
   "language": "python",
   "name": "python3"
  },
  "language_info": {
   "codemirror_mode": {
    "name": "ipython",
    "version": 3
   },
   "file_extension": ".py",
   "mimetype": "text/x-python",
   "name": "python",
   "nbconvert_exporter": "python",
   "pygments_lexer": "ipython3",
   "version": "3.7.1"
  }
 },
 "nbformat": 4,
 "nbformat_minor": 2
}
